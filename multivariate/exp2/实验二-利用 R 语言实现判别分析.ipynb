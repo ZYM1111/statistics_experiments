{
 "cells": [
  {
   "cell_type": "markdown",
   "id": "9644da24",
   "metadata": {},
   "source": [
    "## 6.2 线性判别分析"
   ]
  },
  {
   "cell_type": "code",
   "execution_count": 1,
   "id": "d699da18",
   "metadata": {},
   "outputs": [
    {
     "data": {
      "image/png": "[encoded data removed]",
      "text/plain": [
       "Plot with title \"张逸敏\""
      ]
     },
     "metadata": {
      "image/png": {
       "height": 420,
       "width": 420
      }
     },
     "output_type": "display_data"
    }
   ],
   "source": [
    "setwd(\"C:\\\\Users\\\\zym\\\\Desktop\\\\multivariate\\\\exp2\\\\\")\n",
    "d6.1 = read.table('./data/6_1.txt', header=T)\n",
    "plot(d6.1$x1, d6.1$x2, main=\"张逸敏\")\n",
    "text(d6.1$x1, d6.1$x2, d6.1$G, adj=-0.5)"
   ]
  },
  {
   "cell_type": "code",
   "execution_count": 2,
   "id": "c501c987",
   "metadata": {},
   "outputs": [
    {
     "data": {
      "text/html": [
       "<table class=\"dataframe\">\n",
       "<caption>A data.frame: 20 × 4</caption>\n",
       "<thead>\n",
       "\t<tr><th scope=col>G</th><th scope=col>x1</th><th scope=col>x2</th><th scope=col>G1</th></tr>\n",
       "\t<tr><th scope=col>&lt;int&gt;</th><th scope=col>&lt;dbl&gt;</th><th scope=col>&lt;dbl&gt;</th><th scope=col>&lt;chr&gt;</th></tr>\n",
       "</thead>\n",
       "<tbody>\n",
       "\t<tr><td>1</td><td> -1.9</td><td> 3.2</td><td>雨</td></tr>\n",
       "\t<tr><td>1</td><td> -6.9</td><td> 0.4</td><td>雨</td></tr>\n",
       "\t<tr><td>1</td><td>  5.2</td><td> 2.0</td><td>雨</td></tr>\n",
       "\t<tr><td>1</td><td>  5.0</td><td> 2.5</td><td>雨</td></tr>\n",
       "\t<tr><td>1</td><td>  7.3</td><td> 0.0</td><td>雨</td></tr>\n",
       "\t<tr><td>1</td><td>  6.8</td><td>12.7</td><td>雨</td></tr>\n",
       "\t<tr><td>1</td><td>  0.9</td><td>-5.4</td><td>雨</td></tr>\n",
       "\t<tr><td>1</td><td>-12.5</td><td>-2.5</td><td>雨</td></tr>\n",
       "\t<tr><td>1</td><td>  1.5</td><td> 1.3</td><td>雨</td></tr>\n",
       "\t<tr><td>1</td><td>  3.8</td><td> 6.8</td><td>雨</td></tr>\n",
       "\t<tr><td>2</td><td>  0.2</td><td> 6.2</td><td>晴</td></tr>\n",
       "\t<tr><td>2</td><td> -0.1</td><td> 7.5</td><td>晴</td></tr>\n",
       "\t<tr><td>2</td><td>  0.4</td><td>14.6</td><td>晴</td></tr>\n",
       "\t<tr><td>2</td><td>  2.7</td><td> 8.3</td><td>晴</td></tr>\n",
       "\t<tr><td>2</td><td>  2.1</td><td> 0.8</td><td>晴</td></tr>\n",
       "\t<tr><td>2</td><td> -4.6</td><td> 4.3</td><td>晴</td></tr>\n",
       "\t<tr><td>2</td><td> -1.7</td><td>10.9</td><td>晴</td></tr>\n",
       "\t<tr><td>2</td><td> -2.6</td><td>13.1</td><td>晴</td></tr>\n",
       "\t<tr><td>2</td><td>  2.6</td><td>12.8</td><td>晴</td></tr>\n",
       "\t<tr><td>2</td><td> -2.8</td><td>10.0</td><td>晴</td></tr>\n",
       "</tbody>\n",
       "</table>\n"
      ],
      "text/latex": [
       "A data.frame: 20 × 4\n",
       "\\begin{tabular}{llll}\n",
       " G & x1 & x2 & G1\\\\\n",
       " <int> & <dbl> & <dbl> & <chr>\\\\\n",
       "\\hline\n",
       "\t 1 &  -1.9 &  3.2 & 雨\\\\\n",
       "\t 1 &  -6.9 &  0.4 & 雨\\\\\n",
       "\t 1 &   5.2 &  2.0 & 雨\\\\\n",
       "\t 1 &   5.0 &  2.5 & 雨\\\\\n",
       "\t 1 &   7.3 &  0.0 & 雨\\\\\n",
       "\t 1 &   6.8 & 12.7 & 雨\\\\\n",
       "\t 1 &   0.9 & -5.4 & 雨\\\\\n",
       "\t 1 & -12.5 & -2.5 & 雨\\\\\n",
       "\t 1 &   1.5 &  1.3 & 雨\\\\\n",
       "\t 1 &   3.8 &  6.8 & 雨\\\\\n",
       "\t 2 &   0.2 &  6.2 & 晴\\\\\n",
       "\t 2 &  -0.1 &  7.5 & 晴\\\\\n",
       "\t 2 &   0.4 & 14.6 & 晴\\\\\n",
       "\t 2 &   2.7 &  8.3 & 晴\\\\\n",
       "\t 2 &   2.1 &  0.8 & 晴\\\\\n",
       "\t 2 &  -4.6 &  4.3 & 晴\\\\\n",
       "\t 2 &  -1.7 & 10.9 & 晴\\\\\n",
       "\t 2 &  -2.6 & 13.1 & 晴\\\\\n",
       "\t 2 &   2.6 & 12.8 & 晴\\\\\n",
       "\t 2 &  -2.8 & 10.0 & 晴\\\\\n",
       "\\end{tabular}\n"
      ],
      "text/markdown": [
       "\n",
       "A data.frame: 20 × 4\n",
       "\n",
       "| G &lt;int&gt; | x1 &lt;dbl&gt; | x2 &lt;dbl&gt; | G1 &lt;chr&gt; |\n",
       "|---|---|---|---|\n",
       "| 1 |  -1.9 |  3.2 | 雨 |\n",
       "| 1 |  -6.9 |  0.4 | 雨 |\n",
       "| 1 |   5.2 |  2.0 | 雨 |\n",
       "| 1 |   5.0 |  2.5 | 雨 |\n",
       "| 1 |   7.3 |  0.0 | 雨 |\n",
       "| 1 |   6.8 | 12.7 | 雨 |\n",
       "| 1 |   0.9 | -5.4 | 雨 |\n",
       "| 1 | -12.5 | -2.5 | 雨 |\n",
       "| 1 |   1.5 |  1.3 | 雨 |\n",
       "| 1 |   3.8 |  6.8 | 雨 |\n",
       "| 2 |   0.2 |  6.2 | 晴 |\n",
       "| 2 |  -0.1 |  7.5 | 晴 |\n",
       "| 2 |   0.4 | 14.6 | 晴 |\n",
       "| 2 |   2.7 |  8.3 | 晴 |\n",
       "| 2 |   2.1 |  0.8 | 晴 |\n",
       "| 2 |  -4.6 |  4.3 | 晴 |\n",
       "| 2 |  -1.7 | 10.9 | 晴 |\n",
       "| 2 |  -2.6 | 13.1 | 晴 |\n",
       "| 2 |   2.6 | 12.8 | 晴 |\n",
       "| 2 |  -2.8 | 10.0 | 晴 |\n",
       "\n"
      ],
      "text/plain": [
       "   G x1    x2   G1\n",
       "1  1  -1.9  3.2 雨\n",
       "2  1  -6.9  0.4 雨\n",
       "3  1   5.2  2.0 雨\n",
       "4  1   5.0  2.5 雨\n",
       "5  1   7.3  0.0 雨\n",
       "6  1   6.8 12.7 雨\n",
       "7  1   0.9 -5.4 雨\n",
       "8  1 -12.5 -2.5 雨\n",
       "9  1   1.5  1.3 雨\n",
       "10 1   3.8  6.8 雨\n",
       "11 2   0.2  6.2 晴\n",
       "12 2  -0.1  7.5 晴\n",
       "13 2   0.4 14.6 晴\n",
       "14 2   2.7  8.3 晴\n",
       "15 2   2.1  0.8 晴\n",
       "16 2  -4.6  4.3 晴\n",
       "17 2  -1.7 10.9 晴\n",
       "18 2  -2.6 13.1 晴\n",
       "19 2   2.6 12.8 晴\n",
       "20 2  -2.8 10.0 晴"
      ]
     },
     "metadata": {},
     "output_type": "display_data"
    }
   ],
   "source": [
    "d6.1"
   ]
  },
  {
   "cell_type": "code",
   "execution_count": 3,
   "id": "17511082",
   "metadata": {},
   "outputs": [
    {
     "data": {
      "text/plain": [
       "Call:\n",
       "lda(G ~ x1 + x2)\n",
       "\n",
       "Prior probabilities of groups:\n",
       "  1   2 \n",
       "0.5 0.5 \n",
       "\n",
       "Group means:\n",
       "     x1   x2\n",
       "1  0.92 2.10\n",
       "2 -0.38 8.85\n",
       "\n",
       "Coefficients of linear discriminants:\n",
       "          LD1\n",
       "x1 -0.1035305\n",
       "x2  0.2247957"
      ]
     },
     "metadata": {},
     "output_type": "display_data"
    }
   ],
   "source": [
    "options(warn = -1)\n",
    "library(MASS)\n",
    "attach(d6.1)\n",
    "ld = lda(G~x1+x2)\n",
    "ld"
   ]
  },
  {
   "cell_type": "code",
   "execution_count": 4,
   "id": "bf271ff8",
   "metadata": {},
   "outputs": [
    {
     "data": {
      "text/html": [
       "<table class=\"dataframe\">\n",
       "<caption>A matrix: 20 × 3 of type dbl</caption>\n",
       "<thead>\n",
       "\t<tr><th></th><th scope=col>G</th><th scope=col>LD1</th><th scope=col>newG</th></tr>\n",
       "</thead>\n",
       "<tbody>\n",
       "\t<tr><th scope=row>1</th><td>1</td><td>-0.28674901</td><td>1</td></tr>\n",
       "\t<tr><th scope=row>2</th><td>1</td><td>-0.39852439</td><td>1</td></tr>\n",
       "\t<tr><th scope=row>3</th><td>1</td><td>-1.29157053</td><td>1</td></tr>\n",
       "\t<tr><th scope=row>4</th><td>1</td><td>-1.15846657</td><td>1</td></tr>\n",
       "\t<tr><th scope=row>5</th><td>1</td><td>-1.95857603</td><td>1</td></tr>\n",
       "\t<tr><th scope=row>6</th><td>1</td><td> 0.94809469</td><td>2</td></tr>\n",
       "\t<tr><th scope=row>7</th><td>1</td><td>-2.50987753</td><td>1</td></tr>\n",
       "\t<tr><th scope=row>8</th><td>1</td><td>-0.47066104</td><td>1</td></tr>\n",
       "\t<tr><th scope=row>9</th><td>1</td><td>-1.06586461</td><td>1</td></tr>\n",
       "\t<tr><th scope=row>10</th><td>1</td><td>-0.06760842</td><td>1</td></tr>\n",
       "\t<tr><th scope=row>11</th><td>2</td><td> 0.17022402</td><td>2</td></tr>\n",
       "\t<tr><th scope=row>12</th><td>2</td><td> 0.49351760</td><td>2</td></tr>\n",
       "\t<tr><th scope=row>13</th><td>2</td><td> 2.03780185</td><td>2</td></tr>\n",
       "\t<tr><th scope=row>14</th><td>2</td><td> 0.38346871</td><td>2</td></tr>\n",
       "\t<tr><th scope=row>15</th><td>2</td><td>-1.24038077</td><td>1</td></tr>\n",
       "\t<tr><th scope=row>16</th><td>2</td><td> 0.24005867</td><td>2</td></tr>\n",
       "\t<tr><th scope=row>17</th><td>2</td><td> 1.42347182</td><td>2</td></tr>\n",
       "\t<tr><th scope=row>18</th><td>2</td><td> 2.01119984</td><td>2</td></tr>\n",
       "\t<tr><th scope=row>19</th><td>2</td><td> 1.40540244</td><td>2</td></tr>\n",
       "\t<tr><th scope=row>20</th><td>2</td><td> 1.33503926</td><td>2</td></tr>\n",
       "</tbody>\n",
       "</table>\n"
      ],
      "text/latex": [
       "A matrix: 20 × 3 of type dbl\n",
       "\\begin{tabular}{r|lll}\n",
       "  & G & LD1 & newG\\\\\n",
       "\\hline\n",
       "\t1 & 1 & -0.28674901 & 1\\\\\n",
       "\t2 & 1 & -0.39852439 & 1\\\\\n",
       "\t3 & 1 & -1.29157053 & 1\\\\\n",
       "\t4 & 1 & -1.15846657 & 1\\\\\n",
       "\t5 & 1 & -1.95857603 & 1\\\\\n",
       "\t6 & 1 &  0.94809469 & 2\\\\\n",
       "\t7 & 1 & -2.50987753 & 1\\\\\n",
       "\t8 & 1 & -0.47066104 & 1\\\\\n",
       "\t9 & 1 & -1.06586461 & 1\\\\\n",
       "\t10 & 1 & -0.06760842 & 1\\\\\n",
       "\t11 & 2 &  0.17022402 & 2\\\\\n",
       "\t12 & 2 &  0.49351760 & 2\\\\\n",
       "\t13 & 2 &  2.03780185 & 2\\\\\n",
       "\t14 & 2 &  0.38346871 & 2\\\\\n",
       "\t15 & 2 & -1.24038077 & 1\\\\\n",
       "\t16 & 2 &  0.24005867 & 2\\\\\n",
       "\t17 & 2 &  1.42347182 & 2\\\\\n",
       "\t18 & 2 &  2.01119984 & 2\\\\\n",
       "\t19 & 2 &  1.40540244 & 2\\\\\n",
       "\t20 & 2 &  1.33503926 & 2\\\\\n",
       "\\end{tabular}\n"
      ],
      "text/markdown": [
       "\n",
       "A matrix: 20 × 3 of type dbl\n",
       "\n",
       "| <!--/--> | G | LD1 | newG |\n",
       "|---|---|---|---|\n",
       "| 1 | 1 | -0.28674901 | 1 |\n",
       "| 2 | 1 | -0.39852439 | 1 |\n",
       "| 3 | 1 | -1.29157053 | 1 |\n",
       "| 4 | 1 | -1.15846657 | 1 |\n",
       "| 5 | 1 | -1.95857603 | 1 |\n",
       "| 6 | 1 |  0.94809469 | 2 |\n",
       "| 7 | 1 | -2.50987753 | 1 |\n",
       "| 8 | 1 | -0.47066104 | 1 |\n",
       "| 9 | 1 | -1.06586461 | 1 |\n",
       "| 10 | 1 | -0.06760842 | 1 |\n",
       "| 11 | 2 |  0.17022402 | 2 |\n",
       "| 12 | 2 |  0.49351760 | 2 |\n",
       "| 13 | 2 |  2.03780185 | 2 |\n",
       "| 14 | 2 |  0.38346871 | 2 |\n",
       "| 15 | 2 | -1.24038077 | 1 |\n",
       "| 16 | 2 |  0.24005867 | 2 |\n",
       "| 17 | 2 |  1.42347182 | 2 |\n",
       "| 18 | 2 |  2.01119984 | 2 |\n",
       "| 19 | 2 |  1.40540244 | 2 |\n",
       "| 20 | 2 |  1.33503926 | 2 |\n",
       "\n"
      ],
      "text/plain": [
       "   G LD1         newG\n",
       "1  1 -0.28674901 1   \n",
       "2  1 -0.39852439 1   \n",
       "3  1 -1.29157053 1   \n",
       "4  1 -1.15846657 1   \n",
       "5  1 -1.95857603 1   \n",
       "6  1  0.94809469 2   \n",
       "7  1 -2.50987753 1   \n",
       "8  1 -0.47066104 1   \n",
       "9  1 -1.06586461 1   \n",
       "10 1 -0.06760842 1   \n",
       "11 2  0.17022402 2   \n",
       "12 2  0.49351760 2   \n",
       "13 2  2.03780185 2   \n",
       "14 2  0.38346871 2   \n",
       "15 2 -1.24038077 1   \n",
       "16 2  0.24005867 2   \n",
       "17 2  1.42347182 2   \n",
       "18 2  2.01119984 2   \n",
       "19 2  1.40540244 2   \n",
       "20 2  1.33503926 2   "
      ]
     },
     "metadata": {},
     "output_type": "display_data"
    }
   ],
   "source": [
    "Z = predict(ld)\n",
    "newG = Z$class\n",
    "cbind(G, Z$x, newG)"
   ]
  },
  {
   "cell_type": "code",
   "execution_count": 5,
   "id": "2c955e5a",
   "metadata": {},
   "outputs": [
    {
     "data": {
      "text/plain": [
       "   newG\n",
       "G   1 2\n",
       "  1 9 1\n",
       "  2 1 9"
      ]
     },
     "metadata": {},
     "output_type": "display_data"
    }
   ],
   "source": [
    "# 真实为1的样本中有一个错判为2，真实为2的样本中有一个错判为1\n",
    "(tab=table(G, newG))"
   ]
  },
  {
   "cell_type": "code",
   "execution_count": 6,
   "id": "114e9611",
   "metadata": {},
   "outputs": [
    {
     "data": {
      "text/html": [
       "0.9"
      ],
      "text/latex": [
       "0.9"
      ],
      "text/markdown": [
       "0.9"
      ],
      "text/plain": [
       "[1] 0.9"
      ]
     },
     "metadata": {},
     "output_type": "display_data"
    }
   ],
   "source": [
    "sum(diag(prop.table(tab))) # 符合率"
   ]
  },
  {
   "cell_type": "code",
   "execution_count": 7,
   "id": "f353f7ec",
   "metadata": {},
   "outputs": [
    {
     "data": {
      "text/html": [
       "<dl>\n",
       "\t<dt>$class</dt>\n",
       "\t\t<dd>1\n",
       "<details>\n",
       "\t<summary style=display:list-item;cursor:pointer>\n",
       "\t\t<strong>Levels</strong>:\n",
       "\t</summary>\n",
       "\t<style>\n",
       "\t.list-inline {list-style: none; margin:0; padding: 0}\n",
       "\t.list-inline>li {display: inline-block}\n",
       "\t.list-inline>li:not(:last-child)::after {content: \"\\00b7\"; padding: 0 .5ex}\n",
       "\t</style>\n",
       "\t<ol class=list-inline><li>'1'</li><li>'2'</li></ol>\n",
       "</details></dd>\n",
       "\t<dt>$posterior</dt>\n",
       "\t\t<dd><table class=\"dataframe\">\n",
       "<caption>A matrix: 1 × 2 of type dbl</caption>\n",
       "<thead>\n",
       "\t<tr><th></th><th scope=col>1</th><th scope=col>2</th></tr>\n",
       "</thead>\n",
       "<tbody>\n",
       "\t<tr><th scope=row>1</th><td>0.9327428</td><td>0.06725717</td></tr>\n",
       "</tbody>\n",
       "</table>\n",
       "</dd>\n",
       "\t<dt>$x</dt>\n",
       "\t\t<dd><table class=\"dataframe\">\n",
       "<caption>A matrix: 1 × 1 of type dbl</caption>\n",
       "<thead>\n",
       "\t<tr><th></th><th scope=col>LD1</th></tr>\n",
       "</thead>\n",
       "<tbody>\n",
       "\t<tr><th scope=row>1</th><td>-1.591809</td></tr>\n",
       "</tbody>\n",
       "</table>\n",
       "</dd>\n",
       "</dl>\n"
      ],
      "text/latex": [
       "\\begin{description}\n",
       "\\item[\\$class] 1\n",
       "\\emph{Levels}: \\begin{enumerate*}\n",
       "\\item '1'\n",
       "\\item '2'\n",
       "\\end{enumerate*}\n",
       "\n",
       "\\item[\\$posterior] A matrix: 1 × 2 of type dbl\n",
       "\\begin{tabular}{r|ll}\n",
       "  & 1 & 2\\\\\n",
       "\\hline\n",
       "\t1 & 0.9327428 & 0.06725717\\\\\n",
       "\\end{tabular}\n",
       "\n",
       "\\item[\\$x] A matrix: 1 × 1 of type dbl\n",
       "\\begin{tabular}{r|l}\n",
       "  & LD1\\\\\n",
       "\\hline\n",
       "\t1 & -1.591809\\\\\n",
       "\\end{tabular}\n",
       "\n",
       "\\end{description}\n"
      ],
      "text/markdown": [
       "$class\n",
       ":   1\n",
       "**Levels**: 1. '1'\n",
       "2. '2'\n",
       "\n",
       "\n",
       "\n",
       "$posterior\n",
       ":   \n",
       "A matrix: 1 × 2 of type dbl\n",
       "\n",
       "| <!--/--> | 1 | 2 |\n",
       "|---|---|---|\n",
       "| 1 | 0.9327428 | 0.06725717 |\n",
       "\n",
       "\n",
       "$x\n",
       ":   \n",
       "A matrix: 1 × 1 of type dbl\n",
       "\n",
       "| <!--/--> | LD1 |\n",
       "|---|---|\n",
       "| 1 | -1.591809 |\n",
       "\n",
       "\n",
       "\n",
       "\n"
      ],
      "text/plain": [
       "$class\n",
       "[1] 1\n",
       "Levels: 1 2\n",
       "\n",
       "$posterior\n",
       "          1          2\n",
       "1 0.9327428 0.06725717\n",
       "\n",
       "$x\n",
       "        LD1\n",
       "1 -1.591809\n"
      ]
     },
     "metadata": {},
     "output_type": "display_data"
    }
   ],
   "source": [
    "# 预测新样本\n",
    "predict(ld, data.frame(x1=8.1,x2=2.0))"
   ]
  },
  {
   "cell_type": "markdown",
   "id": "12f5df75",
   "metadata": {},
   "source": [
    "## 6.3 距离判别法"
   ]
  },
  {
   "cell_type": "code",
   "execution_count": 1,
   "id": "c80dd6c5",
   "metadata": {},
   "outputs": [
    {
     "data": {
      "text/html": [
       "<table class=\"dataframe\">\n",
       "<caption>A data.frame: 20 × 4</caption>\n",
       "<thead>\n",
       "\t<tr><th scope=col>G</th><th scope=col>Q</th><th scope=col>C</th><th scope=col>P</th></tr>\n",
       "\t<tr><th scope=col>&lt;int&gt;</th><th scope=col>&lt;dbl&gt;</th><th scope=col>&lt;dbl&gt;</th><th scope=col>&lt;int&gt;</th></tr>\n",
       "</thead>\n",
       "<tbody>\n",
       "\t<tr><td>1</td><td>8.3</td><td>4.0</td><td>29</td></tr>\n",
       "\t<tr><td>1</td><td>9.5</td><td>7.0</td><td>68</td></tr>\n",
       "\t<tr><td>1</td><td>8.0</td><td>5.0</td><td>39</td></tr>\n",
       "\t<tr><td>1</td><td>7.4</td><td>7.0</td><td>50</td></tr>\n",
       "\t<tr><td>1</td><td>8.8</td><td>6.5</td><td>55</td></tr>\n",
       "\t<tr><td>1</td><td>9.0</td><td>7.5</td><td>58</td></tr>\n",
       "\t<tr><td>1</td><td>7.0</td><td>6.0</td><td>75</td></tr>\n",
       "\t<tr><td>1</td><td>9.2</td><td>8.0</td><td>82</td></tr>\n",
       "\t<tr><td>1</td><td>8.0</td><td>7.0</td><td>67</td></tr>\n",
       "\t<tr><td>1</td><td>7.6</td><td>9.0</td><td>90</td></tr>\n",
       "\t<tr><td>1</td><td>7.2</td><td>8.5</td><td>86</td></tr>\n",
       "\t<tr><td>1</td><td>6.4</td><td>7.0</td><td>53</td></tr>\n",
       "\t<tr><td>1</td><td>7.3</td><td>5.0</td><td>48</td></tr>\n",
       "\t<tr><td>2</td><td>6.0</td><td>2.0</td><td>20</td></tr>\n",
       "\t<tr><td>2</td><td>6.4</td><td>4.0</td><td>39</td></tr>\n",
       "\t<tr><td>2</td><td>6.8</td><td>5.0</td><td>48</td></tr>\n",
       "\t<tr><td>2</td><td>5.2</td><td>3.0</td><td>29</td></tr>\n",
       "\t<tr><td>2</td><td>5.8</td><td>3.5</td><td>32</td></tr>\n",
       "\t<tr><td>2</td><td>5.5</td><td>4.0</td><td>34</td></tr>\n",
       "\t<tr><td>2</td><td>6.0</td><td>4.5</td><td>36</td></tr>\n",
       "</tbody>\n",
       "</table>\n"
      ],
      "text/latex": [
       "A data.frame: 20 × 4\n",
       "\\begin{tabular}{llll}\n",
       " G & Q & C & P\\\\\n",
       " <int> & <dbl> & <dbl> & <int>\\\\\n",
       "\\hline\n",
       "\t 1 & 8.3 & 4.0 & 29\\\\\n",
       "\t 1 & 9.5 & 7.0 & 68\\\\\n",
       "\t 1 & 8.0 & 5.0 & 39\\\\\n",
       "\t 1 & 7.4 & 7.0 & 50\\\\\n",
       "\t 1 & 8.8 & 6.5 & 55\\\\\n",
       "\t 1 & 9.0 & 7.5 & 58\\\\\n",
       "\t 1 & 7.0 & 6.0 & 75\\\\\n",
       "\t 1 & 9.2 & 8.0 & 82\\\\\n",
       "\t 1 & 8.0 & 7.0 & 67\\\\\n",
       "\t 1 & 7.6 & 9.0 & 90\\\\\n",
       "\t 1 & 7.2 & 8.5 & 86\\\\\n",
       "\t 1 & 6.4 & 7.0 & 53\\\\\n",
       "\t 1 & 7.3 & 5.0 & 48\\\\\n",
       "\t 2 & 6.0 & 2.0 & 20\\\\\n",
       "\t 2 & 6.4 & 4.0 & 39\\\\\n",
       "\t 2 & 6.8 & 5.0 & 48\\\\\n",
       "\t 2 & 5.2 & 3.0 & 29\\\\\n",
       "\t 2 & 5.8 & 3.5 & 32\\\\\n",
       "\t 2 & 5.5 & 4.0 & 34\\\\\n",
       "\t 2 & 6.0 & 4.5 & 36\\\\\n",
       "\\end{tabular}\n"
      ],
      "text/markdown": [
       "\n",
       "A data.frame: 20 × 4\n",
       "\n",
       "| G &lt;int&gt; | Q &lt;dbl&gt; | C &lt;dbl&gt; | P &lt;int&gt; |\n",
       "|---|---|---|---|\n",
       "| 1 | 8.3 | 4.0 | 29 |\n",
       "| 1 | 9.5 | 7.0 | 68 |\n",
       "| 1 | 8.0 | 5.0 | 39 |\n",
       "| 1 | 7.4 | 7.0 | 50 |\n",
       "| 1 | 8.8 | 6.5 | 55 |\n",
       "| 1 | 9.0 | 7.5 | 58 |\n",
       "| 1 | 7.0 | 6.0 | 75 |\n",
       "| 1 | 9.2 | 8.0 | 82 |\n",
       "| 1 | 8.0 | 7.0 | 67 |\n",
       "| 1 | 7.6 | 9.0 | 90 |\n",
       "| 1 | 7.2 | 8.5 | 86 |\n",
       "| 1 | 6.4 | 7.0 | 53 |\n",
       "| 1 | 7.3 | 5.0 | 48 |\n",
       "| 2 | 6.0 | 2.0 | 20 |\n",
       "| 2 | 6.4 | 4.0 | 39 |\n",
       "| 2 | 6.8 | 5.0 | 48 |\n",
       "| 2 | 5.2 | 3.0 | 29 |\n",
       "| 2 | 5.8 | 3.5 | 32 |\n",
       "| 2 | 5.5 | 4.0 | 34 |\n",
       "| 2 | 6.0 | 4.5 | 36 |\n",
       "\n"
      ],
      "text/plain": [
       "   G Q   C   P \n",
       "1  1 8.3 4.0 29\n",
       "2  1 9.5 7.0 68\n",
       "3  1 8.0 5.0 39\n",
       "4  1 7.4 7.0 50\n",
       "5  1 8.8 6.5 55\n",
       "6  1 9.0 7.5 58\n",
       "7  1 7.0 6.0 75\n",
       "8  1 9.2 8.0 82\n",
       "9  1 8.0 7.0 67\n",
       "10 1 7.6 9.0 90\n",
       "11 1 7.2 8.5 86\n",
       "12 1 6.4 7.0 53\n",
       "13 1 7.3 5.0 48\n",
       "14 2 6.0 2.0 20\n",
       "15 2 6.4 4.0 39\n",
       "16 2 6.8 5.0 48\n",
       "17 2 5.2 3.0 29\n",
       "18 2 5.8 3.5 32\n",
       "19 2 5.5 4.0 34\n",
       "20 2 6.0 4.5 36"
      ]
     },
     "metadata": {},
     "output_type": "display_data"
    }
   ],
   "source": [
    "options(warn = -1)\n",
    "d6.2 = read.table(\"./data/6_2.txt\", header = T)\n",
    "attach(d6.2)\n",
    "d6.2\n",
    "# G=1表示畅销，G=2表示滞销；Q：质量评分；C：功能评分；P：销售价格"
   ]
  },
  {
   "cell_type": "code",
   "execution_count": 2,
   "id": "94a42c8f",
   "metadata": {},
   "outputs": [
    {
     "data": {
      "image/png": "[encoded data removed]",
      "text/plain": [
       "Plot with title \"张逸敏\""
      ]
     },
     "metadata": {
      "image/png": {
       "height": 420,
       "width": 420
      }
     },
     "output_type": "display_data"
    }
   ],
   "source": [
    "# 质量评分和功能评分的散点图\n",
    "plot(Q,C,main=\"张逸敏\")\n",
    "text(Q,C,G,adj=-0.8)"
   ]
  },
  {
   "cell_type": "code",
   "execution_count": 3,
   "id": "3da31860",
   "metadata": {
    "scrolled": true
   },
   "outputs": [
    {
     "data": {
      "image/png": "[encoded data removed]",
      "text/plain": [
       "Plot with title \"张逸敏\""
      ]
     },
     "metadata": {
      "image/png": {
       "height": 420,
       "width": 420
      }
     },
     "output_type": "display_data"
    }
   ],
   "source": [
    "# 质量评分和销售价格的散点图\n",
    "plot(Q,P,main=\"张逸敏\")\n",
    "text(Q,P,G,adj=-0.8)"
   ]
  },
  {
   "cell_type": "code",
   "execution_count": 4,
   "id": "398188dd",
   "metadata": {
    "scrolled": true
   },
   "outputs": [
    {
     "data": {
      "image/png": "[encoded data removed]",
      "text/plain": [
       "Plot with title \"张逸敏\""
      ]
     },
     "metadata": {
      "image/png": {
       "height": 420,
       "width": 420
      }
     },
     "output_type": "display_data"
    }
   ],
   "source": [
    "# 功能评分和销售价格的散点图\n",
    "plot(C,P,main=\"张逸敏\")\n",
    "text(C,P,G,adj=-0.8)"
   ]
  },
  {
   "cell_type": "markdown",
   "id": "d7550ae2",
   "metadata": {},
   "source": [
    "### 二次判别函数qda()的用法"
   ]
  },
  {
   "cell_type": "code",
   "execution_count": 5,
   "id": "3255d0ed",
   "metadata": {},
   "outputs": [
    {
     "data": {
      "text/plain": [
       "Call:\n",
       "qda(G ~ Q + C + P)\n",
       "\n",
       "Prior probabilities of groups:\n",
       "   1    2 \n",
       "0.65 0.35 \n",
       "\n",
       "Group means:\n",
       "         Q        C        P\n",
       "1 7.976923 6.730769 61.53846\n",
       "2 5.957143 3.714286 34.00000"
      ]
     },
     "metadata": {},
     "output_type": "display_data"
    }
   ],
   "source": [
    "library(MASS)\n",
    "qd=qda(G~Q+C+P)\n",
    "qd"
   ]
  },
  {
   "cell_type": "code",
   "execution_count": 6,
   "id": "b80a1f0d",
   "metadata": {},
   "outputs": [
    {
     "data": {
      "text/html": [
       "<dl>\n",
       "\t<dt>$class</dt>\n",
       "\t\t<dd><style>\n",
       ".list-inline {list-style: none; margin:0; padding: 0}\n",
       ".list-inline>li {display: inline-block}\n",
       ".list-inline>li:not(:last-child)::after {content: \"\\00b7\"; padding: 0 .5ex}\n",
       "</style>\n",
       "<ol class=list-inline><li>1</li><li>1</li><li>1</li><li>1</li><li>1</li><li>1</li><li>1</li><li>1</li><li>1</li><li>1</li><li>1</li><li>1</li><li>1</li><li>2</li><li>2</li><li>2</li><li>2</li><li>2</li><li>2</li><li>2</li></ol>\n",
       "\n",
       "<details>\n",
       "\t<summary style=display:list-item;cursor:pointer>\n",
       "\t\t<strong>Levels</strong>:\n",
       "\t</summary>\n",
       "\t<style>\n",
       "\t.list-inline {list-style: none; margin:0; padding: 0}\n",
       "\t.list-inline>li {display: inline-block}\n",
       "\t.list-inline>li:not(:last-child)::after {content: \"\\00b7\"; padding: 0 .5ex}\n",
       "\t</style>\n",
       "\t<ol class=list-inline><li>'1'</li><li>'2'</li></ol>\n",
       "</details></dd>\n",
       "\t<dt>$posterior</dt>\n",
       "\t\t<dd><table class=\"dataframe\">\n",
       "<caption>A matrix: 20 × 2 of type dbl</caption>\n",
       "<thead>\n",
       "\t<tr><th></th><th scope=col>1</th><th scope=col>2</th></tr>\n",
       "</thead>\n",
       "<tbody>\n",
       "\t<tr><th scope=row>1</th><td>1.0000000000</td><td>1.038272e-13</td></tr>\n",
       "\t<tr><th scope=row>2</th><td>0.9999999943</td><td>5.696656e-09</td></tr>\n",
       "\t<tr><th scope=row>3</th><td>0.9999999669</td><td>3.313397e-08</td></tr>\n",
       "\t<tr><th scope=row>4</th><td>0.9999999957</td><td>4.297984e-09</td></tr>\n",
       "\t<tr><th scope=row>5</th><td>0.9999999969</td><td>3.117297e-09</td></tr>\n",
       "\t<tr><th scope=row>6</th><td>1.0000000000</td><td>7.625938e-15</td></tr>\n",
       "\t<tr><th scope=row>7</th><td>1.0000000000</td><td>4.793512e-18</td></tr>\n",
       "\t<tr><th scope=row>8</th><td>0.9999999952</td><td>4.810094e-09</td></tr>\n",
       "\t<tr><th scope=row>9</th><td>0.9990859902</td><td>9.140098e-04</td></tr>\n",
       "\t<tr><th scope=row>10</th><td>1.0000000000</td><td>3.454373e-11</td></tr>\n",
       "\t<tr><th scope=row>11</th><td>1.0000000000</td><td>3.770380e-11</td></tr>\n",
       "\t<tr><th scope=row>12</th><td>0.9976747923</td><td>2.325208e-03</td></tr>\n",
       "\t<tr><th scope=row>13</th><td>0.5401116448</td><td>4.598884e-01</td></tr>\n",
       "\t<tr><th scope=row>14</th><td>0.0006321752</td><td>9.993678e-01</td></tr>\n",
       "\t<tr><th scope=row>15</th><td>0.0094288115</td><td>9.905712e-01</td></tr>\n",
       "\t<tr><th scope=row>16</th><td>0.1453044024</td><td>8.546956e-01</td></tr>\n",
       "\t<tr><th scope=row>17</th><td>0.0004122557</td><td>9.995877e-01</td></tr>\n",
       "\t<tr><th scope=row>18</th><td>0.0009545983</td><td>9.990454e-01</td></tr>\n",
       "\t<tr><th scope=row>19</th><td>0.0019820983</td><td>9.980179e-01</td></tr>\n",
       "\t<tr><th scope=row>20</th><td>0.0346609285</td><td>9.653391e-01</td></tr>\n",
       "</tbody>\n",
       "</table>\n",
       "</dd>\n",
       "</dl>\n"
      ],
      "text/latex": [
       "\\begin{description}\n",
       "\\item[\\$class] \\begin{enumerate*}\n",
       "\\item 1\n",
       "\\item 1\n",
       "\\item 1\n",
       "\\item 1\n",
       "\\item 1\n",
       "\\item 1\n",
       "\\item 1\n",
       "\\item 1\n",
       "\\item 1\n",
       "\\item 1\n",
       "\\item 1\n",
       "\\item 1\n",
       "\\item 1\n",
       "\\item 2\n",
       "\\item 2\n",
       "\\item 2\n",
       "\\item 2\n",
       "\\item 2\n",
       "\\item 2\n",
       "\\item 2\n",
       "\\end{enumerate*}\n",
       "\n",
       "\\emph{Levels}: \\begin{enumerate*}\n",
       "\\item '1'\n",
       "\\item '2'\n",
       "\\end{enumerate*}\n",
       "\n",
       "\\item[\\$posterior] A matrix: 20 × 2 of type dbl\n",
       "\\begin{tabular}{r|ll}\n",
       "  & 1 & 2\\\\\n",
       "\\hline\n",
       "\t1 & 1.0000000000 & 1.038272e-13\\\\\n",
       "\t2 & 0.9999999943 & 5.696656e-09\\\\\n",
       "\t3 & 0.9999999669 & 3.313397e-08\\\\\n",
       "\t4 & 0.9999999957 & 4.297984e-09\\\\\n",
       "\t5 & 0.9999999969 & 3.117297e-09\\\\\n",
       "\t6 & 1.0000000000 & 7.625938e-15\\\\\n",
       "\t7 & 1.0000000000 & 4.793512e-18\\\\\n",
       "\t8 & 0.9999999952 & 4.810094e-09\\\\\n",
       "\t9 & 0.9990859902 & 9.140098e-04\\\\\n",
       "\t10 & 1.0000000000 & 3.454373e-11\\\\\n",
       "\t11 & 1.0000000000 & 3.770380e-11\\\\\n",
       "\t12 & 0.9976747923 & 2.325208e-03\\\\\n",
       "\t13 & 0.5401116448 & 4.598884e-01\\\\\n",
       "\t14 & 0.0006321752 & 9.993678e-01\\\\\n",
       "\t15 & 0.0094288115 & 9.905712e-01\\\\\n",
       "\t16 & 0.1453044024 & 8.546956e-01\\\\\n",
       "\t17 & 0.0004122557 & 9.995877e-01\\\\\n",
       "\t18 & 0.0009545983 & 9.990454e-01\\\\\n",
       "\t19 & 0.0019820983 & 9.980179e-01\\\\\n",
       "\t20 & 0.0346609285 & 9.653391e-01\\\\\n",
       "\\end{tabular}\n",
       "\n",
       "\\end{description}\n"
      ],
      "text/markdown": [
       "$class\n",
       ":   1. 1\n",
       "2. 1\n",
       "3. 1\n",
       "4. 1\n",
       "5. 1\n",
       "6. 1\n",
       "7. 1\n",
       "8. 1\n",
       "9. 1\n",
       "10. 1\n",
       "11. 1\n",
       "12. 1\n",
       "13. 1\n",
       "14. 2\n",
       "15. 2\n",
       "16. 2\n",
       "17. 2\n",
       "18. 2\n",
       "19. 2\n",
       "20. 2\n",
       "\n",
       "\n",
       "\n",
       "**Levels**: 1. '1'\n",
       "2. '2'\n",
       "\n",
       "\n",
       "\n",
       "$posterior\n",
       ":   \n",
       "A matrix: 20 × 2 of type dbl\n",
       "\n",
       "| <!--/--> | 1 | 2 |\n",
       "|---|---|---|\n",
       "| 1 | 1.0000000000 | 1.038272e-13 |\n",
       "| 2 | 0.9999999943 | 5.696656e-09 |\n",
       "| 3 | 0.9999999669 | 3.313397e-08 |\n",
       "| 4 | 0.9999999957 | 4.297984e-09 |\n",
       "| 5 | 0.9999999969 | 3.117297e-09 |\n",
       "| 6 | 1.0000000000 | 7.625938e-15 |\n",
       "| 7 | 1.0000000000 | 4.793512e-18 |\n",
       "| 8 | 0.9999999952 | 4.810094e-09 |\n",
       "| 9 | 0.9990859902 | 9.140098e-04 |\n",
       "| 10 | 1.0000000000 | 3.454373e-11 |\n",
       "| 11 | 1.0000000000 | 3.770380e-11 |\n",
       "| 12 | 0.9976747923 | 2.325208e-03 |\n",
       "| 13 | 0.5401116448 | 4.598884e-01 |\n",
       "| 14 | 0.0006321752 | 9.993678e-01 |\n",
       "| 15 | 0.0094288115 | 9.905712e-01 |\n",
       "| 16 | 0.1453044024 | 8.546956e-01 |\n",
       "| 17 | 0.0004122557 | 9.995877e-01 |\n",
       "| 18 | 0.0009545983 | 9.990454e-01 |\n",
       "| 19 | 0.0019820983 | 9.980179e-01 |\n",
       "| 20 | 0.0346609285 | 9.653391e-01 |\n",
       "\n",
       "\n",
       "\n",
       "\n"
      ],
      "text/plain": [
       "$class\n",
       " [1] 1 1 1 1 1 1 1 1 1 1 1 1 1 2 2 2 2 2 2 2\n",
       "Levels: 1 2\n",
       "\n",
       "$posterior\n",
       "              1            2\n",
       "1  1.0000000000 1.038272e-13\n",
       "2  0.9999999943 5.696656e-09\n",
       "3  0.9999999669 3.313397e-08\n",
       "4  0.9999999957 4.297984e-09\n",
       "5  0.9999999969 3.117297e-09\n",
       "6  1.0000000000 7.625938e-15\n",
       "7  1.0000000000 4.793512e-18\n",
       "8  0.9999999952 4.810094e-09\n",
       "9  0.9990859902 9.140098e-04\n",
       "10 1.0000000000 3.454373e-11\n",
       "11 1.0000000000 3.770380e-11\n",
       "12 0.9976747923 2.325208e-03\n",
       "13 0.5401116448 4.598884e-01\n",
       "14 0.0006321752 9.993678e-01\n",
       "15 0.0094288115 9.905712e-01\n",
       "16 0.1453044024 8.546956e-01\n",
       "17 0.0004122557 9.995877e-01\n",
       "18 0.0009545983 9.990454e-01\n",
       "19 0.0019820983 9.980179e-01\n",
       "20 0.0346609285 9.653391e-01\n"
      ]
     },
     "metadata": {},
     "output_type": "display_data"
    },
    {
     "data": {
      "text/html": [
       "<table class=\"dataframe\">\n",
       "<caption>A matrix: 20 × 2 of type int</caption>\n",
       "<thead>\n",
       "\t<tr><th scope=col>G</th><th scope=col>newG</th></tr>\n",
       "</thead>\n",
       "<tbody>\n",
       "\t<tr><td>1</td><td>1</td></tr>\n",
       "\t<tr><td>1</td><td>1</td></tr>\n",
       "\t<tr><td>1</td><td>1</td></tr>\n",
       "\t<tr><td>1</td><td>1</td></tr>\n",
       "\t<tr><td>1</td><td>1</td></tr>\n",
       "\t<tr><td>1</td><td>1</td></tr>\n",
       "\t<tr><td>1</td><td>1</td></tr>\n",
       "\t<tr><td>1</td><td>1</td></tr>\n",
       "\t<tr><td>1</td><td>1</td></tr>\n",
       "\t<tr><td>1</td><td>1</td></tr>\n",
       "\t<tr><td>1</td><td>1</td></tr>\n",
       "\t<tr><td>1</td><td>1</td></tr>\n",
       "\t<tr><td>1</td><td>1</td></tr>\n",
       "\t<tr><td>2</td><td>2</td></tr>\n",
       "\t<tr><td>2</td><td>2</td></tr>\n",
       "\t<tr><td>2</td><td>2</td></tr>\n",
       "\t<tr><td>2</td><td>2</td></tr>\n",
       "\t<tr><td>2</td><td>2</td></tr>\n",
       "\t<tr><td>2</td><td>2</td></tr>\n",
       "\t<tr><td>2</td><td>2</td></tr>\n",
       "</tbody>\n",
       "</table>\n"
      ],
      "text/latex": [
       "A matrix: 20 × 2 of type int\n",
       "\\begin{tabular}{ll}\n",
       " G & newG\\\\\n",
       "\\hline\n",
       "\t 1 & 1\\\\\n",
       "\t 1 & 1\\\\\n",
       "\t 1 & 1\\\\\n",
       "\t 1 & 1\\\\\n",
       "\t 1 & 1\\\\\n",
       "\t 1 & 1\\\\\n",
       "\t 1 & 1\\\\\n",
       "\t 1 & 1\\\\\n",
       "\t 1 & 1\\\\\n",
       "\t 1 & 1\\\\\n",
       "\t 1 & 1\\\\\n",
       "\t 1 & 1\\\\\n",
       "\t 1 & 1\\\\\n",
       "\t 2 & 2\\\\\n",
       "\t 2 & 2\\\\\n",
       "\t 2 & 2\\\\\n",
       "\t 2 & 2\\\\\n",
       "\t 2 & 2\\\\\n",
       "\t 2 & 2\\\\\n",
       "\t 2 & 2\\\\\n",
       "\\end{tabular}\n"
      ],
      "text/markdown": [
       "\n",
       "A matrix: 20 × 2 of type int\n",
       "\n",
       "| G | newG |\n",
       "|---|---|\n",
       "| 1 | 1 |\n",
       "| 1 | 1 |\n",
       "| 1 | 1 |\n",
       "| 1 | 1 |\n",
       "| 1 | 1 |\n",
       "| 1 | 1 |\n",
       "| 1 | 1 |\n",
       "| 1 | 1 |\n",
       "| 1 | 1 |\n",
       "| 1 | 1 |\n",
       "| 1 | 1 |\n",
       "| 1 | 1 |\n",
       "| 1 | 1 |\n",
       "| 2 | 2 |\n",
       "| 2 | 2 |\n",
       "| 2 | 2 |\n",
       "| 2 | 2 |\n",
       "| 2 | 2 |\n",
       "| 2 | 2 |\n",
       "| 2 | 2 |\n",
       "\n"
      ],
      "text/plain": [
       "      G newG\n",
       " [1,] 1 1   \n",
       " [2,] 1 1   \n",
       " [3,] 1 1   \n",
       " [4,] 1 1   \n",
       " [5,] 1 1   \n",
       " [6,] 1 1   \n",
       " [7,] 1 1   \n",
       " [8,] 1 1   \n",
       " [9,] 1 1   \n",
       "[10,] 1 1   \n",
       "[11,] 1 1   \n",
       "[12,] 1 1   \n",
       "[13,] 1 1   \n",
       "[14,] 2 2   \n",
       "[15,] 2 2   \n",
       "[16,] 2 2   \n",
       "[17,] 2 2   \n",
       "[18,] 2 2   \n",
       "[19,] 2 2   \n",
       "[20,] 2 2   "
      ]
     },
     "metadata": {},
     "output_type": "display_data"
    }
   ],
   "source": [
    "predict(qd)\n",
    "cbind(G,newG=predict(qd)$class)\n",
    "# 发现预测值和真实值全都一样"
   ]
  },
  {
   "cell_type": "code",
   "execution_count": 7,
   "id": "cfa17c7f",
   "metadata": {},
   "outputs": [
    {
     "data": {
      "text/html": [
       "<dl>\n",
       "\t<dt>$class</dt>\n",
       "\t\t<dd>1\n",
       "<details>\n",
       "\t<summary style=display:list-item;cursor:pointer>\n",
       "\t\t<strong>Levels</strong>:\n",
       "\t</summary>\n",
       "\t<style>\n",
       "\t.list-inline {list-style: none; margin:0; padding: 0}\n",
       "\t.list-inline>li {display: inline-block}\n",
       "\t.list-inline>li:not(:last-child)::after {content: \"\\00b7\"; padding: 0 .5ex}\n",
       "\t</style>\n",
       "\t<ol class=list-inline><li>'1'</li><li>'2'</li></ol>\n",
       "</details></dd>\n",
       "\t<dt>$posterior</dt>\n",
       "\t\t<dd><table class=\"dataframe\">\n",
       "<caption>A matrix: 1 × 2 of type dbl</caption>\n",
       "<thead>\n",
       "\t<tr><th></th><th scope=col>1</th><th scope=col>2</th></tr>\n",
       "</thead>\n",
       "<tbody>\n",
       "\t<tr><th scope=row>1</th><td>0.9998462</td><td>0.0001537705</td></tr>\n",
       "</tbody>\n",
       "</table>\n",
       "</dd>\n",
       "</dl>\n"
      ],
      "text/latex": [
       "\\begin{description}\n",
       "\\item[\\$class] 1\n",
       "\\emph{Levels}: \\begin{enumerate*}\n",
       "\\item '1'\n",
       "\\item '2'\n",
       "\\end{enumerate*}\n",
       "\n",
       "\\item[\\$posterior] A matrix: 1 × 2 of type dbl\n",
       "\\begin{tabular}{r|ll}\n",
       "  & 1 & 2\\\\\n",
       "\\hline\n",
       "\t1 & 0.9998462 & 0.0001537705\\\\\n",
       "\\end{tabular}\n",
       "\n",
       "\\end{description}\n"
      ],
      "text/markdown": [
       "$class\n",
       ":   1\n",
       "**Levels**: 1. '1'\n",
       "2. '2'\n",
       "\n",
       "\n",
       "\n",
       "$posterior\n",
       ":   \n",
       "A matrix: 1 × 2 of type dbl\n",
       "\n",
       "| <!--/--> | 1 | 2 |\n",
       "|---|---|---|\n",
       "| 1 | 0.9998462 | 0.0001537705 |\n",
       "\n",
       "\n",
       "\n",
       "\n"
      ],
      "text/plain": [
       "$class\n",
       "[1] 1\n",
       "Levels: 1 2\n",
       "\n",
       "$posterior\n",
       "          1            2\n",
       "1 0.9998462 0.0001537705\n"
      ]
     },
     "metadata": {},
     "output_type": "display_data"
    }
   ],
   "source": [
    "# 新样本判定\n",
    "predict(qd, data.frame(Q=8,C=7.5,P=65))"
   ]
  },
  {
   "cell_type": "markdown",
   "id": "b2a39457",
   "metadata": {},
   "source": [
    "### 线性判别函数的应用"
   ]
  },
  {
   "cell_type": "code",
   "execution_count": 8,
   "id": "03c23b08",
   "metadata": {},
   "outputs": [
    {
     "data": {
      "text/plain": [
       "Call:\n",
       "lda(G ~ Q + C + P)\n",
       "\n",
       "Prior probabilities of groups:\n",
       "   1    2 \n",
       "0.65 0.35 \n",
       "\n",
       "Group means:\n",
       "         Q        C        P\n",
       "1 7.976923 6.730769 61.53846\n",
       "2 5.957143 3.714286 34.00000\n",
       "\n",
       "Coefficients of linear discriminants:\n",
       "          LD1\n",
       "Q -0.82211427\n",
       "C -0.64614217\n",
       "P  0.01495461"
      ]
     },
     "metadata": {},
     "output_type": "display_data"
    }
   ],
   "source": [
    "library(MASS)\n",
    "ld = lda(G~Q+C+P)\n",
    "ld"
   ]
  },
  {
   "cell_type": "code",
   "execution_count": 9,
   "id": "68df6a16",
   "metadata": {},
   "outputs": [
    {
     "data": {
      "text/html": [
       "<table class=\"dataframe\">\n",
       "<caption>A matrix: 20 × 3 of type dbl</caption>\n",
       "<thead>\n",
       "\t<tr><th></th><th scope=col>G</th><th scope=col>LD1</th><th scope=col>newG</th></tr>\n",
       "</thead>\n",
       "<tbody>\n",
       "\t<tr><th scope=row>1</th><td>1</td><td>-0.1069501</td><td>1</td></tr>\n",
       "\t<tr><th scope=row>2</th><td>1</td><td>-2.4486840</td><td>1</td></tr>\n",
       "\t<tr><th scope=row>3</th><td>1</td><td>-0.3569119</td><td>1</td></tr>\n",
       "\t<tr><th scope=row>4</th><td>1</td><td>-0.9914270</td><td>1</td></tr>\n",
       "\t<tr><th scope=row>5</th><td>1</td><td>-1.7445428</td><td>1</td></tr>\n",
       "\t<tr><th scope=row>6</th><td>1</td><td>-2.5102440</td><td>1</td></tr>\n",
       "\t<tr><th scope=row>7</th><td>1</td><td> 0.3574261</td><td>1</td></tr>\n",
       "\t<tr><th scope=row>8</th><td>1</td><td>-2.6388274</td><td>1</td></tr>\n",
       "\t<tr><th scope=row>9</th><td>1</td><td>-1.2304672</td><td>1</td></tr>\n",
       "\t<tr><th scope=row>10</th><td>1</td><td>-1.8499498</td><td>1</td></tr>\n",
       "\t<tr><th scope=row>11</th><td>1</td><td>-1.2578515</td><td>1</td></tr>\n",
       "\t<tr><th scope=row>12</th><td>1</td><td>-0.1244489</td><td>1</td></tr>\n",
       "\t<tr><th scope=row>13</th><td>1</td><td> 0.3531596</td><td>1</td></tr>\n",
       "\t<tr><th scope=row>14</th><td>2</td><td> 2.9416056</td><td>2</td></tr>\n",
       "\t<tr><th scope=row>15</th><td>2</td><td> 1.6046131</td><td>2</td></tr>\n",
       "\t<tr><th scope=row>16</th><td>2</td><td> 0.7642167</td><td>2</td></tr>\n",
       "\t<tr><th scope=row>17</th><td>2</td><td> 3.0877463</td><td>2</td></tr>\n",
       "\t<tr><th scope=row>18</th><td>2</td><td> 2.3162705</td><td>2</td></tr>\n",
       "\t<tr><th scope=row>19</th><td>2</td><td> 2.2697429</td><td>2</td></tr>\n",
       "\t<tr><th scope=row>20</th><td>2</td><td> 1.5655239</td><td>2</td></tr>\n",
       "</tbody>\n",
       "</table>\n"
      ],
      "text/latex": [
       "A matrix: 20 × 3 of type dbl\n",
       "\\begin{tabular}{r|lll}\n",
       "  & G & LD1 & newG\\\\\n",
       "\\hline\n",
       "\t1 & 1 & -0.1069501 & 1\\\\\n",
       "\t2 & 1 & -2.4486840 & 1\\\\\n",
       "\t3 & 1 & -0.3569119 & 1\\\\\n",
       "\t4 & 1 & -0.9914270 & 1\\\\\n",
       "\t5 & 1 & -1.7445428 & 1\\\\\n",
       "\t6 & 1 & -2.5102440 & 1\\\\\n",
       "\t7 & 1 &  0.3574261 & 1\\\\\n",
       "\t8 & 1 & -2.6388274 & 1\\\\\n",
       "\t9 & 1 & -1.2304672 & 1\\\\\n",
       "\t10 & 1 & -1.8499498 & 1\\\\\n",
       "\t11 & 1 & -1.2578515 & 1\\\\\n",
       "\t12 & 1 & -0.1244489 & 1\\\\\n",
       "\t13 & 1 &  0.3531596 & 1\\\\\n",
       "\t14 & 2 &  2.9416056 & 2\\\\\n",
       "\t15 & 2 &  1.6046131 & 2\\\\\n",
       "\t16 & 2 &  0.7642167 & 2\\\\\n",
       "\t17 & 2 &  3.0877463 & 2\\\\\n",
       "\t18 & 2 &  2.3162705 & 2\\\\\n",
       "\t19 & 2 &  2.2697429 & 2\\\\\n",
       "\t20 & 2 &  1.5655239 & 2\\\\\n",
       "\\end{tabular}\n"
      ],
      "text/markdown": [
       "\n",
       "A matrix: 20 × 3 of type dbl\n",
       "\n",
       "| <!--/--> | G | LD1 | newG |\n",
       "|---|---|---|---|\n",
       "| 1 | 1 | -0.1069501 | 1 |\n",
       "| 2 | 1 | -2.4486840 | 1 |\n",
       "| 3 | 1 | -0.3569119 | 1 |\n",
       "| 4 | 1 | -0.9914270 | 1 |\n",
       "| 5 | 1 | -1.7445428 | 1 |\n",
       "| 6 | 1 | -2.5102440 | 1 |\n",
       "| 7 | 1 |  0.3574261 | 1 |\n",
       "| 8 | 1 | -2.6388274 | 1 |\n",
       "| 9 | 1 | -1.2304672 | 1 |\n",
       "| 10 | 1 | -1.8499498 | 1 |\n",
       "| 11 | 1 | -1.2578515 | 1 |\n",
       "| 12 | 1 | -0.1244489 | 1 |\n",
       "| 13 | 1 |  0.3531596 | 1 |\n",
       "| 14 | 2 |  2.9416056 | 2 |\n",
       "| 15 | 2 |  1.6046131 | 2 |\n",
       "| 16 | 2 |  0.7642167 | 2 |\n",
       "| 17 | 2 |  3.0877463 | 2 |\n",
       "| 18 | 2 |  2.3162705 | 2 |\n",
       "| 19 | 2 |  2.2697429 | 2 |\n",
       "| 20 | 2 |  1.5655239 | 2 |\n",
       "\n"
      ],
      "text/plain": [
       "   G LD1        newG\n",
       "1  1 -0.1069501 1   \n",
       "2  1 -2.4486840 1   \n",
       "3  1 -0.3569119 1   \n",
       "4  1 -0.9914270 1   \n",
       "5  1 -1.7445428 1   \n",
       "6  1 -2.5102440 1   \n",
       "7  1  0.3574261 1   \n",
       "8  1 -2.6388274 1   \n",
       "9  1 -1.2304672 1   \n",
       "10 1 -1.8499498 1   \n",
       "11 1 -1.2578515 1   \n",
       "12 1 -0.1244489 1   \n",
       "13 1  0.3531596 1   \n",
       "14 2  2.9416056 2   \n",
       "15 2  1.6046131 2   \n",
       "16 2  0.7642167 2   \n",
       "17 2  3.0877463 2   \n",
       "18 2  2.3162705 2   \n",
       "19 2  2.2697429 2   \n",
       "20 2  1.5655239 2   "
      ]
     },
     "metadata": {},
     "output_type": "display_data"
    }
   ],
   "source": [
    "W = predict(ld)\n",
    "cbind(G, Wx = W$x, newG=W$class)"
   ]
  },
  {
   "cell_type": "code",
   "execution_count": 10,
   "id": "38f40b5d",
   "metadata": {},
   "outputs": [
    {
     "data": {
      "text/html": [
       "<dl>\n",
       "\t<dt>$class</dt>\n",
       "\t\t<dd>1\n",
       "<details>\n",
       "\t<summary style=display:list-item;cursor:pointer>\n",
       "\t\t<strong>Levels</strong>:\n",
       "\t</summary>\n",
       "\t<style>\n",
       "\t.list-inline {list-style: none; margin:0; padding: 0}\n",
       "\t.list-inline>li {display: inline-block}\n",
       "\t.list-inline>li:not(:last-child)::after {content: \"\\00b7\"; padding: 0 .5ex}\n",
       "\t</style>\n",
       "\t<ol class=list-inline><li>'1'</li><li>'2'</li></ol>\n",
       "</details></dd>\n",
       "\t<dt>$posterior</dt>\n",
       "\t\t<dd><table class=\"dataframe\">\n",
       "<caption>A matrix: 1 × 2 of type dbl</caption>\n",
       "<thead>\n",
       "\t<tr><th></th><th scope=col>1</th><th scope=col>2</th></tr>\n",
       "</thead>\n",
       "<tbody>\n",
       "\t<tr><th scope=row>1</th><td>0.999266</td><td>0.0007339578</td></tr>\n",
       "</tbody>\n",
       "</table>\n",
       "</dd>\n",
       "\t<dt>$x</dt>\n",
       "\t\t<dd><table class=\"dataframe\">\n",
       "<caption>A matrix: 1 × 1 of type dbl</caption>\n",
       "<thead>\n",
       "\t<tr><th></th><th scope=col>LD1</th></tr>\n",
       "</thead>\n",
       "<tbody>\n",
       "\t<tr><th scope=row>1</th><td>-1.583447</td></tr>\n",
       "</tbody>\n",
       "</table>\n",
       "</dd>\n",
       "</dl>\n"
      ],
      "text/latex": [
       "\\begin{description}\n",
       "\\item[\\$class] 1\n",
       "\\emph{Levels}: \\begin{enumerate*}\n",
       "\\item '1'\n",
       "\\item '2'\n",
       "\\end{enumerate*}\n",
       "\n",
       "\\item[\\$posterior] A matrix: 1 × 2 of type dbl\n",
       "\\begin{tabular}{r|ll}\n",
       "  & 1 & 2\\\\\n",
       "\\hline\n",
       "\t1 & 0.999266 & 0.0007339578\\\\\n",
       "\\end{tabular}\n",
       "\n",
       "\\item[\\$x] A matrix: 1 × 1 of type dbl\n",
       "\\begin{tabular}{r|l}\n",
       "  & LD1\\\\\n",
       "\\hline\n",
       "\t1 & -1.583447\\\\\n",
       "\\end{tabular}\n",
       "\n",
       "\\end{description}\n"
      ],
      "text/markdown": [
       "$class\n",
       ":   1\n",
       "**Levels**: 1. '1'\n",
       "2. '2'\n",
       "\n",
       "\n",
       "\n",
       "$posterior\n",
       ":   \n",
       "A matrix: 1 × 2 of type dbl\n",
       "\n",
       "| <!--/--> | 1 | 2 |\n",
       "|---|---|---|\n",
       "| 1 | 0.999266 | 0.0007339578 |\n",
       "\n",
       "\n",
       "$x\n",
       ":   \n",
       "A matrix: 1 × 1 of type dbl\n",
       "\n",
       "| <!--/--> | LD1 |\n",
       "|---|---|\n",
       "| 1 | -1.583447 |\n",
       "\n",
       "\n",
       "\n",
       "\n"
      ],
      "text/plain": [
       "$class\n",
       "[1] 1\n",
       "Levels: 1 2\n",
       "\n",
       "$posterior\n",
       "         1            2\n",
       "1 0.999266 0.0007339578\n",
       "\n",
       "$x\n",
       "        LD1\n",
       "1 -1.583447\n"
      ]
     },
     "metadata": {},
     "output_type": "display_data"
    }
   ],
   "source": [
    "# 线性判别函数判断结果，和二次判别函数结果相同\n",
    "predict(ld,data.frame(Q=8,C=7.5,P=65))"
   ]
  },
  {
   "cell_type": "markdown",
   "id": "c3ec55c7",
   "metadata": {},
   "source": [
    "## 多总体距离判别"
   ]
  },
  {
   "cell_type": "code",
   "execution_count": 11,
   "id": "9c1065d7",
   "metadata": {},
   "outputs": [
    {
     "data": {
      "text/html": [
       "<table class=\"dataframe\">\n",
       "<caption>A data.frame: 20 × 4</caption>\n",
       "<thead>\n",
       "\t<tr><th scope=col>G</th><th scope=col>Q</th><th scope=col>C</th><th scope=col>P</th></tr>\n",
       "\t<tr><th scope=col>&lt;int&gt;</th><th scope=col>&lt;dbl&gt;</th><th scope=col>&lt;dbl&gt;</th><th scope=col>&lt;int&gt;</th></tr>\n",
       "</thead>\n",
       "<tbody>\n",
       "\t<tr><td>1</td><td>8.3</td><td>4.0</td><td>29</td></tr>\n",
       "\t<tr><td>1</td><td>9.5</td><td>7.0</td><td>68</td></tr>\n",
       "\t<tr><td>1</td><td>8.0</td><td>5.0</td><td>39</td></tr>\n",
       "\t<tr><td>1</td><td>7.4</td><td>7.0</td><td>50</td></tr>\n",
       "\t<tr><td>1</td><td>8.8</td><td>6.5</td><td>55</td></tr>\n",
       "\t<tr><td>2</td><td>9.0</td><td>7.5</td><td>58</td></tr>\n",
       "\t<tr><td>2</td><td>7.0</td><td>6.0</td><td>75</td></tr>\n",
       "\t<tr><td>2</td><td>9.2</td><td>8.0</td><td>82</td></tr>\n",
       "\t<tr><td>2</td><td>8.0</td><td>7.0</td><td>67</td></tr>\n",
       "\t<tr><td>2</td><td>7.6</td><td>9.0</td><td>90</td></tr>\n",
       "\t<tr><td>2</td><td>7.2</td><td>8.5</td><td>86</td></tr>\n",
       "\t<tr><td>2</td><td>6.4</td><td>7.0</td><td>53</td></tr>\n",
       "\t<tr><td>2</td><td>7.3</td><td>5.0</td><td>48</td></tr>\n",
       "\t<tr><td>3</td><td>6.0</td><td>2.0</td><td>20</td></tr>\n",
       "\t<tr><td>3</td><td>6.4</td><td>4.0</td><td>39</td></tr>\n",
       "\t<tr><td>3</td><td>6.8</td><td>5.0</td><td>48</td></tr>\n",
       "\t<tr><td>3</td><td>5.2</td><td>3.0</td><td>29</td></tr>\n",
       "\t<tr><td>3</td><td>5.8</td><td>3.5</td><td>32</td></tr>\n",
       "\t<tr><td>3</td><td>5.5</td><td>4.0</td><td>34</td></tr>\n",
       "\t<tr><td>3</td><td>6.0</td><td>4.5</td><td>36</td></tr>\n",
       "</tbody>\n",
       "</table>\n"
      ],
      "text/latex": [
       "A data.frame: 20 × 4\n",
       "\\begin{tabular}{llll}\n",
       " G & Q & C & P\\\\\n",
       " <int> & <dbl> & <dbl> & <int>\\\\\n",
       "\\hline\n",
       "\t 1 & 8.3 & 4.0 & 29\\\\\n",
       "\t 1 & 9.5 & 7.0 & 68\\\\\n",
       "\t 1 & 8.0 & 5.0 & 39\\\\\n",
       "\t 1 & 7.4 & 7.0 & 50\\\\\n",
       "\t 1 & 8.8 & 6.5 & 55\\\\\n",
       "\t 2 & 9.0 & 7.5 & 58\\\\\n",
       "\t 2 & 7.0 & 6.0 & 75\\\\\n",
       "\t 2 & 9.2 & 8.0 & 82\\\\\n",
       "\t 2 & 8.0 & 7.0 & 67\\\\\n",
       "\t 2 & 7.6 & 9.0 & 90\\\\\n",
       "\t 2 & 7.2 & 8.5 & 86\\\\\n",
       "\t 2 & 6.4 & 7.0 & 53\\\\\n",
       "\t 2 & 7.3 & 5.0 & 48\\\\\n",
       "\t 3 & 6.0 & 2.0 & 20\\\\\n",
       "\t 3 & 6.4 & 4.0 & 39\\\\\n",
       "\t 3 & 6.8 & 5.0 & 48\\\\\n",
       "\t 3 & 5.2 & 3.0 & 29\\\\\n",
       "\t 3 & 5.8 & 3.5 & 32\\\\\n",
       "\t 3 & 5.5 & 4.0 & 34\\\\\n",
       "\t 3 & 6.0 & 4.5 & 36\\\\\n",
       "\\end{tabular}\n"
      ],
      "text/markdown": [
       "\n",
       "A data.frame: 20 × 4\n",
       "\n",
       "| G &lt;int&gt; | Q &lt;dbl&gt; | C &lt;dbl&gt; | P &lt;int&gt; |\n",
       "|---|---|---|---|\n",
       "| 1 | 8.3 | 4.0 | 29 |\n",
       "| 1 | 9.5 | 7.0 | 68 |\n",
       "| 1 | 8.0 | 5.0 | 39 |\n",
       "| 1 | 7.4 | 7.0 | 50 |\n",
       "| 1 | 8.8 | 6.5 | 55 |\n",
       "| 2 | 9.0 | 7.5 | 58 |\n",
       "| 2 | 7.0 | 6.0 | 75 |\n",
       "| 2 | 9.2 | 8.0 | 82 |\n",
       "| 2 | 8.0 | 7.0 | 67 |\n",
       "| 2 | 7.6 | 9.0 | 90 |\n",
       "| 2 | 7.2 | 8.5 | 86 |\n",
       "| 2 | 6.4 | 7.0 | 53 |\n",
       "| 2 | 7.3 | 5.0 | 48 |\n",
       "| 3 | 6.0 | 2.0 | 20 |\n",
       "| 3 | 6.4 | 4.0 | 39 |\n",
       "| 3 | 6.8 | 5.0 | 48 |\n",
       "| 3 | 5.2 | 3.0 | 29 |\n",
       "| 3 | 5.8 | 3.5 | 32 |\n",
       "| 3 | 5.5 | 4.0 | 34 |\n",
       "| 3 | 6.0 | 4.5 | 36 |\n",
       "\n"
      ],
      "text/plain": [
       "   G Q   C   P \n",
       "1  1 8.3 4.0 29\n",
       "2  1 9.5 7.0 68\n",
       "3  1 8.0 5.0 39\n",
       "4  1 7.4 7.0 50\n",
       "5  1 8.8 6.5 55\n",
       "6  2 9.0 7.5 58\n",
       "7  2 7.0 6.0 75\n",
       "8  2 9.2 8.0 82\n",
       "9  2 8.0 7.0 67\n",
       "10 2 7.6 9.0 90\n",
       "11 2 7.2 8.5 86\n",
       "12 2 6.4 7.0 53\n",
       "13 2 7.3 5.0 48\n",
       "14 3 6.0 2.0 20\n",
       "15 3 6.4 4.0 39\n",
       "16 3 6.8 5.0 48\n",
       "17 3 5.2 3.0 29\n",
       "18 3 5.8 3.5 32\n",
       "19 3 5.5 4.0 34\n",
       "20 3 6.0 4.5 36"
      ]
     },
     "metadata": {},
     "output_type": "display_data"
    }
   ],
   "source": [
    "d6.3 = read.table(\"./data/6_3.txt\", header = T)\n",
    "d6.3 # G=1是畅销，G=2是平销，G=3是滞销"
   ]
  },
  {
   "cell_type": "code",
   "execution_count": 12,
   "id": "0e721a56",
   "metadata": {},
   "outputs": [
    {
     "name": "stderr",
     "output_type": "stream",
     "text": [
      "The following objects are masked from d6.2:\n",
      "\n",
      "    C, G, P, Q\n",
      "\n",
      "\n"
     ]
    },
    {
     "data": {
      "image/png": "[encoded data removed]",
      "text/plain": [
       "Plot with title \"张逸敏\""
      ]
     },
     "metadata": {
      "image/png": {
       "height": 420,
       "width": 420
      }
     },
     "output_type": "display_data"
    }
   ],
   "source": [
    "options(warn = -1)\n",
    "attach(d6.3)\n",
    "plot(Q,C, main=\"张逸敏\")\n",
    "text(Q,C,G,adj=-0.8,cex=0.75)"
   ]
  },
  {
   "cell_type": "code",
   "execution_count": 13,
   "id": "a2190eab",
   "metadata": {},
   "outputs": [
    {
     "data": {
      "image/png": "[encoded data removed]",
      "text/plain": [
       "Plot with title \"张逸敏\""
      ]
     },
     "metadata": {
      "image/png": {
       "height": 420,
       "width": 420
      }
     },
     "output_type": "display_data"
    }
   ],
   "source": [
    "plot(Q,P, main=\"张逸敏\")\n",
    "text(Q,P,G,adj=-0.8,cex=0.75)"
   ]
  },
  {
   "cell_type": "code",
   "execution_count": 14,
   "id": "e81fa45c",
   "metadata": {
    "scrolled": true
   },
   "outputs": [
    {
     "data": {
      "image/png": "[encoded data removed]",
      "text/plain": [
       "Plot with title \"张逸敏\""
      ]
     },
     "metadata": {
      "image/png": {
       "height": 420,
       "width": 420
      }
     },
     "output_type": "display_data"
    }
   ],
   "source": [
    "plot(C,P, main=\"张逸敏\")\n",
    "text(C,P,G,adj=-0.8,cex=0.75)"
   ]
  },
  {
   "cell_type": "markdown",
   "id": "eabab02d",
   "metadata": {},
   "source": [
    "### 线性判别"
   ]
  },
  {
   "cell_type": "code",
   "execution_count": 15,
   "id": "51b55358",
   "metadata": {},
   "outputs": [
    {
     "data": {
      "text/plain": [
       "Call:\n",
       "lda(G ~ Q + C + P)\n",
       "\n",
       "Prior probabilities of groups:\n",
       "   1    2    3 \n",
       "0.25 0.40 0.35 \n",
       "\n",
       "Group means:\n",
       "         Q        C      P\n",
       "1 8.400000 5.900000 48.200\n",
       "2 7.712500 7.250000 69.875\n",
       "3 5.957143 3.714286 34.000\n",
       "\n",
       "Coefficients of linear discriminants:\n",
       "          LD1         LD2\n",
       "Q -0.81173396  0.88406311\n",
       "C -0.63090549  0.20134565\n",
       "P  0.01579385 -0.08775636\n",
       "\n",
       "Proportion of trace:\n",
       "   LD1    LD2 \n",
       "0.7403 0.2597 "
      ]
     },
     "metadata": {},
     "output_type": "display_data"
    }
   ],
   "source": [
    "ld = lda(G~Q+C+P)\n",
    "ld"
   ]
  },
  {
   "cell_type": "code",
   "execution_count": 16,
   "id": "e34a8adb",
   "metadata": {},
   "outputs": [
    {
     "data": {
      "text/html": [
       "<table class=\"dataframe\">\n",
       "<caption>A matrix: 20 × 4 of type dbl</caption>\n",
       "<thead>\n",
       "\t<tr><th></th><th scope=col>G</th><th scope=col>LD1</th><th scope=col>LD2</th><th scope=col>newG</th></tr>\n",
       "</thead>\n",
       "<tbody>\n",
       "\t<tr><th scope=row>1</th><td>1</td><td>-0.1409984</td><td> 2.582951755</td><td>1</td></tr>\n",
       "\t<tr><th scope=row>2</th><td>1</td><td>-2.3918356</td><td> 0.825366275</td><td>1</td></tr>\n",
       "\t<tr><th scope=row>3</th><td>1</td><td>-0.3704452</td><td> 1.641514840</td><td>1</td></tr>\n",
       "\t<tr><th scope=row>4</th><td>1</td><td>-0.9714835</td><td> 0.548448277</td><td>1</td></tr>\n",
       "\t<tr><th scope=row>5</th><td>1</td><td>-1.7134891</td><td> 1.246681993</td><td>1</td></tr>\n",
       "\t<tr><th scope=row>6</th><td>2</td><td>-2.4593598</td><td> 1.361571174</td><td>1</td></tr>\n",
       "\t<tr><th scope=row>7</th><td>2</td><td> 0.3789617</td><td>-2.200431689</td><td>2</td></tr>\n",
       "\t<tr><th scope=row>8</th><td>2</td><td>-2.5581070</td><td>-0.467096091</td><td>2</td></tr>\n",
       "\t<tr><th scope=row>9</th><td>2</td><td>-1.1900285</td><td>-0.412972027</td><td>2</td></tr>\n",
       "\t<tr><th scope=row>10</th><td>2</td><td>-1.7638874</td><td>-2.382302324</td><td>2</td></tr>\n",
       "\t<tr><th scope=row>11</th><td>2</td><td>-1.1869165</td><td>-2.485574940</td><td>2</td></tr>\n",
       "\t<tr><th scope=row>12</th><td>2</td><td>-0.1123680</td><td>-0.598883922</td><td>2</td></tr>\n",
       "\t<tr><th scope=row>13</th><td>2</td><td> 0.3399132</td><td> 0.232863397</td><td>3</td></tr>\n",
       "\t<tr><th scope=row>14</th><td>3</td><td> 2.8456561</td><td> 0.936722573</td><td>3</td></tr>\n",
       "\t<tr><th scope=row>15</th><td>3</td><td> 1.5592346</td><td> 0.025668216</td><td>3</td></tr>\n",
       "\t<tr><th scope=row>16</th><td>3</td><td> 0.7457802</td><td>-0.209168159</td><td>3</td></tr>\n",
       "\t<tr><th scope=row>17</th><td>3</td><td> 3.0062824</td><td>-0.358989534</td><td>3</td></tr>\n",
       "\t<tr><th scope=row>18</th><td>3</td><td> 2.2511708</td><td> 0.008852067</td><td>3</td></tr>\n",
       "\t<tr><th scope=row>19</th><td>3</td><td> 2.2108260</td><td>-0.331206768</td><td>3</td></tr>\n",
       "\t<tr><th scope=row>20</th><td>3</td><td> 1.5210939</td><td> 0.035984885</td><td>3</td></tr>\n",
       "</tbody>\n",
       "</table>\n"
      ],
      "text/latex": [
       "A matrix: 20 × 4 of type dbl\n",
       "\\begin{tabular}{r|llll}\n",
       "  & G & LD1 & LD2 & newG\\\\\n",
       "\\hline\n",
       "\t1 & 1 & -0.1409984 &  2.582951755 & 1\\\\\n",
       "\t2 & 1 & -2.3918356 &  0.825366275 & 1\\\\\n",
       "\t3 & 1 & -0.3704452 &  1.641514840 & 1\\\\\n",
       "\t4 & 1 & -0.9714835 &  0.548448277 & 1\\\\\n",
       "\t5 & 1 & -1.7134891 &  1.246681993 & 1\\\\\n",
       "\t6 & 2 & -2.4593598 &  1.361571174 & 1\\\\\n",
       "\t7 & 2 &  0.3789617 & -2.200431689 & 2\\\\\n",
       "\t8 & 2 & -2.5581070 & -0.467096091 & 2\\\\\n",
       "\t9 & 2 & -1.1900285 & -0.412972027 & 2\\\\\n",
       "\t10 & 2 & -1.7638874 & -2.382302324 & 2\\\\\n",
       "\t11 & 2 & -1.1869165 & -2.485574940 & 2\\\\\n",
       "\t12 & 2 & -0.1123680 & -0.598883922 & 2\\\\\n",
       "\t13 & 2 &  0.3399132 &  0.232863397 & 3\\\\\n",
       "\t14 & 3 &  2.8456561 &  0.936722573 & 3\\\\\n",
       "\t15 & 3 &  1.5592346 &  0.025668216 & 3\\\\\n",
       "\t16 & 3 &  0.7457802 & -0.209168159 & 3\\\\\n",
       "\t17 & 3 &  3.0062824 & -0.358989534 & 3\\\\\n",
       "\t18 & 3 &  2.2511708 &  0.008852067 & 3\\\\\n",
       "\t19 & 3 &  2.2108260 & -0.331206768 & 3\\\\\n",
       "\t20 & 3 &  1.5210939 &  0.035984885 & 3\\\\\n",
       "\\end{tabular}\n"
      ],
      "text/markdown": [
       "\n",
       "A matrix: 20 × 4 of type dbl\n",
       "\n",
       "| <!--/--> | G | LD1 | LD2 | newG |\n",
       "|---|---|---|---|---|\n",
       "| 1 | 1 | -0.1409984 |  2.582951755 | 1 |\n",
       "| 2 | 1 | -2.3918356 |  0.825366275 | 1 |\n",
       "| 3 | 1 | -0.3704452 |  1.641514840 | 1 |\n",
       "| 4 | 1 | -0.9714835 |  0.548448277 | 1 |\n",
       "| 5 | 1 | -1.7134891 |  1.246681993 | 1 |\n",
       "| 6 | 2 | -2.4593598 |  1.361571174 | 1 |\n",
       "| 7 | 2 |  0.3789617 | -2.200431689 | 2 |\n",
       "| 8 | 2 | -2.5581070 | -0.467096091 | 2 |\n",
       "| 9 | 2 | -1.1900285 | -0.412972027 | 2 |\n",
       "| 10 | 2 | -1.7638874 | -2.382302324 | 2 |\n",
       "| 11 | 2 | -1.1869165 | -2.485574940 | 2 |\n",
       "| 12 | 2 | -0.1123680 | -0.598883922 | 2 |\n",
       "| 13 | 2 |  0.3399132 |  0.232863397 | 3 |\n",
       "| 14 | 3 |  2.8456561 |  0.936722573 | 3 |\n",
       "| 15 | 3 |  1.5592346 |  0.025668216 | 3 |\n",
       "| 16 | 3 |  0.7457802 | -0.209168159 | 3 |\n",
       "| 17 | 3 |  3.0062824 | -0.358989534 | 3 |\n",
       "| 18 | 3 |  2.2511708 |  0.008852067 | 3 |\n",
       "| 19 | 3 |  2.2108260 | -0.331206768 | 3 |\n",
       "| 20 | 3 |  1.5210939 |  0.035984885 | 3 |\n",
       "\n"
      ],
      "text/plain": [
       "   G LD1        LD2          newG\n",
       "1  1 -0.1409984  2.582951755 1   \n",
       "2  1 -2.3918356  0.825366275 1   \n",
       "3  1 -0.3704452  1.641514840 1   \n",
       "4  1 -0.9714835  0.548448277 1   \n",
       "5  1 -1.7134891  1.246681993 1   \n",
       "6  2 -2.4593598  1.361571174 1   \n",
       "7  2  0.3789617 -2.200431689 2   \n",
       "8  2 -2.5581070 -0.467096091 2   \n",
       "9  2 -1.1900285 -0.412972027 2   \n",
       "10 2 -1.7638874 -2.382302324 2   \n",
       "11 2 -1.1869165 -2.485574940 2   \n",
       "12 2 -0.1123680 -0.598883922 2   \n",
       "13 2  0.3399132  0.232863397 3   \n",
       "14 3  2.8456561  0.936722573 3   \n",
       "15 3  1.5592346  0.025668216 3   \n",
       "16 3  0.7457802 -0.209168159 3   \n",
       "17 3  3.0062824 -0.358989534 3   \n",
       "18 3  2.2511708  0.008852067 3   \n",
       "19 3  2.2108260 -0.331206768 3   \n",
       "20 3  1.5210939  0.035984885 3   "
      ]
     },
     "metadata": {},
     "output_type": "display_data"
    }
   ],
   "source": [
    "Z = predict(ld)\n",
    "newG = Z$class\n",
    "cbind(G,Z$x,newG)"
   ]
  },
  {
   "cell_type": "code",
   "execution_count": 17,
   "id": "f4c6e241",
   "metadata": {},
   "outputs": [
    {
     "data": {
      "text/plain": [
       "   newG\n",
       "G   1 2 3\n",
       "  1 5 0 0\n",
       "  2 1 6 1\n",
       "  3 0 0 7"
      ]
     },
     "metadata": {},
     "output_type": "display_data"
    }
   ],
   "source": [
    "(tab=table(G,newG))"
   ]
  },
  {
   "cell_type": "code",
   "execution_count": 18,
   "id": "41d7936c",
   "metadata": {},
   "outputs": [
    {
     "data": {
      "text/html": [
       "<style>\n",
       ".dl-inline {width: auto; margin:0; padding: 0}\n",
       ".dl-inline>dt, .dl-inline>dd {float: none; width: auto; display: inline-block}\n",
       ".dl-inline>dt::after {content: \":\\0020\"; padding-right: .5ex}\n",
       ".dl-inline>dt:not(:first-of-type) {padding-left: .5ex}\n",
       "</style><dl class=dl-inline><dt>1</dt><dd>1</dd><dt>2</dt><dd>0.75</dd><dt>3</dt><dd>1</dd></dl>\n"
      ],
      "text/latex": [
       "\\begin{description*}\n",
       "\\item[1] 1\n",
       "\\item[2] 0.75\n",
       "\\item[3] 1\n",
       "\\end{description*}\n"
      ],
      "text/markdown": [
       "1\n",
       ":   12\n",
       ":   0.753\n",
       ":   1\n",
       "\n"
      ],
      "text/plain": [
       "   1    2    3 \n",
       "1.00 0.75 1.00 "
      ]
     },
     "metadata": {},
     "output_type": "display_data"
    }
   ],
   "source": [
    "diag(prop.table(tab,1))"
   ]
  },
  {
   "cell_type": "code",
   "execution_count": 19,
   "id": "df8b397e",
   "metadata": {},
   "outputs": [
    {
     "data": {
      "text/html": [
       "0.9"
      ],
      "text/latex": [
       "0.9"
      ],
      "text/markdown": [
       "0.9"
      ],
      "text/plain": [
       "[1] 0.9"
      ]
     },
     "metadata": {},
     "output_type": "display_data"
    }
   ],
   "source": [
    "sum(diag(prop.table(tab)))"
   ]
  },
  {
   "cell_type": "code",
   "execution_count": 20,
   "id": "df0cfa29",
   "metadata": {},
   "outputs": [
    {
     "data": {
      "image/png": "[encoded data removed]",
      "text/plain": [
       "Plot with title \"张逸敏\""
      ]
     },
     "metadata": {
      "image/png": {
       "height": 420,
       "width": 420
      }
     },
     "output_type": "display_data"
    }
   ],
   "source": [
    "plot(Z$x, main=\"张逸敏\")\n",
    "text(Z$x[,1],Z$x[,2],G,adj=-0.8,cex=0.75)"
   ]
  },
  {
   "cell_type": "code",
   "execution_count": 21,
   "id": "9d6b84b9",
   "metadata": {},
   "outputs": [
    {
     "data": {
      "text/html": [
       "<dl>\n",
       "\t<dt>$class</dt>\n",
       "\t\t<dd>2\n",
       "<details>\n",
       "\t<summary style=display:list-item;cursor:pointer>\n",
       "\t\t<strong>Levels</strong>:\n",
       "\t</summary>\n",
       "\t<style>\n",
       "\t.list-inline {list-style: none; margin:0; padding: 0}\n",
       "\t.list-inline>li {display: inline-block}\n",
       "\t.list-inline>li:not(:last-child)::after {content: \"\\00b7\"; padding: 0 .5ex}\n",
       "\t</style>\n",
       "\t<ol class=list-inline><li>'1'</li><li>'2'</li><li>'3'</li></ol>\n",
       "</details></dd>\n",
       "\t<dt>$posterior</dt>\n",
       "\t\t<dd><table class=\"dataframe\">\n",
       "<caption>A matrix: 1 × 3 of type dbl</caption>\n",
       "<thead>\n",
       "\t<tr><th></th><th scope=col>1</th><th scope=col>2</th><th scope=col>3</th></tr>\n",
       "</thead>\n",
       "<tbody>\n",
       "\t<tr><th scope=row>1</th><td>0.2114514</td><td>0.786773</td><td>0.001775594</td></tr>\n",
       "</tbody>\n",
       "</table>\n",
       "</dd>\n",
       "\t<dt>$x</dt>\n",
       "\t\t<dd><table class=\"dataframe\">\n",
       "<caption>A matrix: 1 × 2 of type dbl</caption>\n",
       "<thead>\n",
       "\t<tr><th></th><th scope=col>LD1</th><th scope=col>LD2</th></tr>\n",
       "</thead>\n",
       "<tbody>\n",
       "\t<tr><th scope=row>1</th><td>-1.537069</td><td>-0.1367865</td></tr>\n",
       "</tbody>\n",
       "</table>\n",
       "</dd>\n",
       "</dl>\n"
      ],
      "text/latex": [
       "\\begin{description}\n",
       "\\item[\\$class] 2\n",
       "\\emph{Levels}: \\begin{enumerate*}\n",
       "\\item '1'\n",
       "\\item '2'\n",
       "\\item '3'\n",
       "\\end{enumerate*}\n",
       "\n",
       "\\item[\\$posterior] A matrix: 1 × 3 of type dbl\n",
       "\\begin{tabular}{r|lll}\n",
       "  & 1 & 2 & 3\\\\\n",
       "\\hline\n",
       "\t1 & 0.2114514 & 0.786773 & 0.001775594\\\\\n",
       "\\end{tabular}\n",
       "\n",
       "\\item[\\$x] A matrix: 1 × 2 of type dbl\n",
       "\\begin{tabular}{r|ll}\n",
       "  & LD1 & LD2\\\\\n",
       "\\hline\n",
       "\t1 & -1.537069 & -0.1367865\\\\\n",
       "\\end{tabular}\n",
       "\n",
       "\\end{description}\n"
      ],
      "text/markdown": [
       "$class\n",
       ":   2\n",
       "**Levels**: 1. '1'\n",
       "2. '2'\n",
       "3. '3'\n",
       "\n",
       "\n",
       "\n",
       "$posterior\n",
       ":   \n",
       "A matrix: 1 × 3 of type dbl\n",
       "\n",
       "| <!--/--> | 1 | 2 | 3 |\n",
       "|---|---|---|---|\n",
       "| 1 | 0.2114514 | 0.786773 | 0.001775594 |\n",
       "\n",
       "\n",
       "$x\n",
       ":   \n",
       "A matrix: 1 × 2 of type dbl\n",
       "\n",
       "| <!--/--> | LD1 | LD2 |\n",
       "|---|---|---|\n",
       "| 1 | -1.537069 | -0.1367865 |\n",
       "\n",
       "\n",
       "\n",
       "\n"
      ],
      "text/plain": [
       "$class\n",
       "[1] 2\n",
       "Levels: 1 2 3\n",
       "\n",
       "$posterior\n",
       "          1        2           3\n",
       "1 0.2114514 0.786773 0.001775594\n",
       "\n",
       "$x\n",
       "        LD1        LD2\n",
       "1 -1.537069 -0.1367865\n"
      ]
     },
     "metadata": {},
     "output_type": "display_data"
    }
   ],
   "source": [
    "predict(ld, data.frame(Q=8,C=7.5,P=65))"
   ]
  },
  {
   "cell_type": "markdown",
   "id": "910ddc0d",
   "metadata": {},
   "source": [
    "### 二次判别"
   ]
  },
  {
   "cell_type": "code",
   "execution_count": 22,
   "id": "da2df19c",
   "metadata": {},
   "outputs": [
    {
     "data": {
      "text/plain": [
       "Call:\n",
       "qda(G ~ Q + C + P)\n",
       "\n",
       "Prior probabilities of groups:\n",
       "   1    2    3 \n",
       "0.25 0.40 0.35 \n",
       "\n",
       "Group means:\n",
       "         Q        C      P\n",
       "1 8.400000 5.900000 48.200\n",
       "2 7.712500 7.250000 69.875\n",
       "3 5.957143 3.714286 34.000"
      ]
     },
     "metadata": {},
     "output_type": "display_data"
    }
   ],
   "source": [
    "(qd=qda(G~Q+C+P))"
   ]
  },
  {
   "cell_type": "code",
   "execution_count": 23,
   "id": "aa787bea",
   "metadata": {},
   "outputs": [
    {
     "data": {
      "text/html": [
       "<table class=\"dataframe\">\n",
       "<caption>A matrix: 20 × 2 of type int</caption>\n",
       "<thead>\n",
       "\t<tr><th scope=col>G</th><th scope=col>newG</th></tr>\n",
       "</thead>\n",
       "<tbody>\n",
       "\t<tr><td>1</td><td>1</td></tr>\n",
       "\t<tr><td>1</td><td>1</td></tr>\n",
       "\t<tr><td>1</td><td>1</td></tr>\n",
       "\t<tr><td>1</td><td>1</td></tr>\n",
       "\t<tr><td>1</td><td>1</td></tr>\n",
       "\t<tr><td>2</td><td>2</td></tr>\n",
       "\t<tr><td>2</td><td>2</td></tr>\n",
       "\t<tr><td>2</td><td>2</td></tr>\n",
       "\t<tr><td>2</td><td>2</td></tr>\n",
       "\t<tr><td>2</td><td>2</td></tr>\n",
       "\t<tr><td>2</td><td>2</td></tr>\n",
       "\t<tr><td>2</td><td>2</td></tr>\n",
       "\t<tr><td>2</td><td>3</td></tr>\n",
       "\t<tr><td>3</td><td>3</td></tr>\n",
       "\t<tr><td>3</td><td>3</td></tr>\n",
       "\t<tr><td>3</td><td>3</td></tr>\n",
       "\t<tr><td>3</td><td>3</td></tr>\n",
       "\t<tr><td>3</td><td>3</td></tr>\n",
       "\t<tr><td>3</td><td>3</td></tr>\n",
       "\t<tr><td>3</td><td>3</td></tr>\n",
       "</tbody>\n",
       "</table>\n"
      ],
      "text/latex": [
       "A matrix: 20 × 2 of type int\n",
       "\\begin{tabular}{ll}\n",
       " G & newG\\\\\n",
       "\\hline\n",
       "\t 1 & 1\\\\\n",
       "\t 1 & 1\\\\\n",
       "\t 1 & 1\\\\\n",
       "\t 1 & 1\\\\\n",
       "\t 1 & 1\\\\\n",
       "\t 2 & 2\\\\\n",
       "\t 2 & 2\\\\\n",
       "\t 2 & 2\\\\\n",
       "\t 2 & 2\\\\\n",
       "\t 2 & 2\\\\\n",
       "\t 2 & 2\\\\\n",
       "\t 2 & 2\\\\\n",
       "\t 2 & 3\\\\\n",
       "\t 3 & 3\\\\\n",
       "\t 3 & 3\\\\\n",
       "\t 3 & 3\\\\\n",
       "\t 3 & 3\\\\\n",
       "\t 3 & 3\\\\\n",
       "\t 3 & 3\\\\\n",
       "\t 3 & 3\\\\\n",
       "\\end{tabular}\n"
      ],
      "text/markdown": [
       "\n",
       "A matrix: 20 × 2 of type int\n",
       "\n",
       "| G | newG |\n",
       "|---|---|\n",
       "| 1 | 1 |\n",
       "| 1 | 1 |\n",
       "| 1 | 1 |\n",
       "| 1 | 1 |\n",
       "| 1 | 1 |\n",
       "| 2 | 2 |\n",
       "| 2 | 2 |\n",
       "| 2 | 2 |\n",
       "| 2 | 2 |\n",
       "| 2 | 2 |\n",
       "| 2 | 2 |\n",
       "| 2 | 2 |\n",
       "| 2 | 3 |\n",
       "| 3 | 3 |\n",
       "| 3 | 3 |\n",
       "| 3 | 3 |\n",
       "| 3 | 3 |\n",
       "| 3 | 3 |\n",
       "| 3 | 3 |\n",
       "| 3 | 3 |\n",
       "\n"
      ],
      "text/plain": [
       "      G newG\n",
       " [1,] 1 1   \n",
       " [2,] 1 1   \n",
       " [3,] 1 1   \n",
       " [4,] 1 1   \n",
       " [5,] 1 1   \n",
       " [6,] 2 2   \n",
       " [7,] 2 2   \n",
       " [8,] 2 2   \n",
       " [9,] 2 2   \n",
       "[10,] 2 2   \n",
       "[11,] 2 2   \n",
       "[12,] 2 2   \n",
       "[13,] 2 3   \n",
       "[14,] 3 3   \n",
       "[15,] 3 3   \n",
       "[16,] 3 3   \n",
       "[17,] 3 3   \n",
       "[18,] 3 3   \n",
       "[19,] 3 3   \n",
       "[20,] 3 3   "
      ]
     },
     "metadata": {},
     "output_type": "display_data"
    }
   ],
   "source": [
    "Z=predict(qd)\n",
    "newG = Z$class\n",
    "cbind(G, newG)"
   ]
  },
  {
   "cell_type": "code",
   "execution_count": 24,
   "id": "559691e0",
   "metadata": {},
   "outputs": [
    {
     "data": {
      "text/plain": [
       "   newG\n",
       "G   1 2 3\n",
       "  1 5 0 0\n",
       "  2 0 7 1\n",
       "  3 0 0 7"
      ]
     },
     "metadata": {},
     "output_type": "display_data"
    }
   ],
   "source": [
    "(tab=table(G,newG))"
   ]
  },
  {
   "cell_type": "code",
   "execution_count": 25,
   "id": "42661eba",
   "metadata": {},
   "outputs": [
    {
     "data": {
      "text/html": [
       "0.95"
      ],
      "text/latex": [
       "0.95"
      ],
      "text/markdown": [
       "0.95"
      ],
      "text/plain": [
       "[1] 0.95"
      ]
     },
     "metadata": {},
     "output_type": "display_data"
    }
   ],
   "source": [
    "sum(diag(prop.table(tab)))"
   ]
  },
  {
   "cell_type": "code",
   "execution_count": 26,
   "id": "8337ebba",
   "metadata": {},
   "outputs": [
    {
     "data": {
      "text/html": [
       "<dl>\n",
       "\t<dt>$class</dt>\n",
       "\t\t<dd>2\n",
       "<details>\n",
       "\t<summary style=display:list-item;cursor:pointer>\n",
       "\t\t<strong>Levels</strong>:\n",
       "\t</summary>\n",
       "\t<style>\n",
       "\t.list-inline {list-style: none; margin:0; padding: 0}\n",
       "\t.list-inline>li {display: inline-block}\n",
       "\t.list-inline>li:not(:last-child)::after {content: \"\\00b7\"; padding: 0 .5ex}\n",
       "\t</style>\n",
       "\t<ol class=list-inline><li>'1'</li><li>'2'</li><li>'3'</li></ol>\n",
       "</details></dd>\n",
       "\t<dt>$posterior</dt>\n",
       "\t\t<dd><table class=\"dataframe\">\n",
       "<caption>A matrix: 1 × 3 of type dbl</caption>\n",
       "<thead>\n",
       "\t<tr><th></th><th scope=col>1</th><th scope=col>2</th><th scope=col>3</th></tr>\n",
       "</thead>\n",
       "<tbody>\n",
       "\t<tr><th scope=row>1</th><td>0.2114514</td><td>0.786773</td><td>0.001775594</td></tr>\n",
       "</tbody>\n",
       "</table>\n",
       "</dd>\n",
       "\t<dt>$x</dt>\n",
       "\t\t<dd><table class=\"dataframe\">\n",
       "<caption>A matrix: 1 × 2 of type dbl</caption>\n",
       "<thead>\n",
       "\t<tr><th></th><th scope=col>LD1</th><th scope=col>LD2</th></tr>\n",
       "</thead>\n",
       "<tbody>\n",
       "\t<tr><th scope=row>1</th><td>-1.537069</td><td>-0.1367865</td></tr>\n",
       "</tbody>\n",
       "</table>\n",
       "</dd>\n",
       "</dl>\n"
      ],
      "text/latex": [
       "\\begin{description}\n",
       "\\item[\\$class] 2\n",
       "\\emph{Levels}: \\begin{enumerate*}\n",
       "\\item '1'\n",
       "\\item '2'\n",
       "\\item '3'\n",
       "\\end{enumerate*}\n",
       "\n",
       "\\item[\\$posterior] A matrix: 1 × 3 of type dbl\n",
       "\\begin{tabular}{r|lll}\n",
       "  & 1 & 2 & 3\\\\\n",
       "\\hline\n",
       "\t1 & 0.2114514 & 0.786773 & 0.001775594\\\\\n",
       "\\end{tabular}\n",
       "\n",
       "\\item[\\$x] A matrix: 1 × 2 of type dbl\n",
       "\\begin{tabular}{r|ll}\n",
       "  & LD1 & LD2\\\\\n",
       "\\hline\n",
       "\t1 & -1.537069 & -0.1367865\\\\\n",
       "\\end{tabular}\n",
       "\n",
       "\\end{description}\n"
      ],
      "text/markdown": [
       "$class\n",
       ":   2\n",
       "**Levels**: 1. '1'\n",
       "2. '2'\n",
       "3. '3'\n",
       "\n",
       "\n",
       "\n",
       "$posterior\n",
       ":   \n",
       "A matrix: 1 × 3 of type dbl\n",
       "\n",
       "| <!--/--> | 1 | 2 | 3 |\n",
       "|---|---|---|---|\n",
       "| 1 | 0.2114514 | 0.786773 | 0.001775594 |\n",
       "\n",
       "\n",
       "$x\n",
       ":   \n",
       "A matrix: 1 × 2 of type dbl\n",
       "\n",
       "| <!--/--> | LD1 | LD2 |\n",
       "|---|---|---|\n",
       "| 1 | -1.537069 | -0.1367865 |\n",
       "\n",
       "\n",
       "\n",
       "\n"
      ],
      "text/plain": [
       "$class\n",
       "[1] 2\n",
       "Levels: 1 2 3\n",
       "\n",
       "$posterior\n",
       "          1        2           3\n",
       "1 0.2114514 0.786773 0.001775594\n",
       "\n",
       "$x\n",
       "        LD1        LD2\n",
       "1 -1.537069 -0.1367865\n"
      ]
     },
     "metadata": {},
     "output_type": "display_data"
    }
   ],
   "source": [
    "predict(ld, data.frame(Q=8,C=7.5,P=65))"
   ]
  },
  {
   "cell_type": "markdown",
   "id": "89a42acc",
   "metadata": {},
   "source": [
    "## 案例分析：企业财务状况的判别分析"
   ]
  },
  {
   "cell_type": "code",
   "execution_count": 27,
   "id": "dc7ac105",
   "metadata": {},
   "outputs": [
    {
     "data": {
      "text/html": [
       "<table class=\"dataframe\">\n",
       "<caption>A data.frame: 46 × 5</caption>\n",
       "<thead>\n",
       "\t<tr><th scope=col>G</th><th scope=col>CF_TD</th><th scope=col>NI_TA</th><th scope=col>CA_CL</th><th scope=col>CA_NS</th></tr>\n",
       "\t<tr><th scope=col>&lt;int&gt;</th><th scope=col>&lt;dbl&gt;</th><th scope=col>&lt;dbl&gt;</th><th scope=col>&lt;dbl&gt;</th><th scope=col>&lt;dbl&gt;</th></tr>\n",
       "</thead>\n",
       "<tbody>\n",
       "\t<tr><td>1</td><td> 0.51</td><td> 0.10</td><td>2.49</td><td>0.54</td></tr>\n",
       "\t<tr><td>1</td><td> 0.08</td><td> 0.02</td><td>2.01</td><td>0.53</td></tr>\n",
       "\t<tr><td>1</td><td> 0.38</td><td> 0.11</td><td>3.27</td><td>0.35</td></tr>\n",
       "\t<tr><td>1</td><td> 0.19</td><td> 0.05</td><td>2.25</td><td>0.33</td></tr>\n",
       "\t<tr><td>1</td><td> 0.32</td><td> 0.07</td><td>4.24</td><td>0.63</td></tr>\n",
       "\t<tr><td>1</td><td> 0.31</td><td> 0.05</td><td>4.45</td><td>0.69</td></tr>\n",
       "\t<tr><td>1</td><td> 0.12</td><td> 0.05</td><td>2.52</td><td>0.69</td></tr>\n",
       "\t<tr><td>1</td><td>-0.02</td><td> 0.02</td><td>2.05</td><td>0.35</td></tr>\n",
       "\t<tr><td>1</td><td> 0.22</td><td> 0.08</td><td>2.35</td><td>0.40</td></tr>\n",
       "\t<tr><td>1</td><td> 0.17</td><td> 0.07</td><td>1.80</td><td>0.52</td></tr>\n",
       "\t<tr><td>1</td><td> 0.15</td><td> 0.05</td><td>2.17</td><td>0.55</td></tr>\n",
       "\t<tr><td>1</td><td>-0.10</td><td>-0.01</td><td>2.50</td><td>0.58</td></tr>\n",
       "\t<tr><td>1</td><td> 0.14</td><td>-0.03</td><td>0.46</td><td>0.26</td></tr>\n",
       "\t<tr><td>1</td><td> 0.14</td><td> 0.07</td><td>2.61</td><td>0.52</td></tr>\n",
       "\t<tr><td>1</td><td> 0.15</td><td> 0.06</td><td>2.23</td><td>0.56</td></tr>\n",
       "\t<tr><td>1</td><td> 0.16</td><td> 0.05</td><td>2.31</td><td>0.20</td></tr>\n",
       "\t<tr><td>1</td><td> 0.29</td><td> 0.06</td><td>1.84</td><td>0.38</td></tr>\n",
       "\t<tr><td>1</td><td> 0.54</td><td> 0.11</td><td>2.33</td><td>0.48</td></tr>\n",
       "\t<tr><td>1</td><td>-0.33</td><td>-0.09</td><td>3.01</td><td>0.47</td></tr>\n",
       "\t<tr><td>1</td><td> 0.48</td><td> 0.09</td><td>1.24</td><td>0.18</td></tr>\n",
       "\t<tr><td>1</td><td> 0.56</td><td> 0.11</td><td>4.29</td><td>0.44</td></tr>\n",
       "\t<tr><td>1</td><td> 0.20</td><td> 0.08</td><td>1.99</td><td>0.30</td></tr>\n",
       "\t<tr><td>1</td><td> 0.47</td><td> 0.14</td><td>2.92</td><td>0.45</td></tr>\n",
       "\t<tr><td>1</td><td> 0.17</td><td> 0.04</td><td>2.45</td><td>0.14</td></tr>\n",
       "\t<tr><td>1</td><td> 0.58</td><td> 0.04</td><td>5.06</td><td>0.13</td></tr>\n",
       "\t<tr><td>2</td><td>-0.45</td><td>-0.41</td><td>1.09</td><td>0.45</td></tr>\n",
       "\t<tr><td>2</td><td>-0.56</td><td>-0.31</td><td>1.51</td><td>0.16</td></tr>\n",
       "\t<tr><td>2</td><td> 0.06</td><td> 0.02</td><td>1.01</td><td>0.40</td></tr>\n",
       "\t<tr><td>2</td><td>-0.07</td><td>-0.09</td><td>1.45</td><td>0.26</td></tr>\n",
       "\t<tr><td>2</td><td>-0.10</td><td>-0.09</td><td>1.56</td><td>0.67</td></tr>\n",
       "\t<tr><td>2</td><td>-0.14</td><td>-0.07</td><td>0.71</td><td>0.28</td></tr>\n",
       "\t<tr><td>2</td><td> 0.04</td><td> 0.01</td><td>1.50</td><td>0.71</td></tr>\n",
       "\t<tr><td>2</td><td>-0.06</td><td>-0.06</td><td>1.37</td><td>0.40</td></tr>\n",
       "\t<tr><td>2</td><td> 0.07</td><td>-0.01</td><td>1.37</td><td>0.34</td></tr>\n",
       "\t<tr><td>2</td><td>-0.13</td><td>-0.14</td><td>1.42</td><td>0.43</td></tr>\n",
       "\t<tr><td>2</td><td>-0.23</td><td>-0.30</td><td>0.33</td><td>0.18</td></tr>\n",
       "\t<tr><td>2</td><td> 0.07</td><td> 0.02</td><td>1.31</td><td>0.25</td></tr>\n",
       "\t<tr><td>2</td><td> 0.01</td><td> 0.00</td><td>2.15</td><td>0.70</td></tr>\n",
       "\t<tr><td>2</td><td>-0.28</td><td>-0.23</td><td>1.19</td><td>0.66</td></tr>\n",
       "\t<tr><td>2</td><td> 0.15</td><td> 0.05</td><td>1.88</td><td>0.27</td></tr>\n",
       "\t<tr><td>2</td><td> 0.37</td><td> 0.11</td><td>1.99</td><td>0.38</td></tr>\n",
       "\t<tr><td>2</td><td>-0.08</td><td>-0.08</td><td>1.51</td><td>0.42</td></tr>\n",
       "\t<tr><td>2</td><td> 0.05</td><td> 0.03</td><td>1.68</td><td>0.95</td></tr>\n",
       "\t<tr><td>2</td><td> 0.01</td><td> 0.00</td><td>1.26</td><td>0.60</td></tr>\n",
       "\t<tr><td>2</td><td> 0.12</td><td> 0.11</td><td>1.14</td><td>0.17</td></tr>\n",
       "\t<tr><td>2</td><td>-0.28</td><td>-0.27</td><td>1.27</td><td>0.51</td></tr>\n",
       "</tbody>\n",
       "</table>\n"
      ],
      "text/latex": [
       "A data.frame: 46 × 5\n",
       "\\begin{tabular}{lllll}\n",
       " G & CF\\_TD & NI\\_TA & CA\\_CL & CA\\_NS\\\\\n",
       " <int> & <dbl> & <dbl> & <dbl> & <dbl>\\\\\n",
       "\\hline\n",
       "\t 1 &  0.51 &  0.10 & 2.49 & 0.54\\\\\n",
       "\t 1 &  0.08 &  0.02 & 2.01 & 0.53\\\\\n",
       "\t 1 &  0.38 &  0.11 & 3.27 & 0.35\\\\\n",
       "\t 1 &  0.19 &  0.05 & 2.25 & 0.33\\\\\n",
       "\t 1 &  0.32 &  0.07 & 4.24 & 0.63\\\\\n",
       "\t 1 &  0.31 &  0.05 & 4.45 & 0.69\\\\\n",
       "\t 1 &  0.12 &  0.05 & 2.52 & 0.69\\\\\n",
       "\t 1 & -0.02 &  0.02 & 2.05 & 0.35\\\\\n",
       "\t 1 &  0.22 &  0.08 & 2.35 & 0.40\\\\\n",
       "\t 1 &  0.17 &  0.07 & 1.80 & 0.52\\\\\n",
       "\t 1 &  0.15 &  0.05 & 2.17 & 0.55\\\\\n",
       "\t 1 & -0.10 & -0.01 & 2.50 & 0.58\\\\\n",
       "\t 1 &  0.14 & -0.03 & 0.46 & 0.26\\\\\n",
       "\t 1 &  0.14 &  0.07 & 2.61 & 0.52\\\\\n",
       "\t 1 &  0.15 &  0.06 & 2.23 & 0.56\\\\\n",
       "\t 1 &  0.16 &  0.05 & 2.31 & 0.20\\\\\n",
       "\t 1 &  0.29 &  0.06 & 1.84 & 0.38\\\\\n",
       "\t 1 &  0.54 &  0.11 & 2.33 & 0.48\\\\\n",
       "\t 1 & -0.33 & -0.09 & 3.01 & 0.47\\\\\n",
       "\t 1 &  0.48 &  0.09 & 1.24 & 0.18\\\\\n",
       "\t 1 &  0.56 &  0.11 & 4.29 & 0.44\\\\\n",
       "\t 1 &  0.20 &  0.08 & 1.99 & 0.30\\\\\n",
       "\t 1 &  0.47 &  0.14 & 2.92 & 0.45\\\\\n",
       "\t 1 &  0.17 &  0.04 & 2.45 & 0.14\\\\\n",
       "\t 1 &  0.58 &  0.04 & 5.06 & 0.13\\\\\n",
       "\t 2 & -0.45 & -0.41 & 1.09 & 0.45\\\\\n",
       "\t 2 & -0.56 & -0.31 & 1.51 & 0.16\\\\\n",
       "\t 2 &  0.06 &  0.02 & 1.01 & 0.40\\\\\n",
       "\t 2 & -0.07 & -0.09 & 1.45 & 0.26\\\\\n",
       "\t 2 & -0.10 & -0.09 & 1.56 & 0.67\\\\\n",
       "\t 2 & -0.14 & -0.07 & 0.71 & 0.28\\\\\n",
       "\t 2 &  0.04 &  0.01 & 1.50 & 0.71\\\\\n",
       "\t 2 & -0.06 & -0.06 & 1.37 & 0.40\\\\\n",
       "\t 2 &  0.07 & -0.01 & 1.37 & 0.34\\\\\n",
       "\t 2 & -0.13 & -0.14 & 1.42 & 0.43\\\\\n",
       "\t 2 & -0.23 & -0.30 & 0.33 & 0.18\\\\\n",
       "\t 2 &  0.07 &  0.02 & 1.31 & 0.25\\\\\n",
       "\t 2 &  0.01 &  0.00 & 2.15 & 0.70\\\\\n",
       "\t 2 & -0.28 & -0.23 & 1.19 & 0.66\\\\\n",
       "\t 2 &  0.15 &  0.05 & 1.88 & 0.27\\\\\n",
       "\t 2 &  0.37 &  0.11 & 1.99 & 0.38\\\\\n",
       "\t 2 & -0.08 & -0.08 & 1.51 & 0.42\\\\\n",
       "\t 2 &  0.05 &  0.03 & 1.68 & 0.95\\\\\n",
       "\t 2 &  0.01 &  0.00 & 1.26 & 0.60\\\\\n",
       "\t 2 &  0.12 &  0.11 & 1.14 & 0.17\\\\\n",
       "\t 2 & -0.28 & -0.27 & 1.27 & 0.51\\\\\n",
       "\\end{tabular}\n"
      ],
      "text/markdown": [
       "\n",
       "A data.frame: 46 × 5\n",
       "\n",
       "| G &lt;int&gt; | CF_TD &lt;dbl&gt; | NI_TA &lt;dbl&gt; | CA_CL &lt;dbl&gt; | CA_NS &lt;dbl&gt; |\n",
       "|---|---|---|---|---|\n",
       "| 1 |  0.51 |  0.10 | 2.49 | 0.54 |\n",
       "| 1 |  0.08 |  0.02 | 2.01 | 0.53 |\n",
       "| 1 |  0.38 |  0.11 | 3.27 | 0.35 |\n",
       "| 1 |  0.19 |  0.05 | 2.25 | 0.33 |\n",
       "| 1 |  0.32 |  0.07 | 4.24 | 0.63 |\n",
       "| 1 |  0.31 |  0.05 | 4.45 | 0.69 |\n",
       "| 1 |  0.12 |  0.05 | 2.52 | 0.69 |\n",
       "| 1 | -0.02 |  0.02 | 2.05 | 0.35 |\n",
       "| 1 |  0.22 |  0.08 | 2.35 | 0.40 |\n",
       "| 1 |  0.17 |  0.07 | 1.80 | 0.52 |\n",
       "| 1 |  0.15 |  0.05 | 2.17 | 0.55 |\n",
       "| 1 | -0.10 | -0.01 | 2.50 | 0.58 |\n",
       "| 1 |  0.14 | -0.03 | 0.46 | 0.26 |\n",
       "| 1 |  0.14 |  0.07 | 2.61 | 0.52 |\n",
       "| 1 |  0.15 |  0.06 | 2.23 | 0.56 |\n",
       "| 1 |  0.16 |  0.05 | 2.31 | 0.20 |\n",
       "| 1 |  0.29 |  0.06 | 1.84 | 0.38 |\n",
       "| 1 |  0.54 |  0.11 | 2.33 | 0.48 |\n",
       "| 1 | -0.33 | -0.09 | 3.01 | 0.47 |\n",
       "| 1 |  0.48 |  0.09 | 1.24 | 0.18 |\n",
       "| 1 |  0.56 |  0.11 | 4.29 | 0.44 |\n",
       "| 1 |  0.20 |  0.08 | 1.99 | 0.30 |\n",
       "| 1 |  0.47 |  0.14 | 2.92 | 0.45 |\n",
       "| 1 |  0.17 |  0.04 | 2.45 | 0.14 |\n",
       "| 1 |  0.58 |  0.04 | 5.06 | 0.13 |\n",
       "| 2 | -0.45 | -0.41 | 1.09 | 0.45 |\n",
       "| 2 | -0.56 | -0.31 | 1.51 | 0.16 |\n",
       "| 2 |  0.06 |  0.02 | 1.01 | 0.40 |\n",
       "| 2 | -0.07 | -0.09 | 1.45 | 0.26 |\n",
       "| 2 | -0.10 | -0.09 | 1.56 | 0.67 |\n",
       "| 2 | -0.14 | -0.07 | 0.71 | 0.28 |\n",
       "| 2 |  0.04 |  0.01 | 1.50 | 0.71 |\n",
       "| 2 | -0.06 | -0.06 | 1.37 | 0.40 |\n",
       "| 2 |  0.07 | -0.01 | 1.37 | 0.34 |\n",
       "| 2 | -0.13 | -0.14 | 1.42 | 0.43 |\n",
       "| 2 | -0.23 | -0.30 | 0.33 | 0.18 |\n",
       "| 2 |  0.07 |  0.02 | 1.31 | 0.25 |\n",
       "| 2 |  0.01 |  0.00 | 2.15 | 0.70 |\n",
       "| 2 | -0.28 | -0.23 | 1.19 | 0.66 |\n",
       "| 2 |  0.15 |  0.05 | 1.88 | 0.27 |\n",
       "| 2 |  0.37 |  0.11 | 1.99 | 0.38 |\n",
       "| 2 | -0.08 | -0.08 | 1.51 | 0.42 |\n",
       "| 2 |  0.05 |  0.03 | 1.68 | 0.95 |\n",
       "| 2 |  0.01 |  0.00 | 1.26 | 0.60 |\n",
       "| 2 |  0.12 |  0.11 | 1.14 | 0.17 |\n",
       "| 2 | -0.28 | -0.27 | 1.27 | 0.51 |\n",
       "\n"
      ],
      "text/plain": [
       "   G CF_TD NI_TA CA_CL CA_NS\n",
       "1  1  0.51  0.10 2.49  0.54 \n",
       "2  1  0.08  0.02 2.01  0.53 \n",
       "3  1  0.38  0.11 3.27  0.35 \n",
       "4  1  0.19  0.05 2.25  0.33 \n",
       "5  1  0.32  0.07 4.24  0.63 \n",
       "6  1  0.31  0.05 4.45  0.69 \n",
       "7  1  0.12  0.05 2.52  0.69 \n",
       "8  1 -0.02  0.02 2.05  0.35 \n",
       "9  1  0.22  0.08 2.35  0.40 \n",
       "10 1  0.17  0.07 1.80  0.52 \n",
       "11 1  0.15  0.05 2.17  0.55 \n",
       "12 1 -0.10 -0.01 2.50  0.58 \n",
       "13 1  0.14 -0.03 0.46  0.26 \n",
       "14 1  0.14  0.07 2.61  0.52 \n",
       "15 1  0.15  0.06 2.23  0.56 \n",
       "16 1  0.16  0.05 2.31  0.20 \n",
       "17 1  0.29  0.06 1.84  0.38 \n",
       "18 1  0.54  0.11 2.33  0.48 \n",
       "19 1 -0.33 -0.09 3.01  0.47 \n",
       "20 1  0.48  0.09 1.24  0.18 \n",
       "21 1  0.56  0.11 4.29  0.44 \n",
       "22 1  0.20  0.08 1.99  0.30 \n",
       "23 1  0.47  0.14 2.92  0.45 \n",
       "24 1  0.17  0.04 2.45  0.14 \n",
       "25 1  0.58  0.04 5.06  0.13 \n",
       "26 2 -0.45 -0.41 1.09  0.45 \n",
       "27 2 -0.56 -0.31 1.51  0.16 \n",
       "28 2  0.06  0.02 1.01  0.40 \n",
       "29 2 -0.07 -0.09 1.45  0.26 \n",
       "30 2 -0.10 -0.09 1.56  0.67 \n",
       "31 2 -0.14 -0.07 0.71  0.28 \n",
       "32 2  0.04  0.01 1.50  0.71 \n",
       "33 2 -0.06 -0.06 1.37  0.40 \n",
       "34 2  0.07 -0.01 1.37  0.34 \n",
       "35 2 -0.13 -0.14 1.42  0.43 \n",
       "36 2 -0.23 -0.30 0.33  0.18 \n",
       "37 2  0.07  0.02 1.31  0.25 \n",
       "38 2  0.01  0.00 2.15  0.70 \n",
       "39 2 -0.28 -0.23 1.19  0.66 \n",
       "40 2  0.15  0.05 1.88  0.27 \n",
       "41 2  0.37  0.11 1.99  0.38 \n",
       "42 2 -0.08 -0.08 1.51  0.42 \n",
       "43 2  0.05  0.03 1.68  0.95 \n",
       "44 2  0.01  0.00 1.26  0.60 \n",
       "45 2  0.12  0.11 1.14  0.17 \n",
       "46 2 -0.28 -0.27 1.27  0.51 "
      ]
     },
     "metadata": {},
     "output_type": "display_data"
    },
    {
     "data": {
      "image/png": "[encoded data removed]",
      "text/plain": [
       "plot without title"
      ]
     },
     "metadata": {
      "image/png": {
       "height": 420,
       "width": 420
      }
     },
     "output_type": "display_data"
    }
   ],
   "source": [
    "Case5=read.table(\"./data/6_case.txt\", header = T)\n",
    "Case5\n",
    "plot(Case5[,2:5],gap=0, main=\"张逸敏\") # 四个自变量，两两之间的散点图"
   ]
  },
  {
   "cell_type": "markdown",
   "id": "9926bc3e",
   "metadata": {},
   "source": [
    "### 线性判别"
   ]
  },
  {
   "cell_type": "code",
   "execution_count": 28,
   "id": "b3973539",
   "metadata": {},
   "outputs": [
    {
     "data": {
      "text/plain": [
       "Call:\n",
       "lda(G ~ ., data = Case5)\n",
       "\n",
       "Prior probabilities of groups:\n",
       "        1         2 \n",
       "0.5434783 0.4565217 \n",
       "\n",
       "Group means:\n",
       "        CF_TD       NI_TA    CA_CL    CA_NS\n",
       "1  0.23520000  0.05560000 2.593600 0.426800\n",
       "2 -0.06809524 -0.08142857 1.366667 0.437619\n",
       "\n",
       "Coefficients of linear discriminants:\n",
       "             LD1\n",
       "CF_TD -0.6291667\n",
       "NI_TA -4.4458516\n",
       "CA_CL -0.8892843\n",
       "CA_NS  1.1844801"
      ]
     },
     "metadata": {},
     "output_type": "display_data"
    }
   ],
   "source": [
    "library(MASS)\n",
    "ld=lda(G~.,data=Case5);ld  #线性判别"
   ]
  },
  {
   "cell_type": "code",
   "execution_count": 29,
   "id": "612a6c13",
   "metadata": {},
   "outputs": [
    {
     "data": {
      "image/png": "[encoded data removed]",
      "text/plain": [
       "plot without title"
      ]
     },
     "metadata": {
      "image/png": {
       "height": 420,
       "width": 420
      }
     },
     "output_type": "display_data"
    }
   ],
   "source": [
    "plot(ld)\n",
    "mtext(\"张逸敏\")"
   ]
  },
  {
   "cell_type": "code",
   "execution_count": 30,
   "id": "fdf39d9b",
   "metadata": {},
   "outputs": [
    {
     "data": {
      "text/html": [
       "<table class=\"dataframe\">\n",
       "<caption>A data.frame: 46 × 3</caption>\n",
       "<thead>\n",
       "\t<tr><th></th><th scope=col>Case5.G</th><th scope=col>Zld.class</th><th scope=col>LD1</th></tr>\n",
       "\t<tr><th></th><th scope=col>&lt;int&gt;</th><th scope=col>&lt;fct&gt;</th><th scope=col>&lt;dbl&gt;</th></tr>\n",
       "</thead>\n",
       "<tbody>\n",
       "\t<tr><th scope=row>1</th><td>1</td><td>1</td><td>-1.013</td></tr>\n",
       "\t<tr><th scope=row>2</th><td>1</td><td>1</td><td> 0.028</td></tr>\n",
       "\t<tr><th scope=row>3</th><td>1</td><td>1</td><td>-1.895</td></tr>\n",
       "\t<tr><th scope=row>4</th><td>1</td><td>1</td><td>-0.625</td></tr>\n",
       "\t<tr><th scope=row>5</th><td>1</td><td>1</td><td>-2.210</td></tr>\n",
       "\t<tr><th scope=row>6</th><td>1</td><td>1</td><td>-2.230</td></tr>\n",
       "\t<tr><th scope=row>7</th><td>1</td><td>1</td><td>-0.395</td></tr>\n",
       "\t<tr><th scope=row>8</th><td>1</td><td>1</td><td>-0.158</td></tr>\n",
       "\t<tr><th scope=row>9</th><td>1</td><td>1</td><td>-0.783</td></tr>\n",
       "\t<tr><th scope=row>10</th><td>1</td><td>1</td><td>-0.076</td></tr>\n",
       "\t<tr><th scope=row>11</th><td>1</td><td>1</td><td>-0.268</td></tr>\n",
       "\t<tr><th scope=row>12</th><td>1</td><td>1</td><td>-0.102</td></tr>\n",
       "\t<tr><th scope=row>13</th><td>1</td><td>2</td><td> 1.271</td></tr>\n",
       "\t<tr><th scope=row>14</th><td>1</td><td>1</td><td>-0.778</td></tr>\n",
       "\t<tr><th scope=row>15</th><td>1</td><td>1</td><td>-0.354</td></tr>\n",
       "\t<tr><th scope=row>16</th><td>1</td><td>1</td><td>-0.813</td></tr>\n",
       "\t<tr><th scope=row>17</th><td>1</td><td>1</td><td>-0.308</td></tr>\n",
       "\t<tr><th scope=row>18</th><td>1</td><td>1</td><td>-1.005</td></tr>\n",
       "\t<tr><th scope=row>19</th><td>1</td><td>1</td><td>-0.185</td></tr>\n",
       "\t<tr><th scope=row>20</th><td>1</td><td>1</td><td>-0.265</td></tr>\n",
       "\t<tr><th scope=row>21</th><td>1</td><td>1</td><td>-2.808</td></tr>\n",
       "\t<tr><th scope=row>22</th><td>1</td><td>1</td><td>-0.569</td></tr>\n",
       "\t<tr><th scope=row>23</th><td>1</td><td>1</td><td>-1.655</td></tr>\n",
       "\t<tr><th scope=row>24</th><td>1</td><td>1</td><td>-0.971</td></tr>\n",
       "\t<tr><th scope=row>25</th><td>1</td><td>1</td><td>-3.562</td></tr>\n",
       "\t<tr><th scope=row>26</th><td>2</td><td>2</td><td> 2.997</td></tr>\n",
       "\t<tr><th scope=row>27</th><td>2</td><td>2</td><td> 1.904</td></tr>\n",
       "\t<tr><th scope=row>28</th><td>2</td><td>2</td><td> 0.776</td></tr>\n",
       "\t<tr><th scope=row>29</th><td>2</td><td>2</td><td> 0.790</td></tr>\n",
       "\t<tr><th scope=row>30</th><td>2</td><td>2</td><td> 1.196</td></tr>\n",
       "\t<tr><th scope=row>31</th><td>2</td><td>2</td><td> 1.426</td></tr>\n",
       "\t<tr><th scope=row>32</th><td>2</td><td>2</td><td> 0.764</td></tr>\n",
       "\t<tr><th scope=row>33</th><td>2</td><td>2</td><td> 0.887</td></tr>\n",
       "\t<tr><th scope=row>34</th><td>2</td><td>2</td><td> 0.512</td></tr>\n",
       "\t<tr><th scope=row>35</th><td>2</td><td>2</td><td> 1.278</td></tr>\n",
       "\t<tr><th scope=row>36</th><td>2</td><td>2</td><td> 2.725</td></tr>\n",
       "\t<tr><th scope=row>37</th><td>2</td><td>2</td><td> 0.325</td></tr>\n",
       "\t<tr><th scope=row>38</th><td>2</td><td>2</td><td> 0.238</td></tr>\n",
       "\t<tr><th scope=row>39</th><td>2</td><td>2</td><td> 2.249</td></tr>\n",
       "\t<tr><th scope=row>40</th><td>2</td><td>1</td><td>-0.342</td></tr>\n",
       "\t<tr><th scope=row>41</th><td>2</td><td>1</td><td>-0.715</td></tr>\n",
       "\t<tr><th scope=row>42</th><td>2</td><td>2</td><td> 0.888</td></tr>\n",
       "\t<tr><th scope=row>43</th><td>2</td><td>2</td><td> 0.793</td></tr>\n",
       "\t<tr><th scope=row>44</th><td>2</td><td>2</td><td> 0.911</td></tr>\n",
       "\t<tr><th scope=row>45</th><td>2</td><td>1</td><td>-0.050</td></tr>\n",
       "\t<tr><th scope=row>46</th><td>2</td><td>2</td><td> 2.178</td></tr>\n",
       "</tbody>\n",
       "</table>\n"
      ],
      "text/latex": [
       "A data.frame: 46 × 3\n",
       "\\begin{tabular}{r|lll}\n",
       "  & Case5.G & Zld.class & LD1\\\\\n",
       "  & <int> & <fct> & <dbl>\\\\\n",
       "\\hline\n",
       "\t1 & 1 & 1 & -1.013\\\\\n",
       "\t2 & 1 & 1 &  0.028\\\\\n",
       "\t3 & 1 & 1 & -1.895\\\\\n",
       "\t4 & 1 & 1 & -0.625\\\\\n",
       "\t5 & 1 & 1 & -2.210\\\\\n",
       "\t6 & 1 & 1 & -2.230\\\\\n",
       "\t7 & 1 & 1 & -0.395\\\\\n",
       "\t8 & 1 & 1 & -0.158\\\\\n",
       "\t9 & 1 & 1 & -0.783\\\\\n",
       "\t10 & 1 & 1 & -0.076\\\\\n",
       "\t11 & 1 & 1 & -0.268\\\\\n",
       "\t12 & 1 & 1 & -0.102\\\\\n",
       "\t13 & 1 & 2 &  1.271\\\\\n",
       "\t14 & 1 & 1 & -0.778\\\\\n",
       "\t15 & 1 & 1 & -0.354\\\\\n",
       "\t16 & 1 & 1 & -0.813\\\\\n",
       "\t17 & 1 & 1 & -0.308\\\\\n",
       "\t18 & 1 & 1 & -1.005\\\\\n",
       "\t19 & 1 & 1 & -0.185\\\\\n",
       "\t20 & 1 & 1 & -0.265\\\\\n",
       "\t21 & 1 & 1 & -2.808\\\\\n",
       "\t22 & 1 & 1 & -0.569\\\\\n",
       "\t23 & 1 & 1 & -1.655\\\\\n",
       "\t24 & 1 & 1 & -0.971\\\\\n",
       "\t25 & 1 & 1 & -3.562\\\\\n",
       "\t26 & 2 & 2 &  2.997\\\\\n",
       "\t27 & 2 & 2 &  1.904\\\\\n",
       "\t28 & 2 & 2 &  0.776\\\\\n",
       "\t29 & 2 & 2 &  0.790\\\\\n",
       "\t30 & 2 & 2 &  1.196\\\\\n",
       "\t31 & 2 & 2 &  1.426\\\\\n",
       "\t32 & 2 & 2 &  0.764\\\\\n",
       "\t33 & 2 & 2 &  0.887\\\\\n",
       "\t34 & 2 & 2 &  0.512\\\\\n",
       "\t35 & 2 & 2 &  1.278\\\\\n",
       "\t36 & 2 & 2 &  2.725\\\\\n",
       "\t37 & 2 & 2 &  0.325\\\\\n",
       "\t38 & 2 & 2 &  0.238\\\\\n",
       "\t39 & 2 & 2 &  2.249\\\\\n",
       "\t40 & 2 & 1 & -0.342\\\\\n",
       "\t41 & 2 & 1 & -0.715\\\\\n",
       "\t42 & 2 & 2 &  0.888\\\\\n",
       "\t43 & 2 & 2 &  0.793\\\\\n",
       "\t44 & 2 & 2 &  0.911\\\\\n",
       "\t45 & 2 & 1 & -0.050\\\\\n",
       "\t46 & 2 & 2 &  2.178\\\\\n",
       "\\end{tabular}\n"
      ],
      "text/markdown": [
       "\n",
       "A data.frame: 46 × 3\n",
       "\n",
       "| <!--/--> | Case5.G &lt;int&gt; | Zld.class &lt;fct&gt; | LD1 &lt;dbl&gt; |\n",
       "|---|---|---|---|\n",
       "| 1 | 1 | 1 | -1.013 |\n",
       "| 2 | 1 | 1 |  0.028 |\n",
       "| 3 | 1 | 1 | -1.895 |\n",
       "| 4 | 1 | 1 | -0.625 |\n",
       "| 5 | 1 | 1 | -2.210 |\n",
       "| 6 | 1 | 1 | -2.230 |\n",
       "| 7 | 1 | 1 | -0.395 |\n",
       "| 8 | 1 | 1 | -0.158 |\n",
       "| 9 | 1 | 1 | -0.783 |\n",
       "| 10 | 1 | 1 | -0.076 |\n",
       "| 11 | 1 | 1 | -0.268 |\n",
       "| 12 | 1 | 1 | -0.102 |\n",
       "| 13 | 1 | 2 |  1.271 |\n",
       "| 14 | 1 | 1 | -0.778 |\n",
       "| 15 | 1 | 1 | -0.354 |\n",
       "| 16 | 1 | 1 | -0.813 |\n",
       "| 17 | 1 | 1 | -0.308 |\n",
       "| 18 | 1 | 1 | -1.005 |\n",
       "| 19 | 1 | 1 | -0.185 |\n",
       "| 20 | 1 | 1 | -0.265 |\n",
       "| 21 | 1 | 1 | -2.808 |\n",
       "| 22 | 1 | 1 | -0.569 |\n",
       "| 23 | 1 | 1 | -1.655 |\n",
       "| 24 | 1 | 1 | -0.971 |\n",
       "| 25 | 1 | 1 | -3.562 |\n",
       "| 26 | 2 | 2 |  2.997 |\n",
       "| 27 | 2 | 2 |  1.904 |\n",
       "| 28 | 2 | 2 |  0.776 |\n",
       "| 29 | 2 | 2 |  0.790 |\n",
       "| 30 | 2 | 2 |  1.196 |\n",
       "| 31 | 2 | 2 |  1.426 |\n",
       "| 32 | 2 | 2 |  0.764 |\n",
       "| 33 | 2 | 2 |  0.887 |\n",
       "| 34 | 2 | 2 |  0.512 |\n",
       "| 35 | 2 | 2 |  1.278 |\n",
       "| 36 | 2 | 2 |  2.725 |\n",
       "| 37 | 2 | 2 |  0.325 |\n",
       "| 38 | 2 | 2 |  0.238 |\n",
       "| 39 | 2 | 2 |  2.249 |\n",
       "| 40 | 2 | 1 | -0.342 |\n",
       "| 41 | 2 | 1 | -0.715 |\n",
       "| 42 | 2 | 2 |  0.888 |\n",
       "| 43 | 2 | 2 |  0.793 |\n",
       "| 44 | 2 | 2 |  0.911 |\n",
       "| 45 | 2 | 1 | -0.050 |\n",
       "| 46 | 2 | 2 |  2.178 |\n",
       "\n"
      ],
      "text/plain": [
       "   Case5.G Zld.class LD1   \n",
       "1  1       1         -1.013\n",
       "2  1       1          0.028\n",
       "3  1       1         -1.895\n",
       "4  1       1         -0.625\n",
       "5  1       1         -2.210\n",
       "6  1       1         -2.230\n",
       "7  1       1         -0.395\n",
       "8  1       1         -0.158\n",
       "9  1       1         -0.783\n",
       "10 1       1         -0.076\n",
       "11 1       1         -0.268\n",
       "12 1       1         -0.102\n",
       "13 1       2          1.271\n",
       "14 1       1         -0.778\n",
       "15 1       1         -0.354\n",
       "16 1       1         -0.813\n",
       "17 1       1         -0.308\n",
       "18 1       1         -1.005\n",
       "19 1       1         -0.185\n",
       "20 1       1         -0.265\n",
       "21 1       1         -2.808\n",
       "22 1       1         -0.569\n",
       "23 1       1         -1.655\n",
       "24 1       1         -0.971\n",
       "25 1       1         -3.562\n",
       "26 2       2          2.997\n",
       "27 2       2          1.904\n",
       "28 2       2          0.776\n",
       "29 2       2          0.790\n",
       "30 2       2          1.196\n",
       "31 2       2          1.426\n",
       "32 2       2          0.764\n",
       "33 2       2          0.887\n",
       "34 2       2          0.512\n",
       "35 2       2          1.278\n",
       "36 2       2          2.725\n",
       "37 2       2          0.325\n",
       "38 2       2          0.238\n",
       "39 2       2          2.249\n",
       "40 2       1         -0.342\n",
       "41 2       1         -0.715\n",
       "42 2       2          0.888\n",
       "43 2       2          0.793\n",
       "44 2       2          0.911\n",
       "45 2       1         -0.050\n",
       "46 2       2          2.178"
      ]
     },
     "metadata": {},
     "output_type": "display_data"
    },
    {
     "data": {
      "text/plain": [
       "   \n",
       "     1  2\n",
       "  1 24  1\n",
       "  2  3 18"
      ]
     },
     "metadata": {},
     "output_type": "display_data"
    },
    {
     "data": {
      "text/html": [
       "0.91304347826087"
      ],
      "text/latex": [
       "0.91304347826087"
      ],
      "text/markdown": [
       "0.91304347826087"
      ],
      "text/plain": [
       "[1] 0.9130435"
      ]
     },
     "metadata": {},
     "output_type": "display_data"
    },
    {
     "data": {
      "text/html": [
       "<table class=\"dataframe\">\n",
       "<caption>A table: 3 × 3 of type dbl</caption>\n",
       "<thead>\n",
       "\t<tr><th></th><th scope=col>1</th><th scope=col>2</th><th scope=col>Sum</th></tr>\n",
       "</thead>\n",
       "<tbody>\n",
       "\t<tr><th scope=row>1</th><td>24</td><td> 1</td><td>25</td></tr>\n",
       "\t<tr><th scope=row>2</th><td> 3</td><td>18</td><td>21</td></tr>\n",
       "\t<tr><th scope=row>Sum</th><td>27</td><td>19</td><td>46</td></tr>\n",
       "</tbody>\n",
       "</table>\n"
      ],
      "text/latex": [
       "A table: 3 × 3 of type dbl\n",
       "\\begin{tabular}{r|lll}\n",
       "  & 1 & 2 & Sum\\\\\n",
       "\\hline\n",
       "\t1 & 24 &  1 & 25\\\\\n",
       "\t2 &  3 & 18 & 21\\\\\n",
       "\tSum & 27 & 19 & 46\\\\\n",
       "\\end{tabular}\n"
      ],
      "text/markdown": [
       "\n",
       "A table: 3 × 3 of type dbl\n",
       "\n",
       "| <!--/--> | 1 | 2 | Sum |\n",
       "|---|---|---|---|\n",
       "| 1 | 24 |  1 | 25 |\n",
       "| 2 |  3 | 18 | 21 |\n",
       "| Sum | 27 | 19 | 46 |\n",
       "\n"
      ],
      "text/plain": [
       "     \n",
       "      1  2  Sum\n",
       "  1   24  1 25 \n",
       "  2    3 18 21 \n",
       "  Sum 27 19 46 "
      ]
     },
     "metadata": {},
     "output_type": "display_data"
    }
   ],
   "source": [
    "Zld=predict(ld)\n",
    "data.frame(Case5$G,Zld$class,round(Zld$x,3))\n",
    "tab1=table(Case5$G,Zld$class);tab1\n",
    "sum(diag(tab1))/sum(tab1)\n",
    "addmargins(tab1)"
   ]
  },
  {
   "cell_type": "markdown",
   "id": "dd4d2747",
   "metadata": {},
   "source": [
    "线性判别符合率：$91.3\\%$"
   ]
  },
  {
   "cell_type": "markdown",
   "id": "934ce009",
   "metadata": {},
   "source": [
    "### 二次判别"
   ]
  },
  {
   "cell_type": "code",
   "execution_count": 31,
   "id": "d7d3db39",
   "metadata": {},
   "outputs": [
    {
     "data": {
      "text/plain": [
       "Call:\n",
       "qda(G ~ ., data = Case5)\n",
       "\n",
       "Prior probabilities of groups:\n",
       "        1         2 \n",
       "0.5434783 0.4565217 \n",
       "\n",
       "Group means:\n",
       "        CF_TD       NI_TA    CA_CL    CA_NS\n",
       "1  0.23520000  0.05560000 2.593600 0.426800\n",
       "2 -0.06809524 -0.08142857 1.366667 0.437619"
      ]
     },
     "metadata": {},
     "output_type": "display_data"
    },
    {
     "data": {
      "text/plain": [
       "   \n",
       "     1  2\n",
       "  1 24  1\n",
       "  2  2 19"
      ]
     },
     "metadata": {},
     "output_type": "display_data"
    },
    {
     "data": {
      "text/html": [
       "0.934782608695652"
      ],
      "text/latex": [
       "0.934782608695652"
      ],
      "text/markdown": [
       "0.934782608695652"
      ],
      "text/plain": [
       "[1] 0.9347826"
      ]
     },
     "metadata": {},
     "output_type": "display_data"
    },
    {
     "data": {
      "text/html": [
       "<table class=\"dataframe\">\n",
       "<caption>A table: 3 × 3 of type dbl</caption>\n",
       "<thead>\n",
       "\t<tr><th></th><th scope=col>1</th><th scope=col>2</th><th scope=col>Sum</th></tr>\n",
       "</thead>\n",
       "<tbody>\n",
       "\t<tr><th scope=row>1</th><td>24</td><td> 1</td><td>25</td></tr>\n",
       "\t<tr><th scope=row>2</th><td> 2</td><td>19</td><td>21</td></tr>\n",
       "\t<tr><th scope=row>Sum</th><td>26</td><td>20</td><td>46</td></tr>\n",
       "</tbody>\n",
       "</table>\n"
      ],
      "text/latex": [
       "A table: 3 × 3 of type dbl\n",
       "\\begin{tabular}{r|lll}\n",
       "  & 1 & 2 & Sum\\\\\n",
       "\\hline\n",
       "\t1 & 24 &  1 & 25\\\\\n",
       "\t2 &  2 & 19 & 21\\\\\n",
       "\tSum & 26 & 20 & 46\\\\\n",
       "\\end{tabular}\n"
      ],
      "text/markdown": [
       "\n",
       "A table: 3 × 3 of type dbl\n",
       "\n",
       "| <!--/--> | 1 | 2 | Sum |\n",
       "|---|---|---|---|\n",
       "| 1 | 24 |  1 | 25 |\n",
       "| 2 |  2 | 19 | 21 |\n",
       "| Sum | 26 | 20 | 46 |\n",
       "\n"
      ],
      "text/plain": [
       "     \n",
       "      1  2  Sum\n",
       "  1   24  1 25 \n",
       "  2    2 19 21 \n",
       "  Sum 26 20 46 "
      ]
     },
     "metadata": {},
     "output_type": "display_data"
    }
   ],
   "source": [
    "qd=qda(G~.,data=Case5);qd  #二次判别\n",
    "Zqd=predict(qd)\n",
    "#data.frame(Case5$G,Zqd$class,round(Zqd$post,3)*100)\n",
    "tab2=table(Case5$G,Zqd$class);tab2\n",
    "sum(diag(tab2))/sum(tab2)\n",
    "addmargins(tab2)"
   ]
  },
  {
   "cell_type": "markdown",
   "id": "2a975bf7",
   "metadata": {},
   "source": [
    "二次判别符合率：$93.5\\%$，高于线性判别"
   ]
  }
 ],
 "metadata": {
  "kernelspec": {
   "display_name": "R",
   "language": "R",
   "name": "ir"
  },
  "language_info": {
   "codemirror_mode": "r",
   "file_extension": ".r",
   "mimetype": "text/x-r-source",
   "name": "R",
   "pygments_lexer": "r",
   "version": "4.2.2"
  }
 },
 "nbformat": 4,
 "nbformat_minor": 5
}
