{
 "cells": [
  {
   "cell_type": "markdown",
   "id": "3c99d29c",
   "metadata": {},
   "source": [
    "# 中学生身体四项指标的主成分分析\n",
    "## 题意\n",
    "30名学生，测量其  身高（X1）、体重（X2），胸围（X3）和坐高（X4）。对这30名中学生身体四项指标数据做主成分分析。"
   ]
  },
  {
   "cell_type": "markdown",
   "id": "13855149",
   "metadata": {},
   "source": [
    "## 思路\n",
    "用数据框形式输入数据，用prcomp()做主成分分析，由分析，选择相关矩阵作为主成分分析更为合理，因此，cor=T。最后，用summary()列出主成分分析的值，这里选择loadings=T。"
   ]
  },
  {
   "cell_type": "markdown",
   "id": "fdc9af89",
   "metadata": {},
   "source": [
    "## 代码"
   ]
  },
  {
   "cell_type": "code",
   "execution_count": 53,
   "id": "e77d8658",
   "metadata": {
    "scrolled": true
   },
   "outputs": [
    {
     "data": {
      "text/html": [
       "<table class=\"dataframe\">\n",
       "<caption>A data.frame: 30 × 4</caption>\n",
       "<thead>\n",
       "\t<tr><th></th><th scope=col>X1</th><th scope=col>X2</th><th scope=col>X3</th><th scope=col>X4</th></tr>\n",
       "\t<tr><th></th><th scope=col>&lt;int&gt;</th><th scope=col>&lt;int&gt;</th><th scope=col>&lt;int&gt;</th><th scope=col>&lt;int&gt;</th></tr>\n",
       "</thead>\n",
       "<tbody>\n",
       "\t<tr><th scope=row>1</th><td>148</td><td>41</td><td>72</td><td>78</td></tr>\n",
       "\t<tr><th scope=row>2</th><td>139</td><td>34</td><td>71</td><td>76</td></tr>\n",
       "\t<tr><th scope=row>3</th><td>160</td><td>49</td><td>77</td><td>86</td></tr>\n",
       "\t<tr><th scope=row>4</th><td>149</td><td>36</td><td>67</td><td>79</td></tr>\n",
       "\t<tr><th scope=row>5</th><td>159</td><td>45</td><td>80</td><td>86</td></tr>\n",
       "\t<tr><th scope=row>6</th><td>142</td><td>31</td><td>66</td><td>76</td></tr>\n",
       "\t<tr><th scope=row>7</th><td>153</td><td>43</td><td>76</td><td>83</td></tr>\n",
       "\t<tr><th scope=row>8</th><td>150</td><td>43</td><td>77</td><td>79</td></tr>\n",
       "\t<tr><th scope=row>9</th><td>151</td><td>42</td><td>77</td><td>80</td></tr>\n",
       "\t<tr><th scope=row>10</th><td>139</td><td>31</td><td>68</td><td>74</td></tr>\n",
       "\t<tr><th scope=row>11</th><td>140</td><td>29</td><td>64</td><td>74</td></tr>\n",
       "\t<tr><th scope=row>12</th><td>161</td><td>47</td><td>78</td><td>84</td></tr>\n",
       "\t<tr><th scope=row>13</th><td>158</td><td>49</td><td>78</td><td>83</td></tr>\n",
       "\t<tr><th scope=row>14</th><td>140</td><td>33</td><td>67</td><td>77</td></tr>\n",
       "\t<tr><th scope=row>15</th><td>137</td><td>31</td><td>66</td><td>73</td></tr>\n",
       "\t<tr><th scope=row>16</th><td>152</td><td>35</td><td>73</td><td>79</td></tr>\n",
       "\t<tr><th scope=row>17</th><td>149</td><td>47</td><td>82</td><td>79</td></tr>\n",
       "\t<tr><th scope=row>18</th><td>145</td><td>35</td><td>70</td><td>77</td></tr>\n",
       "\t<tr><th scope=row>19</th><td>160</td><td>47</td><td>74</td><td>87</td></tr>\n",
       "\t<tr><th scope=row>20</th><td>156</td><td>44</td><td>78</td><td>85</td></tr>\n",
       "\t<tr><th scope=row>21</th><td>151</td><td>42</td><td>73</td><td>82</td></tr>\n",
       "\t<tr><th scope=row>22</th><td>147</td><td>38</td><td>73</td><td>78</td></tr>\n",
       "\t<tr><th scope=row>23</th><td>157</td><td>39</td><td>68</td><td>80</td></tr>\n",
       "\t<tr><th scope=row>24</th><td>147</td><td>30</td><td>65</td><td>75</td></tr>\n",
       "\t<tr><th scope=row>25</th><td>157</td><td>48</td><td>80</td><td>88</td></tr>\n",
       "\t<tr><th scope=row>26</th><td>151</td><td>36</td><td>74</td><td>80</td></tr>\n",
       "\t<tr><th scope=row>27</th><td>144</td><td>36</td><td>68</td><td>76</td></tr>\n",
       "\t<tr><th scope=row>28</th><td>141</td><td>30</td><td>67</td><td>76</td></tr>\n",
       "\t<tr><th scope=row>29</th><td>139</td><td>32</td><td>68</td><td>73</td></tr>\n",
       "\t<tr><th scope=row>30</th><td>148</td><td>38</td><td>70</td><td>73</td></tr>\n",
       "</tbody>\n",
       "</table>\n"
      ],
      "text/latex": [
       "A data.frame: 30 × 4\n",
       "\\begin{tabular}{r|llll}\n",
       "  & X1 & X2 & X3 & X4\\\\\n",
       "  & <int> & <int> & <int> & <int>\\\\\n",
       "\\hline\n",
       "\t1 & 148 & 41 & 72 & 78\\\\\n",
       "\t2 & 139 & 34 & 71 & 76\\\\\n",
       "\t3 & 160 & 49 & 77 & 86\\\\\n",
       "\t4 & 149 & 36 & 67 & 79\\\\\n",
       "\t5 & 159 & 45 & 80 & 86\\\\\n",
       "\t6 & 142 & 31 & 66 & 76\\\\\n",
       "\t7 & 153 & 43 & 76 & 83\\\\\n",
       "\t8 & 150 & 43 & 77 & 79\\\\\n",
       "\t9 & 151 & 42 & 77 & 80\\\\\n",
       "\t10 & 139 & 31 & 68 & 74\\\\\n",
       "\t11 & 140 & 29 & 64 & 74\\\\\n",
       "\t12 & 161 & 47 & 78 & 84\\\\\n",
       "\t13 & 158 & 49 & 78 & 83\\\\\n",
       "\t14 & 140 & 33 & 67 & 77\\\\\n",
       "\t15 & 137 & 31 & 66 & 73\\\\\n",
       "\t16 & 152 & 35 & 73 & 79\\\\\n",
       "\t17 & 149 & 47 & 82 & 79\\\\\n",
       "\t18 & 145 & 35 & 70 & 77\\\\\n",
       "\t19 & 160 & 47 & 74 & 87\\\\\n",
       "\t20 & 156 & 44 & 78 & 85\\\\\n",
       "\t21 & 151 & 42 & 73 & 82\\\\\n",
       "\t22 & 147 & 38 & 73 & 78\\\\\n",
       "\t23 & 157 & 39 & 68 & 80\\\\\n",
       "\t24 & 147 & 30 & 65 & 75\\\\\n",
       "\t25 & 157 & 48 & 80 & 88\\\\\n",
       "\t26 & 151 & 36 & 74 & 80\\\\\n",
       "\t27 & 144 & 36 & 68 & 76\\\\\n",
       "\t28 & 141 & 30 & 67 & 76\\\\\n",
       "\t29 & 139 & 32 & 68 & 73\\\\\n",
       "\t30 & 148 & 38 & 70 & 73\\\\\n",
       "\\end{tabular}\n"
      ],
      "text/markdown": [
       "\n",
       "A data.frame: 30 × 4\n",
       "\n",
       "| <!--/--> | X1 &lt;int&gt; | X2 &lt;int&gt; | X3 &lt;int&gt; | X4 &lt;int&gt; |\n",
       "|---|---|---|---|---|\n",
       "| 1 | 148 | 41 | 72 | 78 |\n",
       "| 2 | 139 | 34 | 71 | 76 |\n",
       "| 3 | 160 | 49 | 77 | 86 |\n",
       "| 4 | 149 | 36 | 67 | 79 |\n",
       "| 5 | 159 | 45 | 80 | 86 |\n",
       "| 6 | 142 | 31 | 66 | 76 |\n",
       "| 7 | 153 | 43 | 76 | 83 |\n",
       "| 8 | 150 | 43 | 77 | 79 |\n",
       "| 9 | 151 | 42 | 77 | 80 |\n",
       "| 10 | 139 | 31 | 68 | 74 |\n",
       "| 11 | 140 | 29 | 64 | 74 |\n",
       "| 12 | 161 | 47 | 78 | 84 |\n",
       "| 13 | 158 | 49 | 78 | 83 |\n",
       "| 14 | 140 | 33 | 67 | 77 |\n",
       "| 15 | 137 | 31 | 66 | 73 |\n",
       "| 16 | 152 | 35 | 73 | 79 |\n",
       "| 17 | 149 | 47 | 82 | 79 |\n",
       "| 18 | 145 | 35 | 70 | 77 |\n",
       "| 19 | 160 | 47 | 74 | 87 |\n",
       "| 20 | 156 | 44 | 78 | 85 |\n",
       "| 21 | 151 | 42 | 73 | 82 |\n",
       "| 22 | 147 | 38 | 73 | 78 |\n",
       "| 23 | 157 | 39 | 68 | 80 |\n",
       "| 24 | 147 | 30 | 65 | 75 |\n",
       "| 25 | 157 | 48 | 80 | 88 |\n",
       "| 26 | 151 | 36 | 74 | 80 |\n",
       "| 27 | 144 | 36 | 68 | 76 |\n",
       "| 28 | 141 | 30 | 67 | 76 |\n",
       "| 29 | 139 | 32 | 68 | 73 |\n",
       "| 30 | 148 | 38 | 70 | 73 |\n",
       "\n"
      ],
      "text/plain": [
       "   X1  X2 X3 X4\n",
       "1  148 41 72 78\n",
       "2  139 34 71 76\n",
       "3  160 49 77 86\n",
       "4  149 36 67 79\n",
       "5  159 45 80 86\n",
       "6  142 31 66 76\n",
       "7  153 43 76 83\n",
       "8  150 43 77 79\n",
       "9  151 42 77 80\n",
       "10 139 31 68 74\n",
       "11 140 29 64 74\n",
       "12 161 47 78 84\n",
       "13 158 49 78 83\n",
       "14 140 33 67 77\n",
       "15 137 31 66 73\n",
       "16 152 35 73 79\n",
       "17 149 47 82 79\n",
       "18 145 35 70 77\n",
       "19 160 47 74 87\n",
       "20 156 44 78 85\n",
       "21 151 42 73 82\n",
       "22 147 38 73 78\n",
       "23 157 39 68 80\n",
       "24 147 30 65 75\n",
       "25 157 48 80 88\n",
       "26 151 36 74 80\n",
       "27 144 36 68 76\n",
       "28 141 30 67 76\n",
       "29 139 32 68 73\n",
       "30 148 38 70 73"
      ]
     },
     "metadata": {},
     "output_type": "display_data"
    }
   ],
   "source": [
    "data<-read.table('./data1.txt')\n",
    "data"
   ]
  },
  {
   "cell_type": "code",
   "execution_count": 54,
   "id": "b5f44cc5",
   "metadata": {
    "scrolled": true
   },
   "outputs": [
    {
     "data": {
      "text/plain": [
       "Importance of components:\n",
       "                          Comp.1     Comp.2     Comp.3     Comp.4\n",
       "Standard deviation     1.8734984 0.55887643 0.33494435 0.25587705\n",
       "Proportion of Variance 0.8774991 0.07808572 0.02804693 0.01636827\n",
       "Cumulative Proportion  0.8774991 0.95558481 0.98363173 1.00000000\n",
       "\n",
       "Loadings:\n",
       "   Comp.1 Comp.2 Comp.3 Comp.4\n",
       "X1  0.498  0.530  0.517  0.452\n",
       "X2  0.516 -0.225  0.378 -0.736\n",
       "X3  0.484 -0.716 -0.151  0.480\n",
       "X4  0.502  0.395 -0.753 -0.155"
      ]
     },
     "metadata": {},
     "output_type": "display_data"
    }
   ],
   "source": [
    "# 作主成分分析利用函数princomp()，并显示分析结果\n",
    "data.pr<-princomp(data,cor=TRUE)\n",
    "summary(data.pr,loadings=T)"
   ]
  },
  {
   "cell_type": "markdown",
   "id": "9d1bee87",
   "metadata": {},
   "source": [
    "主成分计算结果介绍：  \n",
    "Standard deviation ：表示主成分的标准差，即主成分的方差的开方，也就是相应的特征值的开方  \n",
    "Proportion of Variance：表示方差的贡献率  \n",
    "Cumulative Proportion ：表示方差的累计贡献率  \n",
    "在summary()函数的参数中选取了loadings=T,因此列出了loadings的内容，实际是主成分对应于原始变量X1，X2，X3，X4的系数，可以得到主成分  \n",
    "$$\n",
    "Z_1=0.498X_1 + 0.516X_2 + 0.484X_3 + 0.502X_4\\\\\n",
    "Z_2=0.530X_1-0.225X_2-0.716X_3+0.395X_4\n",
    "$$\n",
    "由于前面两个主成分累计贡献率已达到$96\\%$，另外两个主成分可以舍去，达到降维的目的。  \n",
    "第一主成分对应系数的符号都相同，其值在0.5左右，反映中学生身材魁梧程度；我们称第1主成分为大小因子  \n",
    "第二主成分对应高度与维度的差，第二主成分值大的学生表明该学生细高，值小的说明学生矮胖。我们称第2主成分为体形因子。  "
   ]
  },
  {
   "cell_type": "code",
   "execution_count": 55,
   "id": "5ec015cf",
   "metadata": {
    "scrolled": true
   },
   "outputs": [
    {
     "data": {
      "text/html": [
       "<table class=\"dataframe\">\n",
       "<caption>A matrix: 30 × 4 of type dbl</caption>\n",
       "<thead>\n",
       "\t<tr><th></th><th scope=col>Comp.1</th><th scope=col>Comp.2</th><th scope=col>Comp.3</th><th scope=col>Comp.4</th></tr>\n",
       "</thead>\n",
       "<tbody>\n",
       "\t<tr><th scope=row>1</th><td>-0.04350687</td><td>-0.23110083</td><td> 0.2798596848</td><td>-0.30850096</td></tr>\n",
       "\t<tr><th scope=row>2</th><td>-1.56094968</td><td>-0.68752513</td><td>-0.4063047555</td><td>-0.08662913</td></tr>\n",
       "\t<tr><th scope=row>3</th><td> 2.83846835</td><td> 0.39083739</td><td> 0.0815748542</td><td>-0.29270492</td></tr>\n",
       "\t<tr><th scope=row>4</th><td>-0.74245025</td><td> 0.81701934</td><td> 0.0304518917</td><td>-0.17626831</td></tr>\n",
       "\t<tr><th scope=row>5</th><td> 2.73137969</td><td> 0.03451731</td><td>-0.3176688645</td><td> 0.39215729</td></tr>\n",
       "\t<tr><th scope=row>6</th><td>-2.07481464</td><td> 0.34650033</td><td>-0.2198163693</td><td>-0.02467537</td></tr>\n",
       "\t<tr><th scope=row>7</th><td> 1.42494106</td><td>-0.04431852</td><td>-0.2281449312</td><td>-0.02528974</td></tr>\n",
       "\t<tr><th scope=row>8</th><td> 0.85064310</td><td>-0.77023926</td><td> 0.2197729936</td><td> 0.02382453</td></tr>\n",
       "\t<tr><th scope=row>9</th><td> 0.95424210</td><td>-0.57029818</td><td> 0.0588339172</td><td> 0.16677658</td></tr>\n",
       "\t<tr><th scope=row>10</th><td>-2.32235364</td><td>-0.33908278</td><td>-0.1484114104</td><td> 0.04783658</td></tr>\n",
       "\t<tr><th scope=row>11</th><td>-2.79782055</td><td> 0.37076126</td><td>-0.0760093617</td><td>-0.03689383</td></tr>\n",
       "\t<tr><th scope=row>12</th><td> 2.60971140</td><td> 0.21227178</td><td> 0.3512850119</td><td> 0.16797705</td></tr>\n",
       "\t<tr><th scope=row>13</th><td> 2.44893230</td><td>-0.17050538</td><td> 0.4280052269</td><td>-0.21646085</td></tr>\n",
       "\t<tr><th scope=row>14</th><td>-1.83966328</td><td> 0.07779729</td><td>-0.4477739273</td><td>-0.32288379</td></tr>\n",
       "\t<tr><th scope=row>15</th><td>-2.76744335</td><td>-0.29470657</td><td>-0.0590240989</td><td>-0.23172838</td></tr>\n",
       "\t<tr><th scope=row>16</th><td>-0.04262973</td><td> 0.22551990</td><td> 0.0073010890</td><td> 0.69685941</td></tr>\n",
       "\t<tr><th scope=row>17</th><td> 1.58401397</td><td>-1.69215485</td><td> 0.2364065174</td><td>-0.02828787</td></tr>\n",
       "\t<tr><th scope=row>18</th><td>-1.04474551</td><td>-0.04828248</td><td>-0.0592973428</td><td> 0.04403576</td></tr>\n",
       "\t<tr><th scope=row>19</th><td> 2.50499849</td><td> 0.97644109</td><td>-0.1210485109</td><td>-0.38116746</td></tr>\n",
       "\t<tr><th scope=row>20</th><td> 2.13595557</td><td> 0.04052014</td><td>-0.3595682703</td><td> 0.16558278</td></tr>\n",
       "\t<tr><th scope=row>21</th><td> 0.80311029</td><td> 0.17676613</td><td>-0.1683416679</td><td>-0.28383412</td></tr>\n",
       "\t<tr><th scope=row>22</th><td>-0.26058894</td><td>-0.34009334</td><td>-0.0001975573</td><td> 0.07093565</td></tr>\n",
       "\t<tr><th scope=row>23</th><td> 0.26557904</td><td> 1.25031809</td><td> 0.5802977866</td><td> 0.03801905</td></tr>\n",
       "\t<tr><th scope=row>24</th><td>-2.02128858</td><td> 0.80104973</td><td> 0.2830982916</td><td> 0.34620621</td></tr>\n",
       "\t<tr><th scope=row>25</th><td> 3.06770619</td><td>-0.03736201</td><td>-0.6296301669</td><td>-0.15237705</td></tr>\n",
       "\t<tr><th scope=row>26</th><td> 0.18053022</td><td> 0.06591645</td><td>-0.2082728005</td><td> 0.57730504</td></tr>\n",
       "\t<tr><th scope=row>27</th><td>-1.33950081</td><td> 0.03446711</td><td> 0.1613766859</td><td>-0.28851965</td></tr>\n",
       "\t<tr><th scope=row>28</th><td>-2.12957089</td><td> 0.16678161</td><td>-0.3809705626</td><td> 0.12311675</td></tr>\n",
       "\t<tr><th scope=row>29</th><td>-2.35678114</td><td>-0.46528737</td><td> 0.0843628588</td><td>-0.03228367</td></tr>\n",
       "\t<tr><th scope=row>30</th><td>-1.05610389</td><td>-0.29652827</td><td> 1.0278537883</td><td> 0.02787242</td></tr>\n",
       "</tbody>\n",
       "</table>\n"
      ],
      "text/latex": [
       "A matrix: 30 × 4 of type dbl\n",
       "\\begin{tabular}{r|llll}\n",
       "  & Comp.1 & Comp.2 & Comp.3 & Comp.4\\\\\n",
       "\\hline\n",
       "\t1 & -0.04350687 & -0.23110083 &  0.2798596848 & -0.30850096\\\\\n",
       "\t2 & -1.56094968 & -0.68752513 & -0.4063047555 & -0.08662913\\\\\n",
       "\t3 &  2.83846835 &  0.39083739 &  0.0815748542 & -0.29270492\\\\\n",
       "\t4 & -0.74245025 &  0.81701934 &  0.0304518917 & -0.17626831\\\\\n",
       "\t5 &  2.73137969 &  0.03451731 & -0.3176688645 &  0.39215729\\\\\n",
       "\t6 & -2.07481464 &  0.34650033 & -0.2198163693 & -0.02467537\\\\\n",
       "\t7 &  1.42494106 & -0.04431852 & -0.2281449312 & -0.02528974\\\\\n",
       "\t8 &  0.85064310 & -0.77023926 &  0.2197729936 &  0.02382453\\\\\n",
       "\t9 &  0.95424210 & -0.57029818 &  0.0588339172 &  0.16677658\\\\\n",
       "\t10 & -2.32235364 & -0.33908278 & -0.1484114104 &  0.04783658\\\\\n",
       "\t11 & -2.79782055 &  0.37076126 & -0.0760093617 & -0.03689383\\\\\n",
       "\t12 &  2.60971140 &  0.21227178 &  0.3512850119 &  0.16797705\\\\\n",
       "\t13 &  2.44893230 & -0.17050538 &  0.4280052269 & -0.21646085\\\\\n",
       "\t14 & -1.83966328 &  0.07779729 & -0.4477739273 & -0.32288379\\\\\n",
       "\t15 & -2.76744335 & -0.29470657 & -0.0590240989 & -0.23172838\\\\\n",
       "\t16 & -0.04262973 &  0.22551990 &  0.0073010890 &  0.69685941\\\\\n",
       "\t17 &  1.58401397 & -1.69215485 &  0.2364065174 & -0.02828787\\\\\n",
       "\t18 & -1.04474551 & -0.04828248 & -0.0592973428 &  0.04403576\\\\\n",
       "\t19 &  2.50499849 &  0.97644109 & -0.1210485109 & -0.38116746\\\\\n",
       "\t20 &  2.13595557 &  0.04052014 & -0.3595682703 &  0.16558278\\\\\n",
       "\t21 &  0.80311029 &  0.17676613 & -0.1683416679 & -0.28383412\\\\\n",
       "\t22 & -0.26058894 & -0.34009334 & -0.0001975573 &  0.07093565\\\\\n",
       "\t23 &  0.26557904 &  1.25031809 &  0.5802977866 &  0.03801905\\\\\n",
       "\t24 & -2.02128858 &  0.80104973 &  0.2830982916 &  0.34620621\\\\\n",
       "\t25 &  3.06770619 & -0.03736201 & -0.6296301669 & -0.15237705\\\\\n",
       "\t26 &  0.18053022 &  0.06591645 & -0.2082728005 &  0.57730504\\\\\n",
       "\t27 & -1.33950081 &  0.03446711 &  0.1613766859 & -0.28851965\\\\\n",
       "\t28 & -2.12957089 &  0.16678161 & -0.3809705626 &  0.12311675\\\\\n",
       "\t29 & -2.35678114 & -0.46528737 &  0.0843628588 & -0.03228367\\\\\n",
       "\t30 & -1.05610389 & -0.29652827 &  1.0278537883 &  0.02787242\\\\\n",
       "\\end{tabular}\n"
      ],
      "text/markdown": [
       "\n",
       "A matrix: 30 × 4 of type dbl\n",
       "\n",
       "| <!--/--> | Comp.1 | Comp.2 | Comp.3 | Comp.4 |\n",
       "|---|---|---|---|---|\n",
       "| 1 | -0.04350687 | -0.23110083 |  0.2798596848 | -0.30850096 |\n",
       "| 2 | -1.56094968 | -0.68752513 | -0.4063047555 | -0.08662913 |\n",
       "| 3 |  2.83846835 |  0.39083739 |  0.0815748542 | -0.29270492 |\n",
       "| 4 | -0.74245025 |  0.81701934 |  0.0304518917 | -0.17626831 |\n",
       "| 5 |  2.73137969 |  0.03451731 | -0.3176688645 |  0.39215729 |\n",
       "| 6 | -2.07481464 |  0.34650033 | -0.2198163693 | -0.02467537 |\n",
       "| 7 |  1.42494106 | -0.04431852 | -0.2281449312 | -0.02528974 |\n",
       "| 8 |  0.85064310 | -0.77023926 |  0.2197729936 |  0.02382453 |\n",
       "| 9 |  0.95424210 | -0.57029818 |  0.0588339172 |  0.16677658 |\n",
       "| 10 | -2.32235364 | -0.33908278 | -0.1484114104 |  0.04783658 |\n",
       "| 11 | -2.79782055 |  0.37076126 | -0.0760093617 | -0.03689383 |\n",
       "| 12 |  2.60971140 |  0.21227178 |  0.3512850119 |  0.16797705 |\n",
       "| 13 |  2.44893230 | -0.17050538 |  0.4280052269 | -0.21646085 |\n",
       "| 14 | -1.83966328 |  0.07779729 | -0.4477739273 | -0.32288379 |\n",
       "| 15 | -2.76744335 | -0.29470657 | -0.0590240989 | -0.23172838 |\n",
       "| 16 | -0.04262973 |  0.22551990 |  0.0073010890 |  0.69685941 |\n",
       "| 17 |  1.58401397 | -1.69215485 |  0.2364065174 | -0.02828787 |\n",
       "| 18 | -1.04474551 | -0.04828248 | -0.0592973428 |  0.04403576 |\n",
       "| 19 |  2.50499849 |  0.97644109 | -0.1210485109 | -0.38116746 |\n",
       "| 20 |  2.13595557 |  0.04052014 | -0.3595682703 |  0.16558278 |\n",
       "| 21 |  0.80311029 |  0.17676613 | -0.1683416679 | -0.28383412 |\n",
       "| 22 | -0.26058894 | -0.34009334 | -0.0001975573 |  0.07093565 |\n",
       "| 23 |  0.26557904 |  1.25031809 |  0.5802977866 |  0.03801905 |\n",
       "| 24 | -2.02128858 |  0.80104973 |  0.2830982916 |  0.34620621 |\n",
       "| 25 |  3.06770619 | -0.03736201 | -0.6296301669 | -0.15237705 |\n",
       "| 26 |  0.18053022 |  0.06591645 | -0.2082728005 |  0.57730504 |\n",
       "| 27 | -1.33950081 |  0.03446711 |  0.1613766859 | -0.28851965 |\n",
       "| 28 | -2.12957089 |  0.16678161 | -0.3809705626 |  0.12311675 |\n",
       "| 29 | -2.35678114 | -0.46528737 |  0.0843628588 | -0.03228367 |\n",
       "| 30 | -1.05610389 | -0.29652827 |  1.0278537883 |  0.02787242 |\n",
       "\n"
      ],
      "text/plain": [
       "   Comp.1      Comp.2      Comp.3        Comp.4     \n",
       "1  -0.04350687 -0.23110083  0.2798596848 -0.30850096\n",
       "2  -1.56094968 -0.68752513 -0.4063047555 -0.08662913\n",
       "3   2.83846835  0.39083739  0.0815748542 -0.29270492\n",
       "4  -0.74245025  0.81701934  0.0304518917 -0.17626831\n",
       "5   2.73137969  0.03451731 -0.3176688645  0.39215729\n",
       "6  -2.07481464  0.34650033 -0.2198163693 -0.02467537\n",
       "7   1.42494106 -0.04431852 -0.2281449312 -0.02528974\n",
       "8   0.85064310 -0.77023926  0.2197729936  0.02382453\n",
       "9   0.95424210 -0.57029818  0.0588339172  0.16677658\n",
       "10 -2.32235364 -0.33908278 -0.1484114104  0.04783658\n",
       "11 -2.79782055  0.37076126 -0.0760093617 -0.03689383\n",
       "12  2.60971140  0.21227178  0.3512850119  0.16797705\n",
       "13  2.44893230 -0.17050538  0.4280052269 -0.21646085\n",
       "14 -1.83966328  0.07779729 -0.4477739273 -0.32288379\n",
       "15 -2.76744335 -0.29470657 -0.0590240989 -0.23172838\n",
       "16 -0.04262973  0.22551990  0.0073010890  0.69685941\n",
       "17  1.58401397 -1.69215485  0.2364065174 -0.02828787\n",
       "18 -1.04474551 -0.04828248 -0.0592973428  0.04403576\n",
       "19  2.50499849  0.97644109 -0.1210485109 -0.38116746\n",
       "20  2.13595557  0.04052014 -0.3595682703  0.16558278\n",
       "21  0.80311029  0.17676613 -0.1683416679 -0.28383412\n",
       "22 -0.26058894 -0.34009334 -0.0001975573  0.07093565\n",
       "23  0.26557904  1.25031809  0.5802977866  0.03801905\n",
       "24 -2.02128858  0.80104973  0.2830982916  0.34620621\n",
       "25  3.06770619 -0.03736201 -0.6296301669 -0.15237705\n",
       "26  0.18053022  0.06591645 -0.2082728005  0.57730504\n",
       "27 -1.33950081  0.03446711  0.1613766859 -0.28851965\n",
       "28 -2.12957089  0.16678161 -0.3809705626  0.12311675\n",
       "29 -2.35678114 -0.46528737  0.0843628588 -0.03228367\n",
       "30 -1.05610389 -0.29652827  1.0278537883  0.02787242"
      ]
     },
     "metadata": {},
     "output_type": "display_data"
    }
   ],
   "source": [
    "# 各样本的主成分的值（用predict()函数）\n",
    "# 做预测\n",
    "predict(data.pr)"
   ]
  },
  {
   "cell_type": "markdown",
   "id": "71d73f4f",
   "metadata": {},
   "source": [
    "结果分析：  \n",
    "从第一主成分预测值可以看出，较大的几个值是25，3，5号样本，说明这几个学生身材魁梧，而11，15，29样本的值较小，说明这几个学生身材瘦小；  \n",
    "从第二主成分预测值可以看出，较小的几个值是17，8，2号样本，说明这几个学生身材属于矮胖型，而231，19，4样本的值较大，说明这几个学生身材属于细高型的。"
   ]
  },
  {
   "cell_type": "code",
   "execution_count": 56,
   "id": "502d79e0",
   "metadata": {
    "scrolled": true
   },
   "outputs": [
    {
     "data": {
      "image/png": "[encoded data removed]",
      "text/plain": [
       "Plot with title \"张逸敏\""
      ]
     },
     "metadata": {
      "image/png": {
       "height": 420,
       "width": 420
      }
     },
     "output_type": "display_data"
    }
   ],
   "source": [
    "# 画出主成分的碎石图\n",
    "screeplot(data.pr,type=\"lines\", main=\"张逸敏\")"
   ]
  },
  {
   "cell_type": "code",
   "execution_count": 57,
   "id": "8c571c55",
   "metadata": {},
   "outputs": [
    {
     "data": {
      "image/png": "[encoded data removed]",
      "text/plain": [
       "Plot with title \"张逸敏\""
      ]
     },
     "metadata": {
      "image/png": {
       "height": 420,
       "width": 420
      }
     },
     "output_type": "display_data"
    }
   ],
   "source": [
    "# 画出关于第1主成分和第2主成分样本的散点图。\n",
    "biplot(data.pr, main=\"张逸敏\")"
   ]
  },
  {
   "cell_type": "code",
   "execution_count": 59,
   "id": "670a85f1",
   "metadata": {
    "scrolled": true
   },
   "outputs": [
    {
     "data": {
      "image/png": "[encoded data removed]",
      "text/plain": [
       "Plot with title \"张逸敏\""
      ]
     },
     "metadata": {
      "image/png": {
       "height": 420,
       "width": 420
      }
     },
     "output_type": "display_data"
    }
   ],
   "source": [
    "biplot(data.pr,c(3,4),main=\"张逸敏\") "
   ]
  },
  {
   "cell_type": "markdown",
   "id": "b35193d5",
   "metadata": {},
   "source": [
    "图中两个坐标对应各自的成分。  \n",
    "红色的箭头的长度表示负荷的长度，  \n",
    "方向表示符合的符号是正还是负，  \n",
    "而各个点是各个个案对应的成分得分。"
   ]
  },
  {
   "cell_type": "markdown",
   "id": "f3a46a1d",
   "metadata": {},
   "source": [
    "# 法国经济分析数据\n",
    "## 题意\n",
    "考虑进口总额Y与三个自变量：国内总产值X1，存储量X2，总消费量X3之间的关系，现收集了1949年至1959年共11年的数据，试对此数据做经典的回归分析和主成分回归分析。"
   ]
  },
  {
   "cell_type": "markdown",
   "id": "b8741325",
   "metadata": {},
   "source": [
    "## 思路\n",
    "与经济有关的变量容易产生多重共线性，当自变量出现多重共线性的时候，可以使用主成分分析来克服经典回归的不足。"
   ]
  },
  {
   "cell_type": "markdown",
   "id": "382425f0",
   "metadata": {},
   "source": [
    "## 代码"
   ]
  },
  {
   "cell_type": "code",
   "execution_count": 60,
   "id": "eeac8256",
   "metadata": {
    "scrolled": true
   },
   "outputs": [
    {
     "data": {
      "text/html": [
       "<table class=\"dataframe\">\n",
       "<caption>A data.frame: 11 × 4</caption>\n",
       "<thead>\n",
       "\t<tr><th></th><th scope=col>X1</th><th scope=col>X2</th><th scope=col>X3</th><th scope=col>Y</th></tr>\n",
       "\t<tr><th></th><th scope=col>&lt;dbl&gt;</th><th scope=col>&lt;dbl&gt;</th><th scope=col>&lt;dbl&gt;</th><th scope=col>&lt;dbl&gt;</th></tr>\n",
       "</thead>\n",
       "<tbody>\n",
       "\t<tr><th scope=row>1</th><td>149.3</td><td>4.2</td><td>108.1</td><td>15.9</td></tr>\n",
       "\t<tr><th scope=row>2</th><td>161.2</td><td>4.1</td><td>114.8</td><td>16.4</td></tr>\n",
       "\t<tr><th scope=row>3</th><td>171.5</td><td>3.1</td><td>123.2</td><td>19.0</td></tr>\n",
       "\t<tr><th scope=row>4</th><td>175.5</td><td>3.1</td><td>126.9</td><td>19.1</td></tr>\n",
       "\t<tr><th scope=row>5</th><td>180.5</td><td>1.1</td><td>132.1</td><td>18.8</td></tr>\n",
       "\t<tr><th scope=row>6</th><td>190.7</td><td>2.2</td><td>137.7</td><td>20.4</td></tr>\n",
       "\t<tr><th scope=row>7</th><td>202.1</td><td>2.1</td><td>146.0</td><td>22.7</td></tr>\n",
       "\t<tr><th scope=row>8</th><td>212.4</td><td>5.6</td><td>154.1</td><td>26.5</td></tr>\n",
       "\t<tr><th scope=row>9</th><td>226.1</td><td>5.0</td><td>162.3</td><td>28.1</td></tr>\n",
       "\t<tr><th scope=row>10</th><td>231.9</td><td>5.1</td><td>164.3</td><td>27.6</td></tr>\n",
       "\t<tr><th scope=row>11</th><td>239.0</td><td>0.7</td><td>167.6</td><td>26.3</td></tr>\n",
       "</tbody>\n",
       "</table>\n"
      ],
      "text/latex": [
       "A data.frame: 11 × 4\n",
       "\\begin{tabular}{r|llll}\n",
       "  & X1 & X2 & X3 & Y\\\\\n",
       "  & <dbl> & <dbl> & <dbl> & <dbl>\\\\\n",
       "\\hline\n",
       "\t1 & 149.3 & 4.2 & 108.1 & 15.9\\\\\n",
       "\t2 & 161.2 & 4.1 & 114.8 & 16.4\\\\\n",
       "\t3 & 171.5 & 3.1 & 123.2 & 19.0\\\\\n",
       "\t4 & 175.5 & 3.1 & 126.9 & 19.1\\\\\n",
       "\t5 & 180.5 & 1.1 & 132.1 & 18.8\\\\\n",
       "\t6 & 190.7 & 2.2 & 137.7 & 20.4\\\\\n",
       "\t7 & 202.1 & 2.1 & 146.0 & 22.7\\\\\n",
       "\t8 & 212.4 & 5.6 & 154.1 & 26.5\\\\\n",
       "\t9 & 226.1 & 5.0 & 162.3 & 28.1\\\\\n",
       "\t10 & 231.9 & 5.1 & 164.3 & 27.6\\\\\n",
       "\t11 & 239.0 & 0.7 & 167.6 & 26.3\\\\\n",
       "\\end{tabular}\n"
      ],
      "text/markdown": [
       "\n",
       "A data.frame: 11 × 4\n",
       "\n",
       "| <!--/--> | X1 &lt;dbl&gt; | X2 &lt;dbl&gt; | X3 &lt;dbl&gt; | Y &lt;dbl&gt; |\n",
       "|---|---|---|---|---|\n",
       "| 1 | 149.3 | 4.2 | 108.1 | 15.9 |\n",
       "| 2 | 161.2 | 4.1 | 114.8 | 16.4 |\n",
       "| 3 | 171.5 | 3.1 | 123.2 | 19.0 |\n",
       "| 4 | 175.5 | 3.1 | 126.9 | 19.1 |\n",
       "| 5 | 180.5 | 1.1 | 132.1 | 18.8 |\n",
       "| 6 | 190.7 | 2.2 | 137.7 | 20.4 |\n",
       "| 7 | 202.1 | 2.1 | 146.0 | 22.7 |\n",
       "| 8 | 212.4 | 5.6 | 154.1 | 26.5 |\n",
       "| 9 | 226.1 | 5.0 | 162.3 | 28.1 |\n",
       "| 10 | 231.9 | 5.1 | 164.3 | 27.6 |\n",
       "| 11 | 239.0 | 0.7 | 167.6 | 26.3 |\n",
       "\n"
      ],
      "text/plain": [
       "   X1    X2  X3    Y   \n",
       "1  149.3 4.2 108.1 15.9\n",
       "2  161.2 4.1 114.8 16.4\n",
       "3  171.5 3.1 123.2 19.0\n",
       "4  175.5 3.1 126.9 19.1\n",
       "5  180.5 1.1 132.1 18.8\n",
       "6  190.7 2.2 137.7 20.4\n",
       "7  202.1 2.1 146.0 22.7\n",
       "8  212.4 5.6 154.1 26.5\n",
       "9  226.1 5.0 162.3 28.1\n",
       "10 231.9 5.1 164.3 27.6\n",
       "11 239.0 0.7 167.6 26.3"
      ]
     },
     "metadata": {},
     "output_type": "display_data"
    }
   ],
   "source": [
    "data<-read.table('./data2.txt')\n",
    "data"
   ]
  },
  {
   "cell_type": "code",
   "execution_count": 61,
   "id": "a3bf36df",
   "metadata": {
    "scrolled": true
   },
   "outputs": [
    {
     "data": {
      "text/plain": [
       "\n",
       "Call:\n",
       "lm(formula = Y ~ ., data = data)\n",
       "\n",
       "Residuals:\n",
       "     Min       1Q   Median       3Q      Max \n",
       "-0.53121 -0.38727  0.06017  0.22255  0.78256 \n",
       "\n",
       "Coefficients:\n",
       "             Estimate Std. Error t value Pr(>|t|)    \n",
       "(Intercept) -10.11450    1.21635  -8.315 7.11e-05 ***\n",
       "X1           -0.04848    0.06912  -0.701 0.505661    \n",
       "X2            0.58863    0.09466   6.219 0.000437 ***\n",
       "X3            0.28265    0.10056   2.811 0.026119 *  \n",
       "---\n",
       "Signif. codes:  0 '***' 0.001 '**' 0.01 '*' 0.05 '.' 0.1 ' ' 1\n",
       "\n",
       "Residual standard error: 0.4903 on 7 degrees of freedom\n",
       "Multiple R-squared:  0.9919,\tAdjusted R-squared:  0.9884 \n",
       "F-statistic:   284 on 3 and 7 DF,  p-value: 1.134e-07\n"
      ]
     },
     "metadata": {},
     "output_type": "display_data"
    }
   ],
   "source": [
    "# 做线性回归\n",
    "lm.data<-lm(Y~.,data=data)\n",
    "summary(lm.data)"
   ]
  },
  {
   "cell_type": "markdown",
   "id": "deb2233f",
   "metadata": {},
   "source": [
    "从计算结果可以看出，按三个变量得到回归方程\n",
    "$$\n",
    "Y=-10.11450 - 0.04848X_1 + 0.58863X_2 + 0.28265X_3\n",
    "$$\n",
    "虽然决定系数和调整决定系数很高，分别为$99.1\\%$和$98.8\\%$，但是可以发现并不合理，回到问题本身，Y是进口量，X1是国内总产值，对应的系数为负号，说明国内总产值越高，其进口来那个却越少，这与实际情况是不相符的。 究其原因，是三个变量存在多重共线性。\n",
    "\n",
    "为克服多重共线性的影响，对变量作主成分回归，先做主成分分析："
   ]
  },
  {
   "cell_type": "code",
   "execution_count": 62,
   "id": "1f52b2b2",
   "metadata": {
    "scrolled": true
   },
   "outputs": [
    {
     "data": {
      "text/plain": [
       "Importance of components:\n",
       "                          Comp.1    Comp.2       Comp.3\n",
       "Standard deviation     1.4139110 0.9990294 0.0528751780\n",
       "Proportion of Variance 0.6663815 0.3326866 0.0009319281\n",
       "Cumulative Proportion  0.6663815 0.9990681 1.0000000000\n",
       "\n",
       "Loadings:\n",
       "   Comp.1 Comp.2 Comp.3\n",
       "X1  0.706         0.707\n",
       "X2        -0.999       \n",
       "X3  0.707        -0.707"
      ]
     },
     "metadata": {},
     "output_type": "display_data"
    }
   ],
   "source": [
    "data.pr<-princomp(data[,-4],cor=T)\n",
    "summary(data.pr,loadings=T)"
   ]
  },
  {
   "cell_type": "markdown",
   "id": "87deceaf",
   "metadata": {},
   "source": [
    "可以看到，前两个主成分的累积贡献率已达到$99.9\\%$。第1主成分主要关于国内总产值和总消费，我们定为产销因子，第2主成分只与存储量有关，称为存储因子。\n",
    "\n",
    "下面做主成分回归。首先计算样本的主成分的预测值，并将第1主成分的预测值和第2主成分的预测值存放在数据框data中，然后再对主成分作回归分析："
   ]
  },
  {
   "cell_type": "code",
   "execution_count": 63,
   "id": "e9a29728",
   "metadata": {
    "scrolled": true
   },
   "outputs": [
    {
     "data": {
      "text/html": [
       "<table class=\"dataframe\">\n",
       "<caption>A data.frame: 11 × 6</caption>\n",
       "<thead>\n",
       "\t<tr><th></th><th scope=col>X1</th><th scope=col>X2</th><th scope=col>X3</th><th scope=col>Y</th><th scope=col>Z1</th><th scope=col>Z2</th></tr>\n",
       "\t<tr><th></th><th scope=col>&lt;dbl&gt;</th><th scope=col>&lt;dbl&gt;</th><th scope=col>&lt;dbl&gt;</th><th scope=col>&lt;dbl&gt;</th><th scope=col>&lt;dbl&gt;</th><th scope=col>&lt;dbl&gt;</th></tr>\n",
       "</thead>\n",
       "<tbody>\n",
       "\t<tr><th scope=row>1</th><td>149.3</td><td>4.2</td><td>108.1</td><td>15.9</td><td>-2.2278306</td><td>-0.67187106</td></tr>\n",
       "\t<tr><th scope=row>2</th><td>161.2</td><td>4.1</td><td>114.8</td><td>16.4</td><td>-1.6963432</td><td>-0.58425536</td></tr>\n",
       "\t<tr><th scope=row>3</th><td>171.5</td><td>3.1</td><td>123.2</td><td>19.0</td><td>-1.1687303</td><td> 0.07547599</td></tr>\n",
       "\t<tr><th scope=row>4</th><td>175.5</td><td>3.1</td><td>126.9</td><td>19.1</td><td>-0.9371348</td><td> 0.08557047</td></tr>\n",
       "\t<tr><th scope=row>5</th><td>180.5</td><td>1.1</td><td>132.1</td><td>18.8</td><td>-0.6835053</td><td> 1.36957036</td></tr>\n",
       "\t<tr><th scope=row>6</th><td>190.7</td><td>2.2</td><td>137.7</td><td>20.4</td><td>-0.1995704</td><td> 0.69119508</td></tr>\n",
       "\t<tr><th scope=row>7</th><td>202.1</td><td>2.1</td><td>146.0</td><td>22.7</td><td> 0.3770325</td><td> 0.78039544</td></tr>\n",
       "\t<tr><th scope=row>8</th><td>212.4</td><td>5.6</td><td>154.1</td><td>26.5</td><td> 1.0210270</td><td>-1.41911074</td></tr>\n",
       "\t<tr><th scope=row>9</th><td>226.1</td><td>5.0</td><td>162.3</td><td>28.1</td><td> 1.6366789</td><td>-1.00953318</td></tr>\n",
       "\t<tr><th scope=row>10</th><td>231.9</td><td>5.1</td><td>164.3</td><td>27.6</td><td> 1.8544800</td><td>-1.06306964</td></tr>\n",
       "\t<tr><th scope=row>11</th><td>239.0</td><td>0.7</td><td>167.6</td><td>26.3</td><td> 2.0238962</td><td> 1.74563266</td></tr>\n",
       "</tbody>\n",
       "</table>\n"
      ],
      "text/latex": [
       "A data.frame: 11 × 6\n",
       "\\begin{tabular}{r|llllll}\n",
       "  & X1 & X2 & X3 & Y & Z1 & Z2\\\\\n",
       "  & <dbl> & <dbl> & <dbl> & <dbl> & <dbl> & <dbl>\\\\\n",
       "\\hline\n",
       "\t1 & 149.3 & 4.2 & 108.1 & 15.9 & -2.2278306 & -0.67187106\\\\\n",
       "\t2 & 161.2 & 4.1 & 114.8 & 16.4 & -1.6963432 & -0.58425536\\\\\n",
       "\t3 & 171.5 & 3.1 & 123.2 & 19.0 & -1.1687303 &  0.07547599\\\\\n",
       "\t4 & 175.5 & 3.1 & 126.9 & 19.1 & -0.9371348 &  0.08557047\\\\\n",
       "\t5 & 180.5 & 1.1 & 132.1 & 18.8 & -0.6835053 &  1.36957036\\\\\n",
       "\t6 & 190.7 & 2.2 & 137.7 & 20.4 & -0.1995704 &  0.69119508\\\\\n",
       "\t7 & 202.1 & 2.1 & 146.0 & 22.7 &  0.3770325 &  0.78039544\\\\\n",
       "\t8 & 212.4 & 5.6 & 154.1 & 26.5 &  1.0210270 & -1.41911074\\\\\n",
       "\t9 & 226.1 & 5.0 & 162.3 & 28.1 &  1.6366789 & -1.00953318\\\\\n",
       "\t10 & 231.9 & 5.1 & 164.3 & 27.6 &  1.8544800 & -1.06306964\\\\\n",
       "\t11 & 239.0 & 0.7 & 167.6 & 26.3 &  2.0238962 &  1.74563266\\\\\n",
       "\\end{tabular}\n"
      ],
      "text/markdown": [
       "\n",
       "A data.frame: 11 × 6\n",
       "\n",
       "| <!--/--> | X1 &lt;dbl&gt; | X2 &lt;dbl&gt; | X3 &lt;dbl&gt; | Y &lt;dbl&gt; | Z1 &lt;dbl&gt; | Z2 &lt;dbl&gt; |\n",
       "|---|---|---|---|---|---|---|\n",
       "| 1 | 149.3 | 4.2 | 108.1 | 15.9 | -2.2278306 | -0.67187106 |\n",
       "| 2 | 161.2 | 4.1 | 114.8 | 16.4 | -1.6963432 | -0.58425536 |\n",
       "| 3 | 171.5 | 3.1 | 123.2 | 19.0 | -1.1687303 |  0.07547599 |\n",
       "| 4 | 175.5 | 3.1 | 126.9 | 19.1 | -0.9371348 |  0.08557047 |\n",
       "| 5 | 180.5 | 1.1 | 132.1 | 18.8 | -0.6835053 |  1.36957036 |\n",
       "| 6 | 190.7 | 2.2 | 137.7 | 20.4 | -0.1995704 |  0.69119508 |\n",
       "| 7 | 202.1 | 2.1 | 146.0 | 22.7 |  0.3770325 |  0.78039544 |\n",
       "| 8 | 212.4 | 5.6 | 154.1 | 26.5 |  1.0210270 | -1.41911074 |\n",
       "| 9 | 226.1 | 5.0 | 162.3 | 28.1 |  1.6366789 | -1.00953318 |\n",
       "| 10 | 231.9 | 5.1 | 164.3 | 27.6 |  1.8544800 | -1.06306964 |\n",
       "| 11 | 239.0 | 0.7 | 167.6 | 26.3 |  2.0238962 |  1.74563266 |\n",
       "\n"
      ],
      "text/plain": [
       "   X1    X2  X3    Y    Z1         Z2         \n",
       "1  149.3 4.2 108.1 15.9 -2.2278306 -0.67187106\n",
       "2  161.2 4.1 114.8 16.4 -1.6963432 -0.58425536\n",
       "3  171.5 3.1 123.2 19.0 -1.1687303  0.07547599\n",
       "4  175.5 3.1 126.9 19.1 -0.9371348  0.08557047\n",
       "5  180.5 1.1 132.1 18.8 -0.6835053  1.36957036\n",
       "6  190.7 2.2 137.7 20.4 -0.1995704  0.69119508\n",
       "7  202.1 2.1 146.0 22.7  0.3770325  0.78039544\n",
       "8  212.4 5.6 154.1 26.5  1.0210270 -1.41911074\n",
       "9  226.1 5.0 162.3 28.1  1.6366789 -1.00953318\n",
       "10 231.9 5.1 164.3 27.6  1.8544800 -1.06306964\n",
       "11 239.0 0.7 167.6 26.3  2.0238962  1.74563266"
      ]
     },
     "metadata": {},
     "output_type": "display_data"
    }
   ],
   "source": [
    "pre<-predict(data.pr)\n",
    "data$Z1<-pre[,1]\n",
    "data$Z2<-pre[,2]\n",
    "data"
   ]
  },
  {
   "cell_type": "code",
   "execution_count": 64,
   "id": "cac5dc02",
   "metadata": {
    "scrolled": true
   },
   "outputs": [
    {
     "data": {
      "text/plain": [
       "\n",
       "Call:\n",
       "lm(formula = Y ~ Z1 + Z2, data = data)\n",
       "\n",
       "Residuals:\n",
       "     Min       1Q   Median       3Q      Max \n",
       "-0.89996 -0.26518  0.08148  0.35616  0.66562 \n",
       "\n",
       "Coefficients:\n",
       "            Estimate Std. Error t value Pr(>|t|)    \n",
       "(Intercept)  21.8909     0.1659 131.918 1.22e-14 ***\n",
       "Z1            2.9899     0.1174  25.475 6.04e-09 ***\n",
       "Z2           -0.8232     0.1661  -4.956  0.00111 ** \n",
       "---\n",
       "Signif. codes:  0 '***' 0.001 '**' 0.01 '*' 0.05 '.' 0.1 ' ' 1\n",
       "\n",
       "Residual standard error: 0.5504 on 8 degrees of freedom\n",
       "Multiple R-squared:  0.9883,\tAdjusted R-squared:  0.9853 \n",
       "F-statistic: 336.8 on 2 and 8 DF,  p-value: 1.898e-08\n"
      ]
     },
     "metadata": {},
     "output_type": "display_data"
    }
   ],
   "source": [
    "newdata.lm<-lm(Y~Z1+Z2,data=data)\n",
    "summary(newdata.lm)"
   ]
  },
  {
   "cell_type": "markdown",
   "id": "8f0b7f89",
   "metadata": {},
   "source": [
    "回归系数和回归方程均通过检验，而且效果显著，即得到回归方程\n",
    "$$\n",
    "Y=21.8909-2.9899Z_1-0.8232Z_2\n",
    "$$\n",
    "上述方程得到的是响应变量与主成分的关系，但是，应用起来并不方便，还是需要得到响应变量与原变量之间的关系。"
   ]
  },
  {
   "cell_type": "code",
   "execution_count": 65,
   "id": "25f8e805",
   "metadata": {},
   "outputs": [
    {
     "data": {
      "text/html": [
       "<style>\n",
       ".dl-inline {width: auto; margin:0; padding: 0}\n",
       ".dl-inline>dt, .dl-inline>dd {float: none; width: auto; display: inline-block}\n",
       ".dl-inline>dt::after {content: \":\\0020\"; padding-right: .5ex}\n",
       ".dl-inline>dt:not(:first-of-type) {padding-left: .5ex}\n",
       "</style><dl class=dl-inline><dt>(Intercept)</dt><dd>21.8909090909091</dd><dt>Z1</dt><dd>2.98990754283923</dd><dt>Z2</dt><dd>-0.823208078218522</dd></dl>\n"
      ],
      "text/latex": [
       "\\begin{description*}\n",
       "\\item[(Intercept)] 21.8909090909091\n",
       "\\item[Z1] 2.98990754283923\n",
       "\\item[Z2] -0.823208078218522\n",
       "\\end{description*}\n"
      ],
      "text/markdown": [
       "(Intercept)\n",
       ":   21.8909090909091Z1\n",
       ":   2.98990754283923Z2\n",
       ":   -0.823208078218522\n",
       "\n"
      ],
      "text/plain": [
       "(Intercept)          Z1          Z2 \n",
       " 21.8909091   2.9899075  -0.8232081 "
      ]
     },
     "metadata": {},
     "output_type": "display_data"
    }
   ],
   "source": [
    "# coef()提取回归系数\n",
    "beta<-coef(newdata.lm)\n",
    "beta"
   ]
  },
  {
   "cell_type": "code",
   "execution_count": 66,
   "id": "7c222c12",
   "metadata": {
    "scrolled": true
   },
   "outputs": [
    {
     "data": {
      "text/plain": [
       "\n",
       "Loadings:\n",
       "   Comp.1 Comp.2 Comp.3\n",
       "X1  0.706         0.707\n",
       "X2        -0.999       \n",
       "X3  0.707        -0.707\n",
       "\n",
       "               Comp.1 Comp.2 Comp.3\n",
       "SS loadings     1.000  1.000  1.000\n",
       "Proportion Var  0.333  0.333  0.333\n",
       "Cumulative Var  0.333  0.667  1.000"
      ]
     },
     "metadata": {},
     "output_type": "display_data"
    }
   ],
   "source": [
    "# loadings()提取主成分对应的特征向量\n",
    "A<-loadings(data.pr)\n",
    "A"
   ]
  },
  {
   "cell_type": "code",
   "execution_count": 67,
   "id": "129fb071",
   "metadata": {},
   "outputs": [
    {
     "data": {
      "text/html": [
       "<style>\n",
       ".dl-inline {width: auto; margin:0; padding: 0}\n",
       ".dl-inline>dt, .dl-inline>dd {float: none; width: auto; display: inline-block}\n",
       ".dl-inline>dt::after {content: \":\\0020\"; padding-right: .5ex}\n",
       ".dl-inline>dt:not(:first-of-type) {padding-left: .5ex}\n",
       "</style><dl class=dl-inline><dt>X1</dt><dd>194.563636363636</dd><dt>X2</dt><dd>3.3</dd><dt>X3</dt><dd>139.736363636364</dd></dl>\n"
      ],
      "text/latex": [
       "\\begin{description*}\n",
       "\\item[X1] 194.563636363636\n",
       "\\item[X2] 3.3\n",
       "\\item[X3] 139.736363636364\n",
       "\\end{description*}\n"
      ],
      "text/markdown": [
       "X1\n",
       ":   194.563636363636X2\n",
       ":   3.3X3\n",
       ":   139.736363636364\n",
       "\n"
      ],
      "text/plain": [
       "      X1       X2       X3 \n",
       "194.5636   3.3000 139.7364 "
      ]
     },
     "metadata": {},
     "output_type": "display_data"
    }
   ],
   "source": [
    "# 提取数据中心，即数据X的均值\n",
    "x.bar<-data.pr$center\n",
    "x.bar"
   ]
  },
  {
   "cell_type": "code",
   "execution_count": 68,
   "id": "ca9eb6f6",
   "metadata": {},
   "outputs": [
    {
     "data": {
      "text/html": [
       "<style>\n",
       ".dl-inline {width: auto; margin:0; padding: 0}\n",
       ".dl-inline>dt, .dl-inline>dd {float: none; width: auto; display: inline-block}\n",
       ".dl-inline>dt::after {content: \":\\0020\"; padding-right: .5ex}\n",
       ".dl-inline>dt:not(:first-of-type) {padding-left: .5ex}\n",
       "</style><dl class=dl-inline><dt>X1</dt><dd>28.6166916557857</dd><dt>X2</dt><dd>1.57249078621379</dd><dt>X3</dt><dd>19.6741303482181</dd></dl>\n"
      ],
      "text/latex": [
       "\\begin{description*}\n",
       "\\item[X1] 28.6166916557857\n",
       "\\item[X2] 1.57249078621379\n",
       "\\item[X3] 19.6741303482181\n",
       "\\end{description*}\n"
      ],
      "text/markdown": [
       "X1\n",
       ":   28.6166916557857X2\n",
       ":   1.57249078621379X3\n",
       ":   19.6741303482181\n",
       "\n"
      ],
      "text/plain": [
       "       X1        X2        X3 \n",
       "28.616692  1.572491 19.674130 "
      ]
     },
     "metadata": {},
     "output_type": "display_data"
    }
   ],
   "source": [
    "# 提取数据的标准差\n",
    "x.sd<-data.pr$scale\n",
    "x.sd"
   ]
  },
  {
   "cell_type": "code",
   "execution_count": 69,
   "id": "0134e496",
   "metadata": {
    "scrolled": true
   },
   "outputs": [
    {
     "data": {
      "text/html": [
       "<style>\n",
       ".dl-inline {width: auto; margin:0; padding: 0}\n",
       ".dl-inline>dt, .dl-inline>dd {float: none; width: auto; display: inline-block}\n",
       ".dl-inline>dt::after {content: \":\\0020\"; padding-right: .5ex}\n",
       ".dl-inline>dt:not(:first-of-type) {padding-left: .5ex}\n",
       "</style><dl class=dl-inline><dt>(Intercept)</dt><dd>-9.11661905029152</dd><dt>X1</dt><dd>0.0727699832833245</dd><dt>X2</dt><dd>0.607463846789619</dd><dt>X3</dt><dd>0.106232225419148</dd></dl>\n"
      ],
      "text/latex": [
       "\\begin{description*}\n",
       "\\item[(Intercept)] -9.11661905029152\n",
       "\\item[X1] 0.0727699832833245\n",
       "\\item[X2] 0.607463846789619\n",
       "\\item[X3] 0.106232225419148\n",
       "\\end{description*}\n"
      ],
      "text/markdown": [
       "(Intercept)\n",
       ":   -9.11661905029152X1\n",
       ":   0.0727699832833245X2\n",
       ":   0.607463846789619X3\n",
       ":   0.106232225419148\n",
       "\n"
      ],
      "text/plain": [
       "(Intercept)          X1          X2          X3 \n",
       "-9.11661905  0.07276998  0.60746385  0.10623223 "
      ]
     },
     "metadata": {},
     "output_type": "display_data"
    }
   ],
   "source": [
    "coef<-(beta[2]*A[,1]+beta[3]*A[,2])/x.sd\n",
    "beta0<-beta[1]-sum(x.bar*coef)\n",
    "c(beta0,coef)"
   ]
  },
  {
   "cell_type": "markdown",
   "id": "90ebcf2a",
   "metadata": {},
   "source": [
    "# 31省市自治区人均消费水平综合分析"
   ]
  },
  {
   "cell_type": "code",
   "execution_count": 70,
   "id": "96678175",
   "metadata": {
    "scrolled": true
   },
   "outputs": [
    {
     "data": {
      "text/html": [
       "<table class=\"dataframe\">\n",
       "<caption>A matrix: 8 × 8 of type dbl</caption>\n",
       "<thead>\n",
       "\t<tr><th></th><th scope=col>X1</th><th scope=col>X2</th><th scope=col>X3</th><th scope=col>X4</th><th scope=col>X5</th><th scope=col>X6</th><th scope=col>X7</th><th scope=col>X8</th></tr>\n",
       "</thead>\n",
       "<tbody>\n",
       "\t<tr><th scope=row>X1</th><td>1.0000000</td><td>0.2569697</td><td>0.7252526</td><td>0.3853672</td><td>0.8990457</td><td>0.8284572</td><td>0.7145260</td><td>0.7218909</td></tr>\n",
       "\t<tr><th scope=row>X2</th><td>0.2569697</td><td>1.0000000</td><td>0.4537807</td><td>0.5765121</td><td>0.3575064</td><td>0.5420120</td><td>0.4045314</td><td>0.6277509</td></tr>\n",
       "\t<tr><th scope=row>X3</th><td>0.7252526</td><td>0.4537807</td><td>1.0000000</td><td>0.5831419</td><td>0.7823418</td><td>0.8924742</td><td>0.7744004</td><td>0.7220538</td></tr>\n",
       "\t<tr><th scope=row>X4</th><td>0.3853672</td><td>0.5765121</td><td>0.5831419</td><td>1.0000000</td><td>0.4665789</td><td>0.6291140</td><td>0.6911234</td><td>0.6254195</td></tr>\n",
       "\t<tr><th scope=row>X5</th><td>0.8990457</td><td>0.3575064</td><td>0.7823418</td><td>0.4665789</td><td>1.0000000</td><td>0.8795439</td><td>0.7853531</td><td>0.7517683</td></tr>\n",
       "\t<tr><th scope=row>X6</th><td>0.8284572</td><td>0.5420120</td><td>0.8924742</td><td>0.6291140</td><td>0.8795439</td><td>1.0000000</td><td>0.8133081</td><td>0.8435436</td></tr>\n",
       "\t<tr><th scope=row>X7</th><td>0.7145260</td><td>0.4045314</td><td>0.7744004</td><td>0.6911234</td><td>0.7853531</td><td>0.8133081</td><td>1.0000000</td><td>0.7183218</td></tr>\n",
       "\t<tr><th scope=row>X8</th><td>0.7218909</td><td>0.6277509</td><td>0.7220538</td><td>0.6254195</td><td>0.7517683</td><td>0.8435436</td><td>0.7183218</td><td>1.0000000</td></tr>\n",
       "</tbody>\n",
       "</table>\n"
      ],
      "text/latex": [
       "A matrix: 8 × 8 of type dbl\n",
       "\\begin{tabular}{r|llllllll}\n",
       "  & X1 & X2 & X3 & X4 & X5 & X6 & X7 & X8\\\\\n",
       "\\hline\n",
       "\tX1 & 1.0000000 & 0.2569697 & 0.7252526 & 0.3853672 & 0.8990457 & 0.8284572 & 0.7145260 & 0.7218909\\\\\n",
       "\tX2 & 0.2569697 & 1.0000000 & 0.4537807 & 0.5765121 & 0.3575064 & 0.5420120 & 0.4045314 & 0.6277509\\\\\n",
       "\tX3 & 0.7252526 & 0.4537807 & 1.0000000 & 0.5831419 & 0.7823418 & 0.8924742 & 0.7744004 & 0.7220538\\\\\n",
       "\tX4 & 0.3853672 & 0.5765121 & 0.5831419 & 1.0000000 & 0.4665789 & 0.6291140 & 0.6911234 & 0.6254195\\\\\n",
       "\tX5 & 0.8990457 & 0.3575064 & 0.7823418 & 0.4665789 & 1.0000000 & 0.8795439 & 0.7853531 & 0.7517683\\\\\n",
       "\tX6 & 0.8284572 & 0.5420120 & 0.8924742 & 0.6291140 & 0.8795439 & 1.0000000 & 0.8133081 & 0.8435436\\\\\n",
       "\tX7 & 0.7145260 & 0.4045314 & 0.7744004 & 0.6911234 & 0.7853531 & 0.8133081 & 1.0000000 & 0.7183218\\\\\n",
       "\tX8 & 0.7218909 & 0.6277509 & 0.7220538 & 0.6254195 & 0.7517683 & 0.8435436 & 0.7183218 & 1.0000000\\\\\n",
       "\\end{tabular}\n"
      ],
      "text/markdown": [
       "\n",
       "A matrix: 8 × 8 of type dbl\n",
       "\n",
       "| <!--/--> | X1 | X2 | X3 | X4 | X5 | X6 | X7 | X8 |\n",
       "|---|---|---|---|---|---|---|---|---|\n",
       "| X1 | 1.0000000 | 0.2569697 | 0.7252526 | 0.3853672 | 0.8990457 | 0.8284572 | 0.7145260 | 0.7218909 |\n",
       "| X2 | 0.2569697 | 1.0000000 | 0.4537807 | 0.5765121 | 0.3575064 | 0.5420120 | 0.4045314 | 0.6277509 |\n",
       "| X3 | 0.7252526 | 0.4537807 | 1.0000000 | 0.5831419 | 0.7823418 | 0.8924742 | 0.7744004 | 0.7220538 |\n",
       "| X4 | 0.3853672 | 0.5765121 | 0.5831419 | 1.0000000 | 0.4665789 | 0.6291140 | 0.6911234 | 0.6254195 |\n",
       "| X5 | 0.8990457 | 0.3575064 | 0.7823418 | 0.4665789 | 1.0000000 | 0.8795439 | 0.7853531 | 0.7517683 |\n",
       "| X6 | 0.8284572 | 0.5420120 | 0.8924742 | 0.6291140 | 0.8795439 | 1.0000000 | 0.8133081 | 0.8435436 |\n",
       "| X7 | 0.7145260 | 0.4045314 | 0.7744004 | 0.6911234 | 0.7853531 | 0.8133081 | 1.0000000 | 0.7183218 |\n",
       "| X8 | 0.7218909 | 0.6277509 | 0.7220538 | 0.6254195 | 0.7517683 | 0.8435436 | 0.7183218 | 1.0000000 |\n",
       "\n"
      ],
      "text/plain": [
       "   X1        X2        X3        X4        X5        X6        X7       \n",
       "X1 1.0000000 0.2569697 0.7252526 0.3853672 0.8990457 0.8284572 0.7145260\n",
       "X2 0.2569697 1.0000000 0.4537807 0.5765121 0.3575064 0.5420120 0.4045314\n",
       "X3 0.7252526 0.4537807 1.0000000 0.5831419 0.7823418 0.8924742 0.7744004\n",
       "X4 0.3853672 0.5765121 0.5831419 1.0000000 0.4665789 0.6291140 0.6911234\n",
       "X5 0.8990457 0.3575064 0.7823418 0.4665789 1.0000000 0.8795439 0.7853531\n",
       "X6 0.8284572 0.5420120 0.8924742 0.6291140 0.8795439 1.0000000 0.8133081\n",
       "X7 0.7145260 0.4045314 0.7744004 0.6911234 0.7853531 0.8133081 1.0000000\n",
       "X8 0.7218909 0.6277509 0.7220538 0.6254195 0.7517683 0.8435436 0.7183218\n",
       "   X8       \n",
       "X1 0.7218909\n",
       "X2 0.6277509\n",
       "X3 0.7220538\n",
       "X4 0.6254195\n",
       "X5 0.7517683\n",
       "X6 0.8435436\n",
       "X7 0.7183218\n",
       "X8 1.0000000"
      ]
     },
     "metadata": {},
     "output_type": "display_data"
    }
   ],
   "source": [
    "#(1)计算相关矩阵\n",
    "X=read.table('./d7_2.txt',header=TRUE)\n",
    "cor(X)"
   ]
  },
  {
   "cell_type": "code",
   "execution_count": 71,
   "id": "3aad05e2",
   "metadata": {
    "scrolled": true
   },
   "outputs": [
    {
     "data": {
      "text/plain": [
       "Call:\n",
       "princomp(x = X, cor = TRUE)\n",
       "\n",
       "Standard deviations:\n",
       "   Comp.1    Comp.2    Comp.3    Comp.4    Comp.5    Comp.6    Comp.7    Comp.8 \n",
       "2.3877119 1.0142326 0.7101294 0.5222697 0.4314432 0.4015967 0.2955459 0.2415456 \n",
       "\n",
       " 8  variables and  31 observations."
      ]
     },
     "metadata": {},
     "output_type": "display_data"
    },
    {
     "data": {
      "text/plain": [
       "\n",
       "Loadings:\n",
       "   Comp.1 Comp.2 Comp.3 Comp.4 Comp.5 Comp.6 Comp.7 Comp.8\n",
       "X1  0.353  0.429  0.175  0.299         0.377  0.651       \n",
       "X2  0.249 -0.677  0.521        -0.399  0.129  0.134       \n",
       "X3  0.374               -0.789  0.261         0.116  0.372\n",
       "X4  0.302 -0.472 -0.628  0.225  0.249  0.416              \n",
       "X5  0.376  0.324  0.123  0.127 -0.281  0.267 -0.695  0.298\n",
       "X6  0.404               -0.200  0.132        -0.156 -0.857\n",
       "X7  0.371        -0.442        -0.584 -0.535  0.166       \n",
       "X8  0.374 -0.118  0.282  0.409  0.522 -0.546         0.141\n",
       "\n",
       "               Comp.1 Comp.2 Comp.3 Comp.4 Comp.5 Comp.6 Comp.7 Comp.8\n",
       "SS loadings     1.000  1.000  1.000  1.000  1.000  1.000  1.000  1.000\n",
       "Proportion Var  0.125  0.125  0.125  0.125  0.125  0.125  0.125  0.125\n",
       "Cumulative Var  0.125  0.250  0.375  0.500  0.625  0.750  0.875  1.000"
      ]
     },
     "metadata": {},
     "output_type": "display_data"
    },
    {
     "name": "stdout",
     "output_type": "stream",
     "text": [
      "\n",
      "Loadings:\n",
      "   Comp.1 Comp.2 Comp.3 Comp.4 Comp.5 Comp.6 Comp.7 Comp.8\n",
      "X1  0.353  0.429  0.175  0.299  0.002  0.377  0.651  0.070\n",
      "X2  0.249 -0.677  0.521 -0.096 -0.399  0.129  0.134  0.068\n",
      "X3  0.374  0.089 -0.072 -0.789  0.261 -0.064  0.116  0.372\n",
      "X4  0.302 -0.472 -0.628  0.225  0.249  0.416 -0.036  0.073\n",
      "X5  0.376  0.324  0.123  0.127 -0.281  0.267 -0.695  0.298\n",
      "X6  0.404  0.069  0.090 -0.200  0.132  0.088 -0.156 -0.857\n",
      "X7  0.371  0.056 -0.442  0.069 -0.584 -0.535  0.166 -0.058\n",
      "X8  0.374 -0.118  0.282  0.409  0.522 -0.546 -0.089  0.141\n",
      "\n",
      "               Comp.1 Comp.2 Comp.3 Comp.4 Comp.5 Comp.6 Comp.7 Comp.8\n",
      "SS loadings     1.000  1.000  1.000  1.000  1.000  1.000  1.000  1.000\n",
      "Proportion Var  0.125  0.125  0.125  0.125  0.125  0.125  0.125  0.125\n",
      "Cumulative Var  0.125  0.250  0.375  0.500  0.625  0.750  0.875  1.000\n"
     ]
    }
   ],
   "source": [
    "#(2)求相关矩阵的特征根和主成分负荷\n",
    "PCA=princomp(X,cor=TRUE)\n",
    "PCA\n",
    "PCA$loading   ##载荷矩阵中部分数据小于设定阈值而未显示\n",
    "print(PCA$loading,cutoff=0)"
   ]
  },
  {
   "cell_type": "code",
   "execution_count": 72,
   "id": "9355c82b",
   "metadata": {
    "scrolled": true
   },
   "outputs": [
    {
     "data": {
      "image/png": "[encoded data removed]",
      "text/plain": [
       "Plot with title \"张逸敏\""
      ]
     },
     "metadata": {
      "image/png": {
       "height": 420,
       "width": 420
      }
     },
     "output_type": "display_data"
    }
   ],
   "source": [
    "#(3)确定主成分\n",
    "screeplot(PCA,type='lines',main=\"张逸敏\")"
   ]
  },
  {
   "cell_type": "code",
   "execution_count": 73,
   "id": "71e3b677",
   "metadata": {
    "scrolled": true
   },
   "outputs": [
    {
     "data": {
      "text/html": [
       "<table class=\"dataframe\">\n",
       "<caption>A matrix: 31 × 2 of type dbl</caption>\n",
       "<thead>\n",
       "\t<tr><th></th><th scope=col>Comp.1</th><th scope=col>Comp.2</th></tr>\n",
       "</thead>\n",
       "<tbody>\n",
       "\t<tr><th scope=row>北京</th><td> 6.12230233</td><td>-1.5225207</td></tr>\n",
       "\t<tr><th scope=row>天津</th><td> 3.01010636</td><td>-0.5367841</td></tr>\n",
       "\t<tr><th scope=row>河北</th><td>-0.88750148</td><td>-0.6923451</td></tr>\n",
       "\t<tr><th scope=row>山西</th><td>-1.10374781</td><td>-0.6013737</td></tr>\n",
       "\t<tr><th scope=row>内蒙古</th><td> 0.53334901</td><td>-1.8477269</td></tr>\n",
       "\t<tr><th scope=row>辽宁</th><td> 0.09437659</td><td>-0.6551539</td></tr>\n",
       "\t<tr><th scope=row>吉林</th><td>-0.32707448</td><td>-1.4246843</td></tr>\n",
       "\t<tr><th scope=row>黑龙江</th><td>-1.68861172</td><td>-0.9958838</td></tr>\n",
       "\t<tr><th scope=row>上海</th><td> 7.08467075</td><td> 1.0693203</td></tr>\n",
       "\t<tr><th scope=row>江苏</th><td> 1.14131407</td><td> 0.4536945</td></tr>\n",
       "\t<tr><th scope=row>浙江</th><td> 3.82110679</td><td>-0.1721339</td></tr>\n",
       "\t<tr><th scope=row>安徽</th><td>-1.12338014</td><td> 0.3518062</td></tr>\n",
       "\t<tr><th scope=row>福建</th><td> 1.17171809</td><td> 1.3776085</td></tr>\n",
       "\t<tr><th scope=row>江西</th><td>-1.66938246</td><td> 0.5484835</td></tr>\n",
       "\t<tr><th scope=row>山东</th><td> 0.48111168</td><td>-0.8084609</td></tr>\n",
       "\t<tr><th scope=row>河南</th><td>-1.27722788</td><td>-0.6479033</td></tr>\n",
       "\t<tr><th scope=row>湖北</th><td>-1.00945390</td><td> 0.1165043</td></tr>\n",
       "\t<tr><th scope=row>湖南</th><td>-0.36506902</td><td>-0.2007324</td></tr>\n",
       "\t<tr><th scope=row>广东</th><td> 4.03195586</td><td> 2.4804874</td></tr>\n",
       "\t<tr><th scope=row>广西</th><td>-1.62739176</td><td> 1.2305704</td></tr>\n",
       "\t<tr><th scope=row>海南</th><td>-1.87311537</td><td> 2.3528197</td></tr>\n",
       "\t<tr><th scope=row>重庆</th><td> 0.39403198</td><td>-0.4623324</td></tr>\n",
       "\t<tr><th scope=row>四川</th><td>-1.15376310</td><td> 0.5180723</td></tr>\n",
       "\t<tr><th scope=row>贵州</th><td>-2.01403098</td><td> 0.6594701</td></tr>\n",
       "\t<tr><th scope=row>云南</th><td>-2.42950002</td><td> 0.4177647</td></tr>\n",
       "\t<tr><th scope=row>西藏</th><td>-2.72036533</td><td> 1.0105476</td></tr>\n",
       "\t<tr><th scope=row>陕西</th><td>-0.88797732</td><td>-0.1169535</td></tr>\n",
       "\t<tr><th scope=row>甘肃</th><td>-1.32452136</td><td>-0.1444992</td></tr>\n",
       "\t<tr><th scope=row>青海</th><td>-1.76845611</td><td>-0.2089337</td></tr>\n",
       "\t<tr><th scope=row>宁夏</th><td>-1.31733038</td><td>-0.4960324</td></tr>\n",
       "\t<tr><th scope=row>新疆</th><td>-1.31814288</td><td>-1.0526951</td></tr>\n",
       "</tbody>\n",
       "</table>\n"
      ],
      "text/latex": [
       "A matrix: 31 × 2 of type dbl\n",
       "\\begin{tabular}{r|ll}\n",
       "  & Comp.1 & Comp.2\\\\\n",
       "\\hline\n",
       "\t北京 &  6.12230233 & -1.5225207\\\\\n",
       "\t天津 &  3.01010636 & -0.5367841\\\\\n",
       "\t河北 & -0.88750148 & -0.6923451\\\\\n",
       "\t山西 & -1.10374781 & -0.6013737\\\\\n",
       "\t内蒙古 &  0.53334901 & -1.8477269\\\\\n",
       "\t辽宁 &  0.09437659 & -0.6551539\\\\\n",
       "\t吉林 & -0.32707448 & -1.4246843\\\\\n",
       "\t黑龙江 & -1.68861172 & -0.9958838\\\\\n",
       "\t上海 &  7.08467075 &  1.0693203\\\\\n",
       "\t江苏 &  1.14131407 &  0.4536945\\\\\n",
       "\t浙江 &  3.82110679 & -0.1721339\\\\\n",
       "\t安徽 & -1.12338014 &  0.3518062\\\\\n",
       "\t福建 &  1.17171809 &  1.3776085\\\\\n",
       "\t江西 & -1.66938246 &  0.5484835\\\\\n",
       "\t山东 &  0.48111168 & -0.8084609\\\\\n",
       "\t河南 & -1.27722788 & -0.6479033\\\\\n",
       "\t湖北 & -1.00945390 &  0.1165043\\\\\n",
       "\t湖南 & -0.36506902 & -0.2007324\\\\\n",
       "\t广东 &  4.03195586 &  2.4804874\\\\\n",
       "\t广西 & -1.62739176 &  1.2305704\\\\\n",
       "\t海南 & -1.87311537 &  2.3528197\\\\\n",
       "\t重庆 &  0.39403198 & -0.4623324\\\\\n",
       "\t四川 & -1.15376310 &  0.5180723\\\\\n",
       "\t贵州 & -2.01403098 &  0.6594701\\\\\n",
       "\t云南 & -2.42950002 &  0.4177647\\\\\n",
       "\t西藏 & -2.72036533 &  1.0105476\\\\\n",
       "\t陕西 & -0.88797732 & -0.1169535\\\\\n",
       "\t甘肃 & -1.32452136 & -0.1444992\\\\\n",
       "\t青海 & -1.76845611 & -0.2089337\\\\\n",
       "\t宁夏 & -1.31733038 & -0.4960324\\\\\n",
       "\t新疆 & -1.31814288 & -1.0526951\\\\\n",
       "\\end{tabular}\n"
      ],
      "text/markdown": [
       "\n",
       "A matrix: 31 × 2 of type dbl\n",
       "\n",
       "| <!--/--> | Comp.1 | Comp.2 |\n",
       "|---|---|---|\n",
       "| 北京 |  6.12230233 | -1.5225207 |\n",
       "| 天津 |  3.01010636 | -0.5367841 |\n",
       "| 河北 | -0.88750148 | -0.6923451 |\n",
       "| 山西 | -1.10374781 | -0.6013737 |\n",
       "| 内蒙古 |  0.53334901 | -1.8477269 |\n",
       "| 辽宁 |  0.09437659 | -0.6551539 |\n",
       "| 吉林 | -0.32707448 | -1.4246843 |\n",
       "| 黑龙江 | -1.68861172 | -0.9958838 |\n",
       "| 上海 |  7.08467075 |  1.0693203 |\n",
       "| 江苏 |  1.14131407 |  0.4536945 |\n",
       "| 浙江 |  3.82110679 | -0.1721339 |\n",
       "| 安徽 | -1.12338014 |  0.3518062 |\n",
       "| 福建 |  1.17171809 |  1.3776085 |\n",
       "| 江西 | -1.66938246 |  0.5484835 |\n",
       "| 山东 |  0.48111168 | -0.8084609 |\n",
       "| 河南 | -1.27722788 | -0.6479033 |\n",
       "| 湖北 | -1.00945390 |  0.1165043 |\n",
       "| 湖南 | -0.36506902 | -0.2007324 |\n",
       "| 广东 |  4.03195586 |  2.4804874 |\n",
       "| 广西 | -1.62739176 |  1.2305704 |\n",
       "| 海南 | -1.87311537 |  2.3528197 |\n",
       "| 重庆 |  0.39403198 | -0.4623324 |\n",
       "| 四川 | -1.15376310 |  0.5180723 |\n",
       "| 贵州 | -2.01403098 |  0.6594701 |\n",
       "| 云南 | -2.42950002 |  0.4177647 |\n",
       "| 西藏 | -2.72036533 |  1.0105476 |\n",
       "| 陕西 | -0.88797732 | -0.1169535 |\n",
       "| 甘肃 | -1.32452136 | -0.1444992 |\n",
       "| 青海 | -1.76845611 | -0.2089337 |\n",
       "| 宁夏 | -1.31733038 | -0.4960324 |\n",
       "| 新疆 | -1.31814288 | -1.0526951 |\n",
       "\n"
      ],
      "text/plain": [
       "       Comp.1      Comp.2    \n",
       "北京    6.12230233 -1.5225207\n",
       "天津    3.01010636 -0.5367841\n",
       "河北   -0.88750148 -0.6923451\n",
       "山西   -1.10374781 -0.6013737\n",
       "内蒙古  0.53334901 -1.8477269\n",
       "辽宁    0.09437659 -0.6551539\n",
       "吉林   -0.32707448 -1.4246843\n",
       "黑龙江 -1.68861172 -0.9958838\n",
       "上海    7.08467075  1.0693203\n",
       "江苏    1.14131407  0.4536945\n",
       "浙江    3.82110679 -0.1721339\n",
       "安徽   -1.12338014  0.3518062\n",
       "福建    1.17171809  1.3776085\n",
       "江西   -1.66938246  0.5484835\n",
       "山东    0.48111168 -0.8084609\n",
       "河南   -1.27722788 -0.6479033\n",
       "湖北   -1.00945390  0.1165043\n",
       "湖南   -0.36506902 -0.2007324\n",
       "广东    4.03195586  2.4804874\n",
       "广西   -1.62739176  1.2305704\n",
       "海南   -1.87311537  2.3528197\n",
       "重庆    0.39403198 -0.4623324\n",
       "四川   -1.15376310  0.5180723\n",
       "贵州   -2.01403098  0.6594701\n",
       "云南   -2.42950002  0.4177647\n",
       "西藏   -2.72036533  1.0105476\n",
       "陕西   -0.88797732 -0.1169535\n",
       "甘肃   -1.32452136 -0.1444992\n",
       "青海   -1.76845611 -0.2089337\n",
       "宁夏   -1.31733038 -0.4960324\n",
       "新疆   -1.31814288 -1.0526951"
      ]
     },
     "metadata": {},
     "output_type": "display_data"
    }
   ],
   "source": [
    "#(4)主成分得分\n",
    "PCA$scores[,1:2]"
   ]
  },
  {
   "cell_type": "code",
   "execution_count": 97,
   "id": "57e484f6",
   "metadata": {},
   "outputs": [],
   "source": [
    "# 自定义函数\n",
    "### Name: princomp.rank\n",
    "\n",
    "### Aliases: princomp.rank\n",
    "### Keywords: ~kwd1 ~kwd2\n",
    "\n",
    "### ** Examples\n",
    "\n",
    "##---- Should be DIRECTLY executable !! ----\n",
    "##-- ==>  Define data, use random,\n",
    "##--    or do  help(data=index)  for the standard data sets.\n",
    "\n",
    "## The function is currently defined as\n",
    "princomp.rank<-function(PCA,m,plot=F)\n",
    "{\n",
    "  W=as.matrix(PCA[[1]]^2/sum(PCA[[1]]^2))\n",
    "  PCs=as.matrix(PCA$scores[,1:m])          \n",
    "  PC=PCs%*%W[1:m]/sum(W[1:m])  \n",
    "  #print(PC)\n",
    "  ans=cbind(PCs,'PC'=PC[,1],'rank'=rank(PC[,1]))\n",
    "  #cat(\"\\n\"); print(ans)\n",
    "  if(plot) \n",
    "  {\n",
    "   plot(PCs,main=\"张逸敏\");abline(h=0,v=0,lty=3)\n",
    "   text(PCs,label=rownames(PCs),pos=1.1,adj=0.5,cex=0.85) \n",
    "  }\n",
    "  return(ans)\n",
    "} #princomp.rank(PCA,2,T)"
   ]
  },
  {
   "cell_type": "code",
   "execution_count": 98,
   "id": "26ff45fd",
   "metadata": {
    "scrolled": false
   },
   "outputs": [
    {
     "data": {
      "text/html": [
       "<table class=\"dataframe\">\n",
       "<caption>A matrix: 31 × 4 of type dbl</caption>\n",
       "<thead>\n",
       "\t<tr><th></th><th scope=col>Comp.1</th><th scope=col>Comp.2</th><th scope=col>PC</th><th scope=col>rank</th></tr>\n",
       "</thead>\n",
       "<tbody>\n",
       "\t<tr><th scope=row>北京</th><td> 6.12230233</td><td>-1.5225207</td><td> 4.95377713</td><td>30</td></tr>\n",
       "\t<tr><th scope=row>天津</th><td> 3.01010636</td><td>-0.5367841</td><td> 2.46795766</td><td>27</td></tr>\n",
       "\t<tr><th scope=row>河北</th><td>-0.88750148</td><td>-0.6923451</td><td>-0.85767147</td><td>16</td></tr>\n",
       "\t<tr><th scope=row>山西</th><td>-1.10374781</td><td>-0.6013737</td><td>-1.02695901</td><td>13</td></tr>\n",
       "\t<tr><th scope=row>内蒙古</th><td> 0.53334901</td><td>-1.8477269</td><td> 0.16939720</td><td>22</td></tr>\n",
       "\t<tr><th scope=row>辽宁</th><td> 0.09437659</td><td>-0.6551539</td><td>-0.02019052</td><td>21</td></tr>\n",
       "\t<tr><th scope=row>吉林</th><td>-0.32707448</td><td>-1.4246843</td><td>-0.49484615</td><td>19</td></tr>\n",
       "\t<tr><th scope=row>黑龙江</th><td>-1.68861172</td><td>-0.9958838</td><td>-1.58272699</td><td> 4</td></tr>\n",
       "\t<tr><th scope=row>上海</th><td> 7.08467075</td><td> 1.0693203</td><td> 6.16521342</td><td>31</td></tr>\n",
       "\t<tr><th scope=row>江苏</th><td> 1.14131407</td><td> 0.4536945</td><td> 1.03621016</td><td>25</td></tr>\n",
       "\t<tr><th scope=row>浙江</th><td> 3.82110679</td><td>-0.1721339</td><td> 3.21073265</td><td>28</td></tr>\n",
       "\t<tr><th scope=row>安徽</th><td>-1.12338014</td><td> 0.3518062</td><td>-0.89789520</td><td>15</td></tr>\n",
       "\t<tr><th scope=row>福建</th><td> 1.17171809</td><td> 1.3776085</td><td> 1.20318881</td><td>26</td></tr>\n",
       "\t<tr><th scope=row>江西</th><td>-1.66938246</td><td> 0.5484835</td><td>-1.33037759</td><td> 6</td></tr>\n",
       "\t<tr><th scope=row>山东</th><td> 0.48111168</td><td>-0.8084609</td><td> 0.28399815</td><td>24</td></tr>\n",
       "\t<tr><th scope=row>河南</th><td>-1.27722788</td><td>-0.6479033</td><td>-1.18103447</td><td>11</td></tr>\n",
       "\t<tr><th scope=row>湖北</th><td>-1.00945390</td><td> 0.1165043</td><td>-0.83734914</td><td>17</td></tr>\n",
       "\t<tr><th scope=row>湖南</th><td>-0.36506902</td><td>-0.2007324</td><td>-0.33994986</td><td>20</td></tr>\n",
       "\t<tr><th scope=row>广东</th><td> 4.03195586</td><td> 2.4804874</td><td> 3.79481107</td><td>29</td></tr>\n",
       "\t<tr><th scope=row>广西</th><td>-1.62739176</td><td> 1.2305704</td><td>-1.19054702</td><td>10</td></tr>\n",
       "\t<tr><th scope=row>海南</th><td>-1.87311537</td><td> 2.3528197</td><td>-1.22717346</td><td> 8</td></tr>\n",
       "\t<tr><th scope=row>重庆</th><td> 0.39403198</td><td>-0.4623324</td><td> 0.26313511</td><td>23</td></tr>\n",
       "\t<tr><th scope=row>四川</th><td>-1.15376310</td><td> 0.5180723</td><td>-0.89822000</td><td>14</td></tr>\n",
       "\t<tr><th scope=row>贵州</th><td>-2.01403098</td><td> 0.6594701</td><td>-1.60538145</td><td> 3</td></tr>\n",
       "\t<tr><th scope=row>云南</th><td>-2.42950002</td><td> 0.4177647</td><td>-1.99429039</td><td> 2</td></tr>\n",
       "\t<tr><th scope=row>西藏</th><td>-2.72036533</td><td> 1.0105476</td><td>-2.15008847</td><td> 1</td></tr>\n",
       "\t<tr><th scope=row>陕西</th><td>-0.88797732</td><td>-0.1169535</td><td>-0.77012492</td><td>18</td></tr>\n",
       "\t<tr><th scope=row>甘肃</th><td>-1.32452136</td><td>-0.1444992</td><td>-1.14415281</td><td>12</td></tr>\n",
       "\t<tr><th scope=row>青海</th><td>-1.76845611</td><td>-0.2089337</td><td>-1.53008025</td><td> 5</td></tr>\n",
       "\t<tr><th scope=row>宁夏</th><td>-1.31733038</td><td>-0.4960324</td><td>-1.19179348</td><td> 9</td></tr>\n",
       "\t<tr><th scope=row>新疆</th><td>-1.31814288</td><td>-1.0526951</td><td>-1.27756871</td><td> 7</td></tr>\n",
       "</tbody>\n",
       "</table>\n"
      ],
      "text/latex": [
       "A matrix: 31 × 4 of type dbl\n",
       "\\begin{tabular}{r|llll}\n",
       "  & Comp.1 & Comp.2 & PC & rank\\\\\n",
       "\\hline\n",
       "\t北京 &  6.12230233 & -1.5225207 &  4.95377713 & 30\\\\\n",
       "\t天津 &  3.01010636 & -0.5367841 &  2.46795766 & 27\\\\\n",
       "\t河北 & -0.88750148 & -0.6923451 & -0.85767147 & 16\\\\\n",
       "\t山西 & -1.10374781 & -0.6013737 & -1.02695901 & 13\\\\\n",
       "\t内蒙古 &  0.53334901 & -1.8477269 &  0.16939720 & 22\\\\\n",
       "\t辽宁 &  0.09437659 & -0.6551539 & -0.02019052 & 21\\\\\n",
       "\t吉林 & -0.32707448 & -1.4246843 & -0.49484615 & 19\\\\\n",
       "\t黑龙江 & -1.68861172 & -0.9958838 & -1.58272699 &  4\\\\\n",
       "\t上海 &  7.08467075 &  1.0693203 &  6.16521342 & 31\\\\\n",
       "\t江苏 &  1.14131407 &  0.4536945 &  1.03621016 & 25\\\\\n",
       "\t浙江 &  3.82110679 & -0.1721339 &  3.21073265 & 28\\\\\n",
       "\t安徽 & -1.12338014 &  0.3518062 & -0.89789520 & 15\\\\\n",
       "\t福建 &  1.17171809 &  1.3776085 &  1.20318881 & 26\\\\\n",
       "\t江西 & -1.66938246 &  0.5484835 & -1.33037759 &  6\\\\\n",
       "\t山东 &  0.48111168 & -0.8084609 &  0.28399815 & 24\\\\\n",
       "\t河南 & -1.27722788 & -0.6479033 & -1.18103447 & 11\\\\\n",
       "\t湖北 & -1.00945390 &  0.1165043 & -0.83734914 & 17\\\\\n",
       "\t湖南 & -0.36506902 & -0.2007324 & -0.33994986 & 20\\\\\n",
       "\t广东 &  4.03195586 &  2.4804874 &  3.79481107 & 29\\\\\n",
       "\t广西 & -1.62739176 &  1.2305704 & -1.19054702 & 10\\\\\n",
       "\t海南 & -1.87311537 &  2.3528197 & -1.22717346 &  8\\\\\n",
       "\t重庆 &  0.39403198 & -0.4623324 &  0.26313511 & 23\\\\\n",
       "\t四川 & -1.15376310 &  0.5180723 & -0.89822000 & 14\\\\\n",
       "\t贵州 & -2.01403098 &  0.6594701 & -1.60538145 &  3\\\\\n",
       "\t云南 & -2.42950002 &  0.4177647 & -1.99429039 &  2\\\\\n",
       "\t西藏 & -2.72036533 &  1.0105476 & -2.15008847 &  1\\\\\n",
       "\t陕西 & -0.88797732 & -0.1169535 & -0.77012492 & 18\\\\\n",
       "\t甘肃 & -1.32452136 & -0.1444992 & -1.14415281 & 12\\\\\n",
       "\t青海 & -1.76845611 & -0.2089337 & -1.53008025 &  5\\\\\n",
       "\t宁夏 & -1.31733038 & -0.4960324 & -1.19179348 &  9\\\\\n",
       "\t新疆 & -1.31814288 & -1.0526951 & -1.27756871 &  7\\\\\n",
       "\\end{tabular}\n"
      ],
      "text/markdown": [
       "\n",
       "A matrix: 31 × 4 of type dbl\n",
       "\n",
       "| <!--/--> | Comp.1 | Comp.2 | PC | rank |\n",
       "|---|---|---|---|---|\n",
       "| 北京 |  6.12230233 | -1.5225207 |  4.95377713 | 30 |\n",
       "| 天津 |  3.01010636 | -0.5367841 |  2.46795766 | 27 |\n",
       "| 河北 | -0.88750148 | -0.6923451 | -0.85767147 | 16 |\n",
       "| 山西 | -1.10374781 | -0.6013737 | -1.02695901 | 13 |\n",
       "| 内蒙古 |  0.53334901 | -1.8477269 |  0.16939720 | 22 |\n",
       "| 辽宁 |  0.09437659 | -0.6551539 | -0.02019052 | 21 |\n",
       "| 吉林 | -0.32707448 | -1.4246843 | -0.49484615 | 19 |\n",
       "| 黑龙江 | -1.68861172 | -0.9958838 | -1.58272699 |  4 |\n",
       "| 上海 |  7.08467075 |  1.0693203 |  6.16521342 | 31 |\n",
       "| 江苏 |  1.14131407 |  0.4536945 |  1.03621016 | 25 |\n",
       "| 浙江 |  3.82110679 | -0.1721339 |  3.21073265 | 28 |\n",
       "| 安徽 | -1.12338014 |  0.3518062 | -0.89789520 | 15 |\n",
       "| 福建 |  1.17171809 |  1.3776085 |  1.20318881 | 26 |\n",
       "| 江西 | -1.66938246 |  0.5484835 | -1.33037759 |  6 |\n",
       "| 山东 |  0.48111168 | -0.8084609 |  0.28399815 | 24 |\n",
       "| 河南 | -1.27722788 | -0.6479033 | -1.18103447 | 11 |\n",
       "| 湖北 | -1.00945390 |  0.1165043 | -0.83734914 | 17 |\n",
       "| 湖南 | -0.36506902 | -0.2007324 | -0.33994986 | 20 |\n",
       "| 广东 |  4.03195586 |  2.4804874 |  3.79481107 | 29 |\n",
       "| 广西 | -1.62739176 |  1.2305704 | -1.19054702 | 10 |\n",
       "| 海南 | -1.87311537 |  2.3528197 | -1.22717346 |  8 |\n",
       "| 重庆 |  0.39403198 | -0.4623324 |  0.26313511 | 23 |\n",
       "| 四川 | -1.15376310 |  0.5180723 | -0.89822000 | 14 |\n",
       "| 贵州 | -2.01403098 |  0.6594701 | -1.60538145 |  3 |\n",
       "| 云南 | -2.42950002 |  0.4177647 | -1.99429039 |  2 |\n",
       "| 西藏 | -2.72036533 |  1.0105476 | -2.15008847 |  1 |\n",
       "| 陕西 | -0.88797732 | -0.1169535 | -0.77012492 | 18 |\n",
       "| 甘肃 | -1.32452136 | -0.1444992 | -1.14415281 | 12 |\n",
       "| 青海 | -1.76845611 | -0.2089337 | -1.53008025 |  5 |\n",
       "| 宁夏 | -1.31733038 | -0.4960324 | -1.19179348 |  9 |\n",
       "| 新疆 | -1.31814288 | -1.0526951 | -1.27756871 |  7 |\n",
       "\n"
      ],
      "text/plain": [
       "       Comp.1      Comp.2     PC          rank\n",
       "北京    6.12230233 -1.5225207  4.95377713 30  \n",
       "天津    3.01010636 -0.5367841  2.46795766 27  \n",
       "河北   -0.88750148 -0.6923451 -0.85767147 16  \n",
       "山西   -1.10374781 -0.6013737 -1.02695901 13  \n",
       "内蒙古  0.53334901 -1.8477269  0.16939720 22  \n",
       "辽宁    0.09437659 -0.6551539 -0.02019052 21  \n",
       "吉林   -0.32707448 -1.4246843 -0.49484615 19  \n",
       "黑龙江 -1.68861172 -0.9958838 -1.58272699  4  \n",
       "上海    7.08467075  1.0693203  6.16521342 31  \n",
       "江苏    1.14131407  0.4536945  1.03621016 25  \n",
       "浙江    3.82110679 -0.1721339  3.21073265 28  \n",
       "安徽   -1.12338014  0.3518062 -0.89789520 15  \n",
       "福建    1.17171809  1.3776085  1.20318881 26  \n",
       "江西   -1.66938246  0.5484835 -1.33037759  6  \n",
       "山东    0.48111168 -0.8084609  0.28399815 24  \n",
       "河南   -1.27722788 -0.6479033 -1.18103447 11  \n",
       "湖北   -1.00945390  0.1165043 -0.83734914 17  \n",
       "湖南   -0.36506902 -0.2007324 -0.33994986 20  \n",
       "广东    4.03195586  2.4804874  3.79481107 29  \n",
       "广西   -1.62739176  1.2305704 -1.19054702 10  \n",
       "海南   -1.87311537  2.3528197 -1.22717346  8  \n",
       "重庆    0.39403198 -0.4623324  0.26313511 23  \n",
       "四川   -1.15376310  0.5180723 -0.89822000 14  \n",
       "贵州   -2.01403098  0.6594701 -1.60538145  3  \n",
       "云南   -2.42950002  0.4177647 -1.99429039  2  \n",
       "西藏   -2.72036533  1.0105476 -2.15008847  1  \n",
       "陕西   -0.88797732 -0.1169535 -0.77012492 18  \n",
       "甘肃   -1.32452136 -0.1444992 -1.14415281 12  \n",
       "青海   -1.76845611 -0.2089337 -1.53008025  5  \n",
       "宁夏   -1.31733038 -0.4960324 -1.19179348  9  \n",
       "新疆   -1.31814288 -1.0526951 -1.27756871  7  "
      ]
     },
     "metadata": {},
     "output_type": "display_data"
    },
    {
     "data": {
      "text/html": [
       "<table class=\"dataframe\">\n",
       "<caption>A matrix: 31 × 4 of type dbl</caption>\n",
       "<thead>\n",
       "\t<tr><th></th><th scope=col>Comp.1</th><th scope=col>Comp.2</th><th scope=col>PC</th><th scope=col>rank</th></tr>\n",
       "</thead>\n",
       "<tbody>\n",
       "\t<tr><th scope=row>北京</th><td> 6.12230233</td><td>-1.5225207</td><td> 4.95377713</td><td>30</td></tr>\n",
       "\t<tr><th scope=row>天津</th><td> 3.01010636</td><td>-0.5367841</td><td> 2.46795766</td><td>27</td></tr>\n",
       "\t<tr><th scope=row>河北</th><td>-0.88750148</td><td>-0.6923451</td><td>-0.85767147</td><td>16</td></tr>\n",
       "\t<tr><th scope=row>山西</th><td>-1.10374781</td><td>-0.6013737</td><td>-1.02695901</td><td>13</td></tr>\n",
       "\t<tr><th scope=row>内蒙古</th><td> 0.53334901</td><td>-1.8477269</td><td> 0.16939720</td><td>22</td></tr>\n",
       "\t<tr><th scope=row>辽宁</th><td> 0.09437659</td><td>-0.6551539</td><td>-0.02019052</td><td>21</td></tr>\n",
       "\t<tr><th scope=row>吉林</th><td>-0.32707448</td><td>-1.4246843</td><td>-0.49484615</td><td>19</td></tr>\n",
       "\t<tr><th scope=row>黑龙江</th><td>-1.68861172</td><td>-0.9958838</td><td>-1.58272699</td><td> 4</td></tr>\n",
       "\t<tr><th scope=row>上海</th><td> 7.08467075</td><td> 1.0693203</td><td> 6.16521342</td><td>31</td></tr>\n",
       "\t<tr><th scope=row>江苏</th><td> 1.14131407</td><td> 0.4536945</td><td> 1.03621016</td><td>25</td></tr>\n",
       "\t<tr><th scope=row>浙江</th><td> 3.82110679</td><td>-0.1721339</td><td> 3.21073265</td><td>28</td></tr>\n",
       "\t<tr><th scope=row>安徽</th><td>-1.12338014</td><td> 0.3518062</td><td>-0.89789520</td><td>15</td></tr>\n",
       "\t<tr><th scope=row>福建</th><td> 1.17171809</td><td> 1.3776085</td><td> 1.20318881</td><td>26</td></tr>\n",
       "\t<tr><th scope=row>江西</th><td>-1.66938246</td><td> 0.5484835</td><td>-1.33037759</td><td> 6</td></tr>\n",
       "\t<tr><th scope=row>山东</th><td> 0.48111168</td><td>-0.8084609</td><td> 0.28399815</td><td>24</td></tr>\n",
       "\t<tr><th scope=row>河南</th><td>-1.27722788</td><td>-0.6479033</td><td>-1.18103447</td><td>11</td></tr>\n",
       "\t<tr><th scope=row>湖北</th><td>-1.00945390</td><td> 0.1165043</td><td>-0.83734914</td><td>17</td></tr>\n",
       "\t<tr><th scope=row>湖南</th><td>-0.36506902</td><td>-0.2007324</td><td>-0.33994986</td><td>20</td></tr>\n",
       "\t<tr><th scope=row>广东</th><td> 4.03195586</td><td> 2.4804874</td><td> 3.79481107</td><td>29</td></tr>\n",
       "\t<tr><th scope=row>广西</th><td>-1.62739176</td><td> 1.2305704</td><td>-1.19054702</td><td>10</td></tr>\n",
       "\t<tr><th scope=row>海南</th><td>-1.87311537</td><td> 2.3528197</td><td>-1.22717346</td><td> 8</td></tr>\n",
       "\t<tr><th scope=row>重庆</th><td> 0.39403198</td><td>-0.4623324</td><td> 0.26313511</td><td>23</td></tr>\n",
       "\t<tr><th scope=row>四川</th><td>-1.15376310</td><td> 0.5180723</td><td>-0.89822000</td><td>14</td></tr>\n",
       "\t<tr><th scope=row>贵州</th><td>-2.01403098</td><td> 0.6594701</td><td>-1.60538145</td><td> 3</td></tr>\n",
       "\t<tr><th scope=row>云南</th><td>-2.42950002</td><td> 0.4177647</td><td>-1.99429039</td><td> 2</td></tr>\n",
       "\t<tr><th scope=row>西藏</th><td>-2.72036533</td><td> 1.0105476</td><td>-2.15008847</td><td> 1</td></tr>\n",
       "\t<tr><th scope=row>陕西</th><td>-0.88797732</td><td>-0.1169535</td><td>-0.77012492</td><td>18</td></tr>\n",
       "\t<tr><th scope=row>甘肃</th><td>-1.32452136</td><td>-0.1444992</td><td>-1.14415281</td><td>12</td></tr>\n",
       "\t<tr><th scope=row>青海</th><td>-1.76845611</td><td>-0.2089337</td><td>-1.53008025</td><td> 5</td></tr>\n",
       "\t<tr><th scope=row>宁夏</th><td>-1.31733038</td><td>-0.4960324</td><td>-1.19179348</td><td> 9</td></tr>\n",
       "\t<tr><th scope=row>新疆</th><td>-1.31814288</td><td>-1.0526951</td><td>-1.27756871</td><td> 7</td></tr>\n",
       "</tbody>\n",
       "</table>\n"
      ],
      "text/latex": [
       "A matrix: 31 × 4 of type dbl\n",
       "\\begin{tabular}{r|llll}\n",
       "  & Comp.1 & Comp.2 & PC & rank\\\\\n",
       "\\hline\n",
       "\t北京 &  6.12230233 & -1.5225207 &  4.95377713 & 30\\\\\n",
       "\t天津 &  3.01010636 & -0.5367841 &  2.46795766 & 27\\\\\n",
       "\t河北 & -0.88750148 & -0.6923451 & -0.85767147 & 16\\\\\n",
       "\t山西 & -1.10374781 & -0.6013737 & -1.02695901 & 13\\\\\n",
       "\t内蒙古 &  0.53334901 & -1.8477269 &  0.16939720 & 22\\\\\n",
       "\t辽宁 &  0.09437659 & -0.6551539 & -0.02019052 & 21\\\\\n",
       "\t吉林 & -0.32707448 & -1.4246843 & -0.49484615 & 19\\\\\n",
       "\t黑龙江 & -1.68861172 & -0.9958838 & -1.58272699 &  4\\\\\n",
       "\t上海 &  7.08467075 &  1.0693203 &  6.16521342 & 31\\\\\n",
       "\t江苏 &  1.14131407 &  0.4536945 &  1.03621016 & 25\\\\\n",
       "\t浙江 &  3.82110679 & -0.1721339 &  3.21073265 & 28\\\\\n",
       "\t安徽 & -1.12338014 &  0.3518062 & -0.89789520 & 15\\\\\n",
       "\t福建 &  1.17171809 &  1.3776085 &  1.20318881 & 26\\\\\n",
       "\t江西 & -1.66938246 &  0.5484835 & -1.33037759 &  6\\\\\n",
       "\t山东 &  0.48111168 & -0.8084609 &  0.28399815 & 24\\\\\n",
       "\t河南 & -1.27722788 & -0.6479033 & -1.18103447 & 11\\\\\n",
       "\t湖北 & -1.00945390 &  0.1165043 & -0.83734914 & 17\\\\\n",
       "\t湖南 & -0.36506902 & -0.2007324 & -0.33994986 & 20\\\\\n",
       "\t广东 &  4.03195586 &  2.4804874 &  3.79481107 & 29\\\\\n",
       "\t广西 & -1.62739176 &  1.2305704 & -1.19054702 & 10\\\\\n",
       "\t海南 & -1.87311537 &  2.3528197 & -1.22717346 &  8\\\\\n",
       "\t重庆 &  0.39403198 & -0.4623324 &  0.26313511 & 23\\\\\n",
       "\t四川 & -1.15376310 &  0.5180723 & -0.89822000 & 14\\\\\n",
       "\t贵州 & -2.01403098 &  0.6594701 & -1.60538145 &  3\\\\\n",
       "\t云南 & -2.42950002 &  0.4177647 & -1.99429039 &  2\\\\\n",
       "\t西藏 & -2.72036533 &  1.0105476 & -2.15008847 &  1\\\\\n",
       "\t陕西 & -0.88797732 & -0.1169535 & -0.77012492 & 18\\\\\n",
       "\t甘肃 & -1.32452136 & -0.1444992 & -1.14415281 & 12\\\\\n",
       "\t青海 & -1.76845611 & -0.2089337 & -1.53008025 &  5\\\\\n",
       "\t宁夏 & -1.31733038 & -0.4960324 & -1.19179348 &  9\\\\\n",
       "\t新疆 & -1.31814288 & -1.0526951 & -1.27756871 &  7\\\\\n",
       "\\end{tabular}\n"
      ],
      "text/markdown": [
       "\n",
       "A matrix: 31 × 4 of type dbl\n",
       "\n",
       "| <!--/--> | Comp.1 | Comp.2 | PC | rank |\n",
       "|---|---|---|---|---|\n",
       "| 北京 |  6.12230233 | -1.5225207 |  4.95377713 | 30 |\n",
       "| 天津 |  3.01010636 | -0.5367841 |  2.46795766 | 27 |\n",
       "| 河北 | -0.88750148 | -0.6923451 | -0.85767147 | 16 |\n",
       "| 山西 | -1.10374781 | -0.6013737 | -1.02695901 | 13 |\n",
       "| 内蒙古 |  0.53334901 | -1.8477269 |  0.16939720 | 22 |\n",
       "| 辽宁 |  0.09437659 | -0.6551539 | -0.02019052 | 21 |\n",
       "| 吉林 | -0.32707448 | -1.4246843 | -0.49484615 | 19 |\n",
       "| 黑龙江 | -1.68861172 | -0.9958838 | -1.58272699 |  4 |\n",
       "| 上海 |  7.08467075 |  1.0693203 |  6.16521342 | 31 |\n",
       "| 江苏 |  1.14131407 |  0.4536945 |  1.03621016 | 25 |\n",
       "| 浙江 |  3.82110679 | -0.1721339 |  3.21073265 | 28 |\n",
       "| 安徽 | -1.12338014 |  0.3518062 | -0.89789520 | 15 |\n",
       "| 福建 |  1.17171809 |  1.3776085 |  1.20318881 | 26 |\n",
       "| 江西 | -1.66938246 |  0.5484835 | -1.33037759 |  6 |\n",
       "| 山东 |  0.48111168 | -0.8084609 |  0.28399815 | 24 |\n",
       "| 河南 | -1.27722788 | -0.6479033 | -1.18103447 | 11 |\n",
       "| 湖北 | -1.00945390 |  0.1165043 | -0.83734914 | 17 |\n",
       "| 湖南 | -0.36506902 | -0.2007324 | -0.33994986 | 20 |\n",
       "| 广东 |  4.03195586 |  2.4804874 |  3.79481107 | 29 |\n",
       "| 广西 | -1.62739176 |  1.2305704 | -1.19054702 | 10 |\n",
       "| 海南 | -1.87311537 |  2.3528197 | -1.22717346 |  8 |\n",
       "| 重庆 |  0.39403198 | -0.4623324 |  0.26313511 | 23 |\n",
       "| 四川 | -1.15376310 |  0.5180723 | -0.89822000 | 14 |\n",
       "| 贵州 | -2.01403098 |  0.6594701 | -1.60538145 |  3 |\n",
       "| 云南 | -2.42950002 |  0.4177647 | -1.99429039 |  2 |\n",
       "| 西藏 | -2.72036533 |  1.0105476 | -2.15008847 |  1 |\n",
       "| 陕西 | -0.88797732 | -0.1169535 | -0.77012492 | 18 |\n",
       "| 甘肃 | -1.32452136 | -0.1444992 | -1.14415281 | 12 |\n",
       "| 青海 | -1.76845611 | -0.2089337 | -1.53008025 |  5 |\n",
       "| 宁夏 | -1.31733038 | -0.4960324 | -1.19179348 |  9 |\n",
       "| 新疆 | -1.31814288 | -1.0526951 | -1.27756871 |  7 |\n",
       "\n"
      ],
      "text/plain": [
       "       Comp.1      Comp.2     PC          rank\n",
       "北京    6.12230233 -1.5225207  4.95377713 30  \n",
       "天津    3.01010636 -0.5367841  2.46795766 27  \n",
       "河北   -0.88750148 -0.6923451 -0.85767147 16  \n",
       "山西   -1.10374781 -0.6013737 -1.02695901 13  \n",
       "内蒙古  0.53334901 -1.8477269  0.16939720 22  \n",
       "辽宁    0.09437659 -0.6551539 -0.02019052 21  \n",
       "吉林   -0.32707448 -1.4246843 -0.49484615 19  \n",
       "黑龙江 -1.68861172 -0.9958838 -1.58272699  4  \n",
       "上海    7.08467075  1.0693203  6.16521342 31  \n",
       "江苏    1.14131407  0.4536945  1.03621016 25  \n",
       "浙江    3.82110679 -0.1721339  3.21073265 28  \n",
       "安徽   -1.12338014  0.3518062 -0.89789520 15  \n",
       "福建    1.17171809  1.3776085  1.20318881 26  \n",
       "江西   -1.66938246  0.5484835 -1.33037759  6  \n",
       "山东    0.48111168 -0.8084609  0.28399815 24  \n",
       "河南   -1.27722788 -0.6479033 -1.18103447 11  \n",
       "湖北   -1.00945390  0.1165043 -0.83734914 17  \n",
       "湖南   -0.36506902 -0.2007324 -0.33994986 20  \n",
       "广东    4.03195586  2.4804874  3.79481107 29  \n",
       "广西   -1.62739176  1.2305704 -1.19054702 10  \n",
       "海南   -1.87311537  2.3528197 -1.22717346  8  \n",
       "重庆    0.39403198 -0.4623324  0.26313511 23  \n",
       "四川   -1.15376310  0.5180723 -0.89822000 14  \n",
       "贵州   -2.01403098  0.6594701 -1.60538145  3  \n",
       "云南   -2.42950002  0.4177647 -1.99429039  2  \n",
       "西藏   -2.72036533  1.0105476 -2.15008847  1  \n",
       "陕西   -0.88797732 -0.1169535 -0.77012492 18  \n",
       "甘肃   -1.32452136 -0.1444992 -1.14415281 12  \n",
       "青海   -1.76845611 -0.2089337 -1.53008025  5  \n",
       "宁夏   -1.31733038 -0.4960324 -1.19179348  9  \n",
       "新疆   -1.31814288 -1.0526951 -1.27756871  7  "
      ]
     },
     "metadata": {},
     "output_type": "display_data"
    },
    {
     "data": {
      "image/png": "[encoded data removed]",
      "text/plain": [
       "Plot with title \"张逸敏\""
      ]
     },
     "metadata": {
      "image/png": {
       "height": 420,
       "width": 420
      }
     },
     "output_type": "display_data"
    }
   ],
   "source": [
    "princomp.rank(PCA,m=2)#主成分排名\n",
    "princomp.rank(PCA,m=2,plot=TRUE)#主成分作图"
   ]
  },
  {
   "cell_type": "markdown",
   "id": "7655ce13",
   "metadata": {},
   "source": [
    "# 地区电信业发展情况的主成分分析"
   ]
  },
  {
   "cell_type": "code",
   "execution_count": 76,
   "id": "c4550790",
   "metadata": {
    "scrolled": false
   },
   "outputs": [
    {
     "data": {
      "text/html": [
       "<table class=\"dataframe\">\n",
       "<caption>A data.frame: 21 × 7</caption>\n",
       "<thead>\n",
       "\t<tr><th></th><th scope=col>X1</th><th scope=col>X2</th><th scope=col>X3</th><th scope=col>X4</th><th scope=col>X5</th><th scope=col>X6</th><th scope=col>X7</th></tr>\n",
       "\t<tr><th></th><th scope=col>&lt;dbl&gt;</th><th scope=col>&lt;dbl&gt;</th><th scope=col>&lt;dbl&gt;</th><th scope=col>&lt;dbl&gt;</th><th scope=col>&lt;dbl&gt;</th><th scope=col>&lt;dbl&gt;</th><th scope=col>&lt;dbl&gt;</th></tr>\n",
       "</thead>\n",
       "<tbody>\n",
       "\t<tr><th scope=row>广州市</th><td>2504685.00</td><td>0.76</td><td>1.38</td><td>315.95</td><td>360697.50</td><td>224645.30</td><td> 850957.00</td></tr>\n",
       "\t<tr><th scope=row>珠海市</th><td> 336312.90</td><td>0.77</td><td>1.56</td><td> 24.57</td><td> 51261.21</td><td> 28622.46</td><td> 118923.30</td></tr>\n",
       "\t<tr><th scope=row>汕头市</th><td> 459623.20</td><td>1.03</td><td>1.39</td><td> 67.76</td><td> 90426.76</td><td> 39189.25</td><td> 140527.60</td></tr>\n",
       "\t<tr><th scope=row>深圳市</th><td>2407800.00</td><td>2.54</td><td>5.38</td><td>255.09</td><td>260939.50</td><td>244179.30</td><td>1003601.00</td></tr>\n",
       "\t<tr><th scope=row>佛山市</th><td> 872521.00</td><td>0.62</td><td>1.15</td><td> 95.03</td><td> 99551.34</td><td> 95465.15</td><td> 349089.60</td></tr>\n",
       "\t<tr><th scope=row>韶关市</th><td> 146567.80</td><td>1.28</td><td>1.23</td><td> 13.97</td><td> 19184.27</td><td>  9921.97</td><td>  39182.47</td></tr>\n",
       "\t<tr><th scope=row>河源市</th><td> 105169.60</td><td>1.46</td><td>1.51</td><td>  6.33</td><td> 11927.68</td><td>  7523.68</td><td>  28804.30</td></tr>\n",
       "\t<tr><th scope=row>梅州市</th><td> 163800.80</td><td>2.74</td><td>2.45</td><td> 10.84</td><td> 28824.38</td><td> 10664.08</td><td>  40965.00</td></tr>\n",
       "\t<tr><th scope=row>惠州市</th><td> 407695.30</td><td>2.64</td><td>3.91</td><td> 47.32</td><td> 39881.16</td><td> 40954.59</td><td> 160412.80</td></tr>\n",
       "\t<tr><th scope=row>汕尾市</th><td> 124567.60</td><td>1.11</td><td>1.02</td><td>  6.14</td><td> 12402.01</td><td>  9817.33</td><td>  36103.81</td></tr>\n",
       "\t<tr><th scope=row>东莞市</th><td>1521224.00</td><td>1.29</td><td>3.05</td><td> 57.28</td><td>132547.80</td><td>179611.40</td><td> 710268.90</td></tr>\n",
       "\t<tr><th scope=row>中山市</th><td> 463105.70</td><td>0.64</td><td>1.17</td><td> 71.38</td><td> 49292.22</td><td> 46733.02</td><td> 178235.40</td></tr>\n",
       "\t<tr><th scope=row>江门市</th><td> 391794.70</td><td>0.94</td><td>1.31</td><td> 19.74</td><td> 31922.63</td><td> 31839.73</td><td> 120902.50</td></tr>\n",
       "\t<tr><th scope=row>阳江市</th><td> 129929.70</td><td>0.87</td><td>0.82</td><td> 24.88</td><td> 12496.82</td><td>  8751.72</td><td>  33261.07</td></tr>\n",
       "\t<tr><th scope=row>湛江市</th><td> 268156.90</td><td>0.67</td><td>0.70</td><td> 13.49</td><td> 32280.37</td><td> 16984.95</td><td>  66716.39</td></tr>\n",
       "\t<tr><th scope=row>茂名市</th><td> 194854.90</td><td>0.78</td><td>0.64</td><td>  8.99</td><td> 41158.33</td><td> 13163.95</td><td>  50628.09</td></tr>\n",
       "\t<tr><th scope=row>肇庆市</th><td> 190803.30</td><td>1.63</td><td>1.82</td><td> 19.26</td><td> 26969.57</td><td> 14207.31</td><td>  53703.97</td></tr>\n",
       "\t<tr><th scope=row>清远市</th><td> 151625.20</td><td>0.92</td><td>1.24</td><td> 19.43</td><td> 20661.24</td><td> 11381.77</td><td>  43122.04</td></tr>\n",
       "\t<tr><th scope=row>潮州市</th><td> 168024.50</td><td>1.73</td><td>2.11</td><td>  9.72</td><td> 35179.34</td><td> 13768.05</td><td>  49586.07</td></tr>\n",
       "\t<tr><th scope=row>揭阳市</th><td> 249834.60</td><td>1.29</td><td>1.32</td><td> 10.40</td><td> 28149.39</td><td> 20449.77</td><td>  73266.40</td></tr>\n",
       "\t<tr><th scope=row>云浮市</th><td>  89079.83</td><td>1.52</td><td>1.36</td><td>  8.81</td><td> 12218.77</td><td>  6563.50</td><td>  24170.14</td></tr>\n",
       "</tbody>\n",
       "</table>\n"
      ],
      "text/latex": [
       "A data.frame: 21 × 7\n",
       "\\begin{tabular}{r|lllllll}\n",
       "  & X1 & X2 & X3 & X4 & X5 & X6 & X7\\\\\n",
       "  & <dbl> & <dbl> & <dbl> & <dbl> & <dbl> & <dbl> & <dbl>\\\\\n",
       "\\hline\n",
       "\t广州市 & 2504685.00 & 0.76 & 1.38 & 315.95 & 360697.50 & 224645.30 &  850957.00\\\\\n",
       "\t珠海市 &  336312.90 & 0.77 & 1.56 &  24.57 &  51261.21 &  28622.46 &  118923.30\\\\\n",
       "\t汕头市 &  459623.20 & 1.03 & 1.39 &  67.76 &  90426.76 &  39189.25 &  140527.60\\\\\n",
       "\t深圳市 & 2407800.00 & 2.54 & 5.38 & 255.09 & 260939.50 & 244179.30 & 1003601.00\\\\\n",
       "\t佛山市 &  872521.00 & 0.62 & 1.15 &  95.03 &  99551.34 &  95465.15 &  349089.60\\\\\n",
       "\t韶关市 &  146567.80 & 1.28 & 1.23 &  13.97 &  19184.27 &   9921.97 &   39182.47\\\\\n",
       "\t河源市 &  105169.60 & 1.46 & 1.51 &   6.33 &  11927.68 &   7523.68 &   28804.30\\\\\n",
       "\t梅州市 &  163800.80 & 2.74 & 2.45 &  10.84 &  28824.38 &  10664.08 &   40965.00\\\\\n",
       "\t惠州市 &  407695.30 & 2.64 & 3.91 &  47.32 &  39881.16 &  40954.59 &  160412.80\\\\\n",
       "\t汕尾市 &  124567.60 & 1.11 & 1.02 &   6.14 &  12402.01 &   9817.33 &   36103.81\\\\\n",
       "\t东莞市 & 1521224.00 & 1.29 & 3.05 &  57.28 & 132547.80 & 179611.40 &  710268.90\\\\\n",
       "\t中山市 &  463105.70 & 0.64 & 1.17 &  71.38 &  49292.22 &  46733.02 &  178235.40\\\\\n",
       "\t江门市 &  391794.70 & 0.94 & 1.31 &  19.74 &  31922.63 &  31839.73 &  120902.50\\\\\n",
       "\t阳江市 &  129929.70 & 0.87 & 0.82 &  24.88 &  12496.82 &   8751.72 &   33261.07\\\\\n",
       "\t湛江市 &  268156.90 & 0.67 & 0.70 &  13.49 &  32280.37 &  16984.95 &   66716.39\\\\\n",
       "\t茂名市 &  194854.90 & 0.78 & 0.64 &   8.99 &  41158.33 &  13163.95 &   50628.09\\\\\n",
       "\t肇庆市 &  190803.30 & 1.63 & 1.82 &  19.26 &  26969.57 &  14207.31 &   53703.97\\\\\n",
       "\t清远市 &  151625.20 & 0.92 & 1.24 &  19.43 &  20661.24 &  11381.77 &   43122.04\\\\\n",
       "\t潮州市 &  168024.50 & 1.73 & 2.11 &   9.72 &  35179.34 &  13768.05 &   49586.07\\\\\n",
       "\t揭阳市 &  249834.60 & 1.29 & 1.32 &  10.40 &  28149.39 &  20449.77 &   73266.40\\\\\n",
       "\t云浮市 &   89079.83 & 1.52 & 1.36 &   8.81 &  12218.77 &   6563.50 &   24170.14\\\\\n",
       "\\end{tabular}\n"
      ],
      "text/markdown": [
       "\n",
       "A data.frame: 21 × 7\n",
       "\n",
       "| <!--/--> | X1 &lt;dbl&gt; | X2 &lt;dbl&gt; | X3 &lt;dbl&gt; | X4 &lt;dbl&gt; | X5 &lt;dbl&gt; | X6 &lt;dbl&gt; | X7 &lt;dbl&gt; |\n",
       "|---|---|---|---|---|---|---|---|\n",
       "| 广州市 | 2504685.00 | 0.76 | 1.38 | 315.95 | 360697.50 | 224645.30 |  850957.00 |\n",
       "| 珠海市 |  336312.90 | 0.77 | 1.56 |  24.57 |  51261.21 |  28622.46 |  118923.30 |\n",
       "| 汕头市 |  459623.20 | 1.03 | 1.39 |  67.76 |  90426.76 |  39189.25 |  140527.60 |\n",
       "| 深圳市 | 2407800.00 | 2.54 | 5.38 | 255.09 | 260939.50 | 244179.30 | 1003601.00 |\n",
       "| 佛山市 |  872521.00 | 0.62 | 1.15 |  95.03 |  99551.34 |  95465.15 |  349089.60 |\n",
       "| 韶关市 |  146567.80 | 1.28 | 1.23 |  13.97 |  19184.27 |   9921.97 |   39182.47 |\n",
       "| 河源市 |  105169.60 | 1.46 | 1.51 |   6.33 |  11927.68 |   7523.68 |   28804.30 |\n",
       "| 梅州市 |  163800.80 | 2.74 | 2.45 |  10.84 |  28824.38 |  10664.08 |   40965.00 |\n",
       "| 惠州市 |  407695.30 | 2.64 | 3.91 |  47.32 |  39881.16 |  40954.59 |  160412.80 |\n",
       "| 汕尾市 |  124567.60 | 1.11 | 1.02 |   6.14 |  12402.01 |   9817.33 |   36103.81 |\n",
       "| 东莞市 | 1521224.00 | 1.29 | 3.05 |  57.28 | 132547.80 | 179611.40 |  710268.90 |\n",
       "| 中山市 |  463105.70 | 0.64 | 1.17 |  71.38 |  49292.22 |  46733.02 |  178235.40 |\n",
       "| 江门市 |  391794.70 | 0.94 | 1.31 |  19.74 |  31922.63 |  31839.73 |  120902.50 |\n",
       "| 阳江市 |  129929.70 | 0.87 | 0.82 |  24.88 |  12496.82 |   8751.72 |   33261.07 |\n",
       "| 湛江市 |  268156.90 | 0.67 | 0.70 |  13.49 |  32280.37 |  16984.95 |   66716.39 |\n",
       "| 茂名市 |  194854.90 | 0.78 | 0.64 |   8.99 |  41158.33 |  13163.95 |   50628.09 |\n",
       "| 肇庆市 |  190803.30 | 1.63 | 1.82 |  19.26 |  26969.57 |  14207.31 |   53703.97 |\n",
       "| 清远市 |  151625.20 | 0.92 | 1.24 |  19.43 |  20661.24 |  11381.77 |   43122.04 |\n",
       "| 潮州市 |  168024.50 | 1.73 | 2.11 |   9.72 |  35179.34 |  13768.05 |   49586.07 |\n",
       "| 揭阳市 |  249834.60 | 1.29 | 1.32 |  10.40 |  28149.39 |  20449.77 |   73266.40 |\n",
       "| 云浮市 |   89079.83 | 1.52 | 1.36 |   8.81 |  12218.77 |   6563.50 |   24170.14 |\n",
       "\n"
      ],
      "text/plain": [
       "       X1         X2   X3   X4     X5        X6        X7        \n",
       "广州市 2504685.00 0.76 1.38 315.95 360697.50 224645.30  850957.00\n",
       "珠海市  336312.90 0.77 1.56  24.57  51261.21  28622.46  118923.30\n",
       "汕头市  459623.20 1.03 1.39  67.76  90426.76  39189.25  140527.60\n",
       "深圳市 2407800.00 2.54 5.38 255.09 260939.50 244179.30 1003601.00\n",
       "佛山市  872521.00 0.62 1.15  95.03  99551.34  95465.15  349089.60\n",
       "韶关市  146567.80 1.28 1.23  13.97  19184.27   9921.97   39182.47\n",
       "河源市  105169.60 1.46 1.51   6.33  11927.68   7523.68   28804.30\n",
       "梅州市  163800.80 2.74 2.45  10.84  28824.38  10664.08   40965.00\n",
       "惠州市  407695.30 2.64 3.91  47.32  39881.16  40954.59  160412.80\n",
       "汕尾市  124567.60 1.11 1.02   6.14  12402.01   9817.33   36103.81\n",
       "东莞市 1521224.00 1.29 3.05  57.28 132547.80 179611.40  710268.90\n",
       "中山市  463105.70 0.64 1.17  71.38  49292.22  46733.02  178235.40\n",
       "江门市  391794.70 0.94 1.31  19.74  31922.63  31839.73  120902.50\n",
       "阳江市  129929.70 0.87 0.82  24.88  12496.82   8751.72   33261.07\n",
       "湛江市  268156.90 0.67 0.70  13.49  32280.37  16984.95   66716.39\n",
       "茂名市  194854.90 0.78 0.64   8.99  41158.33  13163.95   50628.09\n",
       "肇庆市  190803.30 1.63 1.82  19.26  26969.57  14207.31   53703.97\n",
       "清远市  151625.20 0.92 1.24  19.43  20661.24  11381.77   43122.04\n",
       "潮州市  168024.50 1.73 2.11   9.72  35179.34  13768.05   49586.07\n",
       "揭阳市  249834.60 1.29 1.32  10.40  28149.39  20449.77   73266.40\n",
       "云浮市   89079.83 1.52 1.36   8.81  12218.77   6563.50   24170.14"
      ]
     },
     "metadata": {},
     "output_type": "display_data"
    }
   ],
   "source": [
    "#case study\n",
    "Case8=read.table('case8.txt',header=TRUE)\n",
    "Case8"
   ]
  },
  {
   "cell_type": "markdown",
   "id": "564a8d77",
   "metadata": {},
   "source": [
    "## 聚类分析"
   ]
  },
  {
   "cell_type": "code",
   "execution_count": 92,
   "id": "59a73465",
   "metadata": {},
   "outputs": [],
   "source": [
    "# 自定义函数\n",
    "### Name: H.clust\n",
    "### Aliases: H.clust\n",
    "### Keywords: ~kwd1 ~kwd2\n",
    "\n",
    "### ** Examples\n",
    "\n",
    "##---- Should be DIRECTLY executable !! ----\n",
    "##-- ==>  Define data, use random,\n",
    "##--    or do  help(data=index)  for the standard data sets.\n",
    "\n",
    "## The function is currently defined as\n",
    "H.clust<-function(X,d=\"euc\",m=\"comp\",proc=F,plot=TRUE)\n",
    "{\n",
    "  D=dist(X,d)\n",
    "  hc <- hclust(D,m)            \n",
    "  #if(proc){ cat(\"\\n cluster procdure: \\n\"); print(cbind(hc$merge,hc$height)) }\n",
    "  PROC=cbind(merge=hc$merge,height=hc$height)\n",
    "  if(proc) print(PROC)\n",
    "  if(plot) plot(hc,ylab=d,main=\"张逸敏\")    \n",
    "  #plot(hc,hang=hang,xlab=\"\",ylab=\"\",main=\"\")    \n",
    "  #hc1=as.dendrogram(hc)\n",
    "  #plot(hc1,xlab=\"G\",ylab=\"D\",horiz=TRUE) \n",
    "  #list(D=D,hc=hc,proc=proc)\n",
    "  return(hc)\n",
    "} #C=H.clust(X)"
   ]
  },
  {
   "cell_type": "code",
   "execution_count": 93,
   "id": "171e76b9",
   "metadata": {
    "scrolled": true
   },
   "outputs": [
    {
     "data": {
      "text/plain": [
       "\n",
       "Call:\n",
       "hclust(d = D, method = m)\n",
       "\n",
       "Cluster method   : complete \n",
       "Distance         : euclidean \n",
       "Number of objects: 21 \n"
      ]
     },
     "metadata": {},
     "output_type": "display_data"
    },
    {
     "data": {
      "image/png": "[encoded data removed]",
      "text/plain": [
       "Plot with title \"张逸敏\""
      ]
     },
     "metadata": {
      "image/png": {
       "height": 420,
       "width": 420
      }
     },
     "output_type": "display_data"
    }
   ],
   "source": [
    "H.clust(scale(Case8))"
   ]
  },
  {
   "cell_type": "markdown",
   "id": "59fbda88",
   "metadata": {},
   "source": [
    "根据聚类计算结果，广东省各城市按电信业发展水平应该分成四类\n",
    "\n",
    "![image-2.png](./cluster_res.png)\n",
    "\n",
    "从聚类结果可以看出，广东省电信业总量2003年排到了全国之首，但是各地区之间存在严重差异。对此，广东省政府应加快经济欠发达地区的电信建设，大力扩展山区电信市场，并采取扶持措施加强农村市场建设，促进广东省各地区电信业的协调发展。"
   ]
  },
  {
   "cell_type": "markdown",
   "id": "5ef9d402",
   "metadata": {},
   "source": [
    "## 主成分分析"
   ]
  },
  {
   "cell_type": "code",
   "execution_count": 99,
   "id": "25cc2685",
   "metadata": {
    "scrolled": true
   },
   "outputs": [
    {
     "data": {
      "text/plain": [
       "Importance of components:\n",
       "                          Comp.1    Comp.2     Comp.3      Comp.4      Comp.5\n",
       "Standard deviation     2.2728344 1.2505211 0.44970504 0.227971879 0.120498454\n",
       "Proportion of Variance 0.7379681 0.2234004 0.02889066 0.007424454 0.002074268\n",
       "Cumulative Proportion  0.7379681 0.9613685 0.99025913 0.997683585 0.999757853\n",
       "                             Comp.6       Comp.7\n",
       "Standard deviation     0.0355324091 2.079601e-02\n",
       "Proportion of Variance 0.0001803646 6.178203e-05\n",
       "Cumulative Proportion  0.9999382180 1.000000e+00"
      ]
     },
     "metadata": {},
     "output_type": "display_data"
    },
    {
     "data": {
      "text/html": [
       "<style>\n",
       ".list-inline {list-style: none; margin:0; padding: 0}\n",
       ".list-inline>li {display: inline-block}\n",
       ".list-inline>li:not(:last-child)::after {content: \"\\00b7\"; padding: 0 .5ex}\n",
       "</style>\n",
       "<ol class=list-inline><li>0.435312447773798</li><li>0.0973658680414553</li></ol>\n"
      ],
      "text/latex": [
       "\\begin{enumerate*}\n",
       "\\item 0.435312447773798\n",
       "\\item 0.0973658680414553\n",
       "\\end{enumerate*}\n"
      ],
      "text/markdown": [
       "1. 0.435312447773798\n",
       "2. 0.0973658680414553\n",
       "\n",
       "\n"
      ],
      "text/plain": [
       "[1] 0.43531245 0.09736587"
      ]
     },
     "metadata": {},
     "output_type": "display_data"
    },
    {
     "data": {
      "text/html": [
       "<table class=\"dataframe\">\n",
       "<caption>A matrix: 21 × 4 of type dbl</caption>\n",
       "<thead>\n",
       "\t<tr><th></th><th scope=col>Comp.1</th><th scope=col>Comp.2</th><th scope=col>PC</th><th scope=col>rank</th></tr>\n",
       "</thead>\n",
       "<tbody>\n",
       "\t<tr><th scope=row>广州市</th><td> 5.9067991</td><td> 2.55970083</td><td> 5.12900871</td><td>21</td></tr>\n",
       "\t<tr><th scope=row>珠海市</th><td>-0.7333979</td><td> 0.56847242</td><td>-0.43087252</td><td>14</td></tr>\n",
       "\t<tr><th scope=row>汕头市</th><td>-0.1481683</td><td> 0.54948062</td><td> 0.01394966</td><td>17</td></tr>\n",
       "\t<tr><th scope=row>深圳市</th><td> 6.6864413</td><td>-1.98309171</td><td> 4.67183676</td><td>20</td></tr>\n",
       "\t<tr><th scope=row>佛山市</th><td> 0.8354561</td><td> 1.39474668</td><td> 0.96542262</td><td>18</td></tr>\n",
       "\t<tr><th scope=row>韶关市</th><td>-1.3050370</td><td>-0.01633091</td><td>-1.00557067</td><td> 5</td></tr>\n",
       "\t<tr><th scope=row>河源市</th><td>-1.3377517</td><td>-0.42049544</td><td>-1.12460200</td><td> 2</td></tr>\n",
       "\t<tr><th scope=row>梅州市</th><td>-0.7234574</td><td>-2.38860477</td><td>-1.11040019</td><td> 3</td></tr>\n",
       "\t<tr><th scope=row>惠州市</th><td> 0.3941757</td><td>-2.85692104</td><td>-0.36130606</td><td>15</td></tr>\n",
       "\t<tr><th scope=row>汕尾市</th><td>-1.4768554</td><td> 0.26395929</td><td>-1.07232921</td><td> 4</td></tr>\n",
       "\t<tr><th scope=row>东莞市</th><td> 2.8592296</td><td>-0.17266750</td><td> 2.15468490</td><td>19</td></tr>\n",
       "\t<tr><th scope=row>中山市</th><td>-0.3390609</td><td> 1.06722611</td><td>-0.01227143</td><td>16</td></tr>\n",
       "\t<tr><th scope=row>江门市</th><td>-0.8325441</td><td> 0.45906655</td><td>-0.53240281</td><td>13</td></tr>\n",
       "\t<tr><th scope=row>阳江市</th><td>-1.4745838</td><td> 0.69356088</td><td>-0.97075572</td><td> 6</td></tr>\n",
       "\t<tr><th scope=row>湛江市</th><td>-1.3101524</td><td> 1.04963109</td><td>-0.76179181</td><td>12</td></tr>\n",
       "\t<tr><th scope=row>茂名市</th><td>-1.3822931</td><td> 0.94188228</td><td>-0.84220702</td><td>10</td></tr>\n",
       "\t<tr><th scope=row>肇庆市</th><td>-0.9606084</td><td>-0.70611954</td><td>-0.90147089</td><td> 9</td></tr>\n",
       "\t<tr><th scope=row>清远市</th><td>-1.3041414</td><td> 0.42559417</td><td>-0.90218971</td><td> 8</td></tr>\n",
       "\t<tr><th scope=row>潮州市</th><td>-0.9043253</td><td>-0.98540256</td><td>-0.92316579</td><td> 7</td></tr>\n",
       "\t<tr><th scope=row>揭阳市</th><td>-1.0743640</td><td>-0.03218726</td><td>-0.83218556</td><td>11</td></tr>\n",
       "\t<tr><th scope=row>云浮市</th><td>-1.3753608</td><td>-0.41150020</td><td>-1.15138126</td><td> 1</td></tr>\n",
       "</tbody>\n",
       "</table>\n"
      ],
      "text/latex": [
       "A matrix: 21 × 4 of type dbl\n",
       "\\begin{tabular}{r|llll}\n",
       "  & Comp.1 & Comp.2 & PC & rank\\\\\n",
       "\\hline\n",
       "\t广州市 &  5.9067991 &  2.55970083 &  5.12900871 & 21\\\\\n",
       "\t珠海市 & -0.7333979 &  0.56847242 & -0.43087252 & 14\\\\\n",
       "\t汕头市 & -0.1481683 &  0.54948062 &  0.01394966 & 17\\\\\n",
       "\t深圳市 &  6.6864413 & -1.98309171 &  4.67183676 & 20\\\\\n",
       "\t佛山市 &  0.8354561 &  1.39474668 &  0.96542262 & 18\\\\\n",
       "\t韶关市 & -1.3050370 & -0.01633091 & -1.00557067 &  5\\\\\n",
       "\t河源市 & -1.3377517 & -0.42049544 & -1.12460200 &  2\\\\\n",
       "\t梅州市 & -0.7234574 & -2.38860477 & -1.11040019 &  3\\\\\n",
       "\t惠州市 &  0.3941757 & -2.85692104 & -0.36130606 & 15\\\\\n",
       "\t汕尾市 & -1.4768554 &  0.26395929 & -1.07232921 &  4\\\\\n",
       "\t东莞市 &  2.8592296 & -0.17266750 &  2.15468490 & 19\\\\\n",
       "\t中山市 & -0.3390609 &  1.06722611 & -0.01227143 & 16\\\\\n",
       "\t江门市 & -0.8325441 &  0.45906655 & -0.53240281 & 13\\\\\n",
       "\t阳江市 & -1.4745838 &  0.69356088 & -0.97075572 &  6\\\\\n",
       "\t湛江市 & -1.3101524 &  1.04963109 & -0.76179181 & 12\\\\\n",
       "\t茂名市 & -1.3822931 &  0.94188228 & -0.84220702 & 10\\\\\n",
       "\t肇庆市 & -0.9606084 & -0.70611954 & -0.90147089 &  9\\\\\n",
       "\t清远市 & -1.3041414 &  0.42559417 & -0.90218971 &  8\\\\\n",
       "\t潮州市 & -0.9043253 & -0.98540256 & -0.92316579 &  7\\\\\n",
       "\t揭阳市 & -1.0743640 & -0.03218726 & -0.83218556 & 11\\\\\n",
       "\t云浮市 & -1.3753608 & -0.41150020 & -1.15138126 &  1\\\\\n",
       "\\end{tabular}\n"
      ],
      "text/markdown": [
       "\n",
       "A matrix: 21 × 4 of type dbl\n",
       "\n",
       "| <!--/--> | Comp.1 | Comp.2 | PC | rank |\n",
       "|---|---|---|---|---|\n",
       "| 广州市 |  5.9067991 |  2.55970083 |  5.12900871 | 21 |\n",
       "| 珠海市 | -0.7333979 |  0.56847242 | -0.43087252 | 14 |\n",
       "| 汕头市 | -0.1481683 |  0.54948062 |  0.01394966 | 17 |\n",
       "| 深圳市 |  6.6864413 | -1.98309171 |  4.67183676 | 20 |\n",
       "| 佛山市 |  0.8354561 |  1.39474668 |  0.96542262 | 18 |\n",
       "| 韶关市 | -1.3050370 | -0.01633091 | -1.00557067 |  5 |\n",
       "| 河源市 | -1.3377517 | -0.42049544 | -1.12460200 |  2 |\n",
       "| 梅州市 | -0.7234574 | -2.38860477 | -1.11040019 |  3 |\n",
       "| 惠州市 |  0.3941757 | -2.85692104 | -0.36130606 | 15 |\n",
       "| 汕尾市 | -1.4768554 |  0.26395929 | -1.07232921 |  4 |\n",
       "| 东莞市 |  2.8592296 | -0.17266750 |  2.15468490 | 19 |\n",
       "| 中山市 | -0.3390609 |  1.06722611 | -0.01227143 | 16 |\n",
       "| 江门市 | -0.8325441 |  0.45906655 | -0.53240281 | 13 |\n",
       "| 阳江市 | -1.4745838 |  0.69356088 | -0.97075572 |  6 |\n",
       "| 湛江市 | -1.3101524 |  1.04963109 | -0.76179181 | 12 |\n",
       "| 茂名市 | -1.3822931 |  0.94188228 | -0.84220702 | 10 |\n",
       "| 肇庆市 | -0.9606084 | -0.70611954 | -0.90147089 |  9 |\n",
       "| 清远市 | -1.3041414 |  0.42559417 | -0.90218971 |  8 |\n",
       "| 潮州市 | -0.9043253 | -0.98540256 | -0.92316579 |  7 |\n",
       "| 揭阳市 | -1.0743640 | -0.03218726 | -0.83218556 | 11 |\n",
       "| 云浮市 | -1.3753608 | -0.41150020 | -1.15138126 |  1 |\n",
       "\n"
      ],
      "text/plain": [
       "       Comp.1     Comp.2      PC          rank\n",
       "广州市  5.9067991  2.55970083  5.12900871 21  \n",
       "珠海市 -0.7333979  0.56847242 -0.43087252 14  \n",
       "汕头市 -0.1481683  0.54948062  0.01394966 17  \n",
       "深圳市  6.6864413 -1.98309171  4.67183676 20  \n",
       "佛山市  0.8354561  1.39474668  0.96542262 18  \n",
       "韶关市 -1.3050370 -0.01633091 -1.00557067  5  \n",
       "河源市 -1.3377517 -0.42049544 -1.12460200  2  \n",
       "梅州市 -0.7234574 -2.38860477 -1.11040019  3  \n",
       "惠州市  0.3941757 -2.85692104 -0.36130606 15  \n",
       "汕尾市 -1.4768554  0.26395929 -1.07232921  4  \n",
       "东莞市  2.8592296 -0.17266750  2.15468490 19  \n",
       "中山市 -0.3390609  1.06722611 -0.01227143 16  \n",
       "江门市 -0.8325441  0.45906655 -0.53240281 13  \n",
       "阳江市 -1.4745838  0.69356088 -0.97075572  6  \n",
       "湛江市 -1.3101524  1.04963109 -0.76179181 12  \n",
       "茂名市 -1.3822931  0.94188228 -0.84220702 10  \n",
       "肇庆市 -0.9606084 -0.70611954 -0.90147089  9  \n",
       "清远市 -1.3041414  0.42559417 -0.90218971  8  \n",
       "潮州市 -0.9043253 -0.98540256 -0.92316579  7  \n",
       "揭阳市 -1.0743640 -0.03218726 -0.83218556 11  \n",
       "云浮市 -1.3753608 -0.41150020 -1.15138126  1  "
      ]
     },
     "metadata": {},
     "output_type": "display_data"
    },
    {
     "data": {
      "text/html": [
       "<table class=\"dataframe\">\n",
       "<caption>A matrix: 21 × 4 of type dbl</caption>\n",
       "<thead>\n",
       "\t<tr><th></th><th scope=col>Comp.1</th><th scope=col>Comp.2</th><th scope=col>PC</th><th scope=col>rank</th></tr>\n",
       "</thead>\n",
       "<tbody>\n",
       "\t<tr><th scope=row>广州市</th><td> 5.9067991</td><td> 2.55970083</td><td> 5.12900871</td><td>21</td></tr>\n",
       "\t<tr><th scope=row>珠海市</th><td>-0.7333979</td><td> 0.56847242</td><td>-0.43087252</td><td>14</td></tr>\n",
       "\t<tr><th scope=row>汕头市</th><td>-0.1481683</td><td> 0.54948062</td><td> 0.01394966</td><td>17</td></tr>\n",
       "\t<tr><th scope=row>深圳市</th><td> 6.6864413</td><td>-1.98309171</td><td> 4.67183676</td><td>20</td></tr>\n",
       "\t<tr><th scope=row>佛山市</th><td> 0.8354561</td><td> 1.39474668</td><td> 0.96542262</td><td>18</td></tr>\n",
       "\t<tr><th scope=row>韶关市</th><td>-1.3050370</td><td>-0.01633091</td><td>-1.00557067</td><td> 5</td></tr>\n",
       "\t<tr><th scope=row>河源市</th><td>-1.3377517</td><td>-0.42049544</td><td>-1.12460200</td><td> 2</td></tr>\n",
       "\t<tr><th scope=row>梅州市</th><td>-0.7234574</td><td>-2.38860477</td><td>-1.11040019</td><td> 3</td></tr>\n",
       "\t<tr><th scope=row>惠州市</th><td> 0.3941757</td><td>-2.85692104</td><td>-0.36130606</td><td>15</td></tr>\n",
       "\t<tr><th scope=row>汕尾市</th><td>-1.4768554</td><td> 0.26395929</td><td>-1.07232921</td><td> 4</td></tr>\n",
       "\t<tr><th scope=row>东莞市</th><td> 2.8592296</td><td>-0.17266750</td><td> 2.15468490</td><td>19</td></tr>\n",
       "\t<tr><th scope=row>中山市</th><td>-0.3390609</td><td> 1.06722611</td><td>-0.01227143</td><td>16</td></tr>\n",
       "\t<tr><th scope=row>江门市</th><td>-0.8325441</td><td> 0.45906655</td><td>-0.53240281</td><td>13</td></tr>\n",
       "\t<tr><th scope=row>阳江市</th><td>-1.4745838</td><td> 0.69356088</td><td>-0.97075572</td><td> 6</td></tr>\n",
       "\t<tr><th scope=row>湛江市</th><td>-1.3101524</td><td> 1.04963109</td><td>-0.76179181</td><td>12</td></tr>\n",
       "\t<tr><th scope=row>茂名市</th><td>-1.3822931</td><td> 0.94188228</td><td>-0.84220702</td><td>10</td></tr>\n",
       "\t<tr><th scope=row>肇庆市</th><td>-0.9606084</td><td>-0.70611954</td><td>-0.90147089</td><td> 9</td></tr>\n",
       "\t<tr><th scope=row>清远市</th><td>-1.3041414</td><td> 0.42559417</td><td>-0.90218971</td><td> 8</td></tr>\n",
       "\t<tr><th scope=row>潮州市</th><td>-0.9043253</td><td>-0.98540256</td><td>-0.92316579</td><td> 7</td></tr>\n",
       "\t<tr><th scope=row>揭阳市</th><td>-1.0743640</td><td>-0.03218726</td><td>-0.83218556</td><td>11</td></tr>\n",
       "\t<tr><th scope=row>云浮市</th><td>-1.3753608</td><td>-0.41150020</td><td>-1.15138126</td><td> 1</td></tr>\n",
       "</tbody>\n",
       "</table>\n"
      ],
      "text/latex": [
       "A matrix: 21 × 4 of type dbl\n",
       "\\begin{tabular}{r|llll}\n",
       "  & Comp.1 & Comp.2 & PC & rank\\\\\n",
       "\\hline\n",
       "\t广州市 &  5.9067991 &  2.55970083 &  5.12900871 & 21\\\\\n",
       "\t珠海市 & -0.7333979 &  0.56847242 & -0.43087252 & 14\\\\\n",
       "\t汕头市 & -0.1481683 &  0.54948062 &  0.01394966 & 17\\\\\n",
       "\t深圳市 &  6.6864413 & -1.98309171 &  4.67183676 & 20\\\\\n",
       "\t佛山市 &  0.8354561 &  1.39474668 &  0.96542262 & 18\\\\\n",
       "\t韶关市 & -1.3050370 & -0.01633091 & -1.00557067 &  5\\\\\n",
       "\t河源市 & -1.3377517 & -0.42049544 & -1.12460200 &  2\\\\\n",
       "\t梅州市 & -0.7234574 & -2.38860477 & -1.11040019 &  3\\\\\n",
       "\t惠州市 &  0.3941757 & -2.85692104 & -0.36130606 & 15\\\\\n",
       "\t汕尾市 & -1.4768554 &  0.26395929 & -1.07232921 &  4\\\\\n",
       "\t东莞市 &  2.8592296 & -0.17266750 &  2.15468490 & 19\\\\\n",
       "\t中山市 & -0.3390609 &  1.06722611 & -0.01227143 & 16\\\\\n",
       "\t江门市 & -0.8325441 &  0.45906655 & -0.53240281 & 13\\\\\n",
       "\t阳江市 & -1.4745838 &  0.69356088 & -0.97075572 &  6\\\\\n",
       "\t湛江市 & -1.3101524 &  1.04963109 & -0.76179181 & 12\\\\\n",
       "\t茂名市 & -1.3822931 &  0.94188228 & -0.84220702 & 10\\\\\n",
       "\t肇庆市 & -0.9606084 & -0.70611954 & -0.90147089 &  9\\\\\n",
       "\t清远市 & -1.3041414 &  0.42559417 & -0.90218971 &  8\\\\\n",
       "\t潮州市 & -0.9043253 & -0.98540256 & -0.92316579 &  7\\\\\n",
       "\t揭阳市 & -1.0743640 & -0.03218726 & -0.83218556 & 11\\\\\n",
       "\t云浮市 & -1.3753608 & -0.41150020 & -1.15138126 &  1\\\\\n",
       "\\end{tabular}\n"
      ],
      "text/markdown": [
       "\n",
       "A matrix: 21 × 4 of type dbl\n",
       "\n",
       "| <!--/--> | Comp.1 | Comp.2 | PC | rank |\n",
       "|---|---|---|---|---|\n",
       "| 广州市 |  5.9067991 |  2.55970083 |  5.12900871 | 21 |\n",
       "| 珠海市 | -0.7333979 |  0.56847242 | -0.43087252 | 14 |\n",
       "| 汕头市 | -0.1481683 |  0.54948062 |  0.01394966 | 17 |\n",
       "| 深圳市 |  6.6864413 | -1.98309171 |  4.67183676 | 20 |\n",
       "| 佛山市 |  0.8354561 |  1.39474668 |  0.96542262 | 18 |\n",
       "| 韶关市 | -1.3050370 | -0.01633091 | -1.00557067 |  5 |\n",
       "| 河源市 | -1.3377517 | -0.42049544 | -1.12460200 |  2 |\n",
       "| 梅州市 | -0.7234574 | -2.38860477 | -1.11040019 |  3 |\n",
       "| 惠州市 |  0.3941757 | -2.85692104 | -0.36130606 | 15 |\n",
       "| 汕尾市 | -1.4768554 |  0.26395929 | -1.07232921 |  4 |\n",
       "| 东莞市 |  2.8592296 | -0.17266750 |  2.15468490 | 19 |\n",
       "| 中山市 | -0.3390609 |  1.06722611 | -0.01227143 | 16 |\n",
       "| 江门市 | -0.8325441 |  0.45906655 | -0.53240281 | 13 |\n",
       "| 阳江市 | -1.4745838 |  0.69356088 | -0.97075572 |  6 |\n",
       "| 湛江市 | -1.3101524 |  1.04963109 | -0.76179181 | 12 |\n",
       "| 茂名市 | -1.3822931 |  0.94188228 | -0.84220702 | 10 |\n",
       "| 肇庆市 | -0.9606084 | -0.70611954 | -0.90147089 |  9 |\n",
       "| 清远市 | -1.3041414 |  0.42559417 | -0.90218971 |  8 |\n",
       "| 潮州市 | -0.9043253 | -0.98540256 | -0.92316579 |  7 |\n",
       "| 揭阳市 | -1.0743640 | -0.03218726 | -0.83218556 | 11 |\n",
       "| 云浮市 | -1.3753608 | -0.41150020 | -1.15138126 |  1 |\n",
       "\n"
      ],
      "text/plain": [
       "       Comp.1     Comp.2      PC          rank\n",
       "广州市  5.9067991  2.55970083  5.12900871 21  \n",
       "珠海市 -0.7333979  0.56847242 -0.43087252 14  \n",
       "汕头市 -0.1481683  0.54948062  0.01394966 17  \n",
       "深圳市  6.6864413 -1.98309171  4.67183676 20  \n",
       "佛山市  0.8354561  1.39474668  0.96542262 18  \n",
       "韶关市 -1.3050370 -0.01633091 -1.00557067  5  \n",
       "河源市 -1.3377517 -0.42049544 -1.12460200  2  \n",
       "梅州市 -0.7234574 -2.38860477 -1.11040019  3  \n",
       "惠州市  0.3941757 -2.85692104 -0.36130606 15  \n",
       "汕尾市 -1.4768554  0.26395929 -1.07232921  4  \n",
       "东莞市  2.8592296 -0.17266750  2.15468490 19  \n",
       "中山市 -0.3390609  1.06722611 -0.01227143 16  \n",
       "江门市 -0.8325441  0.45906655 -0.53240281 13  \n",
       "阳江市 -1.4745838  0.69356088 -0.97075572  6  \n",
       "湛江市 -1.3101524  1.04963109 -0.76179181 12  \n",
       "茂名市 -1.3822931  0.94188228 -0.84220702 10  \n",
       "肇庆市 -0.9606084 -0.70611954 -0.90147089  9  \n",
       "清远市 -1.3041414  0.42559417 -0.90218971  8  \n",
       "潮州市 -0.9043253 -0.98540256 -0.92316579  7  \n",
       "揭阳市 -1.0743640 -0.03218726 -0.83218556 11  \n",
       "云浮市 -1.3753608 -0.41150020 -1.15138126  1  "
      ]
     },
     "metadata": {},
     "output_type": "display_data"
    },
    {
     "data": {
      "image/png": "[encoded data removed]",
      "text/plain": [
       "Plot with title \"张逸敏\""
      ]
     },
     "metadata": {
      "image/png": {
       "height": 420,
       "width": 420
      }
     },
     "output_type": "display_data"
    }
   ],
   "source": [
    "PC=princomp(Case8,cor=TRUE)\n",
    "summary(PC)\n",
    "m=2\n",
    "PC$loadings[1:m]\n",
    "princomp.rank(PC,m)#主成分排名\n",
    "princomp.rank(PC,m,plot=TRUE)#主成分作图"
   ]
  },
  {
   "cell_type": "markdown",
   "id": "f077db65",
   "metadata": {},
   "source": [
    "经过主成分分析，我们发现可以提取两个主成分，两个主成分的累计贡献率就达到了$96.14\\%$\n",
    "\n",
    "第一个主成分主要由$X_1$(电信业务总量)、$X_4$(国际互联网用户)、$X_5$(互联网用户使用时长)、$X_6$(长途电话通话量)、$X_7$(长途电话通话时长)决定，这5个指标是总量因素，说明一个城市的电信业规模和电信通信业务发展水平。\n",
    "\n",
    "第二个主成分主要由$X_2$(每百人拥有固定电话数)、$X_3$(每百人拥有移动电话数)决定。这两个指标是平均量成分，反映了电信行业中的电话人均普及情况。\n",
    "\n",
    "以主成分贡献率作为权数，计算城市电信业发展水平排名。公式为\n",
    "$$\n",
    "\\frac{0.738PC_1 + 0.223PC_2}{0.738 + 0.223}\n",
    "$$\n",
    "\n",
    "从主成分得分图上可以清楚地看到，第一主成分和第二主成分得分最高的均为深圳，而稍有争议的排名是惠州、中山和茂名。惠州的第一主成分水平，即通信发展水平低于中山市，但是其第二主成分，即电话普及水平是远远超过中山的，而第二主成分的占比为$22.34\\%$，这也是不容忽视的。茂名市由于其互联网用户不够多而且人均电话普及量不够，两个主成分的得分都不高，而第二主成分尤其偏低，从而它的排名比较靠后。"
   ]
  }
 ],
 "metadata": {
  "kernelspec": {
   "display_name": "R",
   "language": "R",
   "name": "ir"
  },
  "language_info": {
   "codemirror_mode": "r",
   "file_extension": ".r",
   "mimetype": "text/x-r-source",
   "name": "R",
   "pygments_lexer": "r",
   "version": "4.2.2"
  }
 },
 "nbformat": 4,
 "nbformat_minor": 5
}
