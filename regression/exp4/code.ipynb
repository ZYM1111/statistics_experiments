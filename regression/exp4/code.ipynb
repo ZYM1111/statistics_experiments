{
 "cells": [
  {
   "cell_type": "code",
   "execution_count": 1,
   "id": "ddfbcd36",
   "metadata": {},
   "outputs": [
    {
     "data": {
      "text/html": [
       "<table class=\"dataframe\">\n",
       "<caption>A data.frame: 21 × 2</caption>\n",
       "<thead>\n",
       "\t<tr><th scope=col>year</th><th scope=col>population</th></tr>\n",
       "\t<tr><th scope=col>&lt;int&gt;</th><th scope=col>&lt;dbl&gt;</th></tr>\n",
       "</thead>\n",
       "<tbody>\n",
       "\t<tr><td>1790</td><td>  3.929</td></tr>\n",
       "\t<tr><td>1800</td><td>  5.308</td></tr>\n",
       "\t<tr><td>1810</td><td>  7.240</td></tr>\n",
       "\t<tr><td>1820</td><td>  9.638</td></tr>\n",
       "\t<tr><td>1830</td><td> 12.866</td></tr>\n",
       "\t<tr><td>1840</td><td> 17.069</td></tr>\n",
       "\t<tr><td>1850</td><td> 23.192</td></tr>\n",
       "\t<tr><td>1860</td><td> 31.443</td></tr>\n",
       "\t<tr><td>1870</td><td> 39.818</td></tr>\n",
       "\t<tr><td>1880</td><td> 50.156</td></tr>\n",
       "\t<tr><td>1890</td><td> 62.948</td></tr>\n",
       "\t<tr><td>1900</td><td> 75.995</td></tr>\n",
       "\t<tr><td>1910</td><td> 91.972</td></tr>\n",
       "\t<tr><td>1920</td><td>105.711</td></tr>\n",
       "\t<tr><td>1930</td><td>122.775</td></tr>\n",
       "\t<tr><td>1940</td><td>131.669</td></tr>\n",
       "\t<tr><td>1950</td><td>150.697</td></tr>\n",
       "\t<tr><td>1960</td><td>179.323</td></tr>\n",
       "\t<tr><td>1970</td><td>203.302</td></tr>\n",
       "\t<tr><td>1980</td><td>226.542</td></tr>\n",
       "\t<tr><td>1990</td><td>248.710</td></tr>\n",
       "</tbody>\n",
       "</table>\n"
      ],
      "text/latex": [
       "A data.frame: 21 × 2\n",
       "\\begin{tabular}{ll}\n",
       " year & population\\\\\n",
       " <int> & <dbl>\\\\\n",
       "\\hline\n",
       "\t 1790 &   3.929\\\\\n",
       "\t 1800 &   5.308\\\\\n",
       "\t 1810 &   7.240\\\\\n",
       "\t 1820 &   9.638\\\\\n",
       "\t 1830 &  12.866\\\\\n",
       "\t 1840 &  17.069\\\\\n",
       "\t 1850 &  23.192\\\\\n",
       "\t 1860 &  31.443\\\\\n",
       "\t 1870 &  39.818\\\\\n",
       "\t 1880 &  50.156\\\\\n",
       "\t 1890 &  62.948\\\\\n",
       "\t 1900 &  75.995\\\\\n",
       "\t 1910 &  91.972\\\\\n",
       "\t 1920 & 105.711\\\\\n",
       "\t 1930 & 122.775\\\\\n",
       "\t 1940 & 131.669\\\\\n",
       "\t 1950 & 150.697\\\\\n",
       "\t 1960 & 179.323\\\\\n",
       "\t 1970 & 203.302\\\\\n",
       "\t 1980 & 226.542\\\\\n",
       "\t 1990 & 248.710\\\\\n",
       "\\end{tabular}\n"
      ],
      "text/markdown": [
       "\n",
       "A data.frame: 21 × 2\n",
       "\n",
       "| year &lt;int&gt; | population &lt;dbl&gt; |\n",
       "|---|---|\n",
       "| 1790 |   3.929 |\n",
       "| 1800 |   5.308 |\n",
       "| 1810 |   7.240 |\n",
       "| 1820 |   9.638 |\n",
       "| 1830 |  12.866 |\n",
       "| 1840 |  17.069 |\n",
       "| 1850 |  23.192 |\n",
       "| 1860 |  31.443 |\n",
       "| 1870 |  39.818 |\n",
       "| 1880 |  50.156 |\n",
       "| 1890 |  62.948 |\n",
       "| 1900 |  75.995 |\n",
       "| 1910 |  91.972 |\n",
       "| 1920 | 105.711 |\n",
       "| 1930 | 122.775 |\n",
       "| 1940 | 131.669 |\n",
       "| 1950 | 150.697 |\n",
       "| 1960 | 179.323 |\n",
       "| 1970 | 203.302 |\n",
       "| 1980 | 226.542 |\n",
       "| 1990 | 248.710 |\n",
       "\n"
      ],
      "text/plain": [
       "   year population\n",
       "1  1790   3.929   \n",
       "2  1800   5.308   \n",
       "3  1810   7.240   \n",
       "4  1820   9.638   \n",
       "5  1830  12.866   \n",
       "6  1840  17.069   \n",
       "7  1850  23.192   \n",
       "8  1860  31.443   \n",
       "9  1870  39.818   \n",
       "10 1880  50.156   \n",
       "11 1890  62.948   \n",
       "12 1900  75.995   \n",
       "13 1910  91.972   \n",
       "14 1920 105.711   \n",
       "15 1930 122.775   \n",
       "16 1940 131.669   \n",
       "17 1950 150.697   \n",
       "18 1960 179.323   \n",
       "19 1970 203.302   \n",
       "20 1980 226.542   \n",
       "21 1990 248.710   "
      ]
     },
     "metadata": {},
     "output_type": "display_data"
    }
   ],
   "source": [
    "data=read.table(\"./us_census.txt\", header = T)\n",
    "data"
   ]
  },
  {
   "cell_type": "markdown",
   "id": "802c4e54",
   "metadata": {},
   "source": [
    "$$\n",
    "y = \\frac{\\beta_1}{1 + e^{\\beta_2 + \\beta_3x}}\\\\\n",
    "\\frac{\\beta_1}{y} - 1 = e^{\\beta_2 + \\beta_3x}\\\\\n",
    "\\ln(\\frac{\\beta_1}{y} - 1) = \\beta_2 + \\beta_3x\n",
    "$$"
   ]
  },
  {
   "cell_type": "code",
   "execution_count": 2,
   "id": "d8c11aaf",
   "metadata": {},
   "outputs": [
    {
     "data": {
      "text/html": [
       "21"
      ],
      "text/latex": [
       "21"
      ],
      "text/markdown": [
       "21"
      ],
      "text/plain": [
       "[1] 21"
      ]
     },
     "metadata": {},
     "output_type": "display_data"
    }
   ],
   "source": [
    "n = as.numeric(lengths(data[\"year\"]))\n",
    "n"
   ]
  },
  {
   "cell_type": "code",
   "execution_count": 3,
   "id": "a994deb6",
   "metadata": {},
   "outputs": [
    {
     "data": {
      "text/html": [
       "<table class=\"dataframe\">\n",
       "<caption>A data.frame: 21 × 1</caption>\n",
       "<thead>\n",
       "\t<tr><th scope=col>x</th></tr>\n",
       "\t<tr><th scope=col>&lt;dbl&gt;</th></tr>\n",
       "</thead>\n",
       "<tbody>\n",
       "\t<tr><td> 0</td></tr>\n",
       "\t<tr><td> 1</td></tr>\n",
       "\t<tr><td> 2</td></tr>\n",
       "\t<tr><td> 3</td></tr>\n",
       "\t<tr><td> 4</td></tr>\n",
       "\t<tr><td> 5</td></tr>\n",
       "\t<tr><td> 6</td></tr>\n",
       "\t<tr><td> 7</td></tr>\n",
       "\t<tr><td> 8</td></tr>\n",
       "\t<tr><td> 9</td></tr>\n",
       "\t<tr><td>10</td></tr>\n",
       "\t<tr><td>11</td></tr>\n",
       "\t<tr><td>12</td></tr>\n",
       "\t<tr><td>13</td></tr>\n",
       "\t<tr><td>14</td></tr>\n",
       "\t<tr><td>15</td></tr>\n",
       "\t<tr><td>16</td></tr>\n",
       "\t<tr><td>17</td></tr>\n",
       "\t<tr><td>18</td></tr>\n",
       "\t<tr><td>19</td></tr>\n",
       "\t<tr><td>20</td></tr>\n",
       "</tbody>\n",
       "</table>\n"
      ],
      "text/latex": [
       "A data.frame: 21 × 1\n",
       "\\begin{tabular}{l}\n",
       " x\\\\\n",
       " <dbl>\\\\\n",
       "\\hline\n",
       "\t  0\\\\\n",
       "\t  1\\\\\n",
       "\t  2\\\\\n",
       "\t  3\\\\\n",
       "\t  4\\\\\n",
       "\t  5\\\\\n",
       "\t  6\\\\\n",
       "\t  7\\\\\n",
       "\t  8\\\\\n",
       "\t  9\\\\\n",
       "\t 10\\\\\n",
       "\t 11\\\\\n",
       "\t 12\\\\\n",
       "\t 13\\\\\n",
       "\t 14\\\\\n",
       "\t 15\\\\\n",
       "\t 16\\\\\n",
       "\t 17\\\\\n",
       "\t 18\\\\\n",
       "\t 19\\\\\n",
       "\t 20\\\\\n",
       "\\end{tabular}\n"
      ],
      "text/markdown": [
       "\n",
       "A data.frame: 21 × 1\n",
       "\n",
       "| x &lt;dbl&gt; |\n",
       "|---|\n",
       "|  0 |\n",
       "|  1 |\n",
       "|  2 |\n",
       "|  3 |\n",
       "|  4 |\n",
       "|  5 |\n",
       "|  6 |\n",
       "|  7 |\n",
       "|  8 |\n",
       "|  9 |\n",
       "| 10 |\n",
       "| 11 |\n",
       "| 12 |\n",
       "| 13 |\n",
       "| 14 |\n",
       "| 15 |\n",
       "| 16 |\n",
       "| 17 |\n",
       "| 18 |\n",
       "| 19 |\n",
       "| 20 |\n",
       "\n"
      ],
      "text/plain": [
       "   x \n",
       "1   0\n",
       "2   1\n",
       "3   2\n",
       "4   3\n",
       "5   4\n",
       "6   5\n",
       "7   6\n",
       "8   7\n",
       "9   8\n",
       "10  9\n",
       "11 10\n",
       "12 11\n",
       "13 12\n",
       "14 13\n",
       "15 14\n",
       "16 15\n",
       "17 16\n",
       "18 17\n",
       "19 18\n",
       "20 19\n",
       "21 20"
      ]
     },
     "metadata": {},
     "output_type": "display_data"
    }
   ],
   "source": [
    "data[\"x\"] = (data[\"year\"] - 1790)/10\n",
    "data[\"x\"]"
   ]
  },
  {
   "cell_type": "code",
   "execution_count": 4,
   "id": "4133b802",
   "metadata": {
    "scrolled": false
   },
   "outputs": [
    {
     "data": {
      "text/html": [
       "<table class=\"dataframe\">\n",
       "<caption>A data.frame: 21 × 1</caption>\n",
       "<thead>\n",
       "\t<tr><th scope=col>y1</th></tr>\n",
       "\t<tr><th scope=col>&lt;dbl&gt;</th></tr>\n",
       "</thead>\n",
       "<tbody>\n",
       "\t<tr><td> 4.47825902</td></tr>\n",
       "\t<tr><td> 4.17343615</td></tr>\n",
       "\t<tr><td> 3.85740929</td></tr>\n",
       "\t<tr><td> 3.56429614</td></tr>\n",
       "\t<tr><td> 3.26589230</td></tr>\n",
       "\t<tr><td> 2.97067131</td></tr>\n",
       "\t<tr><td> 2.64556545</td></tr>\n",
       "\t<tr><td> 2.31562504</td></tr>\n",
       "\t<tr><td> 2.05284015</td></tr>\n",
       "\t<tr><td> 1.78812419</td></tr>\n",
       "\t<tr><td> 1.51735440</td></tr>\n",
       "\t<tr><td> 1.28247881</td></tr>\n",
       "\t<tr><td> 1.03158392</td></tr>\n",
       "\t<tr><td> 0.83764300</td></tr>\n",
       "\t<tr><td> 0.61558730</td></tr>\n",
       "\t<tr><td> 0.50572106</td></tr>\n",
       "\t<tr><td> 0.27955508</td></tr>\n",
       "\t<tr><td>-0.04941577</td></tr>\n",
       "\t<tr><td>-0.32631651</td></tr>\n",
       "\t<tr><td>-0.60702934</td></tr>\n",
       "\t<tr><td>-0.89829987</td></tr>\n",
       "</tbody>\n",
       "</table>\n"
      ],
      "text/latex": [
       "A data.frame: 21 × 1\n",
       "\\begin{tabular}{l}\n",
       " y1\\\\\n",
       " <dbl>\\\\\n",
       "\\hline\n",
       "\t  4.47825902\\\\\n",
       "\t  4.17343615\\\\\n",
       "\t  3.85740929\\\\\n",
       "\t  3.56429614\\\\\n",
       "\t  3.26589230\\\\\n",
       "\t  2.97067131\\\\\n",
       "\t  2.64556545\\\\\n",
       "\t  2.31562504\\\\\n",
       "\t  2.05284015\\\\\n",
       "\t  1.78812419\\\\\n",
       "\t  1.51735440\\\\\n",
       "\t  1.28247881\\\\\n",
       "\t  1.03158392\\\\\n",
       "\t  0.83764300\\\\\n",
       "\t  0.61558730\\\\\n",
       "\t  0.50572106\\\\\n",
       "\t  0.27955508\\\\\n",
       "\t -0.04941577\\\\\n",
       "\t -0.32631651\\\\\n",
       "\t -0.60702934\\\\\n",
       "\t -0.89829987\\\\\n",
       "\\end{tabular}\n"
      ],
      "text/markdown": [
       "\n",
       "A data.frame: 21 × 1\n",
       "\n",
       "| y1 &lt;dbl&gt; |\n",
       "|---|\n",
       "|  4.47825902 |\n",
       "|  4.17343615 |\n",
       "|  3.85740929 |\n",
       "|  3.56429614 |\n",
       "|  3.26589230 |\n",
       "|  2.97067131 |\n",
       "|  2.64556545 |\n",
       "|  2.31562504 |\n",
       "|  2.05284015 |\n",
       "|  1.78812419 |\n",
       "|  1.51735440 |\n",
       "|  1.28247881 |\n",
       "|  1.03158392 |\n",
       "|  0.83764300 |\n",
       "|  0.61558730 |\n",
       "|  0.50572106 |\n",
       "|  0.27955508 |\n",
       "| -0.04941577 |\n",
       "| -0.32631651 |\n",
       "| -0.60702934 |\n",
       "| -0.89829987 |\n",
       "\n"
      ],
      "text/plain": [
       "   y1         \n",
       "1   4.47825902\n",
       "2   4.17343615\n",
       "3   3.85740929\n",
       "4   3.56429614\n",
       "5   3.26589230\n",
       "6   2.97067131\n",
       "7   2.64556545\n",
       "8   2.31562504\n",
       "9   2.05284015\n",
       "10  1.78812419\n",
       "11  1.51735440\n",
       "12  1.28247881\n",
       "13  1.03158392\n",
       "14  0.83764300\n",
       "15  0.61558730\n",
       "16  0.50572106\n",
       "17  0.27955508\n",
       "18 -0.04941577\n",
       "19 -0.32631651\n",
       "20 -0.60702934\n",
       "21 -0.89829987"
      ]
     },
     "metadata": {},
     "output_type": "display_data"
    }
   ],
   "source": [
    "beta1 = 350\n",
    "data[\"y1\"] = log(beta1 / data[\"population\"] - 1)\n",
    "data[\"y1\"]"
   ]
  },
  {
   "cell_type": "code",
   "execution_count": 5,
   "id": "3f37314b",
   "metadata": {
    "scrolled": true
   },
   "outputs": [
    {
     "data": {
      "text/html": [
       "<table class=\"dataframe\">\n",
       "<caption>A data.frame: 21 × 1</caption>\n",
       "<thead>\n",
       "\t<tr><th scope=col>population</th></tr>\n",
       "\t<tr><th scope=col>&lt;dbl&gt;</th></tr>\n",
       "</thead>\n",
       "<tbody>\n",
       "\t<tr><td>  3.929</td></tr>\n",
       "\t<tr><td>  5.308</td></tr>\n",
       "\t<tr><td>  7.240</td></tr>\n",
       "\t<tr><td>  9.638</td></tr>\n",
       "\t<tr><td> 12.866</td></tr>\n",
       "\t<tr><td> 17.069</td></tr>\n",
       "\t<tr><td> 23.192</td></tr>\n",
       "\t<tr><td> 31.443</td></tr>\n",
       "\t<tr><td> 39.818</td></tr>\n",
       "\t<tr><td> 50.156</td></tr>\n",
       "\t<tr><td> 62.948</td></tr>\n",
       "\t<tr><td> 75.995</td></tr>\n",
       "\t<tr><td> 91.972</td></tr>\n",
       "\t<tr><td>105.711</td></tr>\n",
       "\t<tr><td>122.775</td></tr>\n",
       "\t<tr><td>131.669</td></tr>\n",
       "\t<tr><td>150.697</td></tr>\n",
       "\t<tr><td>179.323</td></tr>\n",
       "\t<tr><td>203.302</td></tr>\n",
       "\t<tr><td>226.542</td></tr>\n",
       "\t<tr><td>248.710</td></tr>\n",
       "</tbody>\n",
       "</table>\n"
      ],
      "text/latex": [
       "A data.frame: 21 × 1\n",
       "\\begin{tabular}{l}\n",
       " population\\\\\n",
       " <dbl>\\\\\n",
       "\\hline\n",
       "\t   3.929\\\\\n",
       "\t   5.308\\\\\n",
       "\t   7.240\\\\\n",
       "\t   9.638\\\\\n",
       "\t  12.866\\\\\n",
       "\t  17.069\\\\\n",
       "\t  23.192\\\\\n",
       "\t  31.443\\\\\n",
       "\t  39.818\\\\\n",
       "\t  50.156\\\\\n",
       "\t  62.948\\\\\n",
       "\t  75.995\\\\\n",
       "\t  91.972\\\\\n",
       "\t 105.711\\\\\n",
       "\t 122.775\\\\\n",
       "\t 131.669\\\\\n",
       "\t 150.697\\\\\n",
       "\t 179.323\\\\\n",
       "\t 203.302\\\\\n",
       "\t 226.542\\\\\n",
       "\t 248.710\\\\\n",
       "\\end{tabular}\n"
      ],
      "text/markdown": [
       "\n",
       "A data.frame: 21 × 1\n",
       "\n",
       "| population &lt;dbl&gt; |\n",
       "|---|\n",
       "|   3.929 |\n",
       "|   5.308 |\n",
       "|   7.240 |\n",
       "|   9.638 |\n",
       "|  12.866 |\n",
       "|  17.069 |\n",
       "|  23.192 |\n",
       "|  31.443 |\n",
       "|  39.818 |\n",
       "|  50.156 |\n",
       "|  62.948 |\n",
       "|  75.995 |\n",
       "|  91.972 |\n",
       "| 105.711 |\n",
       "| 122.775 |\n",
       "| 131.669 |\n",
       "| 150.697 |\n",
       "| 179.323 |\n",
       "| 203.302 |\n",
       "| 226.542 |\n",
       "| 248.710 |\n",
       "\n"
      ],
      "text/plain": [
       "   population\n",
       "1    3.929   \n",
       "2    5.308   \n",
       "3    7.240   \n",
       "4    9.638   \n",
       "5   12.866   \n",
       "6   17.069   \n",
       "7   23.192   \n",
       "8   31.443   \n",
       "9   39.818   \n",
       "10  50.156   \n",
       "11  62.948   \n",
       "12  75.995   \n",
       "13  91.972   \n",
       "14 105.711   \n",
       "15 122.775   \n",
       "16 131.669   \n",
       "17 150.697   \n",
       "18 179.323   \n",
       "19 203.302   \n",
       "20 226.542   \n",
       "21 248.710   "
      ]
     },
     "metadata": {},
     "output_type": "display_data"
    }
   ],
   "source": [
    "data[\"population\"]"
   ]
  },
  {
   "cell_type": "code",
   "execution_count": 6,
   "id": "5acada56",
   "metadata": {},
   "outputs": [
    {
     "data": {
      "text/html": [
       "3.929"
      ],
      "text/latex": [
       "3.929"
      ],
      "text/markdown": [
       "3.929"
      ],
      "text/plain": [
       "[1] 3.929"
      ]
     },
     "metadata": {},
     "output_type": "display_data"
    }
   ],
   "source": [
    "data[\"population\"][1,]"
   ]
  },
  {
   "cell_type": "code",
   "execution_count": 7,
   "id": "61e5540c",
   "metadata": {},
   "outputs": [
    {
     "data": {
      "text/html": [
       "21"
      ],
      "text/latex": [
       "21"
      ],
      "text/markdown": [
       "21"
      ],
      "text/plain": [
       "[1] 21"
      ]
     },
     "metadata": {},
     "output_type": "display_data"
    }
   ],
   "source": [
    "n"
   ]
  },
  {
   "cell_type": "code",
   "execution_count": 8,
   "id": "7db87f2b",
   "metadata": {
    "scrolled": false
   },
   "outputs": [
    {
     "data": {
      "text/plain": [
       "\n",
       "Call:\n",
       "lm(formula = y1 ~ x, data = data)\n",
       "\n",
       "Residuals:\n",
       "     Min       1Q   Median       3Q      Max \n",
       "-0.16365 -0.12760  0.01944  0.08913  0.18816 \n",
       "\n",
       "Coefficients:\n",
       "             Estimate Std. Error t value Pr(>|t|)    \n",
       "(Intercept)  4.290095   0.050425   85.08   <2e-16 ***\n",
       "x           -0.260910   0.004313  -60.49   <2e-16 ***\n",
       "---\n",
       "Signif. codes:  0 '***' 0.001 '**' 0.01 '*' 0.05 '.' 0.1 ' ' 1\n",
       "\n",
       "Residual standard error: 0.1197 on 19 degrees of freedom\n",
       "Multiple R-squared:  0.9948,\tAdjusted R-squared:  0.9946 \n",
       "F-statistic:  3659 on 1 and 19 DF,  p-value: < 2.2e-16\n"
      ]
     },
     "metadata": {},
     "output_type": "display_data"
    }
   ],
   "source": [
    "mdl = lm(y1~x, data=data)\n",
    "summary(mdl)"
   ]
  },
  {
   "cell_type": "code",
   "execution_count": 12,
   "id": "5f1ed298",
   "metadata": {},
   "outputs": [
    {
     "data": {
      "image/png": "[encoded data removed]",
      "text/plain": [
       "plot without title"
      ]
     },
     "metadata": {
      "image/png": {
       "height": 420,
       "width": 420
      }
     },
     "output_type": "display_data"
    }
   ],
   "source": [
    "library(car)\n",
    "crPlots(mdl)"
   ]
  },
  {
   "cell_type": "code",
   "execution_count": 9,
   "id": "a86fdad2",
   "metadata": {},
   "outputs": [
    {
     "name": "stdout",
     "output_type": "stream",
     "text": [
      "\n",
      "Call:\n",
      "lm(formula = y1 ~ x, data = data)\n",
      "\n",
      "Residuals:\n",
      "     Min       1Q   Median       3Q      Max \n",
      "-0.16365 -0.12760  0.01944  0.08913  0.18816 \n",
      "\n",
      "Coefficients:\n",
      "             Estimate Std. Error t value Pr(>|t|)    \n",
      "(Intercept)  4.290095   0.050425   85.08   <2e-16 ***\n",
      "x           -0.260910   0.004313  -60.49   <2e-16 ***\n",
      "---\n",
      "Signif. codes:  0 '***' 0.001 '**' 0.01 '*' 0.05 '.' 0.1 ' ' 1\n",
      "\n",
      "Residual standard error: 0.1197 on 19 degrees of freedom\n",
      "Multiple R-squared:  0.9948,\tAdjusted R-squared:  0.9946 \n",
      "F-statistic:  3659 on 1 and 19 DF,  p-value: < 2.2e-16\n",
      "\n",
      "\n",
      "ASSESSMENT OF THE LINEAR MODEL ASSUMPTIONS\n",
      "USING THE GLOBAL TEST ON 4 DEGREES-OF-FREEDOM:\n",
      "Level of Significance =  0.05 \n",
      "\n",
      "Call:\n",
      " gvlma(x = mdl) \n",
      "\n",
      "                       Value   p-value                   Decision\n",
      "Global Stat        14.888848 0.0049374 Assumptions NOT satisfied!\n",
      "Skewness            0.005978 0.9383722    Assumptions acceptable.\n",
      "Kurtosis            1.580344 0.2087112    Assumptions acceptable.\n",
      "Link Function      12.896839 0.0003291 Assumptions NOT satisfied!\n",
      "Heteroscedasticity  0.405687 0.5241666    Assumptions acceptable.\n"
     ]
    }
   ],
   "source": [
    "library(gvlma) \n",
    "gvmodel = gvlma(mdl) \n",
    "summary(gvmodel)"
   ]
  },
  {
   "cell_type": "markdown",
   "id": "c5cbd4fe",
   "metadata": {},
   "source": [
    "$$\n",
    "\\beta_1 = 350\\\\\n",
    "\\beta_2 = 4.29\\\\\n",
    "\\beta_3 = -0.26\n",
    "$$"
   ]
  },
  {
   "cell_type": "code",
   "execution_count": 14,
   "id": "cb4de75d",
   "metadata": {},
   "outputs": [
    {
     "data": {
      "text/html": [
       "15.8185943990524"
      ],
      "text/latex": [
       "15.8185943990524"
      ],
      "text/markdown": [
       "15.8185943990524"
      ],
      "text/plain": [
       "[1] 15.81859"
      ]
     },
     "metadata": {},
     "output_type": "display_data"
    },
    {
     "data": {
      "text/html": [
       "28.7028032784076"
      ],
      "text/latex": [
       "28.7028032784076"
      ],
      "text/markdown": [
       "28.7028032784076"
      ],
      "text/plain": [
       "[1] 28.7028"
      ]
     },
     "metadata": {},
     "output_type": "display_data"
    },
    {
     "data": {
      "text/html": [
       "36.1490149324191"
      ],
      "text/latex": [
       "36.1490149324191"
      ],
      "text/markdown": [
       "36.1490149324191"
      ],
      "text/plain": [
       "[1] 36.14901"
      ]
     },
     "metadata": {},
     "output_type": "display_data"
    },
    {
     "data": {
      "text/html": [
       "750.48745953463"
      ],
      "text/latex": [
       "750.48745953463"
      ],
      "text/markdown": [
       "750.48745953463"
      ],
      "text/plain": [
       "[1] 750.4875"
      ]
     },
     "metadata": {},
     "output_type": "display_data"
    }
   ],
   "source": [
    "s1 = 0\n",
    "s2 = 0\n",
    "s3 = 0\n",
    "for (i in 1 : (n / 3))\n",
    "    s1 = s1 + log(data[\"population\"][i,])\n",
    "for (i in (n / 3 + 1) : (n / 3 * 2))\n",
    "    s2 = s2 + log(data[\"population\"][i,])\n",
    "for (i in (n / 3 * 2 + 1) : n)\n",
    "    s3 = s3 + log(data[\"population\"][i,])\n",
    "s1\n",
    "s2\n",
    "s3\n",
    "beta1 = exp(1/(n/3) * (s1 * s3 - s2 * s2) / (s1 + s3 - 2 * s2))\n",
    "beta1"
   ]
  },
  {
   "cell_type": "code",
   "execution_count": 15,
   "id": "aeb12562",
   "metadata": {},
   "outputs": [
    {
     "data": {
      "text/plain": [
       "\n",
       "Call:\n",
       "lm(formula = y2 ~ x, data = data)\n",
       "\n",
       "Residuals:\n",
       "     Min       1Q   Median       3Q      Max \n",
       "-0.26005 -0.20056  0.02907  0.15109  0.33141 \n",
       "\n",
       "Coefficients:\n",
       "             Estimate Std. Error t value Pr(>|t|)    \n",
       "(Intercept)  4.915682   0.085661   57.38   <2e-16 ***\n",
       "x           -0.226482   0.007327  -30.91   <2e-16 ***\n",
       "---\n",
       "Signif. codes:  0 '***' 0.001 '**' 0.01 '*' 0.05 '.' 0.1 ' ' 1\n",
       "\n",
       "Residual standard error: 0.2033 on 19 degrees of freedom\n",
       "Multiple R-squared:  0.9805,\tAdjusted R-squared:  0.9795 \n",
       "F-statistic: 955.4 on 1 and 19 DF,  p-value: < 2.2e-16\n"
      ]
     },
     "metadata": {},
     "output_type": "display_data"
    }
   ],
   "source": [
    "data[\"y2\"] = log(beta1 / data[\"population\"] - 1)\n",
    "mdl2 = lm(y2~x, data=data)\n",
    "summary(mdl2)"
   ]
  },
  {
   "cell_type": "code",
   "execution_count": 16,
   "id": "74eb678c",
   "metadata": {
    "scrolled": true
   },
   "outputs": [
    {
     "name": "stdout",
     "output_type": "stream",
     "text": [
      "\n",
      "Call:\n",
      "lm(formula = y2 ~ x, data = data)\n",
      "\n",
      "Residuals:\n",
      "     Min       1Q   Median       3Q      Max \n",
      "-0.26005 -0.20056  0.02907  0.15109  0.33141 \n",
      "\n",
      "Coefficients:\n",
      "             Estimate Std. Error t value Pr(>|t|)    \n",
      "(Intercept)  4.915682   0.085661   57.38   <2e-16 ***\n",
      "x           -0.226482   0.007327  -30.91   <2e-16 ***\n",
      "---\n",
      "Signif. codes:  0 '***' 0.001 '**' 0.01 '*' 0.05 '.' 0.1 ' ' 1\n",
      "\n",
      "Residual standard error: 0.2033 on 19 degrees of freedom\n",
      "Multiple R-squared:  0.9805,\tAdjusted R-squared:  0.9795 \n",
      "F-statistic: 955.4 on 1 and 19 DF,  p-value: < 2.2e-16\n",
      "\n",
      "\n",
      "ASSESSMENT OF THE LINEAR MODEL ASSUMPTIONS\n",
      "USING THE GLOBAL TEST ON 4 DEGREES-OF-FREEDOM:\n",
      "Level of Significance =  0.05 \n",
      "\n",
      "Call:\n",
      " gvlma(x = mdl2) \n",
      "\n",
      "                      Value   p-value                   Decision\n",
      "Global Stat        21.61909 2.386e-04 Assumptions NOT satisfied!\n",
      "Skewness            0.08196 7.747e-01    Assumptions acceptable.\n",
      "Kurtosis            1.50434 2.200e-01    Assumptions acceptable.\n",
      "Link Function      19.99578 7.761e-06 Assumptions NOT satisfied!\n",
      "Heteroscedasticity  0.03702 8.474e-01    Assumptions acceptable.\n"
     ]
    }
   ],
   "source": [
    "library(gvlma) \n",
    "gvmodel2 = gvlma(mdl2) \n",
    "summary(gvmodel2)"
   ]
  },
  {
   "cell_type": "code",
   "execution_count": 17,
   "id": "6ad09d36",
   "metadata": {
    "scrolled": true
   },
   "outputs": [
    {
     "data": {
      "image/png": "[encoded data removed]",
      "text/plain": [
       "plot without title"
      ]
     },
     "metadata": {
      "image/png": {
       "height": 420,
       "width": 420
      }
     },
     "output_type": "display_data"
    }
   ],
   "source": [
    "library(car)\n",
    "crPlots(mdl2)"
   ]
  },
  {
   "cell_type": "markdown",
   "id": "66c5104e",
   "metadata": {},
   "source": [
    "## 非线性最小二乘"
   ]
  },
  {
   "cell_type": "code",
   "execution_count": 27,
   "id": "840617b4",
   "metadata": {
    "scrolled": true
   },
   "outputs": [
    {
     "data": {
      "text/html": [
       "<table class=\"dataframe\">\n",
       "<caption>A data.frame: 21 × 5</caption>\n",
       "<thead>\n",
       "\t<tr><th scope=col>year</th><th scope=col>population</th><th scope=col>x</th><th scope=col>y1</th><th scope=col>y2</th></tr>\n",
       "\t<tr><th scope=col>&lt;int&gt;</th><th scope=col>&lt;dbl&gt;</th><th scope=col>&lt;dbl&gt;</th><th scope=col>&lt;dbl&gt;</th><th scope=col>&lt;dbl&gt;</th></tr>\n",
       "</thead>\n",
       "<tbody>\n",
       "\t<tr><td>1790</td><td>  3.929</td><td> 0</td><td> 4.47825902</td><td>5.2470890</td></tr>\n",
       "\t<tr><td>1800</td><td>  5.308</td><td> 1</td><td> 4.17343615</td><td>4.9444100</td></tr>\n",
       "\t<tr><td>1810</td><td>  7.240</td><td> 2</td><td> 3.85740929</td><td>4.6314078</td></tr>\n",
       "\t<tr><td>1820</td><td>  9.638</td><td> 3</td><td> 3.56429614</td><td>4.3420838</td></tr>\n",
       "\t<tr><td>1830</td><td> 12.866</td><td> 4</td><td> 3.26589230</td><td>4.0488426</td></tr>\n",
       "\t<tr><td>1840</td><td> 17.069</td><td> 5</td><td> 2.97067131</td><td>3.7604525</td></tr>\n",
       "\t<tr><td>1850</td><td> 23.192</td><td> 6</td><td> 2.64556545</td><td>3.4455254</td></tr>\n",
       "\t<tr><td>1860</td><td> 31.443</td><td> 7</td><td> 2.31562504</td><td>3.1297468</td></tr>\n",
       "\t<tr><td>1870</td><td> 39.818</td><td> 8</td><td> 2.05284015</td><td>2.8818884</td></tr>\n",
       "\t<tr><td>1880</td><td> 50.156</td><td> 9</td><td> 1.78812419</td><td>2.6364156</td></tr>\n",
       "\t<tr><td>1890</td><td> 62.948</td><td>10</td><td> 1.51735440</td><td>2.3908102</td></tr>\n",
       "\t<tr><td>1900</td><td> 75.995</td><td>11</td><td> 1.28247881</td><td>2.1832929</td></tr>\n",
       "\t<tr><td>1910</td><td> 91.972</td><td>12</td><td> 1.03158392</td><td>1.9685038</td></tr>\n",
       "\t<tr><td>1920</td><td>105.711</td><td>13</td><td> 0.83764300</td><td>1.8081947</td></tr>\n",
       "\t<tr><td>1930</td><td>122.775</td><td>14</td><td> 0.61558730</td><td>1.6317288</td></tr>\n",
       "\t<tr><td>1940</td><td>131.669</td><td>15</td><td> 0.50572106</td><td>1.5475208</td></tr>\n",
       "\t<tr><td>1950</td><td>150.697</td><td>16</td><td> 0.27955508</td><td>1.3813092</td></tr>\n",
       "\t<tr><td>1960</td><td>179.323</td><td>17</td><td>-0.04941577</td><td>1.1584885</td></tr>\n",
       "\t<tr><td>1970</td><td>203.302</td><td>18</td><td>-0.32631651</td><td>0.9900952</td></tr>\n",
       "\t<tr><td>1980</td><td>226.542</td><td>19</td><td>-0.60702934</td><td>0.8384572</td></tr>\n",
       "\t<tr><td>1990</td><td>248.710</td><td>20</td><td>-0.89829987</td><td>0.7018692</td></tr>\n",
       "</tbody>\n",
       "</table>\n"
      ],
      "text/latex": [
       "A data.frame: 21 × 5\n",
       "\\begin{tabular}{lllll}\n",
       " year & population & x & y1 & y2\\\\\n",
       " <int> & <dbl> & <dbl> & <dbl> & <dbl>\\\\\n",
       "\\hline\n",
       "\t 1790 &   3.929 &  0 &  4.47825902 & 5.2470890\\\\\n",
       "\t 1800 &   5.308 &  1 &  4.17343615 & 4.9444100\\\\\n",
       "\t 1810 &   7.240 &  2 &  3.85740929 & 4.6314078\\\\\n",
       "\t 1820 &   9.638 &  3 &  3.56429614 & 4.3420838\\\\\n",
       "\t 1830 &  12.866 &  4 &  3.26589230 & 4.0488426\\\\\n",
       "\t 1840 &  17.069 &  5 &  2.97067131 & 3.7604525\\\\\n",
       "\t 1850 &  23.192 &  6 &  2.64556545 & 3.4455254\\\\\n",
       "\t 1860 &  31.443 &  7 &  2.31562504 & 3.1297468\\\\\n",
       "\t 1870 &  39.818 &  8 &  2.05284015 & 2.8818884\\\\\n",
       "\t 1880 &  50.156 &  9 &  1.78812419 & 2.6364156\\\\\n",
       "\t 1890 &  62.948 & 10 &  1.51735440 & 2.3908102\\\\\n",
       "\t 1900 &  75.995 & 11 &  1.28247881 & 2.1832929\\\\\n",
       "\t 1910 &  91.972 & 12 &  1.03158392 & 1.9685038\\\\\n",
       "\t 1920 & 105.711 & 13 &  0.83764300 & 1.8081947\\\\\n",
       "\t 1930 & 122.775 & 14 &  0.61558730 & 1.6317288\\\\\n",
       "\t 1940 & 131.669 & 15 &  0.50572106 & 1.5475208\\\\\n",
       "\t 1950 & 150.697 & 16 &  0.27955508 & 1.3813092\\\\\n",
       "\t 1960 & 179.323 & 17 & -0.04941577 & 1.1584885\\\\\n",
       "\t 1970 & 203.302 & 18 & -0.32631651 & 0.9900952\\\\\n",
       "\t 1980 & 226.542 & 19 & -0.60702934 & 0.8384572\\\\\n",
       "\t 1990 & 248.710 & 20 & -0.89829987 & 0.7018692\\\\\n",
       "\\end{tabular}\n"
      ],
      "text/markdown": [
       "\n",
       "A data.frame: 21 × 5\n",
       "\n",
       "| year &lt;int&gt; | population &lt;dbl&gt; | x &lt;dbl&gt; | y1 &lt;dbl&gt; | y2 &lt;dbl&gt; |\n",
       "|---|---|---|---|---|\n",
       "| 1790 |   3.929 |  0 |  4.47825902 | 5.2470890 |\n",
       "| 1800 |   5.308 |  1 |  4.17343615 | 4.9444100 |\n",
       "| 1810 |   7.240 |  2 |  3.85740929 | 4.6314078 |\n",
       "| 1820 |   9.638 |  3 |  3.56429614 | 4.3420838 |\n",
       "| 1830 |  12.866 |  4 |  3.26589230 | 4.0488426 |\n",
       "| 1840 |  17.069 |  5 |  2.97067131 | 3.7604525 |\n",
       "| 1850 |  23.192 |  6 |  2.64556545 | 3.4455254 |\n",
       "| 1860 |  31.443 |  7 |  2.31562504 | 3.1297468 |\n",
       "| 1870 |  39.818 |  8 |  2.05284015 | 2.8818884 |\n",
       "| 1880 |  50.156 |  9 |  1.78812419 | 2.6364156 |\n",
       "| 1890 |  62.948 | 10 |  1.51735440 | 2.3908102 |\n",
       "| 1900 |  75.995 | 11 |  1.28247881 | 2.1832929 |\n",
       "| 1910 |  91.972 | 12 |  1.03158392 | 1.9685038 |\n",
       "| 1920 | 105.711 | 13 |  0.83764300 | 1.8081947 |\n",
       "| 1930 | 122.775 | 14 |  0.61558730 | 1.6317288 |\n",
       "| 1940 | 131.669 | 15 |  0.50572106 | 1.5475208 |\n",
       "| 1950 | 150.697 | 16 |  0.27955508 | 1.3813092 |\n",
       "| 1960 | 179.323 | 17 | -0.04941577 | 1.1584885 |\n",
       "| 1970 | 203.302 | 18 | -0.32631651 | 0.9900952 |\n",
       "| 1980 | 226.542 | 19 | -0.60702934 | 0.8384572 |\n",
       "| 1990 | 248.710 | 20 | -0.89829987 | 0.7018692 |\n",
       "\n"
      ],
      "text/plain": [
       "   year population x  y1          y2       \n",
       "1  1790   3.929     0  4.47825902 5.2470890\n",
       "2  1800   5.308     1  4.17343615 4.9444100\n",
       "3  1810   7.240     2  3.85740929 4.6314078\n",
       "4  1820   9.638     3  3.56429614 4.3420838\n",
       "5  1830  12.866     4  3.26589230 4.0488426\n",
       "6  1840  17.069     5  2.97067131 3.7604525\n",
       "7  1850  23.192     6  2.64556545 3.4455254\n",
       "8  1860  31.443     7  2.31562504 3.1297468\n",
       "9  1870  39.818     8  2.05284015 2.8818884\n",
       "10 1880  50.156     9  1.78812419 2.6364156\n",
       "11 1890  62.948    10  1.51735440 2.3908102\n",
       "12 1900  75.995    11  1.28247881 2.1832929\n",
       "13 1910  91.972    12  1.03158392 1.9685038\n",
       "14 1920 105.711    13  0.83764300 1.8081947\n",
       "15 1930 122.775    14  0.61558730 1.6317288\n",
       "16 1940 131.669    15  0.50572106 1.5475208\n",
       "17 1950 150.697    16  0.27955508 1.3813092\n",
       "18 1960 179.323    17 -0.04941577 1.1584885\n",
       "19 1970 203.302    18 -0.32631651 0.9900952\n",
       "20 1980 226.542    19 -0.60702934 0.8384572\n",
       "21 1990 248.710    20 -0.89829987 0.7018692"
      ]
     },
     "metadata": {},
     "output_type": "display_data"
    }
   ],
   "source": [
    "data"
   ]
  },
  {
   "cell_type": "code",
   "execution_count": 31,
   "id": "eb51a2e1",
   "metadata": {
    "collapsed": true
   },
   "outputs": [
    {
     "data": {
      "text/plain": [
       "\n",
       "Formula: population ~ A/(1 + exp(B + C * x))\n",
       "\n",
       "Parameters:\n",
       "   Estimate Std. Error t value Pr(>|t|)    \n",
       "A 389.16621   30.81214   12.63  2.2e-10 ***\n",
       "B   3.99034    0.07032   56.74  < 2e-16 ***\n",
       "C  -0.22662    0.01086  -20.87  4.6e-14 ***\n",
       "---\n",
       "Signif. codes:  0 '***' 0.001 '**' 0.01 '*' 0.05 '.' 0.1 ' ' 1\n",
       "\n",
       "Residual standard error: 4.45 on 18 degrees of freedom\n",
       "\n",
       "Number of iterations to convergence: 7 \n",
       "Achieved convergence tolerance: 7.833e-06\n"
      ]
     },
     "metadata": {},
     "output_type": "display_data"
    }
   ],
   "source": [
    "nonlin = nls(population~A/(1+exp(B+C*x)),start=list(A=750.49,B=4.92, C=-0.226), data=data)\n",
    "summary(nonlin)"
   ]
  },
  {
   "cell_type": "code",
   "execution_count": 42,
   "id": "3dd1689f",
   "metadata": {
    "scrolled": false
   },
   "outputs": [
    {
     "data": {
      "image/png": "[encoded data removed]",
      "text/plain": [
       "plot without title"
      ]
     },
     "metadata": {
      "image/png": {
       "height": 420,
       "width": 420
      }
     },
     "output_type": "display_data"
    }
   ],
   "source": [
    "pre=predict(nonlin,interval=\"prediction\")\n",
    "plot(0:20, pre)\n",
    "lines(0:20, pre)"
   ]
  }
 ],
 "metadata": {
  "kernelspec": {
   "display_name": "R",
   "language": "R",
   "name": "ir"
  },
  "language_info": {
   "codemirror_mode": "r",
   "file_extension": ".r",
   "mimetype": "text/x-r-source",
   "name": "R",
   "pygments_lexer": "r",
   "version": "4.2.2"
  }
 },
 "nbformat": 4,
 "nbformat_minor": 5
}
