{
 "cells": [
  {
   "cell_type": "markdown",
   "id": "90b5df1d",
   "metadata": {},
   "source": [
    "## 读入数据，并将自变量设为1至样本个数"
   ]
  },
  {
   "cell_type": "code",
   "execution_count": 1,
   "id": "d570640c",
   "metadata": {
    "collapsed": true
   },
   "outputs": [
    {
     "data": {
      "text/html": [
       "<table class=\"dataframe\">\n",
       "<caption>A data.frame: 105 × 2</caption>\n",
       "<thead>\n",
       "\t<tr><th scope=col>V1</th><th scope=col>V2</th></tr>\n",
       "\t<tr><th scope=col>&lt;int&gt;</th><th scope=col>&lt;dbl&gt;</th></tr>\n",
       "</thead>\n",
       "<tbody>\n",
       "\t<tr><td> 1</td><td>196.03</td></tr>\n",
       "\t<tr><td> 2</td><td>198.64</td></tr>\n",
       "\t<tr><td> 3</td><td>191.58</td></tr>\n",
       "\t<tr><td> 4</td><td>187.98</td></tr>\n",
       "\t<tr><td> 5</td><td>187.40</td></tr>\n",
       "\t<tr><td> 6</td><td>192.99</td></tr>\n",
       "\t<tr><td> 7</td><td>195.23</td></tr>\n",
       "\t<tr><td> 8</td><td>198.41</td></tr>\n",
       "\t<tr><td> 9</td><td>197.90</td></tr>\n",
       "\t<tr><td>10</td><td>197.95</td></tr>\n",
       "\t<tr><td>11</td><td>191.37</td></tr>\n",
       "\t<tr><td>12</td><td>193.95</td></tr>\n",
       "\t<tr><td>13</td><td>188.89</td></tr>\n",
       "\t<tr><td>14</td><td>185.87</td></tr>\n",
       "\t<tr><td>15</td><td>187.99</td></tr>\n",
       "\t<tr><td>16</td><td>186.06</td></tr>\n",
       "\t<tr><td>17</td><td>185.18</td></tr>\n",
       "\t<tr><td>18</td><td>187.01</td></tr>\n",
       "\t<tr><td>19</td><td>185.90</td></tr>\n",
       "\t<tr><td>20</td><td>188.81</td></tr>\n",
       "\t<tr><td>21</td><td>185.20</td></tr>\n",
       "\t<tr><td>22</td><td>181.35</td></tr>\n",
       "\t<tr><td>23</td><td>179.98</td></tr>\n",
       "\t<tr><td>24</td><td>177.80</td></tr>\n",
       "\t<tr><td>25</td><td>174.99</td></tr>\n",
       "\t<tr><td>26</td><td>178.61</td></tr>\n",
       "\t<tr><td>27</td><td>175.60</td></tr>\n",
       "\t<tr><td>28</td><td>179.29</td></tr>\n",
       "\t<tr><td>29</td><td>180.04</td></tr>\n",
       "\t<tr><td>30</td><td>180.88</td></tr>\n",
       "\t<tr><td>⋮</td><td>⋮</td></tr>\n",
       "\t<tr><td> 76</td><td>260.81</td></tr>\n",
       "\t<tr><td> 77</td><td>259.20</td></tr>\n",
       "\t<tr><td> 78</td><td>266.00</td></tr>\n",
       "\t<tr><td> 79</td><td>277.27</td></tr>\n",
       "\t<tr><td> 80</td><td>288.00</td></tr>\n",
       "\t<tr><td> 81</td><td>287.90</td></tr>\n",
       "\t<tr><td> 82</td><td>280.26</td></tr>\n",
       "\t<tr><td> 83</td><td>290.94</td></tr>\n",
       "\t<tr><td> 84</td><td>293.12</td></tr>\n",
       "\t<tr><td> 85</td><td>279.56</td></tr>\n",
       "\t<tr><td> 86</td><td>286.31</td></tr>\n",
       "\t<tr><td> 87</td><td>282.50</td></tr>\n",
       "\t<tr><td> 88</td><td>282.75</td></tr>\n",
       "\t<tr><td> 89</td><td>278.35</td></tr>\n",
       "\t<tr><td> 90</td><td>274.80</td></tr>\n",
       "\t<tr><td> 91</td><td>277.44</td></tr>\n",
       "\t<tr><td> 92</td><td>280.30</td></tr>\n",
       "\t<tr><td> 93</td><td>286.70</td></tr>\n",
       "\t<tr><td> 94</td><td>287.84</td></tr>\n",
       "\t<tr><td> 95</td><td>289.30</td></tr>\n",
       "\t<tr><td> 96</td><td>289.71</td></tr>\n",
       "\t<tr><td> 97</td><td>297.25</td></tr>\n",
       "\t<tr><td> 98</td><td>304.10</td></tr>\n",
       "\t<tr><td> 99</td><td>302.00</td></tr>\n",
       "\t<tr><td>100</td><td>292.72</td></tr>\n",
       "\t<tr><td>101</td><td>294.15</td></tr>\n",
       "\t<tr><td>102</td><td>291.25</td></tr>\n",
       "\t<tr><td>103</td><td>295.71</td></tr>\n",
       "\t<tr><td>104</td><td>291.52</td></tr>\n",
       "\t<tr><td>105</td><td>295.54</td></tr>\n",
       "</tbody>\n",
       "</table>\n"
      ],
      "text/latex": [
       "A data.frame: 105 × 2\n",
       "\\begin{tabular}{ll}\n",
       " V1 & V2\\\\\n",
       " <int> & <dbl>\\\\\n",
       "\\hline\n",
       "\t  1 & 196.03\\\\\n",
       "\t  2 & 198.64\\\\\n",
       "\t  3 & 191.58\\\\\n",
       "\t  4 & 187.98\\\\\n",
       "\t  5 & 187.40\\\\\n",
       "\t  6 & 192.99\\\\\n",
       "\t  7 & 195.23\\\\\n",
       "\t  8 & 198.41\\\\\n",
       "\t  9 & 197.90\\\\\n",
       "\t 10 & 197.95\\\\\n",
       "\t 11 & 191.37\\\\\n",
       "\t 12 & 193.95\\\\\n",
       "\t 13 & 188.89\\\\\n",
       "\t 14 & 185.87\\\\\n",
       "\t 15 & 187.99\\\\\n",
       "\t 16 & 186.06\\\\\n",
       "\t 17 & 185.18\\\\\n",
       "\t 18 & 187.01\\\\\n",
       "\t 19 & 185.90\\\\\n",
       "\t 20 & 188.81\\\\\n",
       "\t 21 & 185.20\\\\\n",
       "\t 22 & 181.35\\\\\n",
       "\t 23 & 179.98\\\\\n",
       "\t 24 & 177.80\\\\\n",
       "\t 25 & 174.99\\\\\n",
       "\t 26 & 178.61\\\\\n",
       "\t 27 & 175.60\\\\\n",
       "\t 28 & 179.29\\\\\n",
       "\t 29 & 180.04\\\\\n",
       "\t 30 & 180.88\\\\\n",
       "\t ⋮ & ⋮\\\\\n",
       "\t  76 & 260.81\\\\\n",
       "\t  77 & 259.20\\\\\n",
       "\t  78 & 266.00\\\\\n",
       "\t  79 & 277.27\\\\\n",
       "\t  80 & 288.00\\\\\n",
       "\t  81 & 287.90\\\\\n",
       "\t  82 & 280.26\\\\\n",
       "\t  83 & 290.94\\\\\n",
       "\t  84 & 293.12\\\\\n",
       "\t  85 & 279.56\\\\\n",
       "\t  86 & 286.31\\\\\n",
       "\t  87 & 282.50\\\\\n",
       "\t  88 & 282.75\\\\\n",
       "\t  89 & 278.35\\\\\n",
       "\t  90 & 274.80\\\\\n",
       "\t  91 & 277.44\\\\\n",
       "\t  92 & 280.30\\\\\n",
       "\t  93 & 286.70\\\\\n",
       "\t  94 & 287.84\\\\\n",
       "\t  95 & 289.30\\\\\n",
       "\t  96 & 289.71\\\\\n",
       "\t  97 & 297.25\\\\\n",
       "\t  98 & 304.10\\\\\n",
       "\t  99 & 302.00\\\\\n",
       "\t 100 & 292.72\\\\\n",
       "\t 101 & 294.15\\\\\n",
       "\t 102 & 291.25\\\\\n",
       "\t 103 & 295.71\\\\\n",
       "\t 104 & 291.52\\\\\n",
       "\t 105 & 295.54\\\\\n",
       "\\end{tabular}\n"
      ],
      "text/markdown": [
       "\n",
       "A data.frame: 105 × 2\n",
       "\n",
       "| V1 &lt;int&gt; | V2 &lt;dbl&gt; |\n",
       "|---|---|\n",
       "|  1 | 196.03 |\n",
       "|  2 | 198.64 |\n",
       "|  3 | 191.58 |\n",
       "|  4 | 187.98 |\n",
       "|  5 | 187.40 |\n",
       "|  6 | 192.99 |\n",
       "|  7 | 195.23 |\n",
       "|  8 | 198.41 |\n",
       "|  9 | 197.90 |\n",
       "| 10 | 197.95 |\n",
       "| 11 | 191.37 |\n",
       "| 12 | 193.95 |\n",
       "| 13 | 188.89 |\n",
       "| 14 | 185.87 |\n",
       "| 15 | 187.99 |\n",
       "| 16 | 186.06 |\n",
       "| 17 | 185.18 |\n",
       "| 18 | 187.01 |\n",
       "| 19 | 185.90 |\n",
       "| 20 | 188.81 |\n",
       "| 21 | 185.20 |\n",
       "| 22 | 181.35 |\n",
       "| 23 | 179.98 |\n",
       "| 24 | 177.80 |\n",
       "| 25 | 174.99 |\n",
       "| 26 | 178.61 |\n",
       "| 27 | 175.60 |\n",
       "| 28 | 179.29 |\n",
       "| 29 | 180.04 |\n",
       "| 30 | 180.88 |\n",
       "| ⋮ | ⋮ |\n",
       "|  76 | 260.81 |\n",
       "|  77 | 259.20 |\n",
       "|  78 | 266.00 |\n",
       "|  79 | 277.27 |\n",
       "|  80 | 288.00 |\n",
       "|  81 | 287.90 |\n",
       "|  82 | 280.26 |\n",
       "|  83 | 290.94 |\n",
       "|  84 | 293.12 |\n",
       "|  85 | 279.56 |\n",
       "|  86 | 286.31 |\n",
       "|  87 | 282.50 |\n",
       "|  88 | 282.75 |\n",
       "|  89 | 278.35 |\n",
       "|  90 | 274.80 |\n",
       "|  91 | 277.44 |\n",
       "|  92 | 280.30 |\n",
       "|  93 | 286.70 |\n",
       "|  94 | 287.84 |\n",
       "|  95 | 289.30 |\n",
       "|  96 | 289.71 |\n",
       "|  97 | 297.25 |\n",
       "|  98 | 304.10 |\n",
       "|  99 | 302.00 |\n",
       "| 100 | 292.72 |\n",
       "| 101 | 294.15 |\n",
       "| 102 | 291.25 |\n",
       "| 103 | 295.71 |\n",
       "| 104 | 291.52 |\n",
       "| 105 | 295.54 |\n",
       "\n"
      ],
      "text/plain": [
       "    V1  V2    \n",
       "1    1  196.03\n",
       "2    2  198.64\n",
       "3    3  191.58\n",
       "4    4  187.98\n",
       "5    5  187.40\n",
       "6    6  192.99\n",
       "7    7  195.23\n",
       "8    8  198.41\n",
       "9    9  197.90\n",
       "10  10  197.95\n",
       "11  11  191.37\n",
       "12  12  193.95\n",
       "13  13  188.89\n",
       "14  14  185.87\n",
       "15  15  187.99\n",
       "16  16  186.06\n",
       "17  17  185.18\n",
       "18  18  187.01\n",
       "19  19  185.90\n",
       "20  20  188.81\n",
       "21  21  185.20\n",
       "22  22  181.35\n",
       "23  23  179.98\n",
       "24  24  177.80\n",
       "25  25  174.99\n",
       "26  26  178.61\n",
       "27  27  175.60\n",
       "28  28  179.29\n",
       "29  29  180.04\n",
       "30  30  180.88\n",
       "⋮   ⋮   ⋮     \n",
       "76   76 260.81\n",
       "77   77 259.20\n",
       "78   78 266.00\n",
       "79   79 277.27\n",
       "80   80 288.00\n",
       "81   81 287.90\n",
       "82   82 280.26\n",
       "83   83 290.94\n",
       "84   84 293.12\n",
       "85   85 279.56\n",
       "86   86 286.31\n",
       "87   87 282.50\n",
       "88   88 282.75\n",
       "89   89 278.35\n",
       "90   90 274.80\n",
       "91   91 277.44\n",
       "92   92 280.30\n",
       "93   93 286.70\n",
       "94   94 287.84\n",
       "95   95 289.30\n",
       "96   96 289.71\n",
       "97   97 297.25\n",
       "98   98 304.10\n",
       "99   99 302.00\n",
       "100 100 292.72\n",
       "101 101 294.15\n",
       "102 102 291.25\n",
       "103 103 295.71\n",
       "104 104 291.52\n",
       "105 105 295.54"
      ]
     },
     "metadata": {},
     "output_type": "display_data"
    }
   ],
   "source": [
    "raw_data = read.table(\"./google_stock.txt\")\n",
    "google12 = raw_data[c(1,2)]\n",
    "google34 = raw_data[c(3,4)]\n",
    "google56 = raw_data[c(5,6)]\n",
    "colnames(google34) = colnames(google12)\n",
    "colnames(google56) = colnames(google12)\n",
    "google = rbind(google12, google34, google56)\n",
    "google$V1 = c(1: nrow(google))\n",
    "google"
   ]
  },
  {
   "cell_type": "markdown",
   "id": "5274c506",
   "metadata": {},
   "source": [
    "## 散点图"
   ]
  },
  {
   "cell_type": "code",
   "execution_count": 2,
   "id": "78a902b2",
   "metadata": {
    "collapsed": true
   },
   "outputs": [
    {
     "data": {
      "image/png": "[encoded data removed]",
      "text/plain": [
       "plot without title"
      ]
     },
     "metadata": {
      "image/png": {
       "height": 420,
       "width": 420
      }
     },
     "output_type": "display_data"
    }
   ],
   "source": [
    "plot(google)"
   ]
  },
  {
   "cell_type": "markdown",
   "id": "70431c45",
   "metadata": {},
   "source": [
    "## 拟合一元线性回归模型"
   ]
  },
  {
   "cell_type": "code",
   "execution_count": 3,
   "id": "bbd4b60c",
   "metadata": {
    "collapsed": true
   },
   "outputs": [
    {
     "data": {
      "text/plain": [
       "\n",
       "Call:\n",
       "lm(formula = V2 ~ V1, data = google)\n",
       "\n",
       "Residuals:\n",
       "    Min      1Q  Median      3Q     Max \n",
       "-33.297 -13.967   1.335  12.056  39.395 \n",
       "\n",
       "Coefficients:\n",
       "             Estimate Std. Error t value Pr(>|t|)    \n",
       "(Intercept) 156.67805    3.52517   44.45   <2e-16 ***\n",
       "V1            1.28372    0.05774   22.23   <2e-16 ***\n",
       "---\n",
       "Signif. codes:  0 '***' 0.001 '**' 0.01 '*' 0.05 '.' 0.1 ' ' 1\n",
       "\n",
       "Residual standard error: 17.93 on 103 degrees of freedom\n",
       "Multiple R-squared:  0.8276,\tAdjusted R-squared:  0.8259 \n",
       "F-statistic: 494.3 on 1 and 103 DF,  p-value: < 2.2e-16\n"
      ]
     },
     "metadata": {},
     "output_type": "display_data"
    }
   ],
   "source": [
    "mdl0 = lm(V2~V1, data=google)\n",
    "summary(mdl0)"
   ]
  },
  {
   "cell_type": "markdown",
   "id": "de571860",
   "metadata": {},
   "source": [
    "## 画出拟合直线"
   ]
  },
  {
   "cell_type": "code",
   "execution_count": 9,
   "id": "6adcfb4c",
   "metadata": {},
   "outputs": [
    {
     "data": {
      "image/png": "[encoded data removed]",
      "text/plain": [
       "plot without title"
      ]
     },
     "metadata": {
      "image/png": {
       "height": 420,
       "width": 420
      }
     },
     "output_type": "display_data"
    }
   ],
   "source": [
    "plot(google$V1, google$V2,\n",
    "xlab = \"t\", ylab = \"google stock\")\n",
    "abline(mdl0)"
   ]
  },
  {
   "cell_type": "markdown",
   "id": "88dbd54a",
   "metadata": {},
   "source": [
    "## 利用Durbin-Watson检验判断序列自相关性"
   ]
  },
  {
   "cell_type": "code",
   "execution_count": 5,
   "id": "ce5cf08e",
   "metadata": {},
   "outputs": [
    {
     "data": {
      "text/plain": [
       "\n",
       "\tDurbin-Watson test\n",
       "\n",
       "data:  mdl0\n",
       "DW = 0.061858, p-value < 2.2e-16\n",
       "alternative hypothesis: true autocorrelation is greater than 0\n"
      ]
     },
     "metadata": {},
     "output_type": "display_data"
    }
   ],
   "source": [
    "library(lmtest)\n",
    "dwtest(mdl0)"
   ]
  },
  {
   "cell_type": "code",
   "execution_count": 14,
   "id": "e58e75ed",
   "metadata": {},
   "outputs": [
    {
     "data": {
      "text/html": [
       "0.0618582452309325"
      ],
      "text/latex": [
       "0.0618582452309325"
      ],
      "text/markdown": [
       "0.0618582452309325"
      ],
      "text/plain": [
       "[1] 0.06185825"
      ]
     },
     "metadata": {},
     "output_type": "display_data"
    }
   ],
   "source": [
    "dw0 = as.numeric(dwtest(mdl0)$statistic) # 将dw统计量保存到变量dw0里, 计算迭代法时需要用来估计rho\n",
    "dw0"
   ]
  },
  {
   "cell_type": "markdown",
   "id": "e962191e",
   "metadata": {},
   "source": [
    "## DW检验结果\n",
    "$DW = 0.061858$  \n",
    "$p-value < 2.2e-16$ 存在正自相关"
   ]
  },
  {
   "cell_type": "markdown",
   "id": "d38d3f7f",
   "metadata": {},
   "source": [
    "## 利用迭代法处理自相关\n",
    "首先假设模型存在一阶自相关  \n",
    "需要做变换$y_t' = y_t - \\rho y_{t - 1}$和$x_t' = x_t - \\rho x_{t - 1}$  \n",
    "$\\rho$值不知道，用$1-dw/2$来估计"
   ]
  },
  {
   "cell_type": "code",
   "execution_count": 17,
   "id": "381c445d",
   "metadata": {
    "scrolled": false
   },
   "outputs": [
    {
     "data": {
      "text/plain": [
       "\n",
       "Call:\n",
       "lm(formula = y1 ~ x1)\n",
       "\n",
       "Residuals:\n",
       "     Min       1Q   Median       3Q      Max \n",
       "-14.3720  -2.6945  -0.2969   2.4957  12.1304 \n",
       "\n",
       "Coefficients:\n",
       "            Estimate Std. Error t value Pr(>|t|)    \n",
       "(Intercept)    2.522      1.272   1.983   0.0501 .  \n",
       "x1             2.045      0.457   4.474    2e-05 ***\n",
       "---\n",
       "Signif. codes:  0 '***' 0.001 '**' 0.01 '*' 0.05 '.' 0.1 ' ' 1\n",
       "\n",
       "Residual standard error: 4.327 on 102 degrees of freedom\n",
       "Multiple R-squared:  0.1641,\tAdjusted R-squared:  0.1559 \n",
       "F-statistic: 20.02 on 1 and 102 DF,  p-value: 1.998e-05\n"
      ]
     },
     "metadata": {},
     "output_type": "display_data"
    }
   ],
   "source": [
    "rho0 = 1-dw0/2 # 用1-dw/2来估计rho\n",
    "n0 = nrow(google) # 样本个数\n",
    "y0 = google$V2\n",
    "x0 = google$V1\n",
    "y1 = y0[2:n0]-rho0*y0[1:n0-1] # 变换后的因变量, 共n0-1个\n",
    "x1 = x0[2:n0]-rho0*x0[1:n0-1] # 变换后的自变量, 共n0-1个\n",
    "mdl1 <- lm(y1~x1) # 用变换后的变量建立一元线性回归模型\n",
    "summary(mdl1)"
   ]
  },
  {
   "cell_type": "markdown",
   "id": "aba8734a",
   "metadata": {},
   "source": [
    "## 利用DW检验判断迭代一次后的模型的自相关性"
   ]
  },
  {
   "cell_type": "code",
   "execution_count": 15,
   "id": "9f9c0010",
   "metadata": {},
   "outputs": [
    {
     "data": {
      "text/plain": [
       "\n",
       "\tDurbin-Watson test\n",
       "\n",
       "data:  mdl1\n",
       "DW = 1.8973, p-value = 0.2644\n",
       "alternative hypothesis: true autocorrelation is greater than 0\n"
      ]
     },
     "metadata": {},
     "output_type": "display_data"
    },
    {
     "data": {
      "text/html": [
       "<strong>DW:</strong> 1.89732294556596"
      ],
      "text/latex": [
       "\\textbf{DW:} 1.89732294556596"
      ],
      "text/markdown": [
       "**DW:** 1.89732294556596"
      ],
      "text/plain": [
       "      DW \n",
       "1.897323 "
      ]
     },
     "metadata": {},
     "output_type": "display_data"
    }
   ],
   "source": [
    "dwtest(mdl1)\n",
    "dw1 = dwtest(mdl1)$statistic\n",
    "dw1"
   ]
  },
  {
   "cell_type": "markdown",
   "id": "2fa1107e",
   "metadata": {},
   "source": [
    "$DW = 1.8973, p-value = 0.2644$  \n",
    "$p > 0.05$, 没有自相关  \n",
    "迭代法结束"
   ]
  },
  {
   "cell_type": "markdown",
   "id": "61e9e6c1",
   "metadata": {},
   "source": [
    "## 迭代一次后的模型估计值\n",
    "$\\beta_0'=2.522,\\ \\ \\beta_1' = 2.045, \\hat{\\rho} = 0.969$  \n",
    "根据变换前后模型系数的关系：$\\beta_0' = \\beta_0(1-\\rho), \\beta_1' = \\beta_1$，可以计算原模型的系数估计值"
   ]
  },
  {
   "cell_type": "code",
   "execution_count": 18,
   "id": "45e68d18",
   "metadata": {},
   "outputs": [
    {
     "data": {
      "text/html": [
       "81.5412720029396"
      ],
      "text/latex": [
       "81.5412720029396"
      ],
      "text/markdown": [
       "81.5412720029396"
      ],
      "text/plain": [
       "[1] 81.54127"
      ]
     },
     "metadata": {},
     "output_type": "display_data"
    },
    {
     "data": {
      "text/html": [
       "2.045"
      ],
      "text/latex": [
       "2.045"
      ],
      "text/markdown": [
       "2.045"
      ],
      "text/plain": [
       "[1] 2.045"
      ]
     },
     "metadata": {},
     "output_type": "display_data"
    }
   ],
   "source": [
    "b0 = 2.522 / (1-rho0)\n",
    "b1 = 2.045\n",
    "b0\n",
    "b1"
   ]
  },
  {
   "cell_type": "markdown",
   "id": "762e7829",
   "metadata": {},
   "source": [
    "## 原一元线性回归方程为  \n",
    "$y = 81.541 + 2.045x$"
   ]
  }
 ],
 "metadata": {
  "kernelspec": {
   "display_name": "R",
   "language": "R",
   "name": "ir"
  },
  "language_info": {
   "codemirror_mode": "r",
   "file_extension": ".r",
   "mimetype": "text/x-r-source",
   "name": "R",
   "pygments_lexer": "r",
   "version": "4.2.2"
  }
 },
 "nbformat": 4,
 "nbformat_minor": 5
}
