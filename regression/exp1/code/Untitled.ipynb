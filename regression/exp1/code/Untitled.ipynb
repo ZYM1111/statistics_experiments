{
 "cells": [
  {
   "cell_type": "code",
   "execution_count": 4,
   "id": "0633db2a",
   "metadata": {},
   "outputs": [
    {
     "data": {
      "text/html": [
       "<table class=\"dataframe\">\n",
       "<caption>A data.frame: 10 × 10</caption>\n",
       "<thead>\n",
       "\t<tr><th></th><th scope=col>Age</th><th scope=col>Years</th><th scope=col>Weight</th><th scope=col>Height</th><th scope=col>Chin</th><th scope=col>Forearm</th><th scope=col>Calf</th><th scope=col>Pulse</th><th scope=col>Systol</th><th scope=col>Diastol</th></tr>\n",
       "\t<tr><th></th><th scope=col>&lt;int&gt;</th><th scope=col>&lt;int&gt;</th><th scope=col>&lt;dbl&gt;</th><th scope=col>&lt;int&gt;</th><th scope=col>&lt;dbl&gt;</th><th scope=col>&lt;dbl&gt;</th><th scope=col>&lt;dbl&gt;</th><th scope=col>&lt;int&gt;</th><th scope=col>&lt;int&gt;</th><th scope=col>&lt;int&gt;</th></tr>\n",
       "</thead>\n",
       "<tbody>\n",
       "\t<tr><th scope=row>1</th><td>21</td><td> 1</td><td>71.0</td><td>1629</td><td> 8.0</td><td> 7.0</td><td>12.7</td><td>88</td><td>170</td><td> 76</td></tr>\n",
       "\t<tr><th scope=row>2</th><td>22</td><td> 6</td><td>56.5</td><td>1569</td><td> 3.3</td><td> 5.0</td><td> 8.0</td><td>64</td><td>120</td><td> 60</td></tr>\n",
       "\t<tr><th scope=row>3</th><td>24</td><td> 5</td><td>56.0</td><td>1561</td><td> 3.3</td><td> 1.3</td><td> 4.3</td><td>68</td><td>125</td><td> 75</td></tr>\n",
       "\t<tr><th scope=row>4</th><td>24</td><td> 1</td><td>61.0</td><td>1619</td><td> 3.7</td><td> 3.0</td><td> 4.3</td><td>52</td><td>148</td><td>120</td></tr>\n",
       "\t<tr><th scope=row>5</th><td>25</td><td> 1</td><td>65.0</td><td>1566</td><td> 9.0</td><td>12.7</td><td>20.7</td><td>72</td><td>140</td><td> 78</td></tr>\n",
       "\t<tr><th scope=row>6</th><td>27</td><td>19</td><td>62.0</td><td>1639</td><td> 3.0</td><td> 3.3</td><td> 5.7</td><td>72</td><td>106</td><td> 72</td></tr>\n",
       "\t<tr><th scope=row>7</th><td>28</td><td> 5</td><td>53.0</td><td>1494</td><td> 7.3</td><td> 4.7</td><td> 8.0</td><td>64</td><td>120</td><td> 76</td></tr>\n",
       "\t<tr><th scope=row>8</th><td>28</td><td>25</td><td>53.0</td><td>1568</td><td> 3.7</td><td> 4.3</td><td> 0.0</td><td>80</td><td>108</td><td> 62</td></tr>\n",
       "\t<tr><th scope=row>9</th><td>31</td><td> 6</td><td>65.0</td><td>1540</td><td>10.3</td><td> 9.0</td><td>10.0</td><td>76</td><td>124</td><td> 70</td></tr>\n",
       "\t<tr><th scope=row>10</th><td>32</td><td>13</td><td>57.0</td><td>1530</td><td> 5.7</td><td> 4.0</td><td> 6.0</td><td>60</td><td>134</td><td> 64</td></tr>\n",
       "</tbody>\n",
       "</table>\n"
      ],
      "text/latex": [
       "A data.frame: 10 × 10\n",
       "\\begin{tabular}{r|llllllllll}\n",
       "  & Age & Years & Weight & Height & Chin & Forearm & Calf & Pulse & Systol & Diastol\\\\\n",
       "  & <int> & <int> & <dbl> & <int> & <dbl> & <dbl> & <dbl> & <int> & <int> & <int>\\\\\n",
       "\\hline\n",
       "\t1 & 21 &  1 & 71.0 & 1629 &  8.0 &  7.0 & 12.7 & 88 & 170 &  76\\\\\n",
       "\t2 & 22 &  6 & 56.5 & 1569 &  3.3 &  5.0 &  8.0 & 64 & 120 &  60\\\\\n",
       "\t3 & 24 &  5 & 56.0 & 1561 &  3.3 &  1.3 &  4.3 & 68 & 125 &  75\\\\\n",
       "\t4 & 24 &  1 & 61.0 & 1619 &  3.7 &  3.0 &  4.3 & 52 & 148 & 120\\\\\n",
       "\t5 & 25 &  1 & 65.0 & 1566 &  9.0 & 12.7 & 20.7 & 72 & 140 &  78\\\\\n",
       "\t6 & 27 & 19 & 62.0 & 1639 &  3.0 &  3.3 &  5.7 & 72 & 106 &  72\\\\\n",
       "\t7 & 28 &  5 & 53.0 & 1494 &  7.3 &  4.7 &  8.0 & 64 & 120 &  76\\\\\n",
       "\t8 & 28 & 25 & 53.0 & 1568 &  3.7 &  4.3 &  0.0 & 80 & 108 &  62\\\\\n",
       "\t9 & 31 &  6 & 65.0 & 1540 & 10.3 &  9.0 & 10.0 & 76 & 124 &  70\\\\\n",
       "\t10 & 32 & 13 & 57.0 & 1530 &  5.7 &  4.0 &  6.0 & 60 & 134 &  64\\\\\n",
       "\\end{tabular}\n"
      ],
      "text/markdown": [
       "\n",
       "A data.frame: 10 × 10\n",
       "\n",
       "| <!--/--> | Age &lt;int&gt; | Years &lt;int&gt; | Weight &lt;dbl&gt; | Height &lt;int&gt; | Chin &lt;dbl&gt; | Forearm &lt;dbl&gt; | Calf &lt;dbl&gt; | Pulse &lt;int&gt; | Systol &lt;int&gt; | Diastol &lt;int&gt; |\n",
       "|---|---|---|---|---|---|---|---|---|---|---|\n",
       "| 1 | 21 |  1 | 71.0 | 1629 |  8.0 |  7.0 | 12.7 | 88 | 170 |  76 |\n",
       "| 2 | 22 |  6 | 56.5 | 1569 |  3.3 |  5.0 |  8.0 | 64 | 120 |  60 |\n",
       "| 3 | 24 |  5 | 56.0 | 1561 |  3.3 |  1.3 |  4.3 | 68 | 125 |  75 |\n",
       "| 4 | 24 |  1 | 61.0 | 1619 |  3.7 |  3.0 |  4.3 | 52 | 148 | 120 |\n",
       "| 5 | 25 |  1 | 65.0 | 1566 |  9.0 | 12.7 | 20.7 | 72 | 140 |  78 |\n",
       "| 6 | 27 | 19 | 62.0 | 1639 |  3.0 |  3.3 |  5.7 | 72 | 106 |  72 |\n",
       "| 7 | 28 |  5 | 53.0 | 1494 |  7.3 |  4.7 |  8.0 | 64 | 120 |  76 |\n",
       "| 8 | 28 | 25 | 53.0 | 1568 |  3.7 |  4.3 |  0.0 | 80 | 108 |  62 |\n",
       "| 9 | 31 |  6 | 65.0 | 1540 | 10.3 |  9.0 | 10.0 | 76 | 124 |  70 |\n",
       "| 10 | 32 | 13 | 57.0 | 1530 |  5.7 |  4.0 |  6.0 | 60 | 134 |  64 |\n",
       "\n"
      ],
      "text/plain": [
       "   Age Years Weight Height Chin Forearm Calf Pulse Systol Diastol\n",
       "1  21   1    71.0   1629    8.0  7.0    12.7 88    170     76    \n",
       "2  22   6    56.5   1569    3.3  5.0     8.0 64    120     60    \n",
       "3  24   5    56.0   1561    3.3  1.3     4.3 68    125     75    \n",
       "4  24   1    61.0   1619    3.7  3.0     4.3 52    148    120    \n",
       "5  25   1    65.0   1566    9.0 12.7    20.7 72    140     78    \n",
       "6  27  19    62.0   1639    3.0  3.3     5.7 72    106     72    \n",
       "7  28   5    53.0   1494    7.3  4.7     8.0 64    120     76    \n",
       "8  28  25    53.0   1568    3.7  4.3     0.0 80    108     62    \n",
       "9  31   6    65.0   1540   10.3  9.0    10.0 76    124     70    \n",
       "10 32  13    57.0   1530    5.7  4.0     6.0 60    134     64    "
      ]
     },
     "metadata": {},
     "output_type": "display_data"
    },
    {
     "data": {
      "text/html": [
       "<table class=\"dataframe\">\n",
       "<caption>A data.frame: 10 × 10</caption>\n",
       "<thead>\n",
       "\t<tr><th></th><th scope=col>Age</th><th scope=col>Years</th><th scope=col>Weight</th><th scope=col>Height</th><th scope=col>Chin</th><th scope=col>Forearm</th><th scope=col>Calf</th><th scope=col>Pulse</th><th scope=col>Systol</th><th scope=col>proportion</th></tr>\n",
       "\t<tr><th></th><th scope=col>&lt;int&gt;</th><th scope=col>&lt;int&gt;</th><th scope=col>&lt;dbl&gt;</th><th scope=col>&lt;int&gt;</th><th scope=col>&lt;dbl&gt;</th><th scope=col>&lt;dbl&gt;</th><th scope=col>&lt;dbl&gt;</th><th scope=col>&lt;int&gt;</th><th scope=col>&lt;int&gt;</th><th scope=col>&lt;dbl&gt;</th></tr>\n",
       "</thead>\n",
       "<tbody>\n",
       "\t<tr><th scope=row>1</th><td>21</td><td> 1</td><td>71.0</td><td>1629</td><td> 8.0</td><td> 7.0</td><td>12.7</td><td>88</td><td>170</td><td>0.04761905</td></tr>\n",
       "\t<tr><th scope=row>2</th><td>22</td><td> 6</td><td>56.5</td><td>1569</td><td> 3.3</td><td> 5.0</td><td> 8.0</td><td>64</td><td>120</td><td>0.27272727</td></tr>\n",
       "\t<tr><th scope=row>3</th><td>24</td><td> 5</td><td>56.0</td><td>1561</td><td> 3.3</td><td> 1.3</td><td> 4.3</td><td>68</td><td>125</td><td>0.20833333</td></tr>\n",
       "\t<tr><th scope=row>4</th><td>24</td><td> 1</td><td>61.0</td><td>1619</td><td> 3.7</td><td> 3.0</td><td> 4.3</td><td>52</td><td>148</td><td>0.04166667</td></tr>\n",
       "\t<tr><th scope=row>5</th><td>25</td><td> 1</td><td>65.0</td><td>1566</td><td> 9.0</td><td>12.7</td><td>20.7</td><td>72</td><td>140</td><td>0.04000000</td></tr>\n",
       "\t<tr><th scope=row>6</th><td>27</td><td>19</td><td>62.0</td><td>1639</td><td> 3.0</td><td> 3.3</td><td> 5.7</td><td>72</td><td>106</td><td>0.70370370</td></tr>\n",
       "\t<tr><th scope=row>7</th><td>28</td><td> 5</td><td>53.0</td><td>1494</td><td> 7.3</td><td> 4.7</td><td> 8.0</td><td>64</td><td>120</td><td>0.17857143</td></tr>\n",
       "\t<tr><th scope=row>8</th><td>28</td><td>25</td><td>53.0</td><td>1568</td><td> 3.7</td><td> 4.3</td><td> 0.0</td><td>80</td><td>108</td><td>0.89285714</td></tr>\n",
       "\t<tr><th scope=row>9</th><td>31</td><td> 6</td><td>65.0</td><td>1540</td><td>10.3</td><td> 9.0</td><td>10.0</td><td>76</td><td>124</td><td>0.19354839</td></tr>\n",
       "\t<tr><th scope=row>10</th><td>32</td><td>13</td><td>57.0</td><td>1530</td><td> 5.7</td><td> 4.0</td><td> 6.0</td><td>60</td><td>134</td><td>0.40625000</td></tr>\n",
       "</tbody>\n",
       "</table>\n"
      ],
      "text/latex": [
       "A data.frame: 10 × 10\n",
       "\\begin{tabular}{r|llllllllll}\n",
       "  & Age & Years & Weight & Height & Chin & Forearm & Calf & Pulse & Systol & proportion\\\\\n",
       "  & <int> & <int> & <dbl> & <int> & <dbl> & <dbl> & <dbl> & <int> & <int> & <dbl>\\\\\n",
       "\\hline\n",
       "\t1 & 21 &  1 & 71.0 & 1629 &  8.0 &  7.0 & 12.7 & 88 & 170 & 0.04761905\\\\\n",
       "\t2 & 22 &  6 & 56.5 & 1569 &  3.3 &  5.0 &  8.0 & 64 & 120 & 0.27272727\\\\\n",
       "\t3 & 24 &  5 & 56.0 & 1561 &  3.3 &  1.3 &  4.3 & 68 & 125 & 0.20833333\\\\\n",
       "\t4 & 24 &  1 & 61.0 & 1619 &  3.7 &  3.0 &  4.3 & 52 & 148 & 0.04166667\\\\\n",
       "\t5 & 25 &  1 & 65.0 & 1566 &  9.0 & 12.7 & 20.7 & 72 & 140 & 0.04000000\\\\\n",
       "\t6 & 27 & 19 & 62.0 & 1639 &  3.0 &  3.3 &  5.7 & 72 & 106 & 0.70370370\\\\\n",
       "\t7 & 28 &  5 & 53.0 & 1494 &  7.3 &  4.7 &  8.0 & 64 & 120 & 0.17857143\\\\\n",
       "\t8 & 28 & 25 & 53.0 & 1568 &  3.7 &  4.3 &  0.0 & 80 & 108 & 0.89285714\\\\\n",
       "\t9 & 31 &  6 & 65.0 & 1540 & 10.3 &  9.0 & 10.0 & 76 & 124 & 0.19354839\\\\\n",
       "\t10 & 32 & 13 & 57.0 & 1530 &  5.7 &  4.0 &  6.0 & 60 & 134 & 0.40625000\\\\\n",
       "\\end{tabular}\n"
      ],
      "text/markdown": [
       "\n",
       "A data.frame: 10 × 10\n",
       "\n",
       "| <!--/--> | Age &lt;int&gt; | Years &lt;int&gt; | Weight &lt;dbl&gt; | Height &lt;int&gt; | Chin &lt;dbl&gt; | Forearm &lt;dbl&gt; | Calf &lt;dbl&gt; | Pulse &lt;int&gt; | Systol &lt;int&gt; | proportion &lt;dbl&gt; |\n",
       "|---|---|---|---|---|---|---|---|---|---|---|\n",
       "| 1 | 21 |  1 | 71.0 | 1629 |  8.0 |  7.0 | 12.7 | 88 | 170 | 0.04761905 |\n",
       "| 2 | 22 |  6 | 56.5 | 1569 |  3.3 |  5.0 |  8.0 | 64 | 120 | 0.27272727 |\n",
       "| 3 | 24 |  5 | 56.0 | 1561 |  3.3 |  1.3 |  4.3 | 68 | 125 | 0.20833333 |\n",
       "| 4 | 24 |  1 | 61.0 | 1619 |  3.7 |  3.0 |  4.3 | 52 | 148 | 0.04166667 |\n",
       "| 5 | 25 |  1 | 65.0 | 1566 |  9.0 | 12.7 | 20.7 | 72 | 140 | 0.04000000 |\n",
       "| 6 | 27 | 19 | 62.0 | 1639 |  3.0 |  3.3 |  5.7 | 72 | 106 | 0.70370370 |\n",
       "| 7 | 28 |  5 | 53.0 | 1494 |  7.3 |  4.7 |  8.0 | 64 | 120 | 0.17857143 |\n",
       "| 8 | 28 | 25 | 53.0 | 1568 |  3.7 |  4.3 |  0.0 | 80 | 108 | 0.89285714 |\n",
       "| 9 | 31 |  6 | 65.0 | 1540 | 10.3 |  9.0 | 10.0 | 76 | 124 | 0.19354839 |\n",
       "| 10 | 32 | 13 | 57.0 | 1530 |  5.7 |  4.0 |  6.0 | 60 | 134 | 0.40625000 |\n",
       "\n"
      ],
      "text/plain": [
       "   Age Years Weight Height Chin Forearm Calf Pulse Systol proportion\n",
       "1  21   1    71.0   1629    8.0  7.0    12.7 88    170    0.04761905\n",
       "2  22   6    56.5   1569    3.3  5.0     8.0 64    120    0.27272727\n",
       "3  24   5    56.0   1561    3.3  1.3     4.3 68    125    0.20833333\n",
       "4  24   1    61.0   1619    3.7  3.0     4.3 52    148    0.04166667\n",
       "5  25   1    65.0   1566    9.0 12.7    20.7 72    140    0.04000000\n",
       "6  27  19    62.0   1639    3.0  3.3     5.7 72    106    0.70370370\n",
       "7  28   5    53.0   1494    7.3  4.7     8.0 64    120    0.17857143\n",
       "8  28  25    53.0   1568    3.7  4.3     0.0 80    108    0.89285714\n",
       "9  31   6    65.0   1540   10.3  9.0    10.0 76    124    0.19354839\n",
       "10 32  13    57.0   1530    5.7  4.0     6.0 60    134    0.40625000"
      ]
     },
     "metadata": {},
     "output_type": "display_data"
    }
   ],
   "source": [
    "#导入数据\n",
    "setwd(\"C:\\\\Users\\\\zym\\\\Desktop\\\\regression\\\\exp1\\\\code1\")\n",
    "peru <- read.table(\"./peru.txt\",header = T)\n",
    "peru[1:10,]\n",
    "\n",
    "#修改数据\n",
    "peru$Diastol<-NULL\n",
    "peru$proportion<-peru$Years/peru$Age\n",
    "peru[1:10,]"
   ]
  },
  {
   "cell_type": "code",
   "execution_count": 5,
   "id": "70ec7435",
   "metadata": {},
   "outputs": [
    {
     "name": "stderr",
     "output_type": "stream",
     "text": [
      "The following objects are masked from peru (pos = 3):\n",
      "\n",
      "    Age, Calf, Chin, Forearm, Height, proportion, Pulse, Systol,\n",
      "    Weight, Years\n",
      "\n",
      "\n"
     ]
    },
    {
     "data": {
      "text/html": [
       "<table class=\"dataframe\">\n",
       "<caption>A matrix: 10 × 10 of type dbl</caption>\n",
       "<thead>\n",
       "\t<tr><th></th><th scope=col>Age</th><th scope=col>Years</th><th scope=col>Weight</th><th scope=col>Height</th><th scope=col>Chin</th><th scope=col>Forearm</th><th scope=col>Calf</th><th scope=col>Pulse</th><th scope=col>Systol</th><th scope=col>proportion</th></tr>\n",
       "</thead>\n",
       "<tbody>\n",
       "\t<tr><th scope=row>Age</th><td> 1.000000000</td><td> 0.588212502</td><td>0.4316630</td><td> 0.055777982</td><td> 0.157908294</td><td> 0.05520278</td><td>-0.005374411</td><td>0.090654502</td><td> 0.005844807</td><td> 0.36452333</td></tr>\n",
       "\t<tr><th scope=row>Years</th><td> 0.588212502</td><td> 1.000000000</td><td>0.4811534</td><td> 0.072594154</td><td> 0.221697674</td><td> 0.14302404</td><td> 0.001099438</td><td>0.236904643</td><td>-0.087480460</td><td> 0.93814540</td></tr>\n",
       "\t<tr><th scope=row>Weight</th><td> 0.431662982</td><td> 0.481153366</td><td>1.0000000</td><td> 0.450330307</td><td> 0.561748764</td><td> 0.54373244</td><td> 0.391865474</td><td>0.311793359</td><td> 0.521364290</td><td> 0.29308303</td></tr>\n",
       "\t<tr><th scope=row>Height</th><td> 0.055777982</td><td> 0.072594154</td><td>0.4503303</td><td> 1.000000000</td><td>-0.007898078</td><td>-0.06893212</td><td>-0.002845856</td><td>0.007829993</td><td> 0.219114553</td><td> 0.05118739</td></tr>\n",
       "\t<tr><th scope=row>Chin</th><td> 0.157908294</td><td> 0.221697674</td><td>0.5617488</td><td>-0.007898078</td><td> 1.000000000</td><td> 0.63788150</td><td> 0.515999762</td><td>0.223100921</td><td> 0.170192453</td><td> 0.12009179</td></tr>\n",
       "\t<tr><th scope=row>Forearm</th><td> 0.055202779</td><td> 0.143024038</td><td>0.5437324</td><td>-0.068932124</td><td> 0.637881501</td><td> 1.00000000</td><td> 0.735525936</td><td>0.421907596</td><td> 0.272280231</td><td> 0.02801564</td></tr>\n",
       "\t<tr><th scope=row>Calf</th><td>-0.005374411</td><td> 0.001099438</td><td>0.3918655</td><td>-0.002845856</td><td> 0.515999762</td><td> 0.73552594</td><td> 1.000000000</td><td>0.208715412</td><td> 0.250789289</td><td>-0.11301572</td></tr>\n",
       "\t<tr><th scope=row>Pulse</th><td> 0.090654502</td><td> 0.236904643</td><td>0.3117934</td><td> 0.007829993</td><td> 0.223100921</td><td> 0.42190760</td><td> 0.208715412</td><td>1.000000000</td><td> 0.135477107</td><td> 0.21419518</td></tr>\n",
       "\t<tr><th scope=row>Systol</th><td> 0.005844807</td><td>-0.087480460</td><td>0.5213643</td><td> 0.219114553</td><td> 0.170192453</td><td> 0.27228023</td><td> 0.250789289</td><td>0.135477107</td><td> 1.000000000</td><td>-0.27614565</td></tr>\n",
       "\t<tr><th scope=row>proportion</th><td> 0.364523334</td><td> 0.938145398</td><td>0.2930830</td><td> 0.051187387</td><td> 0.120091791</td><td> 0.02801564</td><td>-0.113015720</td><td>0.214195184</td><td>-0.276145651</td><td> 1.00000000</td></tr>\n",
       "</tbody>\n",
       "</table>\n"
      ],
      "text/latex": [
       "A matrix: 10 × 10 of type dbl\n",
       "\\begin{tabular}{r|llllllllll}\n",
       "  & Age & Years & Weight & Height & Chin & Forearm & Calf & Pulse & Systol & proportion\\\\\n",
       "\\hline\n",
       "\tAge &  1.000000000 &  0.588212502 & 0.4316630 &  0.055777982 &  0.157908294 &  0.05520278 & -0.005374411 & 0.090654502 &  0.005844807 &  0.36452333\\\\\n",
       "\tYears &  0.588212502 &  1.000000000 & 0.4811534 &  0.072594154 &  0.221697674 &  0.14302404 &  0.001099438 & 0.236904643 & -0.087480460 &  0.93814540\\\\\n",
       "\tWeight &  0.431662982 &  0.481153366 & 1.0000000 &  0.450330307 &  0.561748764 &  0.54373244 &  0.391865474 & 0.311793359 &  0.521364290 &  0.29308303\\\\\n",
       "\tHeight &  0.055777982 &  0.072594154 & 0.4503303 &  1.000000000 & -0.007898078 & -0.06893212 & -0.002845856 & 0.007829993 &  0.219114553 &  0.05118739\\\\\n",
       "\tChin &  0.157908294 &  0.221697674 & 0.5617488 & -0.007898078 &  1.000000000 &  0.63788150 &  0.515999762 & 0.223100921 &  0.170192453 &  0.12009179\\\\\n",
       "\tForearm &  0.055202779 &  0.143024038 & 0.5437324 & -0.068932124 &  0.637881501 &  1.00000000 &  0.735525936 & 0.421907596 &  0.272280231 &  0.02801564\\\\\n",
       "\tCalf & -0.005374411 &  0.001099438 & 0.3918655 & -0.002845856 &  0.515999762 &  0.73552594 &  1.000000000 & 0.208715412 &  0.250789289 & -0.11301572\\\\\n",
       "\tPulse &  0.090654502 &  0.236904643 & 0.3117934 &  0.007829993 &  0.223100921 &  0.42190760 &  0.208715412 & 1.000000000 &  0.135477107 &  0.21419518\\\\\n",
       "\tSystol &  0.005844807 & -0.087480460 & 0.5213643 &  0.219114553 &  0.170192453 &  0.27228023 &  0.250789289 & 0.135477107 &  1.000000000 & -0.27614565\\\\\n",
       "\tproportion &  0.364523334 &  0.938145398 & 0.2930830 &  0.051187387 &  0.120091791 &  0.02801564 & -0.113015720 & 0.214195184 & -0.276145651 &  1.00000000\\\\\n",
       "\\end{tabular}\n"
      ],
      "text/markdown": [
       "\n",
       "A matrix: 10 × 10 of type dbl\n",
       "\n",
       "| <!--/--> | Age | Years | Weight | Height | Chin | Forearm | Calf | Pulse | Systol | proportion |\n",
       "|---|---|---|---|---|---|---|---|---|---|---|\n",
       "| Age |  1.000000000 |  0.588212502 | 0.4316630 |  0.055777982 |  0.157908294 |  0.05520278 | -0.005374411 | 0.090654502 |  0.005844807 |  0.36452333 |\n",
       "| Years |  0.588212502 |  1.000000000 | 0.4811534 |  0.072594154 |  0.221697674 |  0.14302404 |  0.001099438 | 0.236904643 | -0.087480460 |  0.93814540 |\n",
       "| Weight |  0.431662982 |  0.481153366 | 1.0000000 |  0.450330307 |  0.561748764 |  0.54373244 |  0.391865474 | 0.311793359 |  0.521364290 |  0.29308303 |\n",
       "| Height |  0.055777982 |  0.072594154 | 0.4503303 |  1.000000000 | -0.007898078 | -0.06893212 | -0.002845856 | 0.007829993 |  0.219114553 |  0.05118739 |\n",
       "| Chin |  0.157908294 |  0.221697674 | 0.5617488 | -0.007898078 |  1.000000000 |  0.63788150 |  0.515999762 | 0.223100921 |  0.170192453 |  0.12009179 |\n",
       "| Forearm |  0.055202779 |  0.143024038 | 0.5437324 | -0.068932124 |  0.637881501 |  1.00000000 |  0.735525936 | 0.421907596 |  0.272280231 |  0.02801564 |\n",
       "| Calf | -0.005374411 |  0.001099438 | 0.3918655 | -0.002845856 |  0.515999762 |  0.73552594 |  1.000000000 | 0.208715412 |  0.250789289 | -0.11301572 |\n",
       "| Pulse |  0.090654502 |  0.236904643 | 0.3117934 |  0.007829993 |  0.223100921 |  0.42190760 |  0.208715412 | 1.000000000 |  0.135477107 |  0.21419518 |\n",
       "| Systol |  0.005844807 | -0.087480460 | 0.5213643 |  0.219114553 |  0.170192453 |  0.27228023 |  0.250789289 | 0.135477107 |  1.000000000 | -0.27614565 |\n",
       "| proportion |  0.364523334 |  0.938145398 | 0.2930830 |  0.051187387 |  0.120091791 |  0.02801564 | -0.113015720 | 0.214195184 | -0.276145651 |  1.00000000 |\n",
       "\n"
      ],
      "text/plain": [
       "           Age          Years        Weight    Height       Chin        \n",
       "Age         1.000000000  0.588212502 0.4316630  0.055777982  0.157908294\n",
       "Years       0.588212502  1.000000000 0.4811534  0.072594154  0.221697674\n",
       "Weight      0.431662982  0.481153366 1.0000000  0.450330307  0.561748764\n",
       "Height      0.055777982  0.072594154 0.4503303  1.000000000 -0.007898078\n",
       "Chin        0.157908294  0.221697674 0.5617488 -0.007898078  1.000000000\n",
       "Forearm     0.055202779  0.143024038 0.5437324 -0.068932124  0.637881501\n",
       "Calf       -0.005374411  0.001099438 0.3918655 -0.002845856  0.515999762\n",
       "Pulse       0.090654502  0.236904643 0.3117934  0.007829993  0.223100921\n",
       "Systol      0.005844807 -0.087480460 0.5213643  0.219114553  0.170192453\n",
       "proportion  0.364523334  0.938145398 0.2930830  0.051187387  0.120091791\n",
       "           Forearm     Calf         Pulse       Systol       proportion \n",
       "Age         0.05520278 -0.005374411 0.090654502  0.005844807  0.36452333\n",
       "Years       0.14302404  0.001099438 0.236904643 -0.087480460  0.93814540\n",
       "Weight      0.54373244  0.391865474 0.311793359  0.521364290  0.29308303\n",
       "Height     -0.06893212 -0.002845856 0.007829993  0.219114553  0.05118739\n",
       "Chin        0.63788150  0.515999762 0.223100921  0.170192453  0.12009179\n",
       "Forearm     1.00000000  0.735525936 0.421907596  0.272280231  0.02801564\n",
       "Calf        0.73552594  1.000000000 0.208715412  0.250789289 -0.11301572\n",
       "Pulse       0.42190760  0.208715412 1.000000000  0.135477107  0.21419518\n",
       "Systol      0.27228023  0.250789289 0.135477107  1.000000000 -0.27614565\n",
       "proportion  0.02801564 -0.113015720 0.214195184 -0.276145651  1.00000000"
      ]
     },
     "metadata": {},
     "output_type": "display_data"
    },
    {
     "data": {
      "image/png": "[encoded data removed]",
      "text/plain": [
       "plot without title"
      ]
     },
     "metadata": {
      "image/png": {
       "height": 420,
       "width": 420
      }
     },
     "output_type": "display_data"
    }
   ],
   "source": [
    "#相关性\n",
    "attach(peru)\n",
    "cor(peru)\n",
    "plot(peru)"
   ]
  },
  {
   "cell_type": "code",
   "execution_count": 6,
   "id": "d5d06f3f",
   "metadata": {},
   "outputs": [
    {
     "data": {
      "text/plain": [
       "\n",
       "Call:\n",
       "lm(formula = Systol ~ Weight)\n",
       "\n",
       "Coefficients:\n",
       "(Intercept)       Weight  \n",
       "    66.5969       0.9629  \n"
      ]
     },
     "metadata": {},
     "output_type": "display_data"
    }
   ],
   "source": [
    "#线性回归\n",
    "LM1<-lm(Systol~Weight)\n",
    "LM1"
   ]
  },
  {
   "cell_type": "code",
   "execution_count": 7,
   "id": "84ad2b45",
   "metadata": {},
   "outputs": [
    {
     "data": {
      "text/html": [
       "3.7164045724201"
      ],
      "text/latex": [
       "3.7164045724201"
      ],
      "text/markdown": [
       "3.7164045724201"
      ],
      "text/plain": [
       "[1] 3.716405"
      ]
     },
     "metadata": {},
     "output_type": "display_data"
    },
    {
     "data": {
      "text/html": [
       "0.000665444713335184"
      ],
      "text/latex": [
       "0.000665444713335184"
      ],
      "text/markdown": [
       "0.000665444713335184"
      ],
      "text/plain": [
       "[1] 0.0006654447"
      ]
     },
     "metadata": {},
     "output_type": "display_data"
    },
    {
     "data": {
      "text/plain": [
       "\n",
       "\tPearson's product-moment correlation\n",
       "\n",
       "data:  Weight and Systol\n",
       "t = 3.7164, df = 37, p-value = 0.0006654\n",
       "alternative hypothesis: true correlation is not equal to 0\n",
       "95 percent confidence interval:\n",
       " 0.2463759 0.7186619\n",
       "sample estimates:\n",
       "      cor \n",
       "0.5213643 \n"
      ]
     },
     "metadata": {},
     "output_type": "display_data"
    },
    {
     "data": {
      "text/plain": [
       "\n",
       "Call:\n",
       "lm(formula = Systol ~ Weight)\n",
       "\n",
       "Residuals:\n",
       "    Min      1Q  Median      3Q     Max \n",
       "-20.294  -8.491   0.446   6.662  35.040 \n",
       "\n",
       "Coefficients:\n",
       "            Estimate Std. Error t value Pr(>|t|)    \n",
       "(Intercept)  66.5969    16.4639   4.045 0.000255 ***\n",
       "Weight        0.9629     0.2591   3.716 0.000665 ***\n",
       "---\n",
       "Signif. codes:  0 '***' 0.001 '**' 0.01 '*' 0.05 '.' 0.1 ' ' 1\n",
       "\n",
       "Residual standard error: 11.34 on 37 degrees of freedom\n",
       "Multiple R-squared:  0.2718,\tAdjusted R-squared:  0.2521 \n",
       "F-statistic: 13.81 on 1 and 37 DF,  p-value: 0.0006654\n"
      ]
     },
     "metadata": {},
     "output_type": "display_data"
    },
    {
     "data": {
      "text/html": [
       "<table class=\"dataframe\">\n",
       "<caption>A anova: 2 × 6</caption>\n",
       "<thead>\n",
       "\t<tr><th></th><th scope=col>Res.Df</th><th scope=col>RSS</th><th scope=col>Df</th><th scope=col>Sum of Sq</th><th scope=col>F</th><th scope=col>Pr(&gt;F)</th></tr>\n",
       "\t<tr><th></th><th scope=col>&lt;dbl&gt;</th><th scope=col>&lt;dbl&gt;</th><th scope=col>&lt;dbl&gt;</th><th scope=col>&lt;dbl&gt;</th><th scope=col>&lt;dbl&gt;</th><th scope=col>&lt;dbl&gt;</th></tr>\n",
       "</thead>\n",
       "<tbody>\n",
       "\t<tr><th scope=row>1</th><td>37</td><td>4756.056</td><td>NA</td><td>      NA</td><td>      NA</td><td>       NA</td></tr>\n",
       "\t<tr><th scope=row>2</th><td>13</td><td>1514.333</td><td>24</td><td>3241.723</td><td>1.159542</td><td>0.4017704</td></tr>\n",
       "</tbody>\n",
       "</table>\n"
      ],
      "text/latex": [
       "A anova: 2 × 6\n",
       "\\begin{tabular}{r|llllll}\n",
       "  & Res.Df & RSS & Df & Sum of Sq & F & Pr(>F)\\\\\n",
       "  & <dbl> & <dbl> & <dbl> & <dbl> & <dbl> & <dbl>\\\\\n",
       "\\hline\n",
       "\t1 & 37 & 4756.056 & NA &       NA &       NA &        NA\\\\\n",
       "\t2 & 13 & 1514.333 & 24 & 3241.723 & 1.159542 & 0.4017704\\\\\n",
       "\\end{tabular}\n"
      ],
      "text/markdown": [
       "\n",
       "A anova: 2 × 6\n",
       "\n",
       "| <!--/--> | Res.Df &lt;dbl&gt; | RSS &lt;dbl&gt; | Df &lt;dbl&gt; | Sum of Sq &lt;dbl&gt; | F &lt;dbl&gt; | Pr(&gt;F) &lt;dbl&gt; |\n",
       "|---|---|---|---|---|---|---|\n",
       "| 1 | 37 | 4756.056 | NA |       NA |       NA |        NA |\n",
       "| 2 | 13 | 1514.333 | 24 | 3241.723 | 1.159542 | 0.4017704 |\n",
       "\n"
      ],
      "text/plain": [
       "  Res.Df RSS      Df Sum of Sq F        Pr(>F)   \n",
       "1 37     4756.056 NA       NA        NA        NA\n",
       "2 13     1514.333 24 3241.723  1.159542 0.4017704"
      ]
     },
     "metadata": {},
     "output_type": "display_data"
    },
    {
     "data": {
      "image/png": "[encoded data removed]",
      "text/plain": [
       "plot without title"
      ]
     },
     "metadata": {
      "image/png": {
       "height": 420,
       "width": 420
      }
     },
     "output_type": "display_data"
    }
   ],
   "source": [
    "\n",
    "#拟合散点图\n",
    "plot(Weight,Systol)\n",
    "abline(LM1)\n",
    "\n",
    "#相关系数检验\n",
    "r<-cor(Weight,Systol)\n",
    "n<-length(Weight)\n",
    "tr<-r/sqrt((1-r^2)/(n-2))\n",
    "tr\n",
    "p<-2*(1-pt(tr,n-2))\n",
    "p\n",
    "\n",
    "cor.test(Weight,Systol)\n",
    "\n",
    "#t检验\n",
    "summary(LM1)\n",
    "\n",
    "#失拟检验\n",
    "Full<-lm(Systol~as.factor(Weight))\n",
    "anova(LM1,Full)"
   ]
  },
  {
   "cell_type": "code",
   "execution_count": 8,
   "id": "b25f1c86",
   "metadata": {
    "scrolled": true
   },
   "outputs": [
    {
     "data": {
      "image/png": "[encoded data removed]",
      "text/plain": [
       "Plot with title \"\""
      ]
     },
     "metadata": {
      "image/png": {
       "height": 420,
       "width": 420
      }
     },
     "output_type": "display_data"
    }
   ],
   "source": [
    "#线性模型假设检验\n",
    "opar<-par(no.readonly = TRUE)\n",
    "par(mfrow=c(2,2))\n",
    "plot(LM1)\n",
    "par(opar)"
   ]
  },
  {
   "cell_type": "code",
   "execution_count": 9,
   "id": "7284f503",
   "metadata": {
    "scrolled": true
   },
   "outputs": [
    {
     "name": "stderr",
     "output_type": "stream",
     "text": [
      "载入需要的程辑包：carData\n",
      "\n"
     ]
    },
    {
     "data": {
      "text/html": [
       "<style>\n",
       ".list-inline {list-style: none; margin:0; padding: 0}\n",
       ".list-inline>li {display: inline-block}\n",
       ".list-inline>li:not(:last-child)::after {content: \"\\00b7\"; padding: 0 .5ex}\n",
       "</style>\n",
       "<ol class=list-inline><li>1</li><li>4</li></ol>\n"
      ],
      "text/latex": [
       "\\begin{enumerate*}\n",
       "\\item 1\n",
       "\\item 4\n",
       "\\end{enumerate*}\n"
      ],
      "text/markdown": [
       "1. 1\n",
       "2. 4\n",
       "\n",
       "\n"
      ],
      "text/plain": [
       "[1] 1 4"
      ]
     },
     "metadata": {},
     "output_type": "display_data"
    },
    {
     "data": {
      "image/png": "[encoded data removed]",
      "text/plain": [
       "Plot with title \"Q-Q Plot\""
      ]
     },
     "metadata": {
      "image/png": {
       "height": 420,
       "width": 420
      }
     },
     "output_type": "display_data"
    }
   ],
   "source": [
    "options(warn=-1)\n",
    "library(car)\n",
    "#正态性\n",
    "qqPlot(LM1,id=TRUE,location=\"lr\",main=\"Q-Q Plot\")"
   ]
  },
  {
   "cell_type": "code",
   "execution_count": 10,
   "id": "e5ea9dda",
   "metadata": {},
   "outputs": [
    {
     "data": {
      "text/plain": [
       " lag Autocorrelation D-W Statistic p-value\n",
       "   1     -0.02276777       1.78682   0.476\n",
       " Alternative hypothesis: rho != 0"
      ]
     },
     "metadata": {},
     "output_type": "display_data"
    }
   ],
   "source": [
    "#独立性\n",
    "durbinWatsonTest(LM1)"
   ]
  },
  {
   "cell_type": "code",
   "execution_count": 11,
   "id": "dd2ac37b",
   "metadata": {
    "scrolled": true
   },
   "outputs": [
    {
     "data": {
      "image/png": "[encoded data removed]",
      "text/plain": [
       "plot without title"
      ]
     },
     "metadata": {
      "image/png": {
       "height": 420,
       "width": 420
      }
     },
     "output_type": "display_data"
    }
   ],
   "source": [
    "#线性\n",
    "crPlots(LM1)"
   ]
  },
  {
   "cell_type": "code",
   "execution_count": 12,
   "id": "703fafd7",
   "metadata": {},
   "outputs": [
    {
     "data": {
      "text/plain": [
       "Non-constant Variance Score Test \n",
       "Variance formula: ~ fitted.values \n",
       "Chisquare = 1.175396, Df = 1, p = 0.2783"
      ]
     },
     "metadata": {},
     "output_type": "display_data"
    }
   ],
   "source": [
    "#同方差性\n",
    "ncvTest(LM1)"
   ]
  },
  {
   "cell_type": "code",
   "execution_count": 13,
   "id": "1f41f2f1",
   "metadata": {},
   "outputs": [
    {
     "name": "stderr",
     "output_type": "stream",
     "text": [
      "载入需要的程辑包：zoo\n",
      "\n",
      "\n",
      "载入程辑包：'zoo'\n",
      "\n",
      "\n",
      "The following objects are masked from 'package:base':\n",
      "\n",
      "    as.Date, as.Date.numeric\n",
      "\n",
      "\n"
     ]
    },
    {
     "data": {
      "text/plain": [
       "\n",
       "\tstudentized Breusch-Pagan test\n",
       "\n",
       "data:  LM1\n",
       "BP = 0.75605, df = 1, p-value = 0.3846\n"
      ]
     },
     "metadata": {},
     "output_type": "display_data"
    }
   ],
   "source": [
    "library(lmtest)\n",
    "bptest(LM1)"
   ]
  },
  {
   "cell_type": "code",
   "execution_count": 14,
   "id": "de6e7e89",
   "metadata": {
    "scrolled": false
   },
   "outputs": [
    {
     "data": {
      "text/plain": [
       "\n",
       "Suggested power transformation:  0.3911863 "
      ]
     },
     "metadata": {},
     "output_type": "display_data"
    },
    {
     "data": {
      "image/png": "[encoded data removed]",
      "text/plain": [
       "Plot with title \"Spread-Level Plot for\n",
       " LM1\""
      ]
     },
     "metadata": {
      "image/png": {
       "height": 420,
       "width": 420
      }
     },
     "output_type": "display_data"
    }
   ],
   "source": [
    "spreadLevelPlot(LM1)"
   ]
  },
  {
   "cell_type": "code",
   "execution_count": 16,
   "id": "0a45f5db",
   "metadata": {
    "scrolled": true
   },
   "outputs": [
    {
     "name": "stdout",
     "output_type": "stream",
     "text": [
      "\n",
      "Call:\n",
      "lm(formula = Systol ~ Weight)\n",
      "\n",
      "Residuals:\n",
      "    Min      1Q  Median      3Q     Max \n",
      "-20.294  -8.491   0.446   6.662  35.040 \n",
      "\n",
      "Coefficients:\n",
      "            Estimate Std. Error t value Pr(>|t|)    \n",
      "(Intercept)  66.5969    16.4639   4.045 0.000255 ***\n",
      "Weight        0.9629     0.2591   3.716 0.000665 ***\n",
      "---\n",
      "Signif. codes:  0 '***' 0.001 '**' 0.01 '*' 0.05 '.' 0.1 ' ' 1\n",
      "\n",
      "Residual standard error: 11.34 on 37 degrees of freedom\n",
      "Multiple R-squared:  0.2718,\tAdjusted R-squared:  0.2521 \n",
      "F-statistic: 13.81 on 1 and 37 DF,  p-value: 0.0006654\n",
      "\n",
      "\n",
      "ASSESSMENT OF THE LINEAR MODEL ASSUMPTIONS\n",
      "USING THE GLOBAL TEST ON 4 DEGREES-OF-FREEDOM:\n",
      "Level of Significance =  0.05 \n",
      "\n",
      "Call:\n",
      " gvlma(x = LM1) \n",
      "\n",
      "                      Value  p-value                   Decision\n",
      "Global Stat        13.09903 0.010802 Assumptions NOT satisfied!\n",
      "Skewness            2.60434 0.106571    Assumptions acceptable.\n",
      "Kurtosis            1.99967 0.157333    Assumptions acceptable.\n",
      "Link Function       0.08832 0.766320    Assumptions acceptable.\n",
      "Heteroscedasticity  8.40669 0.003738 Assumptions NOT satisfied!\n"
     ]
    },
    {
     "data": {
      "text/plain": [
       "  rstudent unadjusted p-value Bonferroni p\n",
       "1 3.685796         0.00074581     0.029086"
      ]
     },
     "metadata": {},
     "output_type": "display_data"
    },
    {
     "data": {
      "text/plain": [
       "No Studentized residuals with Bonferroni p < 0.05\n",
       "Largest |rstudent|:\n",
       "  rstudent unadjusted p-value Bonferroni p\n",
       "3 2.598498           0.013611      0.51723"
      ]
     },
     "metadata": {},
     "output_type": "display_data"
    },
    {
     "data": {
      "text/html": [],
      "text/latex": [],
      "text/markdown": [],
      "text/plain": [
       "integer(0)"
      ]
     },
     "metadata": {},
     "output_type": "display_data"
    },
    {
     "data": {
      "image/png": "[encoded data removed]",
      "text/plain": [
       "Plot with title \"Index Plot of Hat Values\""
      ]
     },
     "metadata": {
      "image/png": {
       "height": 420,
       "width": 420
      }
     },
     "output_type": "display_data"
    },
    {
     "ename": "ERROR",
     "evalue": "Error in influencePlot(LM5, id = list(method = \"identify\"), main = \"Influence Plot\", : 找不到对象'LM5'\n",
     "output_type": "error",
     "traceback": [
      "Error in influencePlot(LM5, id = list(method = \"identify\"), main = \"Influence Plot\", : 找不到对象'LM5'\nTraceback:\n",
      "1. influencePlot(LM5, id = list(method = \"identify\"), main = \"Influence Plot\", \n .     sub = \"Circle size is proportional to Cook's distance\")"
     ]
    },
    {
     "data": {
      "image/png": "[encoded data removed]",
      "text/plain": [
       "Plot with title \"\""
      ]
     },
     "metadata": {
      "image/png": {
       "height": 420,
       "width": 420
      }
     },
     "output_type": "display_data"
    }
   ],
   "source": [
    "#综合检验\n",
    "library(gvlma)\n",
    "summary(gvlma(LM1))\n",
    "\n",
    "#离群点\n",
    "outlierTest(LM1)\n",
    "\n",
    "outlierTest(lm(Systol[2:39]~Weight[2:39]))\n",
    "\n",
    "#高杠杆值点\n",
    "hat.plot <- function(fit) {\n",
    "  p <- length(coefficients(fit))\n",
    "  n <- length(fitted(fit))\n",
    "  plot(hatvalues(fit), main=\"Index Plot of Hat Values\")\n",
    "  abline(h=c(2,3)*p/n, col=\"red\", lty=2)\n",
    "  identify(1:n, hatvalues(fit),names(hatvalues(fit)))\n",
    "}\n",
    "hat.plot(LM1)\n",
    "\n",
    "#强影响点\n",
    "cutoff <- 4/(nrow(peru)-length(LM1$coefficients)-2)\n",
    "plot(LM1, which=4, cook.levels=cutoff)\n",
    "abline(h=cutoff, lty=2, col=\"red\")\n",
    "\n",
    "#异常值结合在同一张图\n",
    "influencePlot(LM5, id=list(method=\"identify\"), main=\"Influence Plot\",\n",
    "              sub=\"Circle size is proportional to Cook's distance\")\n",
    "## influencePlot(LM1, id.method=\"identify\", main=\"Influence Plot\",\n",
    "##              sub=\"Circle size is proportional to Cook's distance\")\n",
    "\n",
    "#删去异常值拟合\n",
    "Sl<-Systol[2:39]\n",
    "Wt<-Weight[2:39]\n",
    "newLM1<-lm(Sl~Wt)\n",
    "newLM1\n",
    "summary(newLM1)\n",
    "\n",
    "#模型预测\n",
    "new<-data.frame(Wt=60)\n",
    "new\n",
    "lm.conf<-predict(newLM1,new,interval=\"confidence\",level = 0.95)\n",
    "lm.conf\n",
    "lm.pred<-predict(newLM1,new,interval=\"prediction\",level = 0.95)\n",
    "lm.pred\n",
    "\n",
    "#相关性\n",
    "scatterplotMatrix(peru,spread=FALSE,smooth.args=list(lty=2),main=\"Scatter Plot Matrix\")\n",
    "\n",
    "#全子集回归\n",
    "library(leaps)\n",
    "leaps<-regsubsets(Systol~Age+Years+Weight+Height+Chin+Forearm+Calf+Pulse+proportion,data=peru,nbest=2)\n",
    "plot(leaps,scale = \"adjr2\")\n",
    "\n",
    "LM7<-lm(Systol~Age+Years+Weight+Height+Chin+Forearm+proportion)\n",
    "LM7\n",
    "\n",
    "#逐步回归\n",
    "library(MASS)\n",
    "stepAIC(LM7,direction = \"backward\")"
   ]
  },
  {
   "cell_type": "code",
   "execution_count": 17,
   "id": "f15f5c86",
   "metadata": {
    "scrolled": true
   },
   "outputs": [
    {
     "data": {
      "text/plain": [
       "\n",
       "Call:\n",
       "lm(formula = Systol ~ Age + Years + Weight + Chin + proportion)\n",
       "\n",
       "Coefficients:\n",
       "(Intercept)          Age        Years       Weight         Chin   proportion  \n",
       "    109.359       -1.012        2.407        1.098       -1.192     -110.811  \n"
      ]
     },
     "metadata": {},
     "output_type": "display_data"
    }
   ],
   "source": [
    "LM5<-lm(Systol ~ Age + Years + Weight + Chin + proportion)\n",
    "LM5"
   ]
  },
  {
   "cell_type": "code",
   "execution_count": 19,
   "id": "34e8572a",
   "metadata": {
    "scrolled": true
   },
   "outputs": [
    {
     "data": {
      "text/html": [
       "<style>\n",
       ".list-inline {list-style: none; margin:0; padding: 0}\n",
       ".list-inline>li {display: inline-block}\n",
       ".list-inline>li:not(:last-child)::after {content: \"\\00b7\"; padding: 0 .5ex}\n",
       "</style>\n",
       "<ol class=list-inline><li>1</li><li>8</li></ol>\n"
      ],
      "text/latex": [
       "\\begin{enumerate*}\n",
       "\\item 1\n",
       "\\item 8\n",
       "\\end{enumerate*}\n"
      ],
      "text/markdown": [
       "1. 1\n",
       "2. 8\n",
       "\n",
       "\n"
      ],
      "text/plain": [
       "[1] 1 8"
      ]
     },
     "metadata": {},
     "output_type": "display_data"
    },
    {
     "data": {
      "image/png": "[encoded data removed]",
      "text/plain": [
       "Plot with title \"Q-Q Plot\""
      ]
     },
     "metadata": {
      "image/png": {
       "height": 420,
       "width": 420
      }
     },
     "output_type": "display_data"
    }
   ],
   "source": [
    "#正态性\n",
    "qqPlot(LM5,id=TRUE, simulate=TRUE,main=\"Q-Q Plot\")"
   ]
  },
  {
   "cell_type": "code",
   "execution_count": 20,
   "id": "b759f143",
   "metadata": {},
   "outputs": [
    {
     "data": {
      "text/plain": [
       " lag Autocorrelation D-W Statistic p-value\n",
       "   1      -0.1732433      2.232518   0.578\n",
       " Alternative hypothesis: rho != 0"
      ]
     },
     "metadata": {},
     "output_type": "display_data"
    }
   ],
   "source": [
    "#独立性\n",
    "durbinWatsonTest(LM5)"
   ]
  },
  {
   "cell_type": "code",
   "execution_count": 21,
   "id": "f1f588f6",
   "metadata": {},
   "outputs": [
    {
     "data": {
      "image/png": "[encoded data removed]",
      "text/plain": [
       "plot without title"
      ]
     },
     "metadata": {
      "image/png": {
       "height": 420,
       "width": 420
      }
     },
     "output_type": "display_data"
    }
   ],
   "source": [
    "#线性\n",
    "crPlots(LM5)"
   ]
  },
  {
   "cell_type": "code",
   "execution_count": 38,
   "id": "9d8d0b08",
   "metadata": {
    "scrolled": true
   },
   "outputs": [
    {
     "data": {
      "image/png": "[encoded data removed]",
      "text/plain": [
       "plot without title"
      ]
     },
     "metadata": {
      "image/png": {
       "height": 420,
       "width": 420
      }
     },
     "output_type": "display_data"
    }
   ],
   "source": [
    "library(dplyr)\n",
    "library(ggplot2)\n",
    "RSAdata = data.frame(fitted.values=predict(LM5), SRE=rstandard(LM5))\n",
    "RSAdata = mutate(RSAdata, new=if_else(abs(SRE) > 2,1,0))\n",
    "ggplot(data = RSAdata, aes(x = fitted.values,y = SRE, color = new))+\n",
    "    geom_point(size = 2)+\n",
    "    geom_hline(yintercept = c(-2,0,2),linetype = 'dashed' , color = c('red', 'black','red'))+\n",
    "    scale_color_gradient(low = 'black',high='red', guide = F)"
   ]
  },
  {
   "cell_type": "code",
   "execution_count": 39,
   "id": "7504210f",
   "metadata": {
    "scrolled": true
   },
   "outputs": [
    {
     "data": {
      "text/plain": [
       "Non-constant Variance Score Test \n",
       "Variance formula: ~ fitted.values \n",
       "Chisquare = 0.07495813, Df = 1, p = 0.78425"
      ]
     },
     "metadata": {},
     "output_type": "display_data"
    },
    {
     "name": "stdout",
     "output_type": "stream",
     "text": [
      "\n",
      "Call:\n",
      "lm(formula = Systol ~ Age + Years + Weight + Chin + proportion)\n",
      "\n",
      "Residuals:\n",
      "    Min      1Q  Median      3Q     Max \n",
      "-14.520  -6.640  -1.093   4.893  16.366 \n",
      "\n",
      "Coefficients:\n",
      "             Estimate Std. Error t value Pr(>|t|)    \n",
      "(Intercept)  109.3590    21.4843   5.090 1.41e-05 ***\n",
      "Age           -1.0120     0.3059  -3.308 0.002277 ** \n",
      "Years          2.4067     0.7426   3.241 0.002723 ** \n",
      "Weight         1.0976     0.2980   3.683 0.000819 ***\n",
      "Chin          -1.1918     0.6140  -1.941 0.060830 .  \n",
      "proportion  -110.8112    27.2795  -4.062 0.000282 ***\n",
      "---\n",
      "Signif. codes:  0 '***' 0.001 '**' 0.01 '*' 0.05 '.' 0.1 ' ' 1\n",
      "\n",
      "Residual standard error: 8.457 on 33 degrees of freedom\n",
      "Multiple R-squared:  0.6386,\tAdjusted R-squared:  0.5839 \n",
      "F-statistic: 11.66 on 5 and 33 DF,  p-value: 1.531e-06\n",
      "\n",
      "\n",
      "ASSESSMENT OF THE LINEAR MODEL ASSUMPTIONS\n",
      "USING THE GLOBAL TEST ON 4 DEGREES-OF-FREEDOM:\n",
      "Level of Significance =  0.05 \n",
      "\n",
      "Call:\n",
      " gvlma(x = LM5) \n",
      "\n",
      "                    Value p-value                   Decision\n",
      "Global Stat        8.6955 0.06918    Assumptions acceptable.\n",
      "Skewness           0.2221 0.63742    Assumptions acceptable.\n",
      "Kurtosis           0.9824 0.32162    Assumptions acceptable.\n",
      "Link Function      6.5783 0.01032 Assumptions NOT satisfied!\n",
      "Heteroscedasticity 0.9127 0.33940    Assumptions acceptable.\n"
     ]
    },
    {
     "data": {
      "text/html": [
       "<style>\n",
       ".dl-inline {width: auto; margin:0; padding: 0}\n",
       ".dl-inline>dt, .dl-inline>dd {float: none; width: auto; display: inline-block}\n",
       ".dl-inline>dt::after {content: \":\\0020\"; padding-right: .5ex}\n",
       ".dl-inline>dt:not(:first-of-type) {padding-left: .5ex}\n",
       "</style><dl class=dl-inline><dt>Age</dt><dd>2.93880616315469</dd><dt>Years</dt><dd>29.8528398773421</dd><dt>Weight</dt><dd>2.37790060177651</dd><dt>Chin</dt><dd>1.48433587529137</dd><dt>proportion</dt><dd>20.8860128145381</dd></dl>\n"
      ],
      "text/latex": [
       "\\begin{description*}\n",
       "\\item[Age] 2.93880616315469\n",
       "\\item[Years] 29.8528398773421\n",
       "\\item[Weight] 2.37790060177651\n",
       "\\item[Chin] 1.48433587529137\n",
       "\\item[proportion] 20.8860128145381\n",
       "\\end{description*}\n"
      ],
      "text/markdown": [
       "Age\n",
       ":   2.93880616315469Years\n",
       ":   29.8528398773421Weight\n",
       ":   2.37790060177651Chin\n",
       ":   1.48433587529137proportion\n",
       ":   20.8860128145381\n",
       "\n"
      ],
      "text/plain": [
       "       Age      Years     Weight       Chin proportion \n",
       "  2.938806  29.852840   2.377901   1.484336  20.886013 "
      ]
     },
     "metadata": {},
     "output_type": "display_data"
    },
    {
     "data": {
      "text/html": [
       "<style>\n",
       ".dl-inline {width: auto; margin:0; padding: 0}\n",
       ".dl-inline>dt, .dl-inline>dd {float: none; width: auto; display: inline-block}\n",
       ".dl-inline>dt::after {content: \":\\0020\"; padding-right: .5ex}\n",
       ".dl-inline>dt:not(:first-of-type) {padding-left: .5ex}\n",
       "</style><dl class=dl-inline><dt>Age</dt><dd>FALSE</dd><dt>Years</dt><dd>TRUE</dd><dt>Weight</dt><dd>FALSE</dd><dt>Chin</dt><dd>FALSE</dd><dt>proportion</dt><dd>TRUE</dd></dl>\n"
      ],
      "text/latex": [
       "\\begin{description*}\n",
       "\\item[Age] FALSE\n",
       "\\item[Years] TRUE\n",
       "\\item[Weight] FALSE\n",
       "\\item[Chin] FALSE\n",
       "\\item[proportion] TRUE\n",
       "\\end{description*}\n"
      ],
      "text/markdown": [
       "Age\n",
       ":   FALSEYears\n",
       ":   TRUEWeight\n",
       ":   FALSEChin\n",
       ":   FALSEproportion\n",
       ":   TRUE\n",
       "\n"
      ],
      "text/plain": [
       "       Age      Years     Weight       Chin proportion \n",
       "     FALSE       TRUE      FALSE      FALSE       TRUE "
      ]
     },
     "metadata": {},
     "output_type": "display_data"
    }
   ],
   "source": [
    "#同方差性\n",
    "ncvTest(LM5)\n",
    "\n",
    "#综合检验\n",
    "summary(gvlma(LM5))\n",
    "\n",
    "#多重共线性\n",
    "vif(LM5)\n",
    "sqrt(vif(LM5))>2"
   ]
  },
  {
   "cell_type": "code",
   "execution_count": 40,
   "id": "ea9e526a",
   "metadata": {},
   "outputs": [],
   "source": [
    "LM4 = lm(Systol~Age + Weight + Chin + proportion)"
   ]
  },
  {
   "cell_type": "code",
   "execution_count": 41,
   "id": "c1f1c304",
   "metadata": {},
   "outputs": [
    {
     "data": {
      "text/html": [
       "<style>\n",
       ".dl-inline {width: auto; margin:0; padding: 0}\n",
       ".dl-inline>dt, .dl-inline>dd {float: none; width: auto; display: inline-block}\n",
       ".dl-inline>dt::after {content: \":\\0020\"; padding-right: .5ex}\n",
       ".dl-inline>dt:not(:first-of-type) {padding-left: .5ex}\n",
       "</style><dl class=dl-inline><dt>Age</dt><dd>1.34428704283104</dd><dt>Weight</dt><dd>1.81402651092542</dd><dt>Chin</dt><dd>1.48108171790358</dd><dt>proportion</dt><dd>1.18497452054468</dd></dl>\n"
      ],
      "text/latex": [
       "\\begin{description*}\n",
       "\\item[Age] 1.34428704283104\n",
       "\\item[Weight] 1.81402651092542\n",
       "\\item[Chin] 1.48108171790358\n",
       "\\item[proportion] 1.18497452054468\n",
       "\\end{description*}\n"
      ],
      "text/markdown": [
       "Age\n",
       ":   1.34428704283104Weight\n",
       ":   1.81402651092542Chin\n",
       ":   1.48108171790358proportion\n",
       ":   1.18497452054468\n",
       "\n"
      ],
      "text/plain": [
       "       Age     Weight       Chin proportion \n",
       "  1.344287   1.814027   1.481082   1.184975 "
      ]
     },
     "metadata": {},
     "output_type": "display_data"
    }
   ],
   "source": [
    "vif(LM4)"
   ]
  },
  {
   "cell_type": "code",
   "execution_count": 43,
   "id": "d4a84be5",
   "metadata": {},
   "outputs": [
    {
     "data": {
      "text/html": [
       "<style>\n",
       ".list-inline {list-style: none; margin:0; padding: 0}\n",
       ".list-inline>li {display: inline-block}\n",
       ".list-inline>li:not(:last-child)::after {content: \"\\00b7\"; padding: 0 .5ex}\n",
       "</style>\n",
       "<ol class=list-inline><li>1</li><li>6</li></ol>\n"
      ],
      "text/latex": [
       "\\begin{enumerate*}\n",
       "\\item 1\n",
       "\\item 6\n",
       "\\end{enumerate*}\n"
      ],
      "text/markdown": [
       "1. 1\n",
       "2. 6\n",
       "\n",
       "\n"
      ],
      "text/plain": [
       "[1] 1 6"
      ]
     },
     "metadata": {},
     "output_type": "display_data"
    },
    {
     "data": {
      "image/png": "[encoded data removed]",
      "text/plain": [
       "Plot with title \"Q-Q Plot\""
      ]
     },
     "metadata": {
      "image/png": {
       "height": 420,
       "width": 420
      }
     },
     "output_type": "display_data"
    }
   ],
   "source": [
    "qqPlot(LM4,id=TRUE, simulate=TRUE,main=\"Q-Q Plot\")"
   ]
  },
  {
   "cell_type": "code",
   "execution_count": 44,
   "id": "6896d418",
   "metadata": {},
   "outputs": [
    {
     "data": {
      "text/plain": [
       " lag Autocorrelation D-W Statistic p-value\n",
       "   1      -0.1375673      2.133176   0.842\n",
       " Alternative hypothesis: rho != 0"
      ]
     },
     "metadata": {},
     "output_type": "display_data"
    }
   ],
   "source": [
    "durbinWatsonTest(LM4)"
   ]
  },
  {
   "cell_type": "code",
   "execution_count": 46,
   "id": "5859807e",
   "metadata": {},
   "outputs": [
    {
     "data": {
      "image/png": "[encoded data removed]",
      "text/plain": [
       "plot without title"
      ]
     },
     "metadata": {
      "image/png": {
       "height": 420,
       "width": 420
      }
     },
     "output_type": "display_data"
    }
   ],
   "source": [
    "RSAdata1 = data.frame(fitted.values=predict(LM4), SRE=rstandard(LM4))\n",
    "RSAdata1 = mutate(RSAdata1, new=if_else(abs(SRE) > 2,1,0))\n",
    "ggplot(data = RSAdata1, aes(x = fitted.values,y = SRE, color = new))+\n",
    "    geom_point(size = 2)+\n",
    "    geom_hline(yintercept = c(-2,0,2),linetype = 'dashed' , color = c('red', 'black','red'))+\n",
    "    scale_color_gradient(low = 'black',high='red', guide = F)"
   ]
  },
  {
   "cell_type": "code",
   "execution_count": 48,
   "id": "4fafe540",
   "metadata": {
    "scrolled": false
   },
   "outputs": [
    {
     "data": {
      "text/plain": [
       "Non-constant Variance Score Test \n",
       "Variance formula: ~ fitted.values \n",
       "Chisquare = 1.158575, Df = 1, p = 0.28176"
      ]
     },
     "metadata": {},
     "output_type": "display_data"
    }
   ],
   "source": [
    "ncvTest(LM4)"
   ]
  },
  {
   "cell_type": "code",
   "execution_count": 50,
   "id": "e4d7bc0d",
   "metadata": {},
   "outputs": [
    {
     "data": {
      "text/plain": [
       "\n",
       "Call:\n",
       "lm(formula = Systol ~ Age + Weight + Chin + proportion)\n",
       "\n",
       "Residuals:\n",
       "    Min      1Q  Median      3Q     Max \n",
       "-17.492  -7.073   0.270   7.200  19.831 \n",
       "\n",
       "Coefficients:\n",
       "            Estimate Std. Error t value Pr(>|t|)    \n",
       "(Intercept)  54.7373    15.0704   3.632 0.000916 ***\n",
       "Age          -0.2817     0.2341  -1.204 0.237048    \n",
       "Weight        1.5679     0.2944   5.325 6.49e-06 ***\n",
       "Chin         -1.0986     0.6937  -1.584 0.122541    \n",
       "proportion  -24.9480     7.3499  -3.394 0.001764 ** \n",
       "---\n",
       "Signif. codes:  0 '***' 0.001 '**' 0.01 '*' 0.05 '.' 0.1 ' ' 1\n",
       "\n",
       "Residual standard error: 9.566 on 34 degrees of freedom\n",
       "Multiple R-squared:  0.5236,\tAdjusted R-squared:  0.4676 \n",
       "F-statistic: 9.343 on 4 and 34 DF,  p-value: 3.318e-05\n"
      ]
     },
     "metadata": {},
     "output_type": "display_data"
    }
   ],
   "source": [
    "summary(LM4)"
   ]
  },
  {
   "cell_type": "code",
   "execution_count": 42,
   "id": "08a13b5e",
   "metadata": {},
   "outputs": [
    {
     "name": "stdout",
     "output_type": "stream",
     "text": [
      "\n",
      "Call:\n",
      "lm(formula = Systol ~ Age + Weight + Chin + proportion)\n",
      "\n",
      "Residuals:\n",
      "    Min      1Q  Median      3Q     Max \n",
      "-17.492  -7.073   0.270   7.200  19.831 \n",
      "\n",
      "Coefficients:\n",
      "            Estimate Std. Error t value Pr(>|t|)    \n",
      "(Intercept)  54.7373    15.0704   3.632 0.000916 ***\n",
      "Age          -0.2817     0.2341  -1.204 0.237048    \n",
      "Weight        1.5679     0.2944   5.325 6.49e-06 ***\n",
      "Chin         -1.0986     0.6937  -1.584 0.122541    \n",
      "proportion  -24.9480     7.3499  -3.394 0.001764 ** \n",
      "---\n",
      "Signif. codes:  0 '***' 0.001 '**' 0.01 '*' 0.05 '.' 0.1 ' ' 1\n",
      "\n",
      "Residual standard error: 9.566 on 34 degrees of freedom\n",
      "Multiple R-squared:  0.5236,\tAdjusted R-squared:  0.4676 \n",
      "F-statistic: 9.343 on 4 and 34 DF,  p-value: 3.318e-05\n",
      "\n",
      "\n",
      "ASSESSMENT OF THE LINEAR MODEL ASSUMPTIONS\n",
      "USING THE GLOBAL TEST ON 4 DEGREES-OF-FREEDOM:\n",
      "Level of Significance =  0.05 \n",
      "\n",
      "Call:\n",
      " gvlma(x = LM4) \n",
      "\n",
      "                     Value p-value                   Decision\n",
      "Global Stat        8.60462 0.07178    Assumptions acceptable.\n",
      "Skewness           0.05698 0.81133    Assumptions acceptable.\n",
      "Kurtosis           0.60792 0.43557    Assumptions acceptable.\n",
      "Link Function      6.47800 0.01092 Assumptions NOT satisfied!\n",
      "Heteroscedasticity 1.46172 0.22666    Assumptions acceptable.\n"
     ]
    }
   ],
   "source": [
    "summary(gvlma(LM4))"
   ]
  },
  {
   "cell_type": "code",
   "execution_count": null,
   "id": "2d8c28d8",
   "metadata": {},
   "outputs": [],
   "source": [
    "\n",
    "\n",
    "#离群点\n",
    "outlierTest(LM5)\n",
    "\n",
    "#高杠杆值点\n",
    "hat.plot(LM5)\n",
    "\n",
    "#强影响点\n",
    "cutoff <- 4/(nrow(peru)-length(LM1$coefficients)-2)\n",
    "plot(LM5, which=4, cook.levels=cutoff)\n",
    "abline(h=cutoff, lty=2, col=\"red\")\n",
    "\n",
    "#变量添加图\n",
    "avPlots(LM5,ask=FALSE,id=list(method=\"identify\"))\n",
    "## avPlots(LM5,ask=FALSE,id.method=\"identify\")\n",
    "\n",
    "#异常值整合一幅图\n",
    "influencePlot(LM5, id=list(method=\"identify\"), main=\"Influence Plot\",\n",
    "              sub=\"Circle size is proportional to Cook's distance\")\n",
    "\n",
    "#模型确定\n",
    "detach(peru)\n",
    "newperu<-peru[c(-1,-8,-38),]\n",
    "attach(newperu)\n",
    "nLM5<-lm(Systol ~ Age + Years + Weight + Chin + proportion)\n",
    "nLM5\n",
    "\n",
    "summary(nLM5)\n",
    "\n",
    "#模型预测\n",
    "new<-data.frame(Age=mean(Age),Years=mean(Years),Weight=mean(Weight),Chin=mean(Chin),proportion=mean(proportion))\n",
    "new\n",
    "lm.conf<-predict(nLM5,new,interval=\"confidence\",level = 0.95)\n",
    "lm.conf\n",
    "lm.pred<-predict(nLM5,new,interval=\"prediction\",level = 0.95)\n",
    "lm.pred\n",
    "\n",
    "detach(newperu)"
   ]
  }
 ],
 "metadata": {
  "kernelspec": {
   "display_name": "R",
   "language": "R",
   "name": "ir"
  },
  "language_info": {
   "codemirror_mode": "r",
   "file_extension": ".r",
   "mimetype": "text/x-r-source",
   "name": "R",
   "pygments_lexer": "r",
   "version": "4.2.2"
  }
 },
 "nbformat": 4,
 "nbformat_minor": 5
}
